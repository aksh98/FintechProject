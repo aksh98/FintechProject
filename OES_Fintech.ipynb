{
  "nbformat": 4,
  "nbformat_minor": 0,
  "metadata": {
    "colab": {
      "name": "OES_Fintech.ipynb",
      "version": "0.3.2",
      "provenance": []
    },
    "kernelspec": {
      "name": "python3",
      "display_name": "Python 3"
    },
    "accelerator": "GPU"
  },
  "cells": [
    {
      "cell_type": "markdown",
      "metadata": {
        "id": "view-in-github",
        "colab_type": "text"
      },
      "source": [
        "[View in Colaboratory](https://colab.research.google.com/github/aksh98/FintechProject/blob/master/OES_Fintech.ipynb)"
      ]
    },
    {
      "metadata": {
        "id": "DAiBJ-T4WC7r",
        "colab_type": "code",
        "colab": {
          "base_uri": "https://localhost:8080/",
          "height": 34
        },
        "outputId": "65bdae91-ef27-4a19-c53b-9b6a25a277a1"
      },
      "cell_type": "code",
      "source": [
        "import tensorflow as tf\n",
        "device_name = tf.test.gpu_device_name()\n",
        "if device_name != '/device:GPU:0':\n",
        "  raise SystemError('GPU device not found')\n",
        "print('Found GPU at: {}'.format(device_name))"
      ],
      "execution_count": 1,
      "outputs": [
        {
          "output_type": "stream",
          "text": [
            "Found GPU at: /device:GPU:0\n"
          ],
          "name": "stdout"
        }
      ]
    },
    {
      "metadata": {
        "id": "ZutFgSt7WUj9",
        "colab_type": "code",
        "colab": {
          "base_uri": "https://localhost:8080/",
          "height": 105
        },
        "outputId": "99f767e2-ce2c-410f-9088-4e112a018700"
      },
      "cell_type": "code",
      "source": [
        "!apt-get install -y -qq software-properties-common python-software-properties module-init-tools\n",
        "!add-apt-repository -y ppa:alessandro-strada/ppa 2>&1 > /dev/null\n",
        "!apt-get update -qq 2>&1 > /dev/null\n",
        "!apt-get -y install -qq google-drive-ocamlfuse fuse\n",
        "from google.colab import auth\n",
        "auth.authenticate_user()\n",
        "from oauth2client.client import GoogleCredentials\n",
        "creds = GoogleCredentials.get_application_default()\n",
        "import getpass\n",
        "!google-drive-ocamlfuse -headless -id={creds.client_id} -secret={creds.client_secret} < /dev/null 2>&1 | grep URL\n",
        "vcode = getpass.getpass()\n",
        "!echo {vcode} | google-drive-ocamlfuse -headless -id={creds.client_id} -secret={creds.client_secret}"
      ],
      "execution_count": 3,
      "outputs": [
        {
          "output_type": "stream",
          "text": [
            "Please, open the following URL in a web browser: https://accounts.google.com/o/oauth2/auth?client_id=32555940559.apps.googleusercontent.com&redirect_uri=urn%3Aietf%3Awg%3Aoauth%3A2.0%3Aoob&scope=https%3A%2F%2Fwww.googleapis.com%2Fauth%2Fdrive&response_type=code&access_type=offline&approval_prompt=force\r\n",
            "··········\n",
            "Please, open the following URL in a web browser: https://accounts.google.com/o/oauth2/auth?client_id=32555940559.apps.googleusercontent.com&redirect_uri=urn%3Aietf%3Awg%3Aoauth%3A2.0%3Aoob&scope=https%3A%2F%2Fwww.googleapis.com%2Fauth%2Fdrive&response_type=code&access_type=offline&approval_prompt=force\n",
            "Please enter the verification code: Access token retrieved correctly.\n"
          ],
          "name": "stdout"
        }
      ]
    },
    {
      "metadata": {
        "id": "QmwwUUjTXxus",
        "colab_type": "code",
        "colab": {}
      },
      "cell_type": "code",
      "source": [
        "!mkdir -p drive\n",
        "!google-drive-ocamlfuse drive"
      ],
      "execution_count": 0,
      "outputs": []
    },
    {
      "metadata": {
        "id": "Kt07LDPmX5gg",
        "colab_type": "code",
        "colab": {}
      },
      "cell_type": "code",
      "source": [
        "from os import path\n",
        "from wheel.pep425tags import get_abbr_impl, get_impl_ver, get_abi_tag\n",
        "platform = '{}{}-{}'.format(get_abbr_impl(), get_impl_ver(), get_abi_tag())\n",
        "\n",
        "accelerator = 'cu80' if path.exists('/opt/bin/nvidia-smi') else 'cpu'"
      ],
      "execution_count": 0,
      "outputs": []
    },
    {
      "metadata": {
        "id": "wXiLMsx4X9Nf",
        "colab_type": "code",
        "colab": {
          "base_uri": "https://localhost:8080/",
          "height": 85
        },
        "outputId": "11117f1e-d546-46bf-89d0-20853e9383dc"
      },
      "cell_type": "code",
      "source": [
        "%cd drive\n",
        "%cd Colab Notebooks/FintechProject\n",
        "# !ls -l | wc -l\n",
        "# %cd .\n",
        "!ls"
      ],
      "execution_count": 3,
      "outputs": [
        {
          "output_type": "stream",
          "text": [
            "/content/drive\n",
            "/content/drive/Colab Notebooks/FintechProject\n",
            "2d_4_17.csv  Fintech_16may.ipynb  OES_3_00_17\n",
            "3d_4_17.csv  OES_2_00_17\t  OES_Fintech.ipynb\n"
          ],
          "name": "stdout"
        }
      ]
    },
    {
      "metadata": {
        "id": "rQTgMhxxZcHy",
        "colab_type": "code",
        "colab": {
          "base_uri": "https://localhost:8080/",
          "height": 187
        },
        "outputId": "8a2367eb-40d4-4788-c33f-5bcd7bf1f941"
      },
      "cell_type": "code",
      "source": [
        "!pip install xlrd\n",
        "!pip install xlwt\n",
        "import xlrd\n",
        "import xlwt\n",
        "import os\n"
      ],
      "execution_count": 7,
      "outputs": [
        {
          "output_type": "stream",
          "text": [
            "Collecting xlrd\n",
            "\u001b[33m  Cache entry deserialization failed, entry ignored\u001b[0m\n",
            "  Using cached https://files.pythonhosted.org/packages/07/e6/e95c4eec6221bfd8528bcc4ea252a850bffcc4be88ebc367e23a1a84b0bb/xlrd-1.1.0-py2.py3-none-any.whl\n",
            "Installing collected packages: xlrd\n",
            "Successfully installed xlrd-1.1.0\n",
            "Collecting xlwt\n",
            "\u001b[33m  Cache entry deserialization failed, entry ignored\u001b[0m\n",
            "  Using cached https://files.pythonhosted.org/packages/44/48/def306413b25c3d01753603b1a222a011b8621aed27cd7f89cbc27e6b0f4/xlwt-1.3.0-py2.py3-none-any.whl\n",
            "Installing collected packages: xlwt\n",
            "Successfully installed xlwt-1.3.0\n"
          ],
          "name": "stdout"
        }
      ]
    },
    {
      "metadata": {
        "id": "NKAgIut5aeLN",
        "colab_type": "code",
        "colab": {
          "base_uri": "https://localhost:8080/",
          "height": 493
        },
        "outputId": "076aa911-7f4d-40cb-c7d6-2cfaa3b82ee1"
      },
      "cell_type": "code",
      "source": [
        "## CODE\n",
        "import re\n",
        "\n",
        "path = \"/content/drive/Colab Notebooks/FintechProject/OES_2_00_17/\"\n",
        "files = os.listdir(path)\n",
        "table = []\n",
        "flag = 0\n",
        "for i in files:\n",
        "  \n",
        "  if(i == \".DS_Store\" or i == \"nat4d_2002_dl.xls\" or i == \"nat2d_sic_2000_dl.xls\" or i == \"nat2d_sic_2001.xls\" or i == \"nat3d_may2003_dl.xls\"):\n",
        "    continue\n",
        "  else:\n",
        "    # Open workbook --- \n",
        "    path_sh = str(path)+str(i)\n",
        "\n",
        "    workbook = xlrd.open_workbook(path_sh)\n",
        "    worksheet = workbook.sheet_by_index(0)\n",
        "        \n",
        "    num_rows = worksheet.nrows\n",
        "    num_cols = worksheet.ncols\n",
        "    print(i,\"           Size of the sheet: \",num_rows,num_cols)\n",
        "\n",
        "#------ extracting year from the data-------------\n",
        "    for s in i.split(\"_\"):\n",
        "      m = re.search(r'\\d+$', s)\n",
        "      if(m):\n",
        "        yr = m.group()\n",
        "      \n",
        "    print(yr)\n",
        "    \n",
        "#------ read the files --------------------------      \n",
        "    if(num_cols == 25):\n",
        "      for x in range(1,num_rows):\n",
        "        record = []\n",
        "        for y in range(num_cols+1):\n",
        "          if(y == 0):\n",
        "            record.append(yr)\n",
        "          elif(y != 3):\n",
        "            record.append(worksheet.cell(x,y-1).value)\n",
        "        table.append(record)\n",
        "\n",
        "    else: \n",
        "      \n",
        "      if(flag == 0):\n",
        "        record = []\n",
        "        for j in range(num_cols+1):\n",
        "          if(j==0):\n",
        "            record.append('year')\n",
        "          else:\n",
        "            record.append(worksheet.cell(0,j-1).value)\n",
        "        table.append(record)\n",
        "        flag = 1\n",
        "      for x in range(1,num_rows):\n",
        "        record = []\n",
        "        for y in range(num_cols+1):\n",
        "          if(y == 0):\n",
        "            record.append(yr)\n",
        "          else:\n",
        "            record.append(worksheet.cell(x,y-1).value)\n",
        "        table.append(record)\n",
        "           "
      ],
      "execution_count": 8,
      "outputs": [
        {
          "output_type": "stream",
          "text": [
            "natsector_M2004_dl.xls            Size of the sheet:  9165 24\n",
            "2004\n",
            "natsector_M2005_dl.xls            Size of the sheet:  8940 24\n",
            "2005\n",
            "natsector_M2006_dl.xls            Size of the sheet:  8755 24\n",
            "2006\n",
            "natsector_M2008_dl.xls            Size of the sheet:  8662 24\n",
            "2008\n",
            "natsector_M2009_dl.xls            Size of the sheet:  8534 24\n",
            "2009\n",
            "natsector_M2010_dl.xls            Size of the sheet:  8439 24\n",
            "2010\n",
            "natsector_M2012_dl.xls            Size of the sheet:  15833 24\n",
            "2012\n",
            "natsector_M2013_dl.xls            Size of the sheet:  15922 24\n",
            "2013\n",
            "natsector_M2014_dl.xlsx            Size of the sheet:  15954 24\n",
            "2014\n",
            "natsector_M2015_dl.xlsx            Size of the sheet:  16101 24\n",
            "2015\n",
            "natsector_M2016_dl.xlsx            Size of the sheet:  16201 24\n",
            "2016\n",
            "natsector_M2017_dl.xlsx            Size of the sheet:  16156 24\n",
            "2017\n",
            "natsector_M2011_dl.xlsx            Size of the sheet:  8438 24\n",
            "2011\n",
            "natsector_M2007_dl.xls            Size of the sheet:  8736 24\n",
            "2007\n"
          ],
          "name": "stdout"
        }
      ]
    },
    {
      "metadata": {
        "id": "zRATl1-0-kWU",
        "colab_type": "code",
        "colab": {
          "base_uri": "https://localhost:8080/",
          "height": 88
        },
        "outputId": "8cae142c-5a97-41a5-bfae-3c3f858902cf"
      },
      "cell_type": "code",
      "source": [
        "# PRINT STATEMENTS - (TEST)\n",
        "print(len(table),len(table[1]))\n",
        "print(table[0])\n",
        "print(table[52499])\n",
        "for i in range(len(table)):\n",
        "  if(len(table[i]) != 25):\n",
        "    print(i, (len(table[i])))\n",
        "    "
      ],
      "execution_count": 15,
      "outputs": [
        {
          "output_type": "stream",
          "text": [
            "165823 25\n",
            "['year', 'NAICS', 'NAICS_TITLE', 'OCC_CODE', 'OCC_TITLE', 'GROUP', 'TOT_EMP', 'EMP_PRSE', 'PCT_TOTAL', 'PCT_RPT', 'H_MEAN', 'A_MEAN', 'MEAN_PRSE', 'H_PCT10', 'H_PCT25', 'H_MEDIAN', 'H_PCT75', 'H_PCT90', 'A_PCT10', 'A_PCT25', 'A_MEDIAN', 'A_PCT75', 'A_PCT90', 'ANNUAL', 'HOURLY']\n",
            "['2012', '11', 'Agriculture, Forestry, Fishing and Hunting', '11-2022', 'Sales Managers', 'detailed', 270.0, 10.6, 0.07, 1.0, 57.28, 119140.0, 7.3, 24.2, 34.26, 51.96, 71.33, '#', 50340.0, 71270.0, 108070.0, 148360.0, '#', '', '']\n"
          ],
          "name": "stdout"
        }
      ]
    },
    {
      "metadata": {
        "id": "536Hn6jNABoh",
        "colab_type": "code",
        "colab": {
          "base_uri": "https://localhost:8080/",
          "height": 510
        },
        "outputId": "8fd7729a-0666-40d4-bcb9-10505f46bef1"
      },
      "cell_type": "code",
      "source": [
        "## SAVE THE FILE IN CSV FORMAT\n",
        "\n",
        "import numpy as np\n",
        "import pandas as pd\n",
        "\n",
        "npa = np.asarray(table)\n",
        "df = pd.DataFrame(data=npa[1:,1:],    # values\n",
        "             index=npa[1:,0],    # 1st column as index\n",
        "             columns=npa[0,1:])  # 1st row as the column names\n",
        "\n",
        "df.info()\n",
        "df = df.replace(\"*\",np.nan)\n",
        "df = df.replace(\"**\",np.nan)\n",
        "df = df.replace(\"#\",np.nan)\n",
        "df = df.replace(\"~\",np.nan)\n",
        "\n",
        "df.to_csv('2dout.csv')\n"
      ],
      "execution_count": 24,
      "outputs": [
        {
          "output_type": "stream",
          "text": [
            "<class 'pandas.core.frame.DataFrame'>\n",
            "Index: 165822 entries, 2004 to 2007\n",
            "Data columns (total 24 columns):\n",
            "NAICS          165822 non-null object\n",
            "NAICS_TITLE    165822 non-null object\n",
            "OCC_CODE       165822 non-null object\n",
            "OCC_TITLE      165822 non-null object\n",
            "GROUP          165822 non-null object\n",
            "TOT_EMP        165822 non-null object\n",
            "EMP_PRSE       165822 non-null object\n",
            "PCT_TOTAL      165822 non-null object\n",
            "PCT_RPT        165822 non-null object\n",
            "H_MEAN         165822 non-null object\n",
            "A_MEAN         165822 non-null object\n",
            "MEAN_PRSE      165822 non-null object\n",
            "H_PCT10        165822 non-null object\n",
            "H_PCT25        165822 non-null object\n",
            "H_MEDIAN       165822 non-null object\n",
            "H_PCT75        165822 non-null object\n",
            "H_PCT90        165822 non-null object\n",
            "A_PCT10        165822 non-null object\n",
            "A_PCT25        165822 non-null object\n",
            "A_MEDIAN       165822 non-null object\n",
            "A_PCT75        165822 non-null object\n",
            "A_PCT90        165822 non-null object\n",
            "ANNUAL         165822 non-null object\n",
            "HOURLY         165822 non-null object\n",
            "dtypes: object(24)\n",
            "memory usage: 31.6+ MB\n"
          ],
          "name": "stdout"
        }
      ]
    },
    {
      "metadata": {
        "id": "I9h_4wyVlG7B",
        "colab_type": "code",
        "colab": {
          "base_uri": "https://localhost:8080/",
          "height": 610
        },
        "outputId": "09fa8bfa-c991-4b51-9d88-d9d91ac66052"
      },
      "cell_type": "code",
      "source": [
        "# PANDAS\n",
        "import pandas as pd\n",
        "print(\"ss\")\n",
        "print(npa.shape)\n",
        "# READ CSV FILE\n",
        "files = pd.read_csv(\"2dout.csv\")\n",
        "\n",
        "print(\"s\")\n",
        "files.head()\n",
        "\n",
        "\n",
        "# SHEET NaNs\n",
        "# *  = indicates that a wage estimate is not available    \n",
        "# # = indicates a wage that is equal to or greater than $100.00 per hour or $208,000 per year    \n",
        "# ** = indicates that an employment estimate is not available\n",
        "# ~ = indicates that the percent of establishments reporting the occupation is less than 0.5%\n",
        "\n",
        "\n",
        "# --------^^^-------\n",
        "# for x in range(num_rows):\n",
        "#   record = []\n",
        "#   for y in range(num_cols):      \n",
        "#     if(worksheet.cell(x,y).value == '*'):\n",
        "#       record.append('')\n",
        "#     if(worksheet.cell(x,y).value == '**'):\n",
        "#       record.append('')\n",
        "#     if(worksheet.cell(x,y).value == '#' and y > 15 and y < 21): #a\n",
        "#       record.append('')\n",
        "#     if(worksheet.cell(x,y).value == '#' and y > 10 and y < 16): #h\n",
        "#       record.append('')\n",
        "#     if(worksheet.cell(x,y).value == '~'):\n",
        "#       record.append('')\n",
        "# # --------^^^-------\n",
        "#     else:   \n",
        "#       record.append(worksheet.cell(x,y).value)\n",
        "  \n",
        "#   record.append('0')\n",
        "#   table.append(record)\n",
        "  \n",
        "  "
      ],
      "execution_count": 26,
      "outputs": [
        {
          "output_type": "stream",
          "text": [
            "ss\n",
            "(165823, 25)\n",
            "s\n"
          ],
          "name": "stdout"
        },
        {
          "output_type": "stream",
          "text": [
            "/usr/local/lib/python3.6/dist-packages/IPython/core/interactiveshell.py:2718: DtypeWarning: Columns (1,11,12,18,19,20,21,22) have mixed types. Specify dtype option on import or set low_memory=False.\n",
            "  interactivity=interactivity, compiler=compiler, result=result)\n"
          ],
          "name": "stderr"
        },
        {
          "output_type": "execute_result",
          "data": {
            "text/html": [
              "<div>\n",
              "<style scoped>\n",
              "    .dataframe tbody tr th:only-of-type {\n",
              "        vertical-align: middle;\n",
              "    }\n",
              "\n",
              "    .dataframe tbody tr th {\n",
              "        vertical-align: top;\n",
              "    }\n",
              "\n",
              "    .dataframe thead th {\n",
              "        text-align: right;\n",
              "    }\n",
              "</style>\n",
              "<table border=\"1\" class=\"dataframe\">\n",
              "  <thead>\n",
              "    <tr style=\"text-align: right;\">\n",
              "      <th></th>\n",
              "      <th>Unnamed: 0</th>\n",
              "      <th>NAICS</th>\n",
              "      <th>NAICS_TITLE</th>\n",
              "      <th>OCC_CODE</th>\n",
              "      <th>OCC_TITLE</th>\n",
              "      <th>GROUP</th>\n",
              "      <th>TOT_EMP</th>\n",
              "      <th>EMP_PRSE</th>\n",
              "      <th>PCT_TOTAL</th>\n",
              "      <th>PCT_RPT</th>\n",
              "      <th>...</th>\n",
              "      <th>H_MEDIAN</th>\n",
              "      <th>H_PCT75</th>\n",
              "      <th>H_PCT90</th>\n",
              "      <th>A_PCT10</th>\n",
              "      <th>A_PCT25</th>\n",
              "      <th>A_MEDIAN</th>\n",
              "      <th>A_PCT75</th>\n",
              "      <th>A_PCT90</th>\n",
              "      <th>ANNUAL</th>\n",
              "      <th>HOURLY</th>\n",
              "    </tr>\n",
              "  </thead>\n",
              "  <tbody>\n",
              "    <tr>\n",
              "      <th>0</th>\n",
              "      <td>2004</td>\n",
              "      <td>11</td>\n",
              "      <td>Agriculture, Forestry, Fishing, and Hunting</td>\n",
              "      <td>00-0000</td>\n",
              "      <td>Industry Total</td>\n",
              "      <td>NaN</td>\n",
              "      <td>380350.0</td>\n",
              "      <td>1.0</td>\n",
              "      <td>100.00</td>\n",
              "      <td>100.00</td>\n",
              "      <td>...</td>\n",
              "      <td>8.27</td>\n",
              "      <td>11.31</td>\n",
              "      <td>16.93</td>\n",
              "      <td>13610</td>\n",
              "      <td>15020</td>\n",
              "      <td>17200</td>\n",
              "      <td>23520</td>\n",
              "      <td>35220</td>\n",
              "      <td>NaN</td>\n",
              "      <td>NaN</td>\n",
              "    </tr>\n",
              "    <tr>\n",
              "      <th>1</th>\n",
              "      <td>2004</td>\n",
              "      <td>11</td>\n",
              "      <td>Agriculture, Forestry, Fishing, and Hunting</td>\n",
              "      <td>11-0000</td>\n",
              "      <td>Management occupations</td>\n",
              "      <td>major</td>\n",
              "      <td>7390.0</td>\n",
              "      <td>4.5</td>\n",
              "      <td>1.94</td>\n",
              "      <td>28.99</td>\n",
              "      <td>...</td>\n",
              "      <td>28.84</td>\n",
              "      <td>43.96</td>\n",
              "      <td>67.49</td>\n",
              "      <td>32560</td>\n",
              "      <td>43440</td>\n",
              "      <td>59980</td>\n",
              "      <td>91440</td>\n",
              "      <td>140370</td>\n",
              "      <td>NaN</td>\n",
              "      <td>NaN</td>\n",
              "    </tr>\n",
              "    <tr>\n",
              "      <th>2</th>\n",
              "      <td>2004</td>\n",
              "      <td>11</td>\n",
              "      <td>Agriculture, Forestry, Fishing, and Hunting</td>\n",
              "      <td>11-1011</td>\n",
              "      <td>Chief executives</td>\n",
              "      <td>NaN</td>\n",
              "      <td>720.0</td>\n",
              "      <td>17.8</td>\n",
              "      <td>0.19</td>\n",
              "      <td>4.58</td>\n",
              "      <td>...</td>\n",
              "      <td>46.77</td>\n",
              "      <td>NaN</td>\n",
              "      <td>NaN</td>\n",
              "      <td>49760</td>\n",
              "      <td>66000</td>\n",
              "      <td>97270</td>\n",
              "      <td>NaN</td>\n",
              "      <td>NaN</td>\n",
              "      <td>NaN</td>\n",
              "      <td>NaN</td>\n",
              "    </tr>\n",
              "    <tr>\n",
              "      <th>3</th>\n",
              "      <td>2004</td>\n",
              "      <td>11</td>\n",
              "      <td>Agriculture, Forestry, Fishing, and Hunting</td>\n",
              "      <td>11-1021</td>\n",
              "      <td>General and operations managers</td>\n",
              "      <td>NaN</td>\n",
              "      <td>3510.0</td>\n",
              "      <td>4.8</td>\n",
              "      <td>0.92</td>\n",
              "      <td>21.31</td>\n",
              "      <td>...</td>\n",
              "      <td>30.55</td>\n",
              "      <td>46.93</td>\n",
              "      <td>69.18</td>\n",
              "      <td>34480</td>\n",
              "      <td>45840</td>\n",
              "      <td>63540</td>\n",
              "      <td>97610</td>\n",
              "      <td>143900</td>\n",
              "      <td>NaN</td>\n",
              "      <td>NaN</td>\n",
              "    </tr>\n",
              "    <tr>\n",
              "      <th>4</th>\n",
              "      <td>2004</td>\n",
              "      <td>11</td>\n",
              "      <td>Agriculture, Forestry, Fishing, and Hunting</td>\n",
              "      <td>11-2011</td>\n",
              "      <td>Advertising and promotions managers</td>\n",
              "      <td>NaN</td>\n",
              "      <td>60.0</td>\n",
              "      <td>11.8</td>\n",
              "      <td>0.02</td>\n",
              "      <td>0.68</td>\n",
              "      <td>...</td>\n",
              "      <td>22.51</td>\n",
              "      <td>34.23</td>\n",
              "      <td>46.86</td>\n",
              "      <td>25200</td>\n",
              "      <td>32630</td>\n",
              "      <td>46820</td>\n",
              "      <td>71200</td>\n",
              "      <td>97470</td>\n",
              "      <td>NaN</td>\n",
              "      <td>NaN</td>\n",
              "    </tr>\n",
              "  </tbody>\n",
              "</table>\n",
              "<p>5 rows × 25 columns</p>\n",
              "</div>"
            ],
            "text/plain": [
              "   Unnamed: 0 NAICS                                  NAICS_TITLE OCC_CODE  \\\n",
              "0        2004    11  Agriculture, Forestry, Fishing, and Hunting  00-0000   \n",
              "1        2004    11  Agriculture, Forestry, Fishing, and Hunting  11-0000   \n",
              "2        2004    11  Agriculture, Forestry, Fishing, and Hunting  11-1011   \n",
              "3        2004    11  Agriculture, Forestry, Fishing, and Hunting  11-1021   \n",
              "4        2004    11  Agriculture, Forestry, Fishing, and Hunting  11-2011   \n",
              "\n",
              "                             OCC_TITLE  GROUP   TOT_EMP  EMP_PRSE  PCT_TOTAL  \\\n",
              "0                       Industry Total    NaN  380350.0       1.0     100.00   \n",
              "1               Management occupations  major    7390.0       4.5       1.94   \n",
              "2                     Chief executives    NaN     720.0      17.8       0.19   \n",
              "3      General and operations managers    NaN    3510.0       4.8       0.92   \n",
              "4  Advertising and promotions managers    NaN      60.0      11.8       0.02   \n",
              "\n",
              "   PCT_RPT  ...    H_MEDIAN H_PCT75 H_PCT90  A_PCT10  A_PCT25  A_MEDIAN  \\\n",
              "0   100.00  ...        8.27   11.31   16.93    13610    15020     17200   \n",
              "1    28.99  ...       28.84   43.96   67.49    32560    43440     59980   \n",
              "2     4.58  ...       46.77     NaN     NaN    49760    66000     97270   \n",
              "3    21.31  ...       30.55   46.93   69.18    34480    45840     63540   \n",
              "4     0.68  ...       22.51   34.23   46.86    25200    32630     46820   \n",
              "\n",
              "   A_PCT75  A_PCT90 ANNUAL HOURLY  \n",
              "0    23520    35220    NaN    NaN  \n",
              "1    91440   140370    NaN    NaN  \n",
              "2      NaN      NaN    NaN    NaN  \n",
              "3    97610   143900    NaN    NaN  \n",
              "4    71200    97470    NaN    NaN  \n",
              "\n",
              "[5 rows x 25 columns]"
            ]
          },
          "metadata": {
            "tags": []
          },
          "execution_count": 26
        }
      ]
    },
    {
      "metadata": {
        "id": "tZDSqQVS_LaL",
        "colab_type": "code",
        "colab": {
          "base_uri": "https://localhost:8080/",
          "height": 105
        },
        "outputId": "3a893283-ee0d-49dd-c8fc-ecaf4f79b59b"
      },
      "cell_type": "code",
      "source": [
        "for i in range(0,2):\n",
        "  print(table[i])\n",
        "print(int(table[2][0])/10000 == int(table[5][0])/10000)\n",
        "print(len(table),len(table[0]))"
      ],
      "execution_count": 36,
      "outputs": [
        {
          "output_type": "stream",
          "text": [
            "[u'NAICS', u'NAICS_TITLE', u'OCC_CODE', u'OCC_TITLE', u'OCC_GROUP', u'TOT_EMP', u'EMP_PRSE', u'PCT_TOTAL', u'PCT_RPT', u'H_MEAN', u'A_MEAN', u'MEAN_PRSE', u'H_PCT10', u'H_PCT25', u'H_MEDIAN', u'H_PCT75', u'H_PCT90', u'A_PCT10', u'A_PCT25', u'A_MEDIAN', u'A_PCT75', u'A_PCT90', u'ANNUAL', u'HOURLY']\n",
            "[u'11', u'Agriculture, Forestry, Fishing and Hunting', u'00-0000', u'Industry Total', u'total', 424020.0, 1.1, 100.0, 100.0, 14.89, 30960.0, 0.7, 10.13, 10.57, 11.77, 16.12, 23.35, 21070.0, 21980.0, 24480.0, 33530.0, 48570.0, u'', u'']\n",
            "True\n",
            "(16156, 24)\n"
          ],
          "name": "stdout"
        }
      ]
    },
    {
      "metadata": {
        "id": "1A8V7UQp-VCS",
        "colab_type": "code",
        "colab": {}
      },
      "cell_type": "code",
      "source": [
        "# reduce by: 10000\n",
        "naic = 10000\n",
        "for x in range(1,num_rows):\n",
        "  for i in range(x,num_rows):\n",
        "    \n",
        "    if(table[x][22] == '0'):\n",
        "      if(int(table[x][0])/naic == int(table[i][0])/naic):\n",
        "        if(table[x][2] == table[i][2]):\n",
        "          table[x][4] = int(table[x][4]) + int(table[i][4])\n",
        "          for j in range(4,num_cols-1):\n",
        "            table[x][j] = (int(table[x][j])*int(table[x][22]) + int(table[i][5]))/(int(table[x][22])+1)\n",
        "            table[x][22] = int(table[x][22]) + 1\n",
        "            "
      ],
      "execution_count": 0,
      "outputs": []
    },
    {
      "metadata": {
        "id": "3sV9BE3lKscc",
        "colab_type": "code",
        "colab": {}
      },
      "cell_type": "code",
      "source": [
        "## -------------------------------------------------------------------------\n",
        "## -------------------------------------------------------------------------\n",
        "\n",
        "import numpy as np\n",
        "\n",
        "# from bokeh.layouts import gridplot\n",
        "# from bokeh.plotting import figure, show, output_file\n",
        "\n",
        "!pip install missingno\n",
        "# !pip install quilt\n",
        "# !quilt install ResidentMario/missingno_data"
      ],
      "execution_count": 0,
      "outputs": []
    },
    {
      "metadata": {
        "id": "fwS3mh3H2qC-",
        "colab_type": "code",
        "colab": {
          "base_uri": "https://localhost:8080/",
          "height": 402
        },
        "outputId": "aa4ae1f9-752d-4a3e-80a8-4cb4eb941240"
      },
      "cell_type": "code",
      "source": [
        "# import missingno as msno\n",
        "# import pandas as pd\n",
        "\n",
        "# df = pd.DataFrame(table)\n",
        "# df.info()\n",
        "# print(table)\n",
        "# table = table.nyc_collision_factors()\n",
        "# table = table.replace(\"*\",np.nan)\n",
        "# table = table.replace(\"**\",np.nan)\n",
        "# table = table.replace(\"#\",np.nan)\n",
        "# table = table.replace(\"~\",np.nan)"
      ],
      "execution_count": 37,
      "outputs": [
        {
          "output_type": "stream",
          "text": [
            "IOPub data rate exceeded.\n",
            "The notebook server will temporarily stop sending output\n",
            "to the client in order to avoid crashing it.\n",
            "To change this limit, set the config variable\n",
            "`--NotebookApp.iopub_data_rate_limit`.\n",
            "\n",
            "Current values:\n",
            "NotebookApp.iopub_data_rate_limit=1000000.0 (bytes/sec)\n",
            "NotebookApp.rate_limit_window=3.0 (secs)\n",
            "\n"
          ],
          "name": "stderr"
        },
        {
          "output_type": "error",
          "ename": "AttributeError",
          "evalue": "ignored",
          "traceback": [
            "\u001b[0;31m\u001b[0m",
            "\u001b[0;31mAttributeError\u001b[0mTraceback (most recent call last)",
            "\u001b[0;32m<ipython-input-37-f272e7a20e52>\u001b[0m in \u001b[0;36m<module>\u001b[0;34m()\u001b[0m\n\u001b[1;32m      5\u001b[0m \u001b[0mdf\u001b[0m\u001b[0;34m.\u001b[0m\u001b[0minfo\u001b[0m\u001b[0;34m(\u001b[0m\u001b[0;34m)\u001b[0m\u001b[0;34m\u001b[0m\u001b[0m\n\u001b[1;32m      6\u001b[0m \u001b[0;32mprint\u001b[0m\u001b[0;34m(\u001b[0m\u001b[0mtable\u001b[0m\u001b[0;34m)\u001b[0m\u001b[0;34m\u001b[0m\u001b[0m\n\u001b[0;32m----> 7\u001b[0;31m \u001b[0mtable\u001b[0m \u001b[0;34m=\u001b[0m \u001b[0mtable\u001b[0m\u001b[0;34m.\u001b[0m\u001b[0mnyc_collision_factors\u001b[0m\u001b[0;34m(\u001b[0m\u001b[0;34m)\u001b[0m\u001b[0;34m\u001b[0m\u001b[0m\n\u001b[0m\u001b[1;32m      8\u001b[0m \u001b[0mtable\u001b[0m \u001b[0;34m=\u001b[0m \u001b[0mtable\u001b[0m\u001b[0;34m.\u001b[0m\u001b[0mreplace\u001b[0m\u001b[0;34m(\u001b[0m\u001b[0;34m\"*\"\u001b[0m\u001b[0;34m,\u001b[0m\u001b[0mnp\u001b[0m\u001b[0;34m.\u001b[0m\u001b[0mnan\u001b[0m\u001b[0;34m)\u001b[0m\u001b[0;34m\u001b[0m\u001b[0m\n\u001b[1;32m      9\u001b[0m \u001b[0mtable\u001b[0m \u001b[0;34m=\u001b[0m \u001b[0mtable\u001b[0m\u001b[0;34m.\u001b[0m\u001b[0mreplace\u001b[0m\u001b[0;34m(\u001b[0m\u001b[0;34m\"**\"\u001b[0m\u001b[0;34m,\u001b[0m\u001b[0mnp\u001b[0m\u001b[0;34m.\u001b[0m\u001b[0mnan\u001b[0m\u001b[0;34m)\u001b[0m\u001b[0;34m\u001b[0m\u001b[0m\n",
            "\u001b[0;31mAttributeError\u001b[0m: 'list' object has no attribute 'nyc_collision_factors'"
          ]
        }
      ]
    },
    {
      "metadata": {
        "id": "g5fHhvC6GART",
        "colab_type": "code",
        "colab": {}
      },
      "cell_type": "code",
      "source": [
        ""
      ],
      "execution_count": 0,
      "outputs": []
    }
  ]
}