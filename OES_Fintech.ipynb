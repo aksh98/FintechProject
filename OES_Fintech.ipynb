{
  "nbformat": 4,
  "nbformat_minor": 0,
  "metadata": {
    "colab": {
      "name": "OES_Fintech.ipynb",
      "version": "0.3.2",
      "provenance": []
    },
    "kernelspec": {
      "name": "python2",
      "display_name": "Python 2"
    },
    "accelerator": "GPU"
  },
  "cells": [
    {
      "cell_type": "markdown",
      "metadata": {
        "id": "view-in-github",
        "colab_type": "text"
      },
      "source": [
        "[View in Colaboratory](https://colab.research.google.com/github/aksh98/FintechProject/blob/master/OES_Fintech.ipynb)"
      ]
    },
    {
      "metadata": {
        "id": "DAiBJ-T4WC7r",
        "colab_type": "code",
        "colab": {
          "base_uri": "https://localhost:8080/",
          "height": 34
        },
        "outputId": "6ca0a96c-191b-440d-b84c-56fba83cfd47"
      },
      "cell_type": "code",
      "source": [
        "import tensorflow as tf\n",
        "device_name = tf.test.gpu_device_name()\n",
        "if device_name != '/device:GPU:0':\n",
        "  raise SystemError('GPU device not found')\n",
        "print('Found GPU at: {}'.format(device_name))"
      ],
      "execution_count": 2,
      "outputs": [
        {
          "output_type": "stream",
          "text": [
            "Found GPU at: /device:GPU:0\n"
          ],
          "name": "stdout"
        }
      ]
    },
    {
      "metadata": {
        "id": "ZutFgSt7WUj9",
        "colab_type": "code",
        "colab": {
          "base_uri": "https://localhost:8080/",
          "height": 2366
        },
        "outputId": "c9d61b32-b553-4d42-f0e7-a53a97dc8b05"
      },
      "cell_type": "code",
      "source": [
        "!apt-get install -y -qq software-properties-common python-software-properties module-init-tools\n",
        "!add-apt-repository -y ppa:alessandro-strada/ppa 2>&1 > /dev/null\n",
        "!apt-get update -qq 2>&1 > /dev/null\n",
        "!apt-get -y install -qq google-drive-ocamlfuse fuse\n",
        "from google.colab import auth\n",
        "auth.authenticate_user()\n",
        "from oauth2client.client import GoogleCredentials\n",
        "creds = GoogleCredentials.get_application_default()\n",
        "import getpass\n",
        "!google-drive-ocamlfuse -headless -id={creds.client_id} -secret={creds.client_secret} < /dev/null 2>&1 | grep URL\n",
        "vcode = getpass.getpass()\n",
        "!echo {vcode} | google-drive-ocamlfuse -headless -id={creds.client_id} -secret={creds.client_secret}"
      ],
      "execution_count": 9,
      "outputs": [
        {
          "output_type": "stream",
          "text": [
            "Preconfiguring packages ...\n",
            "Selecting previously unselected package cron.\n",
            "(Reading database ... 18298 files and directories currently installed.)\n",
            "Preparing to unpack .../00-cron_3.0pl1-128ubuntu5_amd64.deb ...\n",
            "Unpacking cron (3.0pl1-128ubuntu5) ...\n",
            "Selecting previously unselected package libapparmor1:amd64.\n",
            "Preparing to unpack .../01-libapparmor1_2.11.0-2ubuntu17.1_amd64.deb ...\n",
            "Unpacking libapparmor1:amd64 (2.11.0-2ubuntu17.1) ...\n",
            "Selecting previously unselected package libdbus-1-3:amd64.\n",
            "Preparing to unpack .../02-libdbus-1-3_1.10.22-1ubuntu1_amd64.deb ...\n",
            "Unpacking libdbus-1-3:amd64 (1.10.22-1ubuntu1) ...\n",
            "Selecting previously unselected package dbus.\n",
            "Preparing to unpack .../03-dbus_1.10.22-1ubuntu1_amd64.deb ...\n",
            "Unpacking dbus (1.10.22-1ubuntu1) ...\n",
            "Selecting previously unselected package dirmngr.\n",
            "Preparing to unpack .../04-dirmngr_2.1.15-1ubuntu8_amd64.deb ...\n",
            "Unpacking dirmngr (2.1.15-1ubuntu8) ...\n",
            "Selecting previously unselected package distro-info-data.\n",
            "Preparing to unpack .../05-distro-info-data_0.36ubuntu0.2_all.deb ...\n",
            "Unpacking distro-info-data (0.36ubuntu0.2) ...\n",
            "Selecting previously unselected package libkmod2:amd64.\n",
            "Preparing to unpack .../06-libkmod2_24-1ubuntu2_amd64.deb ...\n",
            "Unpacking libkmod2:amd64 (24-1ubuntu2) ...\n",
            "Selecting previously unselected package kmod.\n",
            "Preparing to unpack .../07-kmod_24-1ubuntu2_amd64.deb ...\n",
            "Unpacking kmod (24-1ubuntu2) ...\n",
            "Selecting previously unselected package lsb-release.\n",
            "Preparing to unpack .../08-lsb-release_9.20160110ubuntu5_all.deb ...\n",
            "Unpacking lsb-release (9.20160110ubuntu5) ...\n",
            "Selecting previously unselected package libgirepository-1.0-1:amd64.\n",
            "Preparing to unpack .../09-libgirepository-1.0-1_1.54.1-1_amd64.deb ...\n",
            "Unpacking libgirepository-1.0-1:amd64 (1.54.1-1) ...\n",
            "Selecting previously unselected package gir1.2-glib-2.0:amd64.\n",
            "Preparing to unpack .../10-gir1.2-glib-2.0_1.54.1-1_amd64.deb ...\n",
            "Unpacking gir1.2-glib-2.0:amd64 (1.54.1-1) ...\n",
            "Selecting previously unselected package iso-codes.\n",
            "Preparing to unpack .../11-iso-codes_3.75-1_all.deb ...\n",
            "Unpacking iso-codes (3.75-1) ...\n",
            "Selecting previously unselected package libdbus-glib-1-2:amd64.\n",
            "Preparing to unpack .../12-libdbus-glib-1-2_0.108-2_amd64.deb ...\n",
            "Unpacking libdbus-glib-1-2:amd64 (0.108-2) ...\n",
            "Selecting previously unselected package python-apt-common.\n",
            "Preparing to unpack .../13-python-apt-common_1.4.0~beta3build2_all.deb ...\n",
            "Unpacking python-apt-common (1.4.0~beta3build2) ...\n",
            "Selecting previously unselected package python3-apt.\n",
            "Preparing to unpack .../14-python3-apt_1.4.0~beta3build2_amd64.deb ...\n",
            "Unpacking python3-apt (1.4.0~beta3build2) ...\n",
            "Selecting previously unselected package python3-dbus.\n",
            "Preparing to unpack .../15-python3-dbus_1.2.4-1build3_amd64.deb ...\n",
            "Unpacking python3-dbus (1.2.4-1build3) ...\n",
            "Selecting previously unselected package python3-gi.\n",
            "Preparing to unpack .../16-python3-gi_3.24.1-2build1_amd64.deb ...\n",
            "Unpacking python3-gi (3.24.1-2build1) ...\n",
            "Selecting previously unselected package module-init-tools.\n",
            "Preparing to unpack .../17-module-init-tools_24-1ubuntu2_all.deb ...\n",
            "Unpacking module-init-tools (24-1ubuntu2) ...\n",
            "Selecting previously unselected package python-apt.\n",
            "Preparing to unpack .../18-python-apt_1.4.0~beta3build2_amd64.deb ...\n",
            "Unpacking python-apt (1.4.0~beta3build2) ...\n",
            "Selecting previously unselected package python-pycurl.\n",
            "Preparing to unpack .../19-python-pycurl_7.43.0-2build2_amd64.deb ...\n",
            "Unpacking python-pycurl (7.43.0-2build2) ...\n",
            "Selecting previously unselected package python-software-properties.\n",
            "Preparing to unpack .../20-python-software-properties_0.96.24.17_all.deb ...\n",
            "Unpacking python-software-properties (0.96.24.17) ...\n",
            "Selecting previously unselected package python3-software-properties.\n",
            "Preparing to unpack .../21-python3-software-properties_0.96.24.17_all.deb ...\n",
            "Unpacking python3-software-properties (0.96.24.17) ...\n",
            "Selecting previously unselected package software-properties-common.\n",
            "Preparing to unpack .../22-software-properties-common_0.96.24.17_all.deb ...\n",
            "Unpacking software-properties-common (0.96.24.17) ...\n",
            "Selecting previously unselected package unattended-upgrades.\n",
            "Preparing to unpack .../23-unattended-upgrades_0.98ubuntu1.1_all.deb ...\n",
            "Unpacking unattended-upgrades (0.98ubuntu1.1) ...\n",
            "Setting up python-apt-common (1.4.0~beta3build2) ...\n",
            "Setting up python3-apt (1.4.0~beta3build2) ...\n",
            "Setting up iso-codes (3.75-1) ...\n",
            "Setting up distro-info-data (0.36ubuntu0.2) ...\n",
            "Setting up python-pycurl (7.43.0-2build2) ...\n",
            "Setting up lsb-release (9.20160110ubuntu5) ...\n",
            "Setting up libgirepository-1.0-1:amd64 (1.54.1-1) ...\n",
            "Setting up libkmod2:amd64 (24-1ubuntu2) ...\n",
            "Setting up gir1.2-glib-2.0:amd64 (1.54.1-1) ...\n",
            "Processing triggers for libc-bin (2.26-0ubuntu2.1) ...\n",
            "Setting up libapparmor1:amd64 (2.11.0-2ubuntu17.1) ...\n",
            "Setting up unattended-upgrades (0.98ubuntu1.1) ...\n",
            "\n",
            "Creating config file /etc/apt/apt.conf.d/20auto-upgrades with new version\n"
          ],
          "name": "stdout"
        },
        {
          "output_type": "stream",
          "text": [
            "\r\n",
            "Creating config file /etc/apt/apt.conf.d/50unattended-upgrades with new version\n",
            "invoke-rc.d: could not determine current runlevel\n",
            "invoke-rc.d: policy-rc.d denied execution of start.\n",
            "Setting up dirmngr (2.1.15-1ubuntu8) ...\n",
            "Setting up cron (3.0pl1-128ubuntu5) ...\n",
            "Adding group `crontab' (GID 102) ...\n",
            "Done.\n",
            "update-rc.d: warning: start and stop actions are no longer supported; falling back to defaults\n",
            "update-rc.d: warning: stop runlevel arguments (1) do not match cron Default-Stop values (none)\n",
            "invoke-rc.d: could not determine current runlevel\n",
            "invoke-rc.d: policy-rc.d denied execution of start.\n",
            "Setting up libdbus-1-3:amd64 (1.10.22-1ubuntu1) ...\n",
            "Setting up kmod (24-1ubuntu2) ...\n",
            "Setting up libdbus-glib-1-2:amd64 (0.108-2) ...\n",
            "Setting up python3-gi (3.24.1-2build1) ...\n",
            "Setting up module-init-tools (24-1ubuntu2) ...\n",
            "Setting up python3-software-properties (0.96.24.17) ...\n",
            "Setting up dbus (1.10.22-1ubuntu1) ...\n",
            "Setting up python-apt (1.4.0~beta3build2) ...\n",
            "Setting up python3-dbus (1.2.4-1build3) ...\n",
            "Setting up python-software-properties (0.96.24.17) ...\n",
            "Setting up software-properties-common (0.96.24.17) ...\n",
            "Processing triggers for libc-bin (2.26-0ubuntu2.1) ...\n",
            "Processing triggers for dbus (1.10.22-1ubuntu1) ...\n",
            "gpg: keybox '/tmp/tmprq5tt31v/pubring.gpg' created\n",
            "gpg: /tmp/tmprq5tt31v/trustdb.gpg: trustdb created\n",
            "gpg: key AD5F235DF639B041: public key \"Launchpad PPA for Alessandro Strada\" imported\n",
            "gpg: Total number processed: 1\n",
            "gpg:               imported: 1\n",
            "Warning: apt-key output should not be parsed (stdout is not a terminal)\n",
            "Selecting previously unselected package libfuse2:amd64.\n",
            "(Reading database ... 19706 files and directories currently installed.)\n",
            "Preparing to unpack .../libfuse2_2.9.7-1ubuntu1_amd64.deb ...\n",
            "Unpacking libfuse2:amd64 (2.9.7-1ubuntu1) ...\n",
            "Selecting previously unselected package fuse.\n",
            "Preparing to unpack .../fuse_2.9.7-1ubuntu1_amd64.deb ...\n",
            "Unpacking fuse (2.9.7-1ubuntu1) ...\n",
            "Selecting previously unselected package google-drive-ocamlfuse.\n",
            "Preparing to unpack .../google-drive-ocamlfuse_0.6.21-0ubuntu2_amd64.deb ...\n",
            "Unpacking google-drive-ocamlfuse (0.6.21-0ubuntu2) ...\n",
            "Setting up libfuse2:amd64 (2.9.7-1ubuntu1) ...\n",
            "Processing triggers for libc-bin (2.26-0ubuntu2.1) ...\n",
            "Setting up fuse (2.9.7-1ubuntu1) ...\n",
            "Setting up google-drive-ocamlfuse (0.6.21-0ubuntu2) ...\n",
            "Please, open the following URL in a web browser: https://accounts.google.com/o/oauth2/auth?client_id=32555940559.apps.googleusercontent.com&redirect_uri=urn%3Aietf%3Awg%3Aoauth%3A2.0%3Aoob&scope=https%3A%2F%2Fwww.googleapis.com%2Fauth%2Fdrive&response_type=code&access_type=offline&approval_prompt=force\n",
            "··········\n",
            "Please, open the following URL in a web browser: https://accounts.google.com/o/oauth2/auth?client_id=32555940559.apps.googleusercontent.com&redirect_uri=urn%3Aietf%3Awg%3Aoauth%3A2.0%3Aoob&scope=https%3A%2F%2Fwww.googleapis.com%2Fauth%2Fdrive&response_type=code&access_type=offline&approval_prompt=force\n",
            "Please enter the verification code: Access token retrieved correctly.\n"
          ],
          "name": "stdout"
        }
      ]
    },
    {
      "metadata": {
        "id": "QmwwUUjTXxus",
        "colab_type": "code",
        "colab": {}
      },
      "cell_type": "code",
      "source": [
        "!mkdir -p drive\n",
        "!google-drive-ocamlfuse drive"
      ],
      "execution_count": 0,
      "outputs": []
    },
    {
      "metadata": {
        "id": "Kt07LDPmX5gg",
        "colab_type": "code",
        "colab": {}
      },
      "cell_type": "code",
      "source": [
        "from os import path\n",
        "from wheel.pep425tags import get_abbr_impl, get_impl_ver, get_abi_tag\n",
        "platform = '{}{}-{}'.format(get_abbr_impl(), get_impl_ver(), get_abi_tag())\n",
        "\n",
        "accelerator = 'cu80' if path.exists('/opt/bin/nvidia-smi') else 'cpu'"
      ],
      "execution_count": 0,
      "outputs": []
    },
    {
      "metadata": {
        "id": "wXiLMsx4X9Nf",
        "colab_type": "code",
        "colab": {
          "base_uri": "https://localhost:8080/",
          "height": 102
        },
        "outputId": "bdad2735-5e13-41f4-f3f9-c2172d3a4cb1"
      },
      "cell_type": "code",
      "source": [
        "%cd drive\n",
        "%cd Colab Notebooks/FintechProject\n",
        "# !ls -l | wc -l\n",
        "# %cd .\n",
        "!ls"
      ],
      "execution_count": 33,
      "outputs": [
        {
          "output_type": "stream",
          "text": [
            "[Errno 2] No such file or directory: 'drive'\n",
            "/content/drive/Colab Notebooks/FintechProject\n",
            "[Errno 2] No such file or directory: 'Colab Notebooks/FintechProject'\n",
            "/content/drive/Colab Notebooks/FintechProject\n",
            "OES_00_17  OES_2_00_17\tOES_Fintech.ipynb\n"
          ],
          "name": "stdout"
        }
      ]
    },
    {
      "metadata": {
        "id": "rQTgMhxxZcHy",
        "colab_type": "code",
        "colab": {
          "base_uri": "https://localhost:8080/",
          "height": 34
        },
        "outputId": "a1b858db-014c-4d96-c0a1-60903ad03802"
      },
      "cell_type": "code",
      "source": [
        "!pip install xlrd\n",
        "\n",
        "import xlrd\n",
        "import os\n"
      ],
      "execution_count": 13,
      "outputs": [
        {
          "output_type": "stream",
          "text": [
            "Requirement already satisfied: xlrd in /usr/local/lib/python2.7/dist-packages (1.1.0)\r\n"
          ],
          "name": "stdout"
        }
      ]
    },
    {
      "metadata": {
        "id": "NKAgIut5aeLN",
        "colab_type": "code",
        "colab": {
          "base_uri": "https://localhost:8080/",
          "height": 340
        },
        "outputId": "0bafed38-981a-43da-af7a-f64daa920a11"
      },
      "cell_type": "code",
      "source": [
        "## CODE\n",
        "\n",
        "path = \"/content/drive/Colab Notebooks/FintechProject/OES_2_00_17/\"\n",
        "files = os.listdir(path)\n",
        "\n",
        "for i in files:\n",
        "  if(i == \".DS_Store\"):\n",
        "    continue\n",
        "  else:\n",
        "    #print workspaces\n",
        "#     print(i)\n",
        "    # Open workbook --- \n",
        "    path_sh = str(path)+str(i)\n",
        "\n",
        "#     print(path_sh)\n",
        "    workbook = xlrd.open_workbook(path_sh)\n",
        "    worksheet = workbook.sheet_by_index(0)\n",
        "    \n",
        "    # data extraction => 4,2 - worksheet.cell(4,2).value\n",
        "    \n",
        "    num_rows = worksheet.nrows\n",
        "    num_cols = worksheet.ncols\n",
        "    print(i,\"           Size of the sheet: \",num_rows,num_cols)\n",
        "# for rows \n",
        "    "
      ],
      "execution_count": 34,
      "outputs": [
        {
          "output_type": "stream",
          "text": [
            "('natsector_M2007_dl.xls', '           Size of the sheet: ', 8736, 24)\n",
            "('natsector_M2011_dl.xlsx', '           Size of the sheet: ', 8438, 24)\n",
            "('nat2d_sic_2001.xls', '           Size of the sheet: ', 16747, 24)\n",
            "('natsector_M2017_dl.xlsx', '           Size of the sheet: ', 16156, 24)\n",
            "('natsector_M2016_dl.xlsx', '           Size of the sheet: ', 16201, 24)\n",
            "('natsector_M2015_dl.xlsx', '           Size of the sheet: ', 16101, 24)\n",
            "('natsector_M2014_dl.xlsx', '           Size of the sheet: ', 15954, 24)\n",
            "('natsector_M2013_dl.xls', '           Size of the sheet: ', 15922, 24)\n",
            "('natsector_M2012_dl.xls', '           Size of the sheet: ', 15833, 24)\n",
            "('natsector_M2011_dl.xls', '           Size of the sheet: ', 8438, 25)\n",
            "('natsector_M2010_dl.xls', '           Size of the sheet: ', 8439, 24)\n",
            "('natsector_M2009_dl.xls', '           Size of the sheet: ', 8534, 24)\n",
            "('natsector_M2008_dl.xls', '           Size of the sheet: ', 8662, 24)\n",
            "('natsector_M2006_dl.xls', '           Size of the sheet: ', 8755, 24)\n",
            "('natsector_M2005_dl.xls', '           Size of the sheet: ', 8940, 24)\n",
            "('natsector_M2004_dl.xls', '           Size of the sheet: ', 9165, 24)\n",
            "('nat4d_2002_dl.xls', '           Size of the sheet: ', 45152, 22)\n",
            "('nat3d_may2003_dl.xls', '           Size of the sheet: ', 19394, 23)\n",
            "('nat2d_sic_2000_dl.xls', '           Size of the sheet: ', 17082, 16)\n"
          ],
          "name": "stdout"
        }
      ]
    },
    {
      "metadata": {
        "id": "I9h_4wyVlG7B",
        "colab_type": "code",
        "colab": {}
      },
      "cell_type": "code",
      "source": [
        "# READ THE SHEET AND \n",
        "# ---- store it in a table- --------\n",
        "\n",
        "path_sh = str(path)+str('natsector_M2017_dl.xlsx')\n",
        "\n",
        "workbook = xlrd.open_workbook(path_sh)\n",
        "worksheet = workbook.sheet_by_index(0)\n",
        "table = []\n",
        "num_rows = worksheet.nrows \n",
        "num_cols = worksheet.ncols\n",
        "\n",
        "\n",
        "for x in range(num_rows):\n",
        "  record = []\n",
        "  for y in range(num_cols):      \n",
        "    record.append(worksheet.cell(x,y).value)\n",
        "#   record.append('0')\n",
        "  table.append(record)\n",
        "  \n",
        "\n",
        "\n",
        "# *  = indicates that a wage estimate is not available    \n",
        "# # = indicates a wage that is equal to or greater than $100.00 per hour or $208,000 per year    \n",
        "# ** = indicates that an employment estimate is not available\n",
        "# ~ = indicates that the percent of establishments reporting the occupation is less than 0.5%\n",
        "\n",
        "\n",
        "# --------^^^-------\n",
        "# for x in range(num_rows):\n",
        "#   record = []\n",
        "#   for y in range(num_cols):      \n",
        "#     if(worksheet.cell(x,y).value == '*'):\n",
        "#       record.append('')\n",
        "#     if(worksheet.cell(x,y).value == '**'):\n",
        "#       record.append('')\n",
        "#     if(worksheet.cell(x,y).value == '#' and y > 15 and y < 21): #a\n",
        "#       record.append('')\n",
        "#     if(worksheet.cell(x,y).value == '#' and y > 10 and y < 16): #h\n",
        "#       record.append('')\n",
        "#     if(worksheet.cell(x,y).value == '~'):\n",
        "#       record.append('')\n",
        "# # --------^^^-------\n",
        "#     else:   \n",
        "#       record.append(worksheet.cell(x,y).value)\n",
        "  \n",
        "#   record.append('0')\n",
        "#   table.append(record)\n",
        "  \n",
        "  "
      ],
      "execution_count": 0,
      "outputs": []
    },
    {
      "metadata": {
        "id": "tZDSqQVS_LaL",
        "colab_type": "code",
        "colab": {
          "base_uri": "https://localhost:8080/",
          "height": 105
        },
        "outputId": "3a893283-ee0d-49dd-c8fc-ecaf4f79b59b"
      },
      "cell_type": "code",
      "source": [
        "for i in range(0,2):\n",
        "  print(table[i])\n",
        "print(int(table[2][0])/10000 == int(table[5][0])/10000)\n",
        "print(len(table),len(table[0]))"
      ],
      "execution_count": 36,
      "outputs": [
        {
          "output_type": "stream",
          "text": [
            "[u'NAICS', u'NAICS_TITLE', u'OCC_CODE', u'OCC_TITLE', u'OCC_GROUP', u'TOT_EMP', u'EMP_PRSE', u'PCT_TOTAL', u'PCT_RPT', u'H_MEAN', u'A_MEAN', u'MEAN_PRSE', u'H_PCT10', u'H_PCT25', u'H_MEDIAN', u'H_PCT75', u'H_PCT90', u'A_PCT10', u'A_PCT25', u'A_MEDIAN', u'A_PCT75', u'A_PCT90', u'ANNUAL', u'HOURLY']\n",
            "[u'11', u'Agriculture, Forestry, Fishing and Hunting', u'00-0000', u'Industry Total', u'total', 424020.0, 1.1, 100.0, 100.0, 14.89, 30960.0, 0.7, 10.13, 10.57, 11.77, 16.12, 23.35, 21070.0, 21980.0, 24480.0, 33530.0, 48570.0, u'', u'']\n",
            "True\n",
            "(16156, 24)\n"
          ],
          "name": "stdout"
        }
      ]
    },
    {
      "metadata": {
        "id": "1A8V7UQp-VCS",
        "colab_type": "code",
        "colab": {}
      },
      "cell_type": "code",
      "source": [
        "# reduce by: 10000\n",
        "naic = 10000\n",
        "for x in range(1,num_rows):\n",
        "  for i in range(x,num_rows):\n",
        "    \n",
        "    if(table[x][22] == '0'):\n",
        "      if(int(table[x][0])/naic == int(table[i][0])/naic):\n",
        "        if(table[x][2] == table[i][2]):\n",
        "          table[x][4] = int(table[x][4]) + int(table[i][4])\n",
        "          for j in range(4,num_cols-1):\n",
        "            table[x][j] = (int(table[x][j])*int(table[x][22]) + int(table[i][5]))/(int(table[x][22])+1)\n",
        "            table[x][22] = int(table[x][22]) + 1\n",
        "            "
      ],
      "execution_count": 0,
      "outputs": []
    },
    {
      "metadata": {
        "id": "3sV9BE3lKscc",
        "colab_type": "code",
        "colab": {}
      },
      "cell_type": "code",
      "source": [
        "## -------------------------------------------------------------------------\n",
        "## -------------------------------------------------------------------------\n",
        "\n",
        "import numpy as np\n",
        "\n",
        "# from bokeh.layouts import gridplot\n",
        "# from bokeh.plotting import figure, show, output_file\n",
        "\n",
        "!pip install missingno\n",
        "# !pip install quilt\n",
        "# !quilt install ResidentMario/missingno_data"
      ],
      "execution_count": 0,
      "outputs": []
    },
    {
      "metadata": {
        "id": "fwS3mh3H2qC-",
        "colab_type": "code",
        "colab": {
          "base_uri": "https://localhost:8080/",
          "height": 402
        },
        "outputId": "aa4ae1f9-752d-4a3e-80a8-4cb4eb941240"
      },
      "cell_type": "code",
      "source": [
        "import missingno as msno\n",
        "import pandas as pd\n",
        "\n",
        "df = pd.DataFrame(table)\n",
        "df.info()\n",
        "print(table)\n",
        "table = table.nyc_collision_factors()\n",
        "table = table.replace(\"*\",np.nan)\n",
        "table = table.replace(\"**\",np.nan)\n",
        "table = table.replace(\"#\",np.nan)\n",
        "table = table.replace(\"~\",np.nan)"
      ],
      "execution_count": 37,
      "outputs": [
        {
          "output_type": "stream",
          "text": [
            "IOPub data rate exceeded.\n",
            "The notebook server will temporarily stop sending output\n",
            "to the client in order to avoid crashing it.\n",
            "To change this limit, set the config variable\n",
            "`--NotebookApp.iopub_data_rate_limit`.\n",
            "\n",
            "Current values:\n",
            "NotebookApp.iopub_data_rate_limit=1000000.0 (bytes/sec)\n",
            "NotebookApp.rate_limit_window=3.0 (secs)\n",
            "\n"
          ],
          "name": "stderr"
        },
        {
          "output_type": "error",
          "ename": "AttributeError",
          "evalue": "ignored",
          "traceback": [
            "\u001b[0;31m\u001b[0m",
            "\u001b[0;31mAttributeError\u001b[0mTraceback (most recent call last)",
            "\u001b[0;32m<ipython-input-37-f272e7a20e52>\u001b[0m in \u001b[0;36m<module>\u001b[0;34m()\u001b[0m\n\u001b[1;32m      5\u001b[0m \u001b[0mdf\u001b[0m\u001b[0;34m.\u001b[0m\u001b[0minfo\u001b[0m\u001b[0;34m(\u001b[0m\u001b[0;34m)\u001b[0m\u001b[0;34m\u001b[0m\u001b[0m\n\u001b[1;32m      6\u001b[0m \u001b[0;32mprint\u001b[0m\u001b[0;34m(\u001b[0m\u001b[0mtable\u001b[0m\u001b[0;34m)\u001b[0m\u001b[0;34m\u001b[0m\u001b[0m\n\u001b[0;32m----> 7\u001b[0;31m \u001b[0mtable\u001b[0m \u001b[0;34m=\u001b[0m \u001b[0mtable\u001b[0m\u001b[0;34m.\u001b[0m\u001b[0mnyc_collision_factors\u001b[0m\u001b[0;34m(\u001b[0m\u001b[0;34m)\u001b[0m\u001b[0;34m\u001b[0m\u001b[0m\n\u001b[0m\u001b[1;32m      8\u001b[0m \u001b[0mtable\u001b[0m \u001b[0;34m=\u001b[0m \u001b[0mtable\u001b[0m\u001b[0;34m.\u001b[0m\u001b[0mreplace\u001b[0m\u001b[0;34m(\u001b[0m\u001b[0;34m\"*\"\u001b[0m\u001b[0;34m,\u001b[0m\u001b[0mnp\u001b[0m\u001b[0;34m.\u001b[0m\u001b[0mnan\u001b[0m\u001b[0;34m)\u001b[0m\u001b[0;34m\u001b[0m\u001b[0m\n\u001b[1;32m      9\u001b[0m \u001b[0mtable\u001b[0m \u001b[0;34m=\u001b[0m \u001b[0mtable\u001b[0m\u001b[0;34m.\u001b[0m\u001b[0mreplace\u001b[0m\u001b[0;34m(\u001b[0m\u001b[0;34m\"**\"\u001b[0m\u001b[0;34m,\u001b[0m\u001b[0mnp\u001b[0m\u001b[0;34m.\u001b[0m\u001b[0mnan\u001b[0m\u001b[0;34m)\u001b[0m\u001b[0;34m\u001b[0m\u001b[0m\n",
            "\u001b[0;31mAttributeError\u001b[0m: 'list' object has no attribute 'nyc_collision_factors'"
          ]
        }
      ]
    },
    {
      "metadata": {
        "id": "vaWQcd-L5phq",
        "colab_type": "code",
        "colab": {
          "base_uri": "https://localhost:8080/",
          "height": 323
        },
        "outputId": "a60e89f0-5ca9-43d0-aefb-7bd39e86487a"
      },
      "cell_type": "code",
      "source": [
        "!NotebookApp.iopub_data_rate_limit=10000000000"
      ],
      "execution_count": 38,
      "outputs": [
        {
          "output_type": "stream",
          "text": [
            "\u001b[32m[I 17:41:13.704 NotebookApp]\u001b[m Serving notebooks from local directory: /content/drive/Colab Notebooks/FintechProject\r\n",
            "\u001b[32m[I 17:41:13.704 NotebookApp]\u001b[m 0 active kernels\r\n",
            "\u001b[32m[I 17:41:13.704 NotebookApp]\u001b[m The Jupyter Notebook is running at:\r\n",
            "\u001b[32m[I 17:41:13.704 NotebookApp]\u001b[m http://localhost:8888/?token=1f50635bd687a4454c21b7b28216cda008719d8a01a137f2\r\n",
            "\u001b[32m[I 17:41:13.704 NotebookApp]\u001b[m Use Control-C to stop this server and shut down all kernels (twice to skip confirmation).\r\n",
            "\u001b[33m[W 17:41:13.705 NotebookApp]\u001b[m No web browser found: could not locate runnable browser.\r\n",
            "[C 17:41:13.705 NotebookApp] \r\n",
            "    \r\n",
            "    Copy/paste this URL into your browser when you connect for the first time,\r\n",
            "    to login with a token:\r\n",
            "        http://localhost:8888/?token=1f50635bd687a4454c21b7b28216cda008719d8a01a137f2\n",
            "^C\n",
            "\u001b[32m[I 17:51:21.349 NotebookApp]\u001b[m interrupted\n",
            "Serving notebooks from local directory: /content/drive/Colab Notebooks/FintechProject\n",
            "0 active kernels\n",
            "The Jupyter Notebook is running at:\n",
            "http://localhost:8888/?token=1f50635bd687a4454c21b7b28216cda008719d8a01a137f2\n",
            "Shutdown this notebook server (y/[n])? resuming operation...\n"
          ],
          "name": "stdout"
        }
      ]
    },
    {
      "metadata": {
        "id": "B8ZgzQIBCpAs",
        "colab_type": "code",
        "colab": {
          "base_uri": "https://localhost:8080/",
          "height": 34
        },
        "outputId": "f94f6004-d51d-4d76-d540-dd04268fcca8"
      },
      "cell_type": "code",
      "source": [
        "!jupyter notebook --generate-config"
      ],
      "execution_count": 41,
      "outputs": [
        {
          "output_type": "stream",
          "text": [
            "Writing default config to: /content/.jupyter/jupyter_notebook_config.py\r\n"
          ],
          "name": "stdout"
        }
      ]
    },
    {
      "metadata": {
        "id": "rbi6vZJuE_oJ",
        "colab_type": "code",
        "colab": {
          "base_uri": "https://localhost:8080/",
          "height": 34
        },
        "outputId": "e3de261c-23a3-4307-cefd-1946094ab618"
      },
      "cell_type": "code",
      "source": [
        "# %cd ../../../..\n",
        "%cd /content/.jupyter/"
      ],
      "execution_count": 46,
      "outputs": [
        {
          "output_type": "stream",
          "text": [
            "/content/.jupyter\n"
          ],
          "name": "stdout"
        }
      ]
    },
    {
      "metadata": {
        "id": "1g7AV8JxFNoD",
        "colab_type": "code",
        "colab": {
          "base_uri": "https://localhost:8080/",
          "height": 34
        },
        "outputId": "7dfbf251-6c98-4887-cb79-e40955fa6e14"
      },
      "cell_type": "code",
      "source": [
        "!ls"
      ],
      "execution_count": 47,
      "outputs": [
        {
          "output_type": "stream",
          "text": [
            "jupyter_notebook_config.py  migrated\r\n"
          ],
          "name": "stdout"
        }
      ]
    },
    {
      "metadata": {
        "id": "eAMtlq86FtFd",
        "colab_type": "code",
        "colab": {
          "base_uri": "https://localhost:8080/",
          "height": 34
        },
        "outputId": "71ab08b6-e678-4fb3-d387-be08d5481a07"
      },
      "cell_type": "code",
      "source": [
        "!jupyter notebook --generate-config\n",
        "open(\"jupyter_notebook_config.py\",'rw')"
      ],
      "execution_count": 0,
      "outputs": [
        {
          "output_type": "stream",
          "text": [
            "Overwrite /content/.jupyter/jupyter_notebook_config.py with default config? [y/N]"
          ],
          "name": "stdout"
        }
      ]
    },
    {
      "metadata": {
        "id": "g5fHhvC6GART",
        "colab_type": "code",
        "colab": {}
      },
      "cell_type": "code",
      "source": [
        ""
      ],
      "execution_count": 0,
      "outputs": []
    }
  ]
}