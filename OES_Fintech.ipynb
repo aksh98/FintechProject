{
  "nbformat": 4,
  "nbformat_minor": 0,
  "metadata": {
    "colab": {
      "name": "OES_Fintech.ipynb",
      "version": "0.3.2",
      "provenance": []
    },
    "kernelspec": {
      "name": "python2",
      "display_name": "Python 2"
    },
    "accelerator": "GPU"
  },
  "cells": [
    {
      "cell_type": "markdown",
      "metadata": {
        "id": "view-in-github",
        "colab_type": "text"
      },
      "source": [
        "[View in Colaboratory](https://colab.research.google.com/github/aksh98/FintechProject/blob/master/OES_Fintech.ipynb)"
      ]
    },
    {
      "metadata": {
        "id": "DAiBJ-T4WC7r",
        "colab_type": "code",
        "colab": {
          "base_uri": "https://localhost:8080/",
          "height": 34
        },
        "outputId": "65bdae91-ef27-4a19-c53b-9b6a25a277a1"
      },
      "cell_type": "code",
      "source": [
        "import tensorflow as tf\n",
        "device_name = tf.test.gpu_device_name()\n",
        "if device_name != '/device:GPU:0':\n",
        "  raise SystemError('GPU device not found')\n",
        "print('Found GPU at: {}'.format(device_name))"
      ],
      "execution_count": 1,
      "outputs": [
        {
          "output_type": "stream",
          "text": [
            "Found GPU at: /device:GPU:0\n"
          ],
          "name": "stdout"
        }
      ]
    },
    {
      "metadata": {
        "id": "ZutFgSt7WUj9",
        "colab_type": "code",
        "colab": {
          "base_uri": "https://localhost:8080/",
          "height": 105
        },
        "outputId": "f6c3f4c5-425b-4f36-ef78-fd3707e71788"
      },
      "cell_type": "code",
      "source": [
        "!apt-get install -y -qq software-properties-common python-software-properties module-init-tools\n",
        "!add-apt-repository -y ppa:alessandro-strada/ppa 2>&1 > /dev/null\n",
        "!apt-get update -qq 2>&1 > /dev/null\n",
        "!apt-get -y install -qq google-drive-ocamlfuse fuse\n",
        "from google.colab import auth\n",
        "auth.authenticate_user()\n",
        "from oauth2client.client import GoogleCredentials\n",
        "creds = GoogleCredentials.get_application_default()\n",
        "import getpass\n",
        "!google-drive-ocamlfuse -headless -id={creds.client_id} -secret={creds.client_secret} < /dev/null 2>&1 | grep URL\n",
        "vcode = getpass.getpass()\n",
        "!echo {vcode} | google-drive-ocamlfuse -headless -id={creds.client_id} -secret={creds.client_secret}"
      ],
      "execution_count": 2,
      "outputs": [
        {
          "output_type": "stream",
          "text": [
            "Please, open the following URL in a web browser: https://accounts.google.com/o/oauth2/auth?client_id=32555940559.apps.googleusercontent.com&redirect_uri=urn%3Aietf%3Awg%3Aoauth%3A2.0%3Aoob&scope=https%3A%2F%2Fwww.googleapis.com%2Fauth%2Fdrive&response_type=code&access_type=offline&approval_prompt=force\r\n",
            "··········\n",
            "Please, open the following URL in a web browser: https://accounts.google.com/o/oauth2/auth?client_id=32555940559.apps.googleusercontent.com&redirect_uri=urn%3Aietf%3Awg%3Aoauth%3A2.0%3Aoob&scope=https%3A%2F%2Fwww.googleapis.com%2Fauth%2Fdrive&response_type=code&access_type=offline&approval_prompt=force\n",
            "Please enter the verification code: Access token retrieved correctly.\n"
          ],
          "name": "stdout"
        }
      ]
    },
    {
      "metadata": {
        "id": "QmwwUUjTXxus",
        "colab_type": "code",
        "colab": {}
      },
      "cell_type": "code",
      "source": [
        "!mkdir -p drive\n",
        "!google-drive-ocamlfuse drive"
      ],
      "execution_count": 0,
      "outputs": []
    },
    {
      "metadata": {
        "id": "Kt07LDPmX5gg",
        "colab_type": "code",
        "colab": {}
      },
      "cell_type": "code",
      "source": [
        "from os import path\n",
        "from wheel.pep425tags import get_abbr_impl, get_impl_ver, get_abi_tag\n",
        "platform = '{}{}-{}'.format(get_abbr_impl(), get_impl_ver(), get_abi_tag())\n",
        "\n",
        "accelerator = 'cu80' if path.exists('/opt/bin/nvidia-smi') else 'cpu'"
      ],
      "execution_count": 0,
      "outputs": []
    },
    {
      "metadata": {
        "id": "wXiLMsx4X9Nf",
        "colab_type": "code",
        "colab": {
          "base_uri": "https://localhost:8080/",
          "height": 68
        },
        "outputId": "8f44ec7c-ce41-4f2f-edbb-6655f110ea65"
      },
      "cell_type": "code",
      "source": [
        "%cd drive\n",
        "%cd Colab Notebooks/FintechProject\n",
        "# !ls -l | wc -l\n",
        "# %cd .\n",
        "!ls"
      ],
      "execution_count": 5,
      "outputs": [
        {
          "output_type": "stream",
          "text": [
            "/content/drive\n",
            "/content/drive/Colab Notebooks/FintechProject\n",
            "Fintech_16may.ipynb  OES_00_17\tOES_2_00_17  OES_Fintech.ipynb\n"
          ],
          "name": "stdout"
        }
      ]
    },
    {
      "metadata": {
        "id": "rQTgMhxxZcHy",
        "colab_type": "code",
        "colab": {
          "base_uri": "https://localhost:8080/",
          "height": 122
        },
        "outputId": "c8c43f7b-632e-4751-e909-d2a94bd33324"
      },
      "cell_type": "code",
      "source": [
        "!pip install xlrd\n",
        "!pip install xlwt\n",
        "import xlrd\n",
        "import xlwt\n",
        "import os\n"
      ],
      "execution_count": 6,
      "outputs": [
        {
          "output_type": "stream",
          "text": [
            "Collecting xlrd\n",
            "\u001b[?25l  Downloading https://files.pythonhosted.org/packages/07/e6/e95c4eec6221bfd8528bcc4ea252a850bffcc4be88ebc367e23a1a84b0bb/xlrd-1.1.0-py2.py3-none-any.whl (108kB)\n",
            "\u001b[K    100% |████████████████████████████████| 112kB 4.1MB/s \n",
            "\u001b[?25hInstalling collected packages: xlrd\n",
            "Successfully installed xlrd-1.1.0\n"
          ],
          "name": "stdout"
        }
      ]
    },
    {
      "metadata": {
        "id": "NKAgIut5aeLN",
        "colab_type": "code",
        "colab": {
          "base_uri": "https://localhost:8080/",
          "height": 527
        },
        "outputId": "fbf7d4e7-071c-47c1-eb49-100a0ba87c25"
      },
      "cell_type": "code",
      "source": [
        "## CODE\n",
        "import re\n",
        "\n",
        "path = \"/content/drive/Colab Notebooks/FintechProject/OES_2_00_17/\"\n",
        "files = os.listdir(path)\n",
        "table = []\n",
        "flag = 0\n",
        "for i in files:\n",
        "  \n",
        "  if(i == \".DS_Store\" or i == \"nat4d_2002_dl.xls\" or i == \"nat2d_sic_2000_dl.xls\" or i == \"nat3d_may2003_dl.xls\" or i == \"nat2d_sic_2001.xls\"):\n",
        "    continue\n",
        "  else:\n",
        "    \n",
        "      \n",
        "    # Open workbook --- \n",
        "    path_sh = str(path)+str(i)\n",
        "\n",
        "    workbook = xlrd.open_workbook(path_sh)\n",
        "    worksheet = workbook.sheet_by_index(0)\n",
        "        \n",
        "    num_rows = worksheet.nrows\n",
        "    num_cols = worksheet.ncols\n",
        "    print(i,\"           Size of the sheet: \",num_rows,num_cols)\n",
        "\n",
        "# ------ extracting year from the data-------------\n",
        "    for s in i.split(\"_\"):\n",
        "      m = re.search(r'\\d+$', s)\n",
        "      if(m):\n",
        "        yr = m.group()\n",
        "      \n",
        "    print(yr)\n",
        "    \n",
        "      \n",
        "    if(num_cols == 25):\n",
        "      for x in range(1,num_rows):\n",
        "        record = []\n",
        "        for y in range(num_cols):\n",
        "          if(y == 0):\n",
        "            record.append(yr)\n",
        "          elif(y != 3):\n",
        "            record.append(worksheet.cell(x,y-1).value)\n",
        "        table.append(record)\n",
        "\n",
        "    else: \n",
        "      \n",
        "      if(flag == 0):\n",
        "        record = []\n",
        "        for j in range(num_cols+1):\n",
        "          if(j==0):\n",
        "            record.append('year')\n",
        "          else:\n",
        "            record.append(worksheet.cell(0,j-1).value)\n",
        "        table.append(record)\n",
        "        flag = 1\n",
        "      for x in range(1,num_rows):\n",
        "        record = []\n",
        "        for y in range(num_cols+1):\n",
        "          if(y == 0):\n",
        "            record.append(yr)\n",
        "          else:\n",
        "            record.append(worksheet.cell(x,y-1).value)\n",
        "        table.append(record)\n",
        "        \n",
        "#     print(len(table),len(table[1]) \n",
        "    "
      ],
      "execution_count": 39,
      "outputs": [
        {
          "output_type": "stream",
          "text": [
            "('natsector_M2004_dl.xls', '           Size of the sheet: ', 9165, 24)\n",
            "2004\n",
            "('natsector_M2005_dl.xls', '           Size of the sheet: ', 8940, 24)\n",
            "2005\n",
            "('natsector_M2006_dl.xls', '           Size of the sheet: ', 8755, 24)\n",
            "2006\n",
            "('natsector_M2008_dl.xls', '           Size of the sheet: ', 8662, 24)\n",
            "2008\n",
            "('natsector_M2009_dl.xls', '           Size of the sheet: ', 8534, 24)\n",
            "2009\n",
            "('natsector_M2010_dl.xls', '           Size of the sheet: ', 8439, 24)\n",
            "2010\n",
            "('natsector_M2011_dl.xls', '           Size of the sheet: ', 8438, 25)\n",
            "2011\n",
            "('natsector_M2012_dl.xls', '           Size of the sheet: ', 15833, 24)\n",
            "2012\n",
            "('natsector_M2013_dl.xls', '           Size of the sheet: ', 15922, 24)\n",
            "2013\n",
            "('natsector_M2014_dl.xlsx', '           Size of the sheet: ', 15954, 24)\n",
            "2014\n",
            "('natsector_M2015_dl.xlsx', '           Size of the sheet: ', 16101, 24)\n",
            "2015\n",
            "('natsector_M2016_dl.xlsx', '           Size of the sheet: ', 16201, 24)\n",
            "2016\n",
            "('natsector_M2017_dl.xlsx', '           Size of the sheet: ', 16156, 24)\n",
            "2017\n",
            "('natsector_M2011_dl.xlsx', '           Size of the sheet: ', 8438, 24)\n",
            "2011\n",
            "('natsector_M2007_dl.xls', '           Size of the sheet: ', 8736, 24)\n",
            "2007\n"
          ],
          "name": "stdout"
        }
      ]
    },
    {
      "metadata": {
        "id": "zRATl1-0-kWU",
        "colab_type": "code",
        "colab": {
          "base_uri": "https://localhost:8080/",
          "height": 88
        },
        "outputId": "f61ad376-d308-41d4-ea59-1d1ff3a2379f"
      },
      "cell_type": "code",
      "source": [
        "print(len(table),len(table[2222]))\n",
        "print(table[0])\n",
        "print(table[200])"
      ],
      "execution_count": 41,
      "outputs": [
        {
          "output_type": "stream",
          "text": [
            "(174260, 25)\n",
            "['year', u'NAICS', u'NAICS_TITLE', u'OCC_CODE', u'OCC_TITLE', u'GROUP', u'TOT_EMP', u'EMP_PRSE', u'PCT_TOTAL', u'PCT_RPT', u'H_MEAN', u'A_MEAN', u'MEAN_PRSE', u'H_PCT10', u'H_PCT25', u'H_MEDIAN', u'H_PCT75', u'H_PCT90', u'A_PCT10', u'A_PCT25', u'A_MEDIAN', u'A_PCT75', u'A_PCT90', u'ANNUAL', u'HOURLY']\n",
            "['2004', u'21', u'Mining', u'15-0000', u'Computer and mathematical occupations', u'major', u'5890', u'12.5', u'1.16', u'7.28', u'31.23', u'64950', u'2.0', u'16.92', u'23.02', u'30.18', u'38.97', u'47.44', u'35180', u'47880', u'62780', u'81060', u'98670', u'', u'']\n"
          ],
          "name": "stdout"
        }
      ]
    },
    {
      "metadata": {
        "id": "536Hn6jNABoh",
        "colab_type": "code",
        "colab": {}
      },
      "cell_type": "code",
      "source": [
        "import numpy\n",
        "\n",
        "npa = numpy.asarray(table)\n",
        "\n",
        "numpy.savetxt(\"foo.csv\", npa, delimiter=\",\",fmt='%s')\n"
      ],
      "execution_count": 0,
      "outputs": []
    },
    {
      "metadata": {
        "id": "I9h_4wyVlG7B",
        "colab_type": "code",
        "colab": {}
      },
      "cell_type": "code",
      "source": [
        "# READ THE SHEET AND \n",
        "# ---- store it in a table- --------\n",
        "\n",
        "path_sh = str(path)+str('natsector_M2017_dl.xlsx')\n",
        "\n",
        "workbook = xlrd.open_workbook(path_sh)\n",
        "worksheet = workbook.sheet_by_index(0)\n",
        "table = []\n",
        "num_rows = worksheet.nrows \n",
        "num_cols = worksheet.ncols\n",
        "\n",
        "\n",
        "for x in range(num_rows):\n",
        "  record = []\n",
        "  for y in range(num_cols):      \n",
        "    record.append(worksheet.cell(x,y).value)\n",
        "#   record.append('0')\n",
        "  table.append(record)\n",
        "  \n",
        "\n",
        "\n",
        "# *  = indicates that a wage estimate is not available    \n",
        "# # = indicates a wage that is equal to or greater than $100.00 per hour or $208,000 per year    \n",
        "# ** = indicates that an employment estimate is not available\n",
        "# ~ = indicates that the percent of establishments reporting the occupation is less than 0.5%\n",
        "\n",
        "\n",
        "# --------^^^-------\n",
        "# for x in range(num_rows):\n",
        "#   record = []\n",
        "#   for y in range(num_cols):      \n",
        "#     if(worksheet.cell(x,y).value == '*'):\n",
        "#       record.append('')\n",
        "#     if(worksheet.cell(x,y).value == '**'):\n",
        "#       record.append('')\n",
        "#     if(worksheet.cell(x,y).value == '#' and y > 15 and y < 21): #a\n",
        "#       record.append('')\n",
        "#     if(worksheet.cell(x,y).value == '#' and y > 10 and y < 16): #h\n",
        "#       record.append('')\n",
        "#     if(worksheet.cell(x,y).value == '~'):\n",
        "#       record.append('')\n",
        "# # --------^^^-------\n",
        "#     else:   \n",
        "#       record.append(worksheet.cell(x,y).value)\n",
        "  \n",
        "#   record.append('0')\n",
        "#   table.append(record)\n",
        "  \n",
        "  "
      ],
      "execution_count": 0,
      "outputs": []
    },
    {
      "metadata": {
        "id": "tZDSqQVS_LaL",
        "colab_type": "code",
        "colab": {
          "base_uri": "https://localhost:8080/",
          "height": 105
        },
        "outputId": "3a893283-ee0d-49dd-c8fc-ecaf4f79b59b"
      },
      "cell_type": "code",
      "source": [
        "for i in range(0,2):\n",
        "  print(table[i])\n",
        "print(int(table[2][0])/10000 == int(table[5][0])/10000)\n",
        "print(len(table),len(table[0]))"
      ],
      "execution_count": 36,
      "outputs": [
        {
          "output_type": "stream",
          "text": [
            "[u'NAICS', u'NAICS_TITLE', u'OCC_CODE', u'OCC_TITLE', u'OCC_GROUP', u'TOT_EMP', u'EMP_PRSE', u'PCT_TOTAL', u'PCT_RPT', u'H_MEAN', u'A_MEAN', u'MEAN_PRSE', u'H_PCT10', u'H_PCT25', u'H_MEDIAN', u'H_PCT75', u'H_PCT90', u'A_PCT10', u'A_PCT25', u'A_MEDIAN', u'A_PCT75', u'A_PCT90', u'ANNUAL', u'HOURLY']\n",
            "[u'11', u'Agriculture, Forestry, Fishing and Hunting', u'00-0000', u'Industry Total', u'total', 424020.0, 1.1, 100.0, 100.0, 14.89, 30960.0, 0.7, 10.13, 10.57, 11.77, 16.12, 23.35, 21070.0, 21980.0, 24480.0, 33530.0, 48570.0, u'', u'']\n",
            "True\n",
            "(16156, 24)\n"
          ],
          "name": "stdout"
        }
      ]
    },
    {
      "metadata": {
        "id": "1A8V7UQp-VCS",
        "colab_type": "code",
        "colab": {}
      },
      "cell_type": "code",
      "source": [
        "# reduce by: 10000\n",
        "naic = 10000\n",
        "for x in range(1,num_rows):\n",
        "  for i in range(x,num_rows):\n",
        "    \n",
        "    if(table[x][22] == '0'):\n",
        "      if(int(table[x][0])/naic == int(table[i][0])/naic):\n",
        "        if(table[x][2] == table[i][2]):\n",
        "          table[x][4] = int(table[x][4]) + int(table[i][4])\n",
        "          for j in range(4,num_cols-1):\n",
        "            table[x][j] = (int(table[x][j])*int(table[x][22]) + int(table[i][5]))/(int(table[x][22])+1)\n",
        "            table[x][22] = int(table[x][22]) + 1\n",
        "            "
      ],
      "execution_count": 0,
      "outputs": []
    },
    {
      "metadata": {
        "id": "3sV9BE3lKscc",
        "colab_type": "code",
        "colab": {}
      },
      "cell_type": "code",
      "source": [
        "## -------------------------------------------------------------------------\n",
        "## -------------------------------------------------------------------------\n",
        "\n",
        "import numpy as np\n",
        "\n",
        "# from bokeh.layouts import gridplot\n",
        "# from bokeh.plotting import figure, show, output_file\n",
        "\n",
        "!pip install missingno\n",
        "# !pip install quilt\n",
        "# !quilt install ResidentMario/missingno_data"
      ],
      "execution_count": 0,
      "outputs": []
    },
    {
      "metadata": {
        "id": "fwS3mh3H2qC-",
        "colab_type": "code",
        "colab": {
          "base_uri": "https://localhost:8080/",
          "height": 402
        },
        "outputId": "aa4ae1f9-752d-4a3e-80a8-4cb4eb941240"
      },
      "cell_type": "code",
      "source": [
        "import missingno as msno\n",
        "import pandas as pd\n",
        "\n",
        "df = pd.DataFrame(table)\n",
        "df.info()\n",
        "print(table)\n",
        "table = table.nyc_collision_factors()\n",
        "table = table.replace(\"*\",np.nan)\n",
        "table = table.replace(\"**\",np.nan)\n",
        "table = table.replace(\"#\",np.nan)\n",
        "table = table.replace(\"~\",np.nan)"
      ],
      "execution_count": 37,
      "outputs": [
        {
          "output_type": "stream",
          "text": [
            "IOPub data rate exceeded.\n",
            "The notebook server will temporarily stop sending output\n",
            "to the client in order to avoid crashing it.\n",
            "To change this limit, set the config variable\n",
            "`--NotebookApp.iopub_data_rate_limit`.\n",
            "\n",
            "Current values:\n",
            "NotebookApp.iopub_data_rate_limit=1000000.0 (bytes/sec)\n",
            "NotebookApp.rate_limit_window=3.0 (secs)\n",
            "\n"
          ],
          "name": "stderr"
        },
        {
          "output_type": "error",
          "ename": "AttributeError",
          "evalue": "ignored",
          "traceback": [
            "\u001b[0;31m\u001b[0m",
            "\u001b[0;31mAttributeError\u001b[0mTraceback (most recent call last)",
            "\u001b[0;32m<ipython-input-37-f272e7a20e52>\u001b[0m in \u001b[0;36m<module>\u001b[0;34m()\u001b[0m\n\u001b[1;32m      5\u001b[0m \u001b[0mdf\u001b[0m\u001b[0;34m.\u001b[0m\u001b[0minfo\u001b[0m\u001b[0;34m(\u001b[0m\u001b[0;34m)\u001b[0m\u001b[0;34m\u001b[0m\u001b[0m\n\u001b[1;32m      6\u001b[0m \u001b[0;32mprint\u001b[0m\u001b[0;34m(\u001b[0m\u001b[0mtable\u001b[0m\u001b[0;34m)\u001b[0m\u001b[0;34m\u001b[0m\u001b[0m\n\u001b[0;32m----> 7\u001b[0;31m \u001b[0mtable\u001b[0m \u001b[0;34m=\u001b[0m \u001b[0mtable\u001b[0m\u001b[0;34m.\u001b[0m\u001b[0mnyc_collision_factors\u001b[0m\u001b[0;34m(\u001b[0m\u001b[0;34m)\u001b[0m\u001b[0;34m\u001b[0m\u001b[0m\n\u001b[0m\u001b[1;32m      8\u001b[0m \u001b[0mtable\u001b[0m \u001b[0;34m=\u001b[0m \u001b[0mtable\u001b[0m\u001b[0;34m.\u001b[0m\u001b[0mreplace\u001b[0m\u001b[0;34m(\u001b[0m\u001b[0;34m\"*\"\u001b[0m\u001b[0;34m,\u001b[0m\u001b[0mnp\u001b[0m\u001b[0;34m.\u001b[0m\u001b[0mnan\u001b[0m\u001b[0;34m)\u001b[0m\u001b[0;34m\u001b[0m\u001b[0m\n\u001b[1;32m      9\u001b[0m \u001b[0mtable\u001b[0m \u001b[0;34m=\u001b[0m \u001b[0mtable\u001b[0m\u001b[0;34m.\u001b[0m\u001b[0mreplace\u001b[0m\u001b[0;34m(\u001b[0m\u001b[0;34m\"**\"\u001b[0m\u001b[0;34m,\u001b[0m\u001b[0mnp\u001b[0m\u001b[0;34m.\u001b[0m\u001b[0mnan\u001b[0m\u001b[0;34m)\u001b[0m\u001b[0;34m\u001b[0m\u001b[0m\n",
            "\u001b[0;31mAttributeError\u001b[0m: 'list' object has no attribute 'nyc_collision_factors'"
          ]
        }
      ]
    },
    {
      "metadata": {
        "id": "vaWQcd-L5phq",
        "colab_type": "code",
        "colab": {
          "base_uri": "https://localhost:8080/",
          "height": 323
        },
        "outputId": "a60e89f0-5ca9-43d0-aefb-7bd39e86487a"
      },
      "cell_type": "code",
      "source": [
        "!NotebookApp.iopub_data_rate_limit=10000000000"
      ],
      "execution_count": 38,
      "outputs": [
        {
          "output_type": "stream",
          "text": [
            "\u001b[32m[I 17:41:13.704 NotebookApp]\u001b[m Serving notebooks from local directory: /content/drive/Colab Notebooks/FintechProject\r\n",
            "\u001b[32m[I 17:41:13.704 NotebookApp]\u001b[m 0 active kernels\r\n",
            "\u001b[32m[I 17:41:13.704 NotebookApp]\u001b[m The Jupyter Notebook is running at:\r\n",
            "\u001b[32m[I 17:41:13.704 NotebookApp]\u001b[m http://localhost:8888/?token=1f50635bd687a4454c21b7b28216cda008719d8a01a137f2\r\n",
            "\u001b[32m[I 17:41:13.704 NotebookApp]\u001b[m Use Control-C to stop this server and shut down all kernels (twice to skip confirmation).\r\n",
            "\u001b[33m[W 17:41:13.705 NotebookApp]\u001b[m No web browser found: could not locate runnable browser.\r\n",
            "[C 17:41:13.705 NotebookApp] \r\n",
            "    \r\n",
            "    Copy/paste this URL into your browser when you connect for the first time,\r\n",
            "    to login with a token:\r\n",
            "        http://localhost:8888/?token=1f50635bd687a4454c21b7b28216cda008719d8a01a137f2\n",
            "^C\n",
            "\u001b[32m[I 17:51:21.349 NotebookApp]\u001b[m interrupted\n",
            "Serving notebooks from local directory: /content/drive/Colab Notebooks/FintechProject\n",
            "0 active kernels\n",
            "The Jupyter Notebook is running at:\n",
            "http://localhost:8888/?token=1f50635bd687a4454c21b7b28216cda008719d8a01a137f2\n",
            "Shutdown this notebook server (y/[n])? resuming operation...\n"
          ],
          "name": "stdout"
        }
      ]
    },
    {
      "metadata": {
        "id": "B8ZgzQIBCpAs",
        "colab_type": "code",
        "colab": {
          "base_uri": "https://localhost:8080/",
          "height": 34
        },
        "outputId": "f94f6004-d51d-4d76-d540-dd04268fcca8"
      },
      "cell_type": "code",
      "source": [
        "!jupyter notebook --generate-config"
      ],
      "execution_count": 41,
      "outputs": [
        {
          "output_type": "stream",
          "text": [
            "Writing default config to: /content/.jupyter/jupyter_notebook_config.py\r\n"
          ],
          "name": "stdout"
        }
      ]
    },
    {
      "metadata": {
        "id": "rbi6vZJuE_oJ",
        "colab_type": "code",
        "colab": {
          "base_uri": "https://localhost:8080/",
          "height": 34
        },
        "outputId": "e3de261c-23a3-4307-cefd-1946094ab618"
      },
      "cell_type": "code",
      "source": [
        "# %cd ../../../..\n",
        "%cd /content/.jupyter/"
      ],
      "execution_count": 46,
      "outputs": [
        {
          "output_type": "stream",
          "text": [
            "/content/.jupyter\n"
          ],
          "name": "stdout"
        }
      ]
    },
    {
      "metadata": {
        "id": "1g7AV8JxFNoD",
        "colab_type": "code",
        "colab": {
          "base_uri": "https://localhost:8080/",
          "height": 34
        },
        "outputId": "7dfbf251-6c98-4887-cb79-e40955fa6e14"
      },
      "cell_type": "code",
      "source": [
        "!ls"
      ],
      "execution_count": 47,
      "outputs": [
        {
          "output_type": "stream",
          "text": [
            "jupyter_notebook_config.py  migrated\r\n"
          ],
          "name": "stdout"
        }
      ]
    },
    {
      "metadata": {
        "id": "eAMtlq86FtFd",
        "colab_type": "code",
        "colab": {
          "base_uri": "https://localhost:8080/",
          "height": 34
        },
        "outputId": "7aba47f6-2ae9-402a-f14f-0c6b4a98921f"
      },
      "cell_type": "code",
      "source": [
        "!jupyter notebook --generate-config\n",
        "open(\"jupyter_notebook_config.py\",'rw')\n",
        "raw_input('y')"
      ],
      "execution_count": 0,
      "outputs": [
        {
          "output_type": "stream",
          "text": [
            "Overwrite /content/.jupyter/jupyter_notebook_config.py with default config? [y/N]"
          ],
          "name": "stdout"
        }
      ]
    },
    {
      "metadata": {
        "id": "g5fHhvC6GART",
        "colab_type": "code",
        "colab": {}
      },
      "cell_type": "code",
      "source": [
        ""
      ],
      "execution_count": 0,
      "outputs": []
    }
  ]
}