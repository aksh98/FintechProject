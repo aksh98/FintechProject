{
  "nbformat": 4,
  "nbformat_minor": 0,
  "metadata": {
    "colab": {
      "name": "DataExtraction_GoogleTrends.ipynb",
      "version": "0.3.2",
      "provenance": [],
      "collapsed_sections": [],
      "include_colab_link": true
    },
    "kernelspec": {
      "name": "python3",
      "display_name": "Python 3"
    }
  },
  "cells": [
    {
      "cell_type": "markdown",
      "metadata": {
        "id": "view-in-github",
        "colab_type": "text"
      },
      "source": [
        "[View in Colaboratory](https://colab.research.google.com/github/aksh98/FintechProject/blob/master/DataExtraction_GoogleTrends.ipynb)"
      ]
    },
    {
      "metadata": {
        "id": "DOSOzp_rEBw6",
        "colab_type": "code",
        "colab": {
          "base_uri": "https://localhost:8080/",
          "height": 221
        },
        "outputId": "a73d0433-a241-4303-8600-1643a53f7126"
      },
      "cell_type": "code",
      "source": [
        "!pip install pytrends\n",
        "!pip install openpyxl"
      ],
      "execution_count": 4,
      "outputs": [
        {
          "output_type": "stream",
          "text": [
            "Requirement already satisfied: pytrends in /usr/local/lib/python3.6/dist-packages (4.4.0)\n",
            "Requirement already satisfied: pandas in /usr/local/lib/python3.6/dist-packages (from pytrends) (0.22.0)\n",
            "Requirement already satisfied: requests in /usr/local/lib/python3.6/dist-packages (from pytrends) (2.18.4)\n",
            "Requirement already satisfied: lxml in /usr/local/lib/python3.6/dist-packages (from pytrends) (4.2.5)\n",
            "Requirement already satisfied: numpy>=1.9.0 in /usr/local/lib/python3.6/dist-packages (from pandas->pytrends) (1.14.5)\n",
            "Requirement already satisfied: python-dateutil>=2 in /usr/local/lib/python3.6/dist-packages (from pandas->pytrends) (2.5.3)\n",
            "Requirement already satisfied: pytz>=2011k in /usr/local/lib/python3.6/dist-packages (from pandas->pytrends) (2018.5)\n",
            "Requirement already satisfied: urllib3<1.23,>=1.21.1 in /usr/local/lib/python3.6/dist-packages (from requests->pytrends) (1.22)\n",
            "Requirement already satisfied: idna<2.7,>=2.5 in /usr/local/lib/python3.6/dist-packages (from requests->pytrends) (2.6)\n",
            "Requirement already satisfied: certifi>=2017.4.17 in /usr/local/lib/python3.6/dist-packages (from requests->pytrends) (2018.8.24)\n",
            "Requirement already satisfied: chardet<3.1.0,>=3.0.2 in /usr/local/lib/python3.6/dist-packages (from requests->pytrends) (3.0.4)\n",
            "Requirement already satisfied: six>=1.5 in /usr/local/lib/python3.6/dist-packages (from python-dateutil>=2->pandas->pytrends) (1.11.0)\n"
          ],
          "name": "stdout"
        }
      ]
    },
    {
      "metadata": {
        "id": "NiO3l3QhGD7b",
        "colab_type": "code",
        "colab": {}
      },
      "cell_type": "code",
      "source": [
        "# Read this for more: https://github.com/GeneralMills/pytrends\n",
        "\n",
        "from pytrends.request import TrendReq\n",
        "pytrend = TrendReq()\n"
      ],
      "execution_count": 0,
      "outputs": []
    },
    {
      "metadata": {
        "id": "Q11JkjW9SHyN",
        "colab_type": "text"
      },
      "cell_type": "markdown",
      "source": [
        "**kw_list** - list of keywords to be searched \n",
        "\n",
        "**build_payload**: Create payload and capture tokens\n",
        "\n",
        "Parameters: \n",
        "- cat = category\n",
        "- gprop = property \n",
        "- geo = Geographical location \n",
        "- timeframe, format options : \n",
        "  -  'today 5-y' (today to 5 years ago) \n",
        "  - '2016-12-14 2017-01-25' (date 1 to date 2)\n",
        "\n",
        "\n",
        "## This cell is the basic commands  -- Just to get an idea of how this works \n"
      ]
    },
    {
      "metadata": {
        "id": "fGjDPo_-JAvJ",
        "colab_type": "code",
        "colab": {
          "base_uri": "https://localhost:8080/",
          "height": 187
        },
        "outputId": "4f1d9d02-5bff-44c0-c1ea-93764bdfd544"
      },
      "cell_type": "code",
      "source": [
        "###################################################################\n",
        "\n",
        "# list of keywords\n",
        "kw_list = [\"Unemployment\",\"Jobs\"]\n",
        "\n",
        "pytrend.build_payload(kw_list, cat=0, timeframe='all', geo='US', gprop='')\n",
        "\n",
        "data = pytrend.interest_by_region(resolution='CITY') #metro level data or -'DMA', 'CITY', 'REGION'\n",
        "print(data.head())\n",
        "print('\\n Shape: ',data.shape,'\\n')\n",
        "\n",
        "###################################################################"
      ],
      "execution_count": 48,
      "outputs": [
        {
          "output_type": "stream",
          "text": [
            "             Unemployment  Jobs\n",
            "geoName                        \n",
            "Albany                  0     0\n",
            "Albuquerque             0     0\n",
            "Alexandria              0     0\n",
            "Atlanta                 9    91\n",
            "Augusta                 0     0\n",
            "\n",
            " Shape:  (78, 2) \n",
            "\n"
          ],
          "name": "stdout"
        }
      ]
    },
    {
      "metadata": {
        "id": "YRiHavsnxhLw",
        "colab_type": "text"
      },
      "cell_type": "markdown",
      "source": [
        "## This is the actual code !!"
      ]
    },
    {
      "metadata": {
        "id": "E_yH6cOYOYOg",
        "colab_type": "code",
        "colab": {
          "base_uri": "https://localhost:8080/",
          "height": 1343
        },
        "outputId": "83fada26-eb2d-4c61-9288-faf6411fb25f"
      },
      "cell_type": "code",
      "source": [
        "###################################################################\n",
        "\n",
        "from datetime import datetime, timedelta\n",
        "import pandas as pd\n",
        "kw_list = [\"Unemployment\",\"Jobs\"] #can increase/decrease the list size \n",
        "num_keywords = 2 #change this if you increase/decrease the list size\n",
        "\n",
        "#initialize date\n",
        "year = 2004\n",
        "month = 1\n",
        "date = 1\n",
        "new_date = datetime(year, month, date).date()\n",
        "\n",
        "# output excel sheet\n",
        "writer = pd.ExcelWriter('output.xlsx')\n",
        "col = 1\n",
        "\n",
        "while(1):\n",
        "  \n",
        "  old_date = new_date  \n",
        "  if(int(month/12) > 0):\n",
        "    year = year+1\n",
        "  month = (month+1)%13\n",
        "  if(month==0):\n",
        "    month += 1\n",
        "  new_date = datetime(year,month,date).date()\n",
        "  \n",
        "  # Year and Month till you need the output - Change this to 2018 if you need it till present date\n",
        "  \n",
        "  if(year >= 2004 and month == 8 ):\n",
        "    break\n",
        "  \n",
        "  timeframe = old_date.strftime('%Y-%m-%d')+' '+ new_date.strftime('%Y-%m-%d')\n",
        "  print(\"DATE:\",timeframe)\n",
        "\n",
        "  pytrend.build_payload(kw_list, cat=0, timeframe = timeframe, geo='US', gprop='')\n",
        "\n",
        "  # Interest by region\n",
        "  data = pytrend.interest_by_region(resolution='DMA') # metro level data ( you can change 'DMA' to 'CITY', 'REGION' ) \n",
        "  print(data.head())\n",
        "  print(\"\\n\\n\")\n",
        "\n",
        "  ## WRITE THE DATA IN AN EXCEL SHEET\n",
        "  \n",
        "  # Here I changed the column name from Unemployment to the month date - to distinguish between columns of different month.\n",
        "  data = data.rename(columns={'Unemployment': old_date.strftime('%Y-%m-%d')+' Unemp','Jobs': old_date.strftime('%Y-%m-%d')+' Jobs'})\n",
        "\n",
        "  # uncomment the next line if only one keyword is there.\n",
        "  # data = data.rename(columns={'Unemployment': old_date.strftime('%Y-%m-%d')})\n",
        "  \n",
        "  print(\"List of columns:\",list(data.columns.values))\n",
        "  print(\"Data size:\", data.shape)\n",
        "  if(col==1):\n",
        "      data.to_excel(writer,'sheet1',index=True ,startcol = col-1)\n",
        "  data.to_excel(writer,'sheet1',index=False ,startcol = col)\n",
        "  col = col + num_keywords\n",
        "writer.save()  \n",
        "  "
      ],
      "execution_count": 49,
      "outputs": [
        {
          "output_type": "stream",
          "text": [
            "DATE: 2004-01-01 2004-02-01\n",
            "                            Unemployment  Jobs\n",
            "geoName                                       \n",
            "Abilene-Sweetwater TX                  0   100\n",
            "Albany GA                             47    53\n",
            "Albany-Schenectady-Troy NY             9    91\n",
            "Albuquerque-Santa Fe NM                3    97\n",
            "Alexandria LA                          0   100\n",
            "\n",
            "\n",
            "\n",
            "List of columns: ['2004-01-01 Unemp', '2004-01-01 Jobs']\n",
            "(210, 2)\n",
            "DATE: 2004-02-01 2004-03-01\n",
            "                            Unemployment  Jobs\n",
            "geoName                                       \n",
            "Abilene-Sweetwater TX                  0   100\n",
            "Albany GA                              0   100\n",
            "Albany-Schenectady-Troy NY            10    90\n",
            "Albuquerque-Santa Fe NM                3    97\n",
            "Alexandria LA                          0   100\n",
            "\n",
            "\n",
            "\n",
            "List of columns: ['2004-02-01 Unemp', '2004-02-01 Jobs']\n",
            "(210, 2)\n",
            "DATE: 2004-03-01 2004-04-01\n",
            "                            Unemployment  Jobs\n",
            "geoName                                       \n",
            "Abilene-Sweetwater TX                  0   100\n",
            "Albany GA                              0   100\n",
            "Albany-Schenectady-Troy NY            16    84\n",
            "Albuquerque-Santa Fe NM                5    95\n",
            "Alexandria LA                          0   100\n",
            "\n",
            "\n",
            "\n",
            "List of columns: ['2004-03-01 Unemp', '2004-03-01 Jobs']\n",
            "(210, 2)\n",
            "DATE: 2004-04-01 2004-05-01\n",
            "                            Unemployment  Jobs\n",
            "geoName                                       \n",
            "Abilene-Sweetwater TX                  0   100\n",
            "Albany GA                             10    90\n",
            "Albany-Schenectady-Troy NY            13    87\n",
            "Albuquerque-Santa Fe NM                4    96\n",
            "Alexandria LA                          0   100\n",
            "\n",
            "\n",
            "\n",
            "List of columns: ['2004-04-01 Unemp', '2004-04-01 Jobs']\n",
            "(210, 2)\n",
            "DATE: 2004-05-01 2004-06-01\n",
            "                            Unemployment  Jobs\n",
            "geoName                                       \n",
            "Abilene-Sweetwater TX                  0   100\n",
            "Albany GA                             13    87\n",
            "Albany-Schenectady-Troy NY            13    87\n",
            "Albuquerque-Santa Fe NM                4    96\n",
            "Alexandria LA                          0   100\n",
            "\n",
            "\n",
            "\n",
            "List of columns: ['2004-05-01 Unemp', '2004-05-01 Jobs']\n",
            "(210, 2)\n",
            "DATE: 2004-06-01 2004-07-01\n",
            "                            Unemployment  Jobs\n",
            "geoName                                       \n",
            "Abilene-Sweetwater TX                 19    81\n",
            "Albany GA                              0   100\n",
            "Albany-Schenectady-Troy NY             7    93\n",
            "Albuquerque-Santa Fe NM                1    99\n",
            "Alexandria LA                          0   100\n",
            "\n",
            "\n",
            "\n",
            "List of columns: ['2004-06-01 Unemp', '2004-06-01 Jobs']\n",
            "(210, 2)\n"
          ],
          "name": "stdout"
        }
      ]
    },
    {
      "metadata": {
        "id": "hk1OiC2schmK",
        "colab_type": "text"
      },
      "cell_type": "markdown",
      "source": [
        "**The above printed data has been printed for just 5 months.. and just the head() of each file.**"
      ]
    },
    {
      "metadata": {
        "id": "H8X4AEETVa1o",
        "colab_type": "code",
        "colab": {
          "base_uri": "https://localhost:8080/",
          "height": 34
        },
        "outputId": "fe450bc2-7cea-450a-ad30-e380d45424bb"
      },
      "cell_type": "code",
      "source": [
        "# List out the files\n",
        "!ls"
      ],
      "execution_count": 44,
      "outputs": [
        {
          "output_type": "stream",
          "text": [
            "adc.json  node_modules\toutput.xlsx  package-lock.json\tsample_data\n"
          ],
          "name": "stdout"
        }
      ]
    },
    {
      "metadata": {
        "id": "dRq5t2IBW-y-",
        "colab_type": "code",
        "colab": {}
      },
      "cell_type": "code",
      "source": [
        "# download the output file\n",
        "\n",
        "from google.colab import files\n",
        "files.download('output.xlsx') "
      ],
      "execution_count": 0,
      "outputs": []
    },
    {
      "metadata": {
        "id": "_Tez9hruujU7",
        "colab_type": "code",
        "colab": {}
      },
      "cell_type": "code",
      "source": [
        ""
      ],
      "execution_count": 0,
      "outputs": []
    }
  ]
}