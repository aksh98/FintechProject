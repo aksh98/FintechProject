{
  "nbformat": 4,
  "nbformat_minor": 0,
  "metadata": {
    "colab": {
      "name": "NowCasting_StateLevel.ipynb",
      "version": "0.3.2",
      "provenance": [],
      "collapsed_sections": [
        "9zE7sn3nalm2",
        "1G_pliyiL5Mn",
        "REkvAn08RwTR",
        "DVmVOnC3dbQB",
        "daX4VcybzYLp"
      ],
      "include_colab_link": true
    },
    "kernelspec": {
      "name": "python3",
      "display_name": "Python 3"
    },
    "accelerator": "TPU"
  },
  "cells": [
    {
      "cell_type": "markdown",
      "metadata": {
        "id": "view-in-github",
        "colab_type": "text"
      },
      "source": [
        "<a href=\"https://colab.research.google.com/github/aksh98/FintechProject/blob/master/NowCasting_StateLevel.ipynb\" target=\"_parent\"><img src=\"https://colab.research.google.com/assets/colab-badge.svg\" alt=\"Open In Colab\"/></a>"
      ]
    },
    {
      "cell_type": "markdown",
      "metadata": {
        "id": "9zE7sn3nalm2",
        "colab_type": "text"
      },
      "source": [
        "### Extra Code - Might be useful"
      ]
    },
    {
      "cell_type": "code",
      "metadata": {
        "id": "9dPiRHcHZ6CG",
        "colab_type": "code",
        "colab": {}
      },
      "source": [
        "# auth.authenticate_user()\n",
        "# gauth = GoogleAuth()\n",
        "# creds = GoogleCredentials.get_application_default()\n",
        "# drive = GoogleDrive(gauth)"
      ],
      "execution_count": 0,
      "outputs": []
    },
    {
      "cell_type": "code",
      "metadata": {
        "id": "4OlBQT0YZ8Lc",
        "colab_type": "code",
        "colab": {}
      },
      "source": [
        "# from google.colab import files\n",
        "\n",
        "# uploaded = files.upload()\n",
        "\n",
        "# for fn in uploaded.keys():\n",
        "#   print('User uploaded file \"{name}\" with length {length} bytes'.format(\n",
        "#       name=fn, length=len(uploaded[fn])))\n",
        "\n",
        "# !mkdir -p drive\n",
        "# !google-drive-ocamlfuse drive  "
      ],
      "execution_count": 0,
      "outputs": []
    },
    {
      "cell_type": "markdown",
      "metadata": {
        "id": "Zp2aq77ea5YR",
        "colab_type": "text"
      },
      "source": [
        "## Start execution from here \n"
      ]
    },
    {
      "cell_type": "code",
      "metadata": {
        "id": "o4P-IAyaLTCW",
        "colab_type": "code",
        "colab": {}
      },
      "source": [
        "import pandas as pd\n",
        "import numpy as np\n",
        "import sklearn\n",
        "import matplotlib.pyplot as plt\n",
        "from sklearn.model_selection import train_test_split\n",
        "from sklearn.model_selection import GridSearchCV\n",
        "from sklearn.svm import SVC\n",
        "from sklearn.svm import SVR\n",
        "from sklearn.neural_network import MLPClassifier\n",
        "from sklearn.metrics import accuracy_score\n",
        "from sklearn.manifold import TSNE\n",
        "from sklearn import linear_model\n",
        "from sklearn.linear_model import LinearRegression\n",
        "from sklearn.decomposition import PCA\n",
        "from sklearn.discriminant_analysis import LinearDiscriminantAnalysis\n",
        "from sklearn.ensemble import AdaBoostRegressor\n",
        "from sklearn.tree import DecisionTreeRegressor"
      ],
      "execution_count": 0,
      "outputs": []
    },
    {
      "cell_type": "code",
      "metadata": {
        "id": "ns677CGCZCq2",
        "colab_type": "code",
        "colab": {}
      },
      "source": [
        "# # !pip install -U -q PyDrive\n",
        "# from google.colab import files\n",
        "# from pydrive.auth import GoogleAuth\n",
        "# from pydrive.drive import GoogleDrive\n",
        "# from google.colab import auth\n",
        "# from oauth2client.client import GoogleCredentials"
      ],
      "execution_count": 0,
      "outputs": []
    },
    {
      "cell_type": "code",
      "metadata": {
        "id": "f6AnjUvVZ2Q7",
        "colab_type": "code",
        "outputId": "fe5ec1a8-7448-4695-a8ca-a4daa220835b",
        "colab": {
          "base_uri": "https://localhost:8080/",
          "height": 122
        }
      },
      "source": [
        "from google.colab import drive\n",
        "drive.mount('/content/drive')"
      ],
      "execution_count": 3,
      "outputs": [
        {
          "output_type": "stream",
          "text": [
            "Go to this URL in a browser: https://accounts.google.com/o/oauth2/auth?client_id=947318989803-6bn6qk8qdgf4n4g3pfee6491hc0brc4i.apps.googleusercontent.com&redirect_uri=urn%3Aietf%3Awg%3Aoauth%3A2.0%3Aoob&scope=email%20https%3A%2F%2Fwww.googleapis.com%2Fauth%2Fdocs.test%20https%3A%2F%2Fwww.googleapis.com%2Fauth%2Fdrive%20https%3A%2F%2Fwww.googleapis.com%2Fauth%2Fdrive.photos.readonly%20https%3A%2F%2Fwww.googleapis.com%2Fauth%2Fpeopleapi.readonly&response_type=code\n",
            "\n",
            "Enter your authorization code:\n",
            "··········\n",
            "Mounted at /content/drive\n"
          ],
          "name": "stdout"
        }
      ]
    },
    {
      "cell_type": "code",
      "metadata": {
        "id": "jo8N3lw1aG90",
        "colab_type": "code",
        "colab": {}
      },
      "source": [
        "# !ls\n",
        "# !cd datalab\n"
      ],
      "execution_count": 0,
      "outputs": []
    },
    {
      "cell_type": "code",
      "metadata": {
        "id": "uuTrCRYwneoY",
        "colab_type": "code",
        "outputId": "3f00b1d1-3061-4135-ec9d-1b0dcbfd96e6",
        "colab": {
          "base_uri": "https://localhost:8080/",
          "height": 51
        }
      },
      "source": [
        "%cd drive/My Drive/Colab Notebooks\n",
        "%cd Stanford\n",
        "# !ls\n",
        "# %cd .."
      ],
      "execution_count": 4,
      "outputs": [
        {
          "output_type": "stream",
          "text": [
            "/content/drive/My Drive/Colab Notebooks\n",
            "/content/drive/My Drive/Colab Notebooks/Stanford\n"
          ],
          "name": "stdout"
        }
      ]
    },
    {
      "cell_type": "markdown",
      "metadata": {
        "id": "QTEsgaKWgwUY",
        "colab_type": "text"
      },
      "source": [
        "# Other two datasets\n",
        "- Employment (1990-now) - using this for now\n",
        "- Earnings (2006-now)"
      ]
    },
    {
      "cell_type": "markdown",
      "metadata": {
        "id": "Cd8QJ4aL4WEN",
        "colab_type": "text"
      },
      "source": [
        "## National level"
      ]
    },
    {
      "cell_type": "code",
      "metadata": {
        "id": "G5yWj9R_geFO",
        "colab_type": "code",
        "outputId": "0e82d7bc-6f05-4a3b-b6e3-865fa738ed78",
        "colab": {
          "base_uri": "https://localhost:8080/",
          "height": 34
        }
      },
      "source": [
        "nat_emp = pd.read_csv('national_emp_earnings.csv')\n",
        "nat_emp.shape"
      ],
      "execution_count": 5,
      "outputs": [
        {
          "output_type": "execute_result",
          "data": {
            "text/plain": [
              "(719, 6)"
            ]
          },
          "metadata": {
            "tags": []
          },
          "execution_count": 5
        }
      ]
    },
    {
      "cell_type": "code",
      "metadata": {
        "id": "Vx-Cx2mUiyxe",
        "colab_type": "code",
        "outputId": "e19cf45d-74bd-483c-8371-06496d58fb9e",
        "colab": {
          "base_uri": "https://localhost:8080/",
          "height": 204
        }
      },
      "source": [
        "nat_emp.head()"
      ],
      "execution_count": 6,
      "outputs": [
        {
          "output_type": "execute_result",
          "data": {
            "text/html": [
              "<div>\n",
              "<style scoped>\n",
              "    .dataframe tbody tr th:only-of-type {\n",
              "        vertical-align: middle;\n",
              "    }\n",
              "\n",
              "    .dataframe tbody tr th {\n",
              "        vertical-align: top;\n",
              "    }\n",
              "\n",
              "    .dataframe thead th {\n",
              "        text-align: right;\n",
              "    }\n",
              "</style>\n",
              "<table border=\"1\" class=\"dataframe\">\n",
              "  <thead>\n",
              "    <tr style=\"text-align: right;\">\n",
              "      <th></th>\n",
              "      <th>privatenatlemp</th>\n",
              "      <th>year</th>\n",
              "      <th>month</th>\n",
              "      <th>dl1yprivatenatlemp</th>\n",
              "      <th>weeklynatlearn</th>\n",
              "      <th>dl1yweeklynatlearn</th>\n",
              "    </tr>\n",
              "  </thead>\n",
              "  <tbody>\n",
              "    <tr>\n",
              "      <th>0</th>\n",
              "      <td>44375</td>\n",
              "      <td>1959</td>\n",
              "      <td>1</td>\n",
              "      <td>0.002689</td>\n",
              "      <td>NaN</td>\n",
              "      <td>NaN</td>\n",
              "    </tr>\n",
              "    <tr>\n",
              "      <th>1</th>\n",
              "      <td>44571</td>\n",
              "      <td>1959</td>\n",
              "      <td>2</td>\n",
              "      <td>0.018905</td>\n",
              "      <td>NaN</td>\n",
              "      <td>NaN</td>\n",
              "    </tr>\n",
              "    <tr>\n",
              "      <th>2</th>\n",
              "      <td>44884</td>\n",
              "      <td>1959</td>\n",
              "      <td>3</td>\n",
              "      <td>0.032956</td>\n",
              "      <td>NaN</td>\n",
              "      <td>NaN</td>\n",
              "    </tr>\n",
              "    <tr>\n",
              "      <th>3</th>\n",
              "      <td>45178</td>\n",
              "      <td>1959</td>\n",
              "      <td>4</td>\n",
              "      <td>0.046781</td>\n",
              "      <td>NaN</td>\n",
              "      <td>NaN</td>\n",
              "    </tr>\n",
              "    <tr>\n",
              "      <th>4</th>\n",
              "      <td>45396</td>\n",
              "      <td>1959</td>\n",
              "      <td>5</td>\n",
              "      <td>0.055255</td>\n",
              "      <td>NaN</td>\n",
              "      <td>NaN</td>\n",
              "    </tr>\n",
              "  </tbody>\n",
              "</table>\n",
              "</div>"
            ],
            "text/plain": [
              "   privatenatlemp  year  ...  weeklynatlearn  dl1yweeklynatlearn\n",
              "0           44375  1959  ...             NaN                 NaN\n",
              "1           44571  1959  ...             NaN                 NaN\n",
              "2           44884  1959  ...             NaN                 NaN\n",
              "3           45178  1959  ...             NaN                 NaN\n",
              "4           45396  1959  ...             NaN                 NaN\n",
              "\n",
              "[5 rows x 6 columns]"
            ]
          },
          "metadata": {
            "tags": []
          },
          "execution_count": 6
        }
      ]
    },
    {
      "cell_type": "markdown",
      "metadata": {
        "id": "F44xoHE-iNtO",
        "colab_type": "text"
      },
      "source": [
        "### Import GoogleTrends from UIClaims Data"
      ]
    },
    {
      "cell_type": "code",
      "metadata": {
        "id": "oQ2AbFc0jv97",
        "colab_type": "code",
        "outputId": "44429f87-fd4a-4899-bf23-f4d9c89869d0",
        "colab": {
          "base_uri": "https://localhost:8080/",
          "height": 34
        }
      },
      "source": [
        "datafile = pd.read_csv('GoogleTrends_updated.csv')\n",
        "datafile.shape"
      ],
      "execution_count": 7,
      "outputs": [
        {
          "output_type": "execute_result",
          "data": {
            "text/plain": [
              "(176, 9)"
            ]
          },
          "metadata": {
            "tags": []
          },
          "execution_count": 7
        }
      ]
    },
    {
      "cell_type": "code",
      "metadata": {
        "id": "Jd8Iu7ODh2MG",
        "colab_type": "code",
        "outputId": "81f595c8-2a53-457c-b659-d931183d99ac",
        "colab": {
          "base_uri": "https://localhost:8080/",
          "height": 204
        }
      },
      "source": [
        "datafile.tail()"
      ],
      "execution_count": 8,
      "outputs": [
        {
          "output_type": "execute_result",
          "data": {
            "text/html": [
              "<div>\n",
              "<style scoped>\n",
              "    .dataframe tbody tr th:only-of-type {\n",
              "        vertical-align: middle;\n",
              "    }\n",
              "\n",
              "    .dataframe tbody tr th {\n",
              "        vertical-align: top;\n",
              "    }\n",
              "\n",
              "    .dataframe thead th {\n",
              "        text-align: right;\n",
              "    }\n",
              "</style>\n",
              "<table border=\"1\" class=\"dataframe\">\n",
              "  <thead>\n",
              "    <tr style=\"text-align: right;\">\n",
              "      <th></th>\n",
              "      <th>Month</th>\n",
              "      <th>Employment</th>\n",
              "      <th>Unemployment</th>\n",
              "      <th>Productivity</th>\n",
              "      <th>GDP</th>\n",
              "      <th>Stock market</th>\n",
              "      <th>jobs</th>\n",
              "      <th>UMEX</th>\n",
              "      <th>UIClaims</th>\n",
              "    </tr>\n",
              "  </thead>\n",
              "  <tbody>\n",
              "    <tr>\n",
              "      <th>171</th>\n",
              "      <td>2018-04</td>\n",
              "      <td>74</td>\n",
              "      <td>18</td>\n",
              "      <td>1</td>\n",
              "      <td>4</td>\n",
              "      <td>13</td>\n",
              "      <td>68</td>\n",
              "      <td>127</td>\n",
              "      <td>844405</td>\n",
              "    </tr>\n",
              "    <tr>\n",
              "      <th>172</th>\n",
              "      <td>2018-05</td>\n",
              "      <td>71</td>\n",
              "      <td>16</td>\n",
              "      <td>1</td>\n",
              "      <td>4</td>\n",
              "      <td>9</td>\n",
              "      <td>68</td>\n",
              "      <td>134</td>\n",
              "      <td>795365</td>\n",
              "    </tr>\n",
              "    <tr>\n",
              "      <th>173</th>\n",
              "      <td>2018-06</td>\n",
              "      <td>71</td>\n",
              "      <td>17</td>\n",
              "      <td>1</td>\n",
              "      <td>3</td>\n",
              "      <td>9</td>\n",
              "      <td>71</td>\n",
              "      <td>132</td>\n",
              "      <td>1069140</td>\n",
              "    </tr>\n",
              "    <tr>\n",
              "      <th>174</th>\n",
              "      <td>2018-07</td>\n",
              "      <td>71</td>\n",
              "      <td>18</td>\n",
              "      <td>1</td>\n",
              "      <td>5</td>\n",
              "      <td>9</td>\n",
              "      <td>71</td>\n",
              "      <td>0</td>\n",
              "      <td>878276</td>\n",
              "    </tr>\n",
              "    <tr>\n",
              "      <th>175</th>\n",
              "      <td>2018-08</td>\n",
              "      <td>85</td>\n",
              "      <td>16</td>\n",
              "      <td>1</td>\n",
              "      <td>5</td>\n",
              "      <td>11</td>\n",
              "      <td>81</td>\n",
              "      <td>0</td>\n",
              "      <td>714288</td>\n",
              "    </tr>\n",
              "  </tbody>\n",
              "</table>\n",
              "</div>"
            ],
            "text/plain": [
              "       Month  Employment  Unemployment  ...  jobs  UMEX  UIClaims\n",
              "171  2018-04          74            18  ...    68   127    844405\n",
              "172  2018-05          71            16  ...    68   134    795365\n",
              "173  2018-06          71            17  ...    71   132   1069140\n",
              "174  2018-07          71            18  ...    71     0    878276\n",
              "175  2018-08          85            16  ...    81     0    714288\n",
              "\n",
              "[5 rows x 9 columns]"
            ]
          },
          "metadata": {
            "tags": []
          },
          "execution_count": 8
        }
      ]
    },
    {
      "cell_type": "code",
      "metadata": {
        "id": "hL1F9rjHiNB9",
        "colab_type": "code",
        "colab": {}
      },
      "source": [
        "X_nat_emp = datafile[['Unemployment','Productivity','GDP','jobs']]"
      ],
      "execution_count": 0,
      "outputs": []
    },
    {
      "cell_type": "code",
      "metadata": {
        "id": "lnt3gFmzg2AX",
        "colab_type": "code",
        "colab": {}
      },
      "source": [
        "nat_emp = nat_emp[540:716]"
      ],
      "execution_count": 0,
      "outputs": []
    },
    {
      "cell_type": "code",
      "metadata": {
        "id": "MmkfdZwiudnm",
        "colab_type": "code",
        "outputId": "db97f59e-b217-4b2e-deea-0ac929be3731",
        "colab": {
          "base_uri": "https://localhost:8080/",
          "height": 204
        }
      },
      "source": [
        "nat_emp.tail()"
      ],
      "execution_count": 11,
      "outputs": [
        {
          "output_type": "execute_result",
          "data": {
            "text/html": [
              "<div>\n",
              "<style scoped>\n",
              "    .dataframe tbody tr th:only-of-type {\n",
              "        vertical-align: middle;\n",
              "    }\n",
              "\n",
              "    .dataframe tbody tr th {\n",
              "        vertical-align: top;\n",
              "    }\n",
              "\n",
              "    .dataframe thead th {\n",
              "        text-align: right;\n",
              "    }\n",
              "</style>\n",
              "<table border=\"1\" class=\"dataframe\">\n",
              "  <thead>\n",
              "    <tr style=\"text-align: right;\">\n",
              "      <th></th>\n",
              "      <th>privatenatlemp</th>\n",
              "      <th>year</th>\n",
              "      <th>month</th>\n",
              "      <th>dl1yprivatenatlemp</th>\n",
              "      <th>weeklynatlearn</th>\n",
              "      <th>dl1yweeklynatlearn</th>\n",
              "    </tr>\n",
              "  </thead>\n",
              "  <tbody>\n",
              "    <tr>\n",
              "      <th>711</th>\n",
              "      <td>126130</td>\n",
              "      <td>2018</td>\n",
              "      <td>4</td>\n",
              "      <td>0.018582</td>\n",
              "      <td>926.66998</td>\n",
              "      <td>0.029347</td>\n",
              "    </tr>\n",
              "    <tr>\n",
              "      <th>712</th>\n",
              "      <td>126390</td>\n",
              "      <td>2018</td>\n",
              "      <td>5</td>\n",
              "      <td>0.019324</td>\n",
              "      <td>929.42999</td>\n",
              "      <td>0.030844</td>\n",
              "    </tr>\n",
              "    <tr>\n",
              "      <th>713</th>\n",
              "      <td>126582</td>\n",
              "      <td>2018</td>\n",
              "      <td>6</td>\n",
              "      <td>0.019064</td>\n",
              "      <td>933.84998</td>\n",
              "      <td>0.033775</td>\n",
              "    </tr>\n",
              "    <tr>\n",
              "      <th>714</th>\n",
              "      <td>126719</td>\n",
              "      <td>2018</td>\n",
              "      <td>7</td>\n",
              "      <td>0.018625</td>\n",
              "      <td>933.91998</td>\n",
              "      <td>0.030703</td>\n",
              "    </tr>\n",
              "    <tr>\n",
              "      <th>715</th>\n",
              "      <td>126986</td>\n",
              "      <td>2018</td>\n",
              "      <td>8</td>\n",
              "      <td>0.019067</td>\n",
              "      <td>937.37000</td>\n",
              "      <td>0.032550</td>\n",
              "    </tr>\n",
              "  </tbody>\n",
              "</table>\n",
              "</div>"
            ],
            "text/plain": [
              "     privatenatlemp  year  ...  weeklynatlearn  dl1yweeklynatlearn\n",
              "711          126130  2018  ...       926.66998            0.029347\n",
              "712          126390  2018  ...       929.42999            0.030844\n",
              "713          126582  2018  ...       933.84998            0.033775\n",
              "714          126719  2018  ...       933.91998            0.030703\n",
              "715          126986  2018  ...       937.37000            0.032550\n",
              "\n",
              "[5 rows x 6 columns]"
            ]
          },
          "metadata": {
            "tags": []
          },
          "execution_count": 11
        }
      ]
    },
    {
      "cell_type": "code",
      "metadata": {
        "id": "lnzMyjqNihRd",
        "colab_type": "code",
        "colab": {}
      },
      "source": [
        "Y_nat_emp = nat_emp['privatenatlemp']"
      ],
      "execution_count": 0,
      "outputs": []
    },
    {
      "cell_type": "code",
      "metadata": {
        "id": "148Zoljruuy4",
        "colab_type": "code",
        "outputId": "882307b5-a3e2-46c1-9a91-2c14c0937db7",
        "colab": {
          "base_uri": "https://localhost:8080/",
          "height": 34
        }
      },
      "source": [
        "# nat_emp.drop(nat_emp.tail(1).index,inplace = True)\n",
        "Y_nat_emp.shape, X_nat_emp.shape"
      ],
      "execution_count": 0,
      "outputs": [
        {
          "output_type": "execute_result",
          "data": {
            "text/plain": [
              "((176,), (176, 4))"
            ]
          },
          "metadata": {
            "tags": []
          },
          "execution_count": 38
        }
      ]
    },
    {
      "cell_type": "markdown",
      "metadata": {
        "id": "zOhSRgP24Zc9",
        "colab_type": "text"
      },
      "source": [
        "## State level data processing"
      ]
    },
    {
      "cell_type": "code",
      "metadata": {
        "id": "l30UgMrDiWE-",
        "colab_type": "code",
        "colab": {}
      },
      "source": [
        "state_full = pd.read_csv('state_emp_earnings.csv')"
      ],
      "execution_count": 0,
      "outputs": []
    },
    {
      "cell_type": "code",
      "metadata": {
        "id": "QO1K3qsgipFT",
        "colab_type": "code",
        "outputId": "4cb3a35c-4d19-4bc5-f038-5fd72e968314",
        "colab": {
          "base_uri": "https://localhost:8080/",
          "height": 204
        }
      },
      "source": [
        "# state_emp = state_earnings[:346] #168+178\n",
        "state_full.tail()"
      ],
      "execution_count": 0,
      "outputs": [
        {
          "output_type": "execute_result",
          "data": {
            "text/html": [
              "<div>\n",
              "<style scoped>\n",
              "    .dataframe tbody tr th:only-of-type {\n",
              "        vertical-align: middle;\n",
              "    }\n",
              "\n",
              "    .dataframe tbody tr th {\n",
              "        vertical-align: top;\n",
              "    }\n",
              "\n",
              "    .dataframe thead th {\n",
              "        text-align: right;\n",
              "    }\n",
              "</style>\n",
              "<table border=\"1\" class=\"dataframe\">\n",
              "  <thead>\n",
              "    <tr style=\"text-align: right;\">\n",
              "      <th></th>\n",
              "      <th>year</th>\n",
              "      <th>month</th>\n",
              "      <th>employment</th>\n",
              "      <th>weeklyearn</th>\n",
              "      <th>st</th>\n",
              "      <th>dl1yweeklyearn</th>\n",
              "      <th>dl1yemployment</th>\n",
              "    </tr>\n",
              "  </thead>\n",
              "  <tbody>\n",
              "    <tr>\n",
              "      <th>17692</th>\n",
              "      <td>2018</td>\n",
              "      <td>7</td>\n",
              "      <td>217.6</td>\n",
              "      <td>816.656686</td>\n",
              "      <td>56</td>\n",
              "      <td>0.013220</td>\n",
              "      <td>0.000000</td>\n",
              "    </tr>\n",
              "    <tr>\n",
              "      <th>17693</th>\n",
              "      <td>2018</td>\n",
              "      <td>8</td>\n",
              "      <td>217.9</td>\n",
              "      <td>821.202676</td>\n",
              "      <td>56</td>\n",
              "      <td>0.005567</td>\n",
              "      <td>0.001379</td>\n",
              "    </tr>\n",
              "    <tr>\n",
              "      <th>17694</th>\n",
              "      <td>2018</td>\n",
              "      <td>9</td>\n",
              "      <td>219.1</td>\n",
              "      <td>855.256502</td>\n",
              "      <td>56</td>\n",
              "      <td>0.041468</td>\n",
              "      <td>0.005507</td>\n",
              "    </tr>\n",
              "    <tr>\n",
              "      <th>17695</th>\n",
              "      <td>2018</td>\n",
              "      <td>10</td>\n",
              "      <td>219.7</td>\n",
              "      <td>831.541237</td>\n",
              "      <td>56</td>\n",
              "      <td>-0.027729</td>\n",
              "      <td>0.002738</td>\n",
              "    </tr>\n",
              "    <tr>\n",
              "      <th>17696</th>\n",
              "      <td>2018</td>\n",
              "      <td>11</td>\n",
              "      <td>221.6</td>\n",
              "      <td>853.533063</td>\n",
              "      <td>56</td>\n",
              "      <td>0.026447</td>\n",
              "      <td>0.008648</td>\n",
              "    </tr>\n",
              "  </tbody>\n",
              "</table>\n",
              "</div>"
            ],
            "text/plain": [
              "       year  month  employment  weeklyearn  st  dl1yweeklyearn  dl1yemployment\n",
              "17692  2018      7       217.6  816.656686  56        0.013220        0.000000\n",
              "17693  2018      8       217.9  821.202676  56        0.005567        0.001379\n",
              "17694  2018      9       219.1  855.256502  56        0.041468        0.005507\n",
              "17695  2018     10       219.7  831.541237  56       -0.027729        0.002738\n",
              "17696  2018     11       221.6  853.533063  56        0.026447        0.008648"
            ]
          },
          "metadata": {
            "tags": []
          },
          "execution_count": 59
        }
      ]
    },
    {
      "cell_type": "code",
      "metadata": {
        "id": "QnYNj0bsAavL",
        "colab_type": "code",
        "outputId": "29e13576-decf-4773-8c43-96e54943d297",
        "colab": {
          "base_uri": "https://localhost:8080/",
          "height": 204
        }
      },
      "source": [
        "#extra\n",
        "state_ex = state_full[168:344]\n",
        "state_ex.head()"
      ],
      "execution_count": 0,
      "outputs": [
        {
          "output_type": "execute_result",
          "data": {
            "text/html": [
              "<div>\n",
              "<style scoped>\n",
              "    .dataframe tbody tr th:only-of-type {\n",
              "        vertical-align: middle;\n",
              "    }\n",
              "\n",
              "    .dataframe tbody tr th {\n",
              "        vertical-align: top;\n",
              "    }\n",
              "\n",
              "    .dataframe thead th {\n",
              "        text-align: right;\n",
              "    }\n",
              "</style>\n",
              "<table border=\"1\" class=\"dataframe\">\n",
              "  <thead>\n",
              "    <tr style=\"text-align: right;\">\n",
              "      <th></th>\n",
              "      <th>year</th>\n",
              "      <th>month</th>\n",
              "      <th>employment</th>\n",
              "      <th>weeklyearn</th>\n",
              "      <th>st</th>\n",
              "      <th>dl1yweeklyearn</th>\n",
              "      <th>dl1yemployment</th>\n",
              "    </tr>\n",
              "  </thead>\n",
              "  <tbody>\n",
              "    <tr>\n",
              "      <th>168</th>\n",
              "      <td>2004</td>\n",
              "      <td>1</td>\n",
              "      <td>1537.4</td>\n",
              "      <td>NaN</td>\n",
              "      <td>1</td>\n",
              "      <td>NaN</td>\n",
              "      <td>0.003459</td>\n",
              "    </tr>\n",
              "    <tr>\n",
              "      <th>169</th>\n",
              "      <td>2004</td>\n",
              "      <td>2</td>\n",
              "      <td>1540.8</td>\n",
              "      <td>NaN</td>\n",
              "      <td>1</td>\n",
              "      <td>NaN</td>\n",
              "      <td>0.002212</td>\n",
              "    </tr>\n",
              "    <tr>\n",
              "      <th>170</th>\n",
              "      <td>2004</td>\n",
              "      <td>3</td>\n",
              "      <td>1542.4</td>\n",
              "      <td>NaN</td>\n",
              "      <td>1</td>\n",
              "      <td>NaN</td>\n",
              "      <td>0.001038</td>\n",
              "    </tr>\n",
              "    <tr>\n",
              "      <th>171</th>\n",
              "      <td>2004</td>\n",
              "      <td>4</td>\n",
              "      <td>1547.1</td>\n",
              "      <td>NaN</td>\n",
              "      <td>1</td>\n",
              "      <td>NaN</td>\n",
              "      <td>0.003047</td>\n",
              "    </tr>\n",
              "    <tr>\n",
              "      <th>172</th>\n",
              "      <td>2004</td>\n",
              "      <td>5</td>\n",
              "      <td>1549.8</td>\n",
              "      <td>NaN</td>\n",
              "      <td>1</td>\n",
              "      <td>NaN</td>\n",
              "      <td>0.001745</td>\n",
              "    </tr>\n",
              "  </tbody>\n",
              "</table>\n",
              "</div>"
            ],
            "text/plain": [
              "     year  month  employment  weeklyearn  st  dl1yweeklyearn  dl1yemployment\n",
              "168  2004      1      1537.4         NaN   1             NaN        0.003459\n",
              "169  2004      2      1540.8         NaN   1             NaN        0.002212\n",
              "170  2004      3      1542.4         NaN   1             NaN        0.001038\n",
              "171  2004      4      1547.1         NaN   1             NaN        0.003047\n",
              "172  2004      5      1549.8         NaN   1             NaN        0.001745"
            ]
          },
          "metadata": {
            "tags": []
          },
          "execution_count": 41
        }
      ]
    },
    {
      "cell_type": "code",
      "metadata": {
        "id": "8GNVLkhpAsX2",
        "colab_type": "code",
        "outputId": "d4d7bf01-9e38-4cd0-c58f-d7ecaaff8afc",
        "colab": {
          "base_uri": "https://localhost:8080/",
          "height": 204
        }
      },
      "source": [
        "#extra\n",
        "state_ex2 = state_full[347+168:347+344]\n",
        "state_ex2.head()"
      ],
      "execution_count": 0,
      "outputs": [
        {
          "output_type": "execute_result",
          "data": {
            "text/html": [
              "<div>\n",
              "<style scoped>\n",
              "    .dataframe tbody tr th:only-of-type {\n",
              "        vertical-align: middle;\n",
              "    }\n",
              "\n",
              "    .dataframe tbody tr th {\n",
              "        vertical-align: top;\n",
              "    }\n",
              "\n",
              "    .dataframe thead th {\n",
              "        text-align: right;\n",
              "    }\n",
              "</style>\n",
              "<table border=\"1\" class=\"dataframe\">\n",
              "  <thead>\n",
              "    <tr style=\"text-align: right;\">\n",
              "      <th></th>\n",
              "      <th>year</th>\n",
              "      <th>month</th>\n",
              "      <th>employment</th>\n",
              "      <th>weeklyearn</th>\n",
              "      <th>st</th>\n",
              "      <th>dl1yweeklyearn</th>\n",
              "      <th>dl1yemployment</th>\n",
              "    </tr>\n",
              "  </thead>\n",
              "  <tbody>\n",
              "    <tr>\n",
              "      <th>515</th>\n",
              "      <td>2004</td>\n",
              "      <td>1</td>\n",
              "      <td>220.7</td>\n",
              "      <td>NaN</td>\n",
              "      <td>2</td>\n",
              "      <td>NaN</td>\n",
              "      <td>0.005925</td>\n",
              "    </tr>\n",
              "    <tr>\n",
              "      <th>516</th>\n",
              "      <td>2004</td>\n",
              "      <td>2</td>\n",
              "      <td>219.7</td>\n",
              "      <td>NaN</td>\n",
              "      <td>2</td>\n",
              "      <td>NaN</td>\n",
              "      <td>-0.004531</td>\n",
              "    </tr>\n",
              "    <tr>\n",
              "      <th>517</th>\n",
              "      <td>2004</td>\n",
              "      <td>3</td>\n",
              "      <td>220.8</td>\n",
              "      <td>NaN</td>\n",
              "      <td>2</td>\n",
              "      <td>NaN</td>\n",
              "      <td>0.005007</td>\n",
              "    </tr>\n",
              "    <tr>\n",
              "      <th>518</th>\n",
              "      <td>2004</td>\n",
              "      <td>4</td>\n",
              "      <td>221.4</td>\n",
              "      <td>NaN</td>\n",
              "      <td>2</td>\n",
              "      <td>NaN</td>\n",
              "      <td>0.002717</td>\n",
              "    </tr>\n",
              "    <tr>\n",
              "      <th>519</th>\n",
              "      <td>2004</td>\n",
              "      <td>5</td>\n",
              "      <td>222.0</td>\n",
              "      <td>NaN</td>\n",
              "      <td>2</td>\n",
              "      <td>NaN</td>\n",
              "      <td>0.002710</td>\n",
              "    </tr>\n",
              "  </tbody>\n",
              "</table>\n",
              "</div>"
            ],
            "text/plain": [
              "     year  month  employment  weeklyearn  st  dl1yweeklyearn  dl1yemployment\n",
              "515  2004      1       220.7         NaN   2             NaN        0.005925\n",
              "516  2004      2       219.7         NaN   2             NaN       -0.004531\n",
              "517  2004      3       220.8         NaN   2             NaN        0.005007\n",
              "518  2004      4       221.4         NaN   2             NaN        0.002717\n",
              "519  2004      5       222.0         NaN   2             NaN        0.002710"
            ]
          },
          "metadata": {
            "tags": []
          },
          "execution_count": 43
        }
      ]
    },
    {
      "cell_type": "code",
      "metadata": {
        "id": "yMMljAltnVTJ",
        "colab_type": "code",
        "outputId": "a5c7f7b9-d468-4b93-d2f0-c1e813249600",
        "colab": {
          "base_uri": "https://localhost:8080/",
          "height": 34
        }
      },
      "source": [
        "state_ex.shape,state_ex2.shape"
      ],
      "execution_count": 0,
      "outputs": [
        {
          "output_type": "execute_result",
          "data": {
            "text/plain": [
              "((176, 7), (176, 7))"
            ]
          },
          "metadata": {
            "tags": []
          },
          "execution_count": 45
        }
      ]
    },
    {
      "cell_type": "code",
      "metadata": {
        "id": "4Nl-7GKU7tG6",
        "colab_type": "code",
        "colab": {}
      },
      "source": [
        "state_full = state_full['employment']"
      ],
      "execution_count": 0,
      "outputs": []
    },
    {
      "cell_type": "code",
      "metadata": {
        "id": "ozhAekO84wQ8",
        "colab_type": "code",
        "outputId": "142a4c5a-3e5e-49c7-89f5-c8ed3139a66b",
        "colab": {
          "base_uri": "https://localhost:8080/",
          "height": 901
        }
      },
      "source": [
        "state_emp = [0 for i in range(52)]\n",
        "for i in range(52):\n",
        "  state_emp[i] = state_full[(i*347)+168:((i)*347)+344]\n",
        "  print(state_emp[i].shape,(i*347)+168)"
      ],
      "execution_count": 0,
      "outputs": [
        {
          "output_type": "stream",
          "text": [
            "(176, 7) 168\n",
            "(176, 7) 515\n",
            "(176, 7) 862\n",
            "(176, 7) 1209\n",
            "(176, 7) 1556\n",
            "(176, 7) 1903\n",
            "(176, 7) 2250\n",
            "(176, 7) 2597\n",
            "(176, 7) 2944\n",
            "(176, 7) 3291\n",
            "(176, 7) 3638\n",
            "(176, 7) 3985\n",
            "(176, 7) 4332\n",
            "(176, 7) 4679\n",
            "(176, 7) 5026\n",
            "(176, 7) 5373\n",
            "(176, 7) 5720\n",
            "(176, 7) 6067\n",
            "(176, 7) 6414\n",
            "(176, 7) 6761\n",
            "(176, 7) 7108\n",
            "(176, 7) 7455\n",
            "(176, 7) 7802\n",
            "(176, 7) 8149\n",
            "(176, 7) 8496\n",
            "(176, 7) 8843\n",
            "(176, 7) 9190\n",
            "(176, 7) 9537\n",
            "(176, 7) 9884\n",
            "(176, 7) 10231\n",
            "(176, 7) 10578\n",
            "(176, 7) 10925\n",
            "(176, 7) 11272\n",
            "(176, 7) 11619\n",
            "(176, 7) 11966\n",
            "(176, 7) 12313\n",
            "(176, 7) 12660\n",
            "(176, 7) 13007\n",
            "(176, 7) 13354\n",
            "(176, 7) 13701\n",
            "(176, 7) 14048\n",
            "(176, 7) 14395\n",
            "(176, 7) 14742\n",
            "(176, 7) 15089\n",
            "(176, 7) 15436\n",
            "(176, 7) 15783\n",
            "(176, 7) 16130\n",
            "(176, 7) 16477\n",
            "(176, 7) 16824\n",
            "(176, 7) 17171\n",
            "(176, 7) 17518\n",
            "(0, 7) 17865\n"
          ],
          "name": "stdout"
        }
      ]
    },
    {
      "cell_type": "code",
      "metadata": {
        "id": "EHZ0pJMsq-c9",
        "colab_type": "code",
        "outputId": "0b236225-d600-40d2-883b-da15f0a91b40",
        "colab": {
          "base_uri": "https://localhost:8080/",
          "height": 204
        }
      },
      "source": [
        "state_emp[50].tail()"
      ],
      "execution_count": 0,
      "outputs": [
        {
          "output_type": "execute_result",
          "data": {
            "text/html": [
              "<div>\n",
              "<style scoped>\n",
              "    .dataframe tbody tr th:only-of-type {\n",
              "        vertical-align: middle;\n",
              "    }\n",
              "\n",
              "    .dataframe tbody tr th {\n",
              "        vertical-align: top;\n",
              "    }\n",
              "\n",
              "    .dataframe thead th {\n",
              "        text-align: right;\n",
              "    }\n",
              "</style>\n",
              "<table border=\"1\" class=\"dataframe\">\n",
              "  <thead>\n",
              "    <tr style=\"text-align: right;\">\n",
              "      <th></th>\n",
              "      <th>year</th>\n",
              "      <th>month</th>\n",
              "      <th>employment</th>\n",
              "      <th>weeklyearn</th>\n",
              "      <th>st</th>\n",
              "      <th>dl1yweeklyearn</th>\n",
              "      <th>dl1yemployment</th>\n",
              "    </tr>\n",
              "  </thead>\n",
              "  <tbody>\n",
              "    <tr>\n",
              "      <th>17689</th>\n",
              "      <td>2018</td>\n",
              "      <td>4</td>\n",
              "      <td>216.6</td>\n",
              "      <td>814.629414</td>\n",
              "      <td>56</td>\n",
              "      <td>0.030957</td>\n",
              "      <td>0.004638</td>\n",
              "    </tr>\n",
              "    <tr>\n",
              "      <th>17690</th>\n",
              "      <td>2018</td>\n",
              "      <td>5</td>\n",
              "      <td>216.7</td>\n",
              "      <td>801.295284</td>\n",
              "      <td>56</td>\n",
              "      <td>-0.016368</td>\n",
              "      <td>0.000462</td>\n",
              "    </tr>\n",
              "    <tr>\n",
              "      <th>17691</th>\n",
              "      <td>2018</td>\n",
              "      <td>6</td>\n",
              "      <td>217.6</td>\n",
              "      <td>806.001455</td>\n",
              "      <td>56</td>\n",
              "      <td>0.005873</td>\n",
              "      <td>0.004153</td>\n",
              "    </tr>\n",
              "    <tr>\n",
              "      <th>17692</th>\n",
              "      <td>2018</td>\n",
              "      <td>7</td>\n",
              "      <td>217.6</td>\n",
              "      <td>816.656686</td>\n",
              "      <td>56</td>\n",
              "      <td>0.013220</td>\n",
              "      <td>0.000000</td>\n",
              "    </tr>\n",
              "    <tr>\n",
              "      <th>17693</th>\n",
              "      <td>2018</td>\n",
              "      <td>8</td>\n",
              "      <td>217.9</td>\n",
              "      <td>821.202676</td>\n",
              "      <td>56</td>\n",
              "      <td>0.005567</td>\n",
              "      <td>0.001379</td>\n",
              "    </tr>\n",
              "  </tbody>\n",
              "</table>\n",
              "</div>"
            ],
            "text/plain": [
              "       year  month  employment  weeklyearn  st  dl1yweeklyearn  dl1yemployment\n",
              "17689  2018      4       216.6  814.629414  56        0.030957        0.004638\n",
              "17690  2018      5       216.7  801.295284  56       -0.016368        0.000462\n",
              "17691  2018      6       217.6  806.001455  56        0.005873        0.004153\n",
              "17692  2018      7       217.6  816.656686  56        0.013220        0.000000\n",
              "17693  2018      8       217.9  821.202676  56        0.005567        0.001379"
            ]
          },
          "metadata": {
            "tags": []
          },
          "execution_count": 75
        }
      ]
    },
    {
      "cell_type": "code",
      "metadata": {
        "id": "PkvQAyAlnxs7",
        "colab_type": "code",
        "outputId": "039ac43f-4fc1-4596-e9d8-b7df677f3355",
        "colab": {
          "base_uri": "https://localhost:8080/",
          "height": 34
        }
      },
      "source": [
        "state_emp[50].shape"
      ],
      "execution_count": 0,
      "outputs": [
        {
          "output_type": "execute_result",
          "data": {
            "text/plain": [
              "(176,)"
            ]
          },
          "metadata": {
            "tags": []
          },
          "execution_count": 63
        }
      ]
    },
    {
      "cell_type": "code",
      "metadata": {
        "id": "29M-oXHg7jcf",
        "colab_type": "code",
        "colab": {}
      },
      "source": [
        "print(state_emp[0][1],\" = \" ,state_full[1],\"-->\" ,state_emp[1].shape)"
      ],
      "execution_count": 0,
      "outputs": []
    },
    {
      "cell_type": "code",
      "metadata": {
        "id": "OOmxdaMnhdyW",
        "colab_type": "code",
        "outputId": "9e837aad-afb4-49e0-f010-1989d219429d",
        "colab": {
          "base_uri": "https://localhost:8080/",
          "height": 286
        }
      },
      "source": [
        "plt.scatter(x = nat_emp.index, y = nat_emp['privatenatlemp'])"
      ],
      "execution_count": 0,
      "outputs": [
        {
          "output_type": "execute_result",
          "data": {
            "text/plain": [
              "<matplotlib.collections.PathCollection at 0x7f76f6ea1b38>"
            ]
          },
          "metadata": {
            "tags": []
          },
          "execution_count": 87
        },
        {
          "output_type": "display_data",
          "data": {
            "image/png": "[encoded data removed]",
            "text/plain": [
              "<Figure size 432x288 with 1 Axes>"
            ]
          },
          "metadata": {
            "tags": []
          }
        }
      ]
    },
    {
      "cell_type": "code",
      "metadata": {
        "id": "Gk4puizM_HnN",
        "colab_type": "code",
        "outputId": "0de1b24f-fdfd-4334-8949-da8c147002ed",
        "colab": {
          "base_uri": "https://localhost:8080/",
          "height": 269
        }
      },
      "source": [
        "for i in range(10):\n",
        "  plt.scatter(x = state_emp[i].index - i*347, y = state_emp[i], s=0.5)\n",
        "  "
      ],
      "execution_count": 0,
      "outputs": [
        {
          "output_type": "display_data",
          "data": {
            "image/png": "[encoded data removed]",
            "text/plain": [
              "<Figure size 432x288 with 1 Axes>"
            ]
          },
          "metadata": {
            "tags": []
          }
        }
      ]
    },
    {
      "cell_type": "code",
      "metadata": {
        "id": "nqz9c07aiK5k",
        "colab_type": "code",
        "outputId": "7fb06ccb-e485-4fd0-d0e9-1cb6f67fc870",
        "colab": {
          "base_uri": "https://localhost:8080/",
          "height": 286
        }
      },
      "source": [
        "plt.scatter(x = state_emp[0].index, y = state_emp[0])"
      ],
      "execution_count": 0,
      "outputs": [
        {
          "output_type": "execute_result",
          "data": {
            "text/plain": [
              "<matplotlib.collections.PathCollection at 0x7f76f678d780>"
            ]
          },
          "metadata": {
            "tags": []
          },
          "execution_count": 127
        },
        {
          "output_type": "display_data",
          "data": {
            "image/png": "[encoded data removed]",
            "text/plain": [
              "<Figure size 432x288 with 1 Axes>"
            ]
          },
          "metadata": {
            "tags": []
          }
        }
      ]
    },
    {
      "cell_type": "markdown",
      "metadata": {
        "id": "W7dw_PmqpZvf",
        "colab_type": "text"
      },
      "source": [
        "### State level Google Trends from UIClaims Data"
      ]
    },
    {
      "cell_type": "code",
      "metadata": {
        "id": "wbcrFNmFpZPw",
        "colab_type": "code",
        "colab": {}
      },
      "source": [
        ""
      ],
      "execution_count": 0,
      "outputs": []
    },
    {
      "cell_type": "code",
      "metadata": {
        "id": "c7o4iSrOmd3T",
        "colab_type": "code",
        "colab": {}
      },
      "source": [
        "nat_earnings = nat_earnings['privatenatlemp']\n",
        "# state_earnings = state_earnings['employment']"
      ],
      "execution_count": 0,
      "outputs": []
    },
    {
      "cell_type": "code",
      "metadata": {
        "id": "u639nWjtlsIK",
        "colab_type": "code",
        "outputId": "3c3f7efb-c27e-4f6a-d23b-67fdfc1e4f2f",
        "colab": {
          "base_uri": "https://localhost:8080/",
          "height": 520
        }
      },
      "source": [
        "## ============================================================\n",
        "# Run regression to map the two ->> state and the national data \n",
        "## ============================================================\n",
        "\n",
        "import sklearn\n",
        "import numpy as np\n",
        "from sklearn import datasets, linear_model\n",
        "from sklearn.metrics import mean_squared_error, r2_score\n",
        "\n",
        "\n",
        "state_earnings_train = state_earnings[:200]\n",
        "state_earnings_test = state_earnings[200:]\n",
        "\n",
        "nat_earnings_train = nat_earnings[:200]\n",
        "nat_earnings_test = nat_earnings[200:]\n",
        "\n",
        "nat_earnings_train = nat_earnings_train.reshape(-1,1)\n",
        "nat_earnings_test = nat_earnings_test.reshape(-1,1)\n",
        "\n",
        "print(nat_earnings_test.shape,nat_earnings_train.shape)\n",
        "\n",
        "regr = linear_model.LinearRegression()\n",
        "\n",
        "print(state_earnings_train.shape,state_earnings_test.shape)\n",
        "\n",
        "\n",
        "\n",
        "regr.fit(nat_earnings_train, state_earnings_train)\n",
        "\n",
        "# Make predictions using the testing set\n",
        "y_pred = regr.predict(nat_earnings_test)\n",
        "\n",
        "# The coefficients\n",
        "print('Coefficients: \\n', regr.coef_)\n",
        "# The mean squared error\n",
        "print(\"Mean squared error: %.2f\"\n",
        "      % mean_squared_error(state_earnings_test, y_pred))\n",
        "# Explained variance score: 1 is perfect prediction\n",
        "print('Variance score: %.2f' % r2_score(state_earnings_test, y_pred))\n",
        "\n",
        "# Plot outputs\n",
        "\n",
        "# plt.scatter(nat_earnings, state_earnings,  color='black')\n",
        "# plt.plot(nat_earnings, np.concatenate((state_earnings_train,y_pred),axis=0), color='blue', linewidth=3)\n",
        "plt.scatter(nat_earnings_test, state_earnings_test,  color='black')\n",
        "plt.plot(nat_earnings_test, y_pred, color='blue', linewidth=3)\n",
        "\n",
        "plt.xticks(())\n",
        "plt.yticks(())\n",
        "\n",
        "plt.show()"
      ],
      "execution_count": 0,
      "outputs": [
        {
          "output_type": "stream",
          "text": [
            "(146, 1) (200, 1)\n",
            "(200,) (146,)\n",
            "Coefficients: \n",
            " [0.01141008]\n",
            "Mean squared error: 5858.51\n",
            "Variance score: -0.96\n"
          ],
          "name": "stdout"
        },
        {
          "output_type": "stream",
          "text": [
            "/usr/local/lib/python3.6/dist-packages/ipykernel_launcher.py:14: FutureWarning: reshape is deprecated and will raise in a subsequent release. Please use .values.reshape(...) instead\n",
            "  \n",
            "/usr/local/lib/python3.6/dist-packages/ipykernel_launcher.py:15: FutureWarning: reshape is deprecated and will raise in a subsequent release. Please use .values.reshape(...) instead\n",
            "  from ipykernel import kernelapp as app\n"
          ],
          "name": "stderr"
        },
        {
          "output_type": "display_data",
          "data": {
            "image/png": "[encoded data removed]",
            "text/plain": [
              "<Figure size 576x396 with 1 Axes>"
            ]
          },
          "metadata": {
            "tags": []
          }
        }
      ]
    },
    {
      "cell_type": "code",
      "metadata": {
        "id": "YBYqYDgKm3s1",
        "colab_type": "code",
        "outputId": "b895b9cb-29e1-4b5e-b062-42a11b2c69c3",
        "colab": {
          "base_uri": "https://localhost:8080/",
          "height": 415
        }
      },
      "source": [
        "import matplotlib.pyplot as plt\n",
        "import numpy as np\n",
        "from sklearn import datasets, linear_model\n",
        "from sklearn.metrics import mean_squared_error, r2_score\n",
        "\n",
        "# Load the diabetes dataset\n",
        "diabetes = datasets.load_diabetes()\n",
        "\n",
        "\n",
        "# Use only one feature\n",
        "diabetes_X = diabetes.data[:, np.newaxis, 2]\n",
        "\n",
        "# Split the data into training/testing sets\n",
        "diabetes_X_train = diabetes_X[:-20]\n",
        "diabetes_X_test = diabetes_X[-20:]\n",
        "\n",
        "# Split the targets into training/testing sets\n",
        "diabetes_y_train = diabetes.target[:-20]\n",
        "diabetes_y_test = diabetes.target[-20:]\n",
        "\n",
        "print(diabetes_X_train.shape,diabetes_X_test.shape)\n",
        "# Create linear regression object\n",
        "regr = linear_model.LinearRegression()\n",
        "\n",
        "# Train the model using the training sets\n",
        "regr.fit(diabetes_X_train, diabetes_y_train)\n",
        "\n",
        "# Make predictions using the testing set\n",
        "diabetes_y_pred = regr.predict(diabetes_X_test)\n",
        "\n",
        "# The coefficients\n",
        "print('Coefficients: \\n', regr.coef_)\n",
        "# The mean squared error\n",
        "print(\"Mean squared error: %.2f\"\n",
        "      % mean_squared_error(diabetes_y_test, diabetes_y_pred))\n",
        "# Explained variance score: 1 is perfect prediction\n",
        "print('Variance score: %.2f' % r2_score(diabetes_y_test, diabetes_y_pred))\n",
        "\n",
        "# Plot outputs\n",
        "plt.scatter(diabetes_X_test, diabetes_y_test,  color='black')\n",
        "plt.plot(diabetes_X_test, diabetes_y_pred, color='blue', linewidth=3)\n",
        "\n",
        "plt.xticks(())\n",
        "plt.yticks(())\n",
        "\n",
        "plt.show()"
      ],
      "execution_count": 0,
      "outputs": [
        {
          "output_type": "stream",
          "text": [
            "(422, 1) (20, 1)\n",
            "Coefficients: \n",
            " [938.23786125]\n",
            "Mean squared error: 2548.07\n",
            "Variance score: 0.47\n"
          ],
          "name": "stdout"
        },
        {
          "output_type": "display_data",
          "data": {
            "image/png": "[encoded data removed]",
            "text/plain": [
              "<Figure size 576x396 with 1 Axes>"
            ]
          },
          "metadata": {
            "tags": []
          }
        }
      ]
    },
    {
      "cell_type": "markdown",
      "metadata": {
        "id": "E3BHkRcsbKjJ",
        "colab_type": "text"
      },
      "source": [
        "\n",
        "# UIClaims Data\n",
        "## Preprocessing of National Level data "
      ]
    },
    {
      "cell_type": "code",
      "metadata": {
        "id": "rIObbNXJaMLA",
        "colab_type": "code",
        "outputId": "13ce4cd9-3a22-4cd8-f3f3-8a05cff6b5e6",
        "colab": {
          "base_uri": "https://localhost:8080/",
          "height": 34
        }
      },
      "source": [
        "datafile = pd.read_csv('GoogleTrends_updated.csv')\n",
        "datafile.shape"
      ],
      "execution_count": 0,
      "outputs": [
        {
          "output_type": "execute_result",
          "data": {
            "text/plain": [
              "(176, 9)"
            ]
          },
          "metadata": {
            "tags": []
          },
          "execution_count": 54
        }
      ]
    },
    {
      "cell_type": "code",
      "metadata": {
        "id": "3WHQJPT_aqxb",
        "colab_type": "code",
        "outputId": "e4f43016-c70e-420a-875f-56bbb8d0a8c5",
        "colab": {
          "base_uri": "https://localhost:8080/",
          "height": 204
        }
      },
      "source": [
        "# datafile.shape[0]\n",
        "datafile.tail()"
      ],
      "execution_count": 0,
      "outputs": [
        {
          "output_type": "execute_result",
          "data": {
            "text/html": [
              "<div>\n",
              "<style scoped>\n",
              "    .dataframe tbody tr th:only-of-type {\n",
              "        vertical-align: middle;\n",
              "    }\n",
              "\n",
              "    .dataframe tbody tr th {\n",
              "        vertical-align: top;\n",
              "    }\n",
              "\n",
              "    .dataframe thead th {\n",
              "        text-align: right;\n",
              "    }\n",
              "</style>\n",
              "<table border=\"1\" class=\"dataframe\">\n",
              "  <thead>\n",
              "    <tr style=\"text-align: right;\">\n",
              "      <th></th>\n",
              "      <th>Month</th>\n",
              "      <th>Employment</th>\n",
              "      <th>Unemployment</th>\n",
              "      <th>Productivity</th>\n",
              "      <th>GDP</th>\n",
              "      <th>Stock market</th>\n",
              "      <th>jobs</th>\n",
              "      <th>UMEX</th>\n",
              "      <th>UIClaims</th>\n",
              "    </tr>\n",
              "  </thead>\n",
              "  <tbody>\n",
              "    <tr>\n",
              "      <th>171</th>\n",
              "      <td>2018-04</td>\n",
              "      <td>74</td>\n",
              "      <td>18</td>\n",
              "      <td>1</td>\n",
              "      <td>4</td>\n",
              "      <td>13</td>\n",
              "      <td>68</td>\n",
              "      <td>127</td>\n",
              "      <td>844405</td>\n",
              "    </tr>\n",
              "    <tr>\n",
              "      <th>172</th>\n",
              "      <td>2018-05</td>\n",
              "      <td>71</td>\n",
              "      <td>16</td>\n",
              "      <td>1</td>\n",
              "      <td>4</td>\n",
              "      <td>9</td>\n",
              "      <td>68</td>\n",
              "      <td>134</td>\n",
              "      <td>795365</td>\n",
              "    </tr>\n",
              "    <tr>\n",
              "      <th>173</th>\n",
              "      <td>2018-06</td>\n",
              "      <td>71</td>\n",
              "      <td>17</td>\n",
              "      <td>1</td>\n",
              "      <td>3</td>\n",
              "      <td>9</td>\n",
              "      <td>71</td>\n",
              "      <td>132</td>\n",
              "      <td>1069140</td>\n",
              "    </tr>\n",
              "    <tr>\n",
              "      <th>174</th>\n",
              "      <td>2018-07</td>\n",
              "      <td>71</td>\n",
              "      <td>18</td>\n",
              "      <td>1</td>\n",
              "      <td>5</td>\n",
              "      <td>9</td>\n",
              "      <td>71</td>\n",
              "      <td>0</td>\n",
              "      <td>878276</td>\n",
              "    </tr>\n",
              "    <tr>\n",
              "      <th>175</th>\n",
              "      <td>2018-08</td>\n",
              "      <td>85</td>\n",
              "      <td>16</td>\n",
              "      <td>1</td>\n",
              "      <td>5</td>\n",
              "      <td>11</td>\n",
              "      <td>81</td>\n",
              "      <td>0</td>\n",
              "      <td>714288</td>\n",
              "    </tr>\n",
              "  </tbody>\n",
              "</table>\n",
              "</div>"
            ],
            "text/plain": [
              "       Month  Employment  Unemployment  ...  jobs  UMEX  UIClaims\n",
              "171  2018-04          74            18  ...    68   127    844405\n",
              "172  2018-05          71            16  ...    68   134    795365\n",
              "173  2018-06          71            17  ...    71   132   1069140\n",
              "174  2018-07          71            18  ...    71     0    878276\n",
              "175  2018-08          85            16  ...    81     0    714288\n",
              "\n",
              "[5 rows x 9 columns]"
            ]
          },
          "metadata": {
            "tags": []
          },
          "execution_count": 55
        }
      ]
    },
    {
      "cell_type": "code",
      "metadata": {
        "id": "n6QLV4qMhG2W",
        "colab_type": "code",
        "outputId": "98d19e6a-2108-48ed-fbb9-24bba23643e4",
        "colab": {
          "base_uri": "https://localhost:8080/",
          "height": 204
        }
      },
      "source": [
        "datafile.head()"
      ],
      "execution_count": 0,
      "outputs": [
        {
          "output_type": "execute_result",
          "data": {
            "text/html": [
              "<div>\n",
              "<style scoped>\n",
              "    .dataframe tbody tr th:only-of-type {\n",
              "        vertical-align: middle;\n",
              "    }\n",
              "\n",
              "    .dataframe tbody tr th {\n",
              "        vertical-align: top;\n",
              "    }\n",
              "\n",
              "    .dataframe thead th {\n",
              "        text-align: right;\n",
              "    }\n",
              "</style>\n",
              "<table border=\"1\" class=\"dataframe\">\n",
              "  <thead>\n",
              "    <tr style=\"text-align: right;\">\n",
              "      <th></th>\n",
              "      <th>Month</th>\n",
              "      <th>Employment</th>\n",
              "      <th>Unemployment</th>\n",
              "      <th>Productivity</th>\n",
              "      <th>GDP</th>\n",
              "      <th>Stock market</th>\n",
              "      <th>jobs</th>\n",
              "      <th>UMEX</th>\n",
              "      <th>UIClaims</th>\n",
              "    </tr>\n",
              "  </thead>\n",
              "  <tbody>\n",
              "    <tr>\n",
              "      <th>0</th>\n",
              "      <td>2004-01</td>\n",
              "      <td>99</td>\n",
              "      <td>21</td>\n",
              "      <td>2</td>\n",
              "      <td>4</td>\n",
              "      <td>9</td>\n",
              "      <td>58</td>\n",
              "      <td>128</td>\n",
              "      <td>2510035</td>\n",
              "    </tr>\n",
              "    <tr>\n",
              "      <th>1</th>\n",
              "      <td>2004-02</td>\n",
              "      <td>92</td>\n",
              "      <td>20</td>\n",
              "      <td>2</td>\n",
              "      <td>5</td>\n",
              "      <td>9</td>\n",
              "      <td>52</td>\n",
              "      <td>111</td>\n",
              "      <td>1445179</td>\n",
              "    </tr>\n",
              "    <tr>\n",
              "      <th>2</th>\n",
              "      <td>2004-03</td>\n",
              "      <td>92</td>\n",
              "      <td>17</td>\n",
              "      <td>2</td>\n",
              "      <td>5</td>\n",
              "      <td>7</td>\n",
              "      <td>53</td>\n",
              "      <td>100</td>\n",
              "      <td>1252312</td>\n",
              "    </tr>\n",
              "    <tr>\n",
              "      <th>3</th>\n",
              "      <td>2004-04</td>\n",
              "      <td>94</td>\n",
              "      <td>17</td>\n",
              "      <td>2</td>\n",
              "      <td>5</td>\n",
              "      <td>8</td>\n",
              "      <td>53</td>\n",
              "      <td>107</td>\n",
              "      <td>1303639</td>\n",
              "    </tr>\n",
              "    <tr>\n",
              "      <th>4</th>\n",
              "      <td>2004-05</td>\n",
              "      <td>92</td>\n",
              "      <td>16</td>\n",
              "      <td>2</td>\n",
              "      <td>4</td>\n",
              "      <td>8</td>\n",
              "      <td>56</td>\n",
              "      <td>110</td>\n",
              "      <td>1471092</td>\n",
              "    </tr>\n",
              "  </tbody>\n",
              "</table>\n",
              "</div>"
            ],
            "text/plain": [
              "     Month  Employment  Unemployment  ...  jobs  UMEX  UIClaims\n",
              "0  2004-01          99            21  ...    58   128   2510035\n",
              "1  2004-02          92            20  ...    52   111   1445179\n",
              "2  2004-03          92            17  ...    53   100   1252312\n",
              "3  2004-04          94            17  ...    53   107   1303639\n",
              "4  2004-05          92            16  ...    56   110   1471092\n",
              "\n",
              "[5 rows x 9 columns]"
            ]
          },
          "metadata": {
            "tags": []
          },
          "execution_count": 56
        }
      ]
    },
    {
      "cell_type": "code",
      "metadata": {
        "id": "yZEGXGJ8kxWB",
        "colab_type": "code",
        "colab": {}
      },
      "source": [
        "datafile['UIClaims']"
      ],
      "execution_count": 0,
      "outputs": []
    },
    {
      "cell_type": "code",
      "metadata": {
        "id": "N2JlQKnbhgKo",
        "colab_type": "code",
        "colab": {}
      },
      "source": [
        ""
      ],
      "execution_count": 0,
      "outputs": []
    },
    {
      "cell_type": "code",
      "metadata": {
        "id": "U7czX-zhblvb",
        "colab_type": "code",
        "colab": {}
      },
      "source": [
        "datafile.drop(datafile.tail(2).index,inplace=True)"
      ],
      "execution_count": 0,
      "outputs": []
    },
    {
      "cell_type": "code",
      "metadata": {
        "id": "QsxTla6oCE3N",
        "colab_type": "code",
        "outputId": "cf1fa288-e8c1-47d5-9db8-d5e89b45bb41",
        "colab": {
          "base_uri": "https://localhost:8080/",
          "height": 51
        }
      },
      "source": [
        "print(datafile['UIClaims'].max())\n",
        "print(datafile['UIClaims'].min()) #3755055 #714288"
      ],
      "execution_count": 0,
      "outputs": [
        {
          "output_type": "stream",
          "text": [
            "3755055\n",
            "795365\n"
          ],
          "name": "stdout"
        }
      ]
    },
    {
      "cell_type": "code",
      "metadata": {
        "id": "49n0_OMhkTra",
        "colab_type": "code",
        "outputId": "002e4e0a-592e-45a8-fcc7-efccada6fe76",
        "colab": {
          "base_uri": "https://localhost:8080/",
          "height": 364
        }
      },
      "source": [
        "plt.scatter(x = datafile.index, y = datafile['UIClaims'])"
      ],
      "execution_count": 0,
      "outputs": [
        {
          "output_type": "execute_result",
          "data": {
            "text/plain": [
              "<matplotlib.collections.PathCollection at 0x7f7d9dc4cc18>"
            ]
          },
          "metadata": {
            "tags": []
          },
          "execution_count": 10
        },
        {
          "output_type": "display_data",
          "data": {
            "image/png": "[encoded data removed]",
            "text/plain": [
              "<matplotlib.figure.Figure at 0x7f7da04e3588>"
            ]
          },
          "metadata": {
            "tags": []
          }
        }
      ]
    },
    {
      "cell_type": "code",
      "metadata": {
        "id": "Lx_8xdYnBOTQ",
        "colab_type": "code",
        "colab": {}
      },
      "source": [
        "# Normalize the UIClaims\n",
        "datafile[\"UIClaims\"]=((datafile[\"UIClaims\"]-datafile[\"UIClaims\"].min())/(datafile[\"UIClaims\"].max()-datafile[\"UIClaims\"].min()))*100"
      ],
      "execution_count": 0,
      "outputs": []
    },
    {
      "cell_type": "code",
      "metadata": {
        "id": "9KC-ee80oHyk",
        "colab_type": "code",
        "outputId": "02607ec3-61e1-472c-a870-fedd7cfaba67",
        "colab": {
          "base_uri": "https://localhost:8080/",
          "height": 364
        }
      },
      "source": [
        "plt.scatter(x = datafile.index, y = datafile['UIClaims'])"
      ],
      "execution_count": 0,
      "outputs": [
        {
          "output_type": "execute_result",
          "data": {
            "text/plain": [
              "<matplotlib.collections.PathCollection at 0x7f7d9c931860>"
            ]
          },
          "metadata": {
            "tags": []
          },
          "execution_count": 15
        },
        {
          "output_type": "display_data",
          "data": {
            "image/png": "[encoded data removed]",
            "text/plain": [
              "<matplotlib.figure.Figure at 0x7f7d9d976ef0>"
            ]
          },
          "metadata": {
            "tags": []
          }
        }
      ]
    },
    {
      "cell_type": "code",
      "metadata": {
        "id": "LVa9n50NBnde",
        "colab_type": "code",
        "outputId": "522f06a6-ac2d-4b6b-edac-31658393f049",
        "colab": {
          "base_uri": "https://localhost:8080/",
          "height": 204
        }
      },
      "source": [
        "datafile.tail()"
      ],
      "execution_count": 0,
      "outputs": [
        {
          "output_type": "execute_result",
          "data": {
            "text/html": [
              "<div>\n",
              "<style scoped>\n",
              "    .dataframe tbody tr th:only-of-type {\n",
              "        vertical-align: middle;\n",
              "    }\n",
              "\n",
              "    .dataframe tbody tr th {\n",
              "        vertical-align: top;\n",
              "    }\n",
              "\n",
              "    .dataframe thead th {\n",
              "        text-align: right;\n",
              "    }\n",
              "</style>\n",
              "<table border=\"1\" class=\"dataframe\">\n",
              "  <thead>\n",
              "    <tr style=\"text-align: right;\">\n",
              "      <th></th>\n",
              "      <th>Month</th>\n",
              "      <th>Employment</th>\n",
              "      <th>Unemployment</th>\n",
              "      <th>Productivity</th>\n",
              "      <th>GDP</th>\n",
              "      <th>Stock market</th>\n",
              "      <th>jobs</th>\n",
              "      <th>UMEX</th>\n",
              "      <th>UIClaims</th>\n",
              "    </tr>\n",
              "  </thead>\n",
              "  <tbody>\n",
              "    <tr>\n",
              "      <th>171</th>\n",
              "      <td>2018-04</td>\n",
              "      <td>74</td>\n",
              "      <td>18</td>\n",
              "      <td>1</td>\n",
              "      <td>4</td>\n",
              "      <td>13</td>\n",
              "      <td>68</td>\n",
              "      <td>127</td>\n",
              "      <td>844405</td>\n",
              "    </tr>\n",
              "    <tr>\n",
              "      <th>172</th>\n",
              "      <td>2018-05</td>\n",
              "      <td>71</td>\n",
              "      <td>16</td>\n",
              "      <td>1</td>\n",
              "      <td>4</td>\n",
              "      <td>9</td>\n",
              "      <td>68</td>\n",
              "      <td>134</td>\n",
              "      <td>795365</td>\n",
              "    </tr>\n",
              "    <tr>\n",
              "      <th>173</th>\n",
              "      <td>2018-06</td>\n",
              "      <td>71</td>\n",
              "      <td>17</td>\n",
              "      <td>1</td>\n",
              "      <td>3</td>\n",
              "      <td>9</td>\n",
              "      <td>71</td>\n",
              "      <td>132</td>\n",
              "      <td>1069140</td>\n",
              "    </tr>\n",
              "    <tr>\n",
              "      <th>174</th>\n",
              "      <td>2018-07</td>\n",
              "      <td>71</td>\n",
              "      <td>18</td>\n",
              "      <td>1</td>\n",
              "      <td>5</td>\n",
              "      <td>9</td>\n",
              "      <td>71</td>\n",
              "      <td>0</td>\n",
              "      <td>878276</td>\n",
              "    </tr>\n",
              "    <tr>\n",
              "      <th>175</th>\n",
              "      <td>2018-08</td>\n",
              "      <td>85</td>\n",
              "      <td>16</td>\n",
              "      <td>1</td>\n",
              "      <td>5</td>\n",
              "      <td>11</td>\n",
              "      <td>81</td>\n",
              "      <td>0</td>\n",
              "      <td>714288</td>\n",
              "    </tr>\n",
              "  </tbody>\n",
              "</table>\n",
              "</div>"
            ],
            "text/plain": [
              "       Month  Employment  Unemployment  Productivity  GDP  Stock market  jobs  \\\n",
              "171  2018-04          74            18             1    4            13    68   \n",
              "172  2018-05          71            16             1    4             9    68   \n",
              "173  2018-06          71            17             1    3             9    71   \n",
              "174  2018-07          71            18             1    5             9    71   \n",
              "175  2018-08          85            16             1    5            11    81   \n",
              "\n",
              "     UMEX  UIClaims  \n",
              "171   127    844405  \n",
              "172   134    795365  \n",
              "173   132   1069140  \n",
              "174     0    878276  \n",
              "175     0    714288  "
            ]
          },
          "metadata": {
            "tags": []
          },
          "execution_count": 16
        }
      ]
    },
    {
      "cell_type": "code",
      "metadata": {
        "id": "X7uTRSePwUAT",
        "colab_type": "code",
        "outputId": "2ba62205-fa36-4c66-8863-a1c9dfbcfeda",
        "colab": {
          "base_uri": "https://localhost:8080/",
          "height": 311
        }
      },
      "source": [
        "from matplotlib import pyplot\n",
        "from pandas import concat\n",
        "\n",
        "\n",
        "pyplot.figure()\n",
        "\n",
        "for i in range(1,8):\n",
        "  pyplot.subplot(8,1,i+1)\n",
        "  pyplot.plot(datafile.values[:,i])\n",
        "  pyplot.title(datafile.columns[i],y=0.5,loc='right')\n",
        "\n",
        "pyplot.show()  "
      ],
      "execution_count": 0,
      "outputs": [
        {
          "output_type": "display_data",
          "data": {
            "image/png": "[encoded data removed]",
            "text/plain": [
              "<matplotlib.figure.Figure at 0x7f7d9d9927b8>"
            ]
          },
          "metadata": {
            "tags": []
          }
        }
      ]
    },
    {
      "cell_type": "code",
      "metadata": {
        "id": "PZN8E6WHrvvv",
        "colab_type": "code",
        "outputId": "4190ece4-afd2-44be-ff2a-109893017b73",
        "colab": {
          "base_uri": "https://localhost:8080/",
          "height": 204
        }
      },
      "source": [
        "# columns = ['Month',\t'Employment',\t'Unemployment',\t'Productivity',\t'GDP',\t'Stock market',\t'jobs','UMEX','UIClaims']\n",
        "datafile.drop(['Month','Employment','Stock market'],inplace = True, axis=1)\n",
        "datafile.drop(['UMEX'],inplace = True, axis=1)\n",
        "\n",
        "datafile.tail()"
      ],
      "execution_count": 0,
      "outputs": [
        {
          "output_type": "execute_result",
          "data": {
            "text/html": [
              "<div>\n",
              "<style scoped>\n",
              "    .dataframe tbody tr th:only-of-type {\n",
              "        vertical-align: middle;\n",
              "    }\n",
              "\n",
              "    .dataframe tbody tr th {\n",
              "        vertical-align: top;\n",
              "    }\n",
              "\n",
              "    .dataframe thead th {\n",
              "        text-align: right;\n",
              "    }\n",
              "</style>\n",
              "<table border=\"1\" class=\"dataframe\">\n",
              "  <thead>\n",
              "    <tr style=\"text-align: right;\">\n",
              "      <th></th>\n",
              "      <th>Unemployment</th>\n",
              "      <th>Productivity</th>\n",
              "      <th>GDP</th>\n",
              "      <th>jobs</th>\n",
              "      <th>UIClaims</th>\n",
              "    </tr>\n",
              "  </thead>\n",
              "  <tbody>\n",
              "    <tr>\n",
              "      <th>171</th>\n",
              "      <td>18</td>\n",
              "      <td>1</td>\n",
              "      <td>4</td>\n",
              "      <td>68</td>\n",
              "      <td>844405</td>\n",
              "    </tr>\n",
              "    <tr>\n",
              "      <th>172</th>\n",
              "      <td>16</td>\n",
              "      <td>1</td>\n",
              "      <td>4</td>\n",
              "      <td>68</td>\n",
              "      <td>795365</td>\n",
              "    </tr>\n",
              "    <tr>\n",
              "      <th>173</th>\n",
              "      <td>17</td>\n",
              "      <td>1</td>\n",
              "      <td>3</td>\n",
              "      <td>71</td>\n",
              "      <td>1069140</td>\n",
              "    </tr>\n",
              "    <tr>\n",
              "      <th>174</th>\n",
              "      <td>18</td>\n",
              "      <td>1</td>\n",
              "      <td>5</td>\n",
              "      <td>71</td>\n",
              "      <td>878276</td>\n",
              "    </tr>\n",
              "    <tr>\n",
              "      <th>175</th>\n",
              "      <td>16</td>\n",
              "      <td>1</td>\n",
              "      <td>5</td>\n",
              "      <td>81</td>\n",
              "      <td>714288</td>\n",
              "    </tr>\n",
              "  </tbody>\n",
              "</table>\n",
              "</div>"
            ],
            "text/plain": [
              "     Unemployment  Productivity  GDP  jobs  UIClaims\n",
              "171            18             1    4    68    844405\n",
              "172            16             1    4    68    795365\n",
              "173            17             1    3    71   1069140\n",
              "174            18             1    5    71    878276\n",
              "175            16             1    5    81    714288"
            ]
          },
          "metadata": {
            "tags": []
          },
          "execution_count": 18
        }
      ]
    },
    {
      "cell_type": "code",
      "metadata": {
        "id": "3qYpZfNYehii",
        "colab_type": "code",
        "outputId": "8865fd7c-1fd2-45fa-b01a-e999f33439dd",
        "colab": {
          "base_uri": "https://localhost:8080/",
          "height": 34
        }
      },
      "source": [
        "# Y = datafile['UMEX']\n",
        "Y = datafile['UIClaims']\n",
        "# X = datafile[['Employment','Unemployment','Productivity','GDP','Stock market','jobs']]\n",
        "X = datafile[['Unemployment','Productivity','GDP','jobs']]\n",
        "\n",
        "X.head()\n",
        "print(X.shape, Y.shape)\n"
      ],
      "execution_count": 0,
      "outputs": [
        {
          "output_type": "stream",
          "text": [
            "(176, 4) (176,)\n"
          ],
          "name": "stdout"
        }
      ]
    },
    {
      "cell_type": "markdown",
      "metadata": {
        "id": "U-y7w7Q6bX4I",
        "colab_type": "text"
      },
      "source": [
        "## Preprocessing of state level Data"
      ]
    },
    {
      "cell_type": "code",
      "metadata": {
        "id": "l4No-heZ6DWJ",
        "colab_type": "code",
        "outputId": "a0c33830-fc7b-42e1-f9c3-91a6cd2ca16c",
        "colab": {
          "base_uri": "https://localhost:8080/",
          "height": 1969
        }
      },
      "source": [
        "datafie = pd.read_csv('googletrends_bls_state.csv')\n",
        "datafie"
      ],
      "execution_count": 0,
      "outputs": [
        {
          "output_type": "execute_result",
          "data": {
            "text/html": [
              "<div>\n",
              "<style scoped>\n",
              "    .dataframe tbody tr th:only-of-type {\n",
              "        vertical-align: middle;\n",
              "    }\n",
              "\n",
              "    .dataframe tbody tr th {\n",
              "        vertical-align: top;\n",
              "    }\n",
              "\n",
              "    .dataframe thead th {\n",
              "        text-align: right;\n",
              "    }\n",
              "</style>\n",
              "<table border=\"1\" class=\"dataframe\">\n",
              "  <thead>\n",
              "    <tr style=\"text-align: right;\">\n",
              "      <th></th>\n",
              "      <th>State</th>\n",
              "      <th>Month</th>\n",
              "      <th>Year</th>\n",
              "      <th>UIClaims</th>\n",
              "      <th>Employment</th>\n",
              "      <th>Productivity</th>\n",
              "      <th>GDP</th>\n",
              "      <th>Jobs</th>\n",
              "    </tr>\n",
              "  </thead>\n",
              "  <tbody>\n",
              "    <tr>\n",
              "      <th>0</th>\n",
              "      <td>AL</td>\n",
              "      <td>1</td>\n",
              "      <td>2004</td>\n",
              "      <td>47732</td>\n",
              "      <td>5</td>\n",
              "      <td>2</td>\n",
              "      <td>1</td>\n",
              "      <td>92</td>\n",
              "    </tr>\n",
              "    <tr>\n",
              "      <th>1</th>\n",
              "      <td>AL</td>\n",
              "      <td>2</td>\n",
              "      <td>2004</td>\n",
              "      <td>18684</td>\n",
              "      <td>5</td>\n",
              "      <td>1</td>\n",
              "      <td>4</td>\n",
              "      <td>90</td>\n",
              "    </tr>\n",
              "    <tr>\n",
              "      <th>2</th>\n",
              "      <td>AL</td>\n",
              "      <td>3</td>\n",
              "      <td>2004</td>\n",
              "      <td>17610</td>\n",
              "      <td>5</td>\n",
              "      <td>2</td>\n",
              "      <td>0</td>\n",
              "      <td>93</td>\n",
              "    </tr>\n",
              "    <tr>\n",
              "      <th>3</th>\n",
              "      <td>AL</td>\n",
              "      <td>4</td>\n",
              "      <td>2004</td>\n",
              "      <td>17641</td>\n",
              "      <td>7</td>\n",
              "      <td>1</td>\n",
              "      <td>1</td>\n",
              "      <td>91</td>\n",
              "    </tr>\n",
              "    <tr>\n",
              "      <th>4</th>\n",
              "      <td>AL</td>\n",
              "      <td>5</td>\n",
              "      <td>2004</td>\n",
              "      <td>23537</td>\n",
              "      <td>5</td>\n",
              "      <td>0</td>\n",
              "      <td>2</td>\n",
              "      <td>93</td>\n",
              "    </tr>\n",
              "    <tr>\n",
              "      <th>5</th>\n",
              "      <td>AL</td>\n",
              "      <td>6</td>\n",
              "      <td>2004</td>\n",
              "      <td>17522</td>\n",
              "      <td>4</td>\n",
              "      <td>1</td>\n",
              "      <td>0</td>\n",
              "      <td>95</td>\n",
              "    </tr>\n",
              "    <tr>\n",
              "      <th>6</th>\n",
              "      <td>AL</td>\n",
              "      <td>7</td>\n",
              "      <td>2004</td>\n",
              "      <td>30988</td>\n",
              "      <td>2</td>\n",
              "      <td>0</td>\n",
              "      <td>0</td>\n",
              "      <td>98</td>\n",
              "    </tr>\n",
              "    <tr>\n",
              "      <th>7</th>\n",
              "      <td>AL</td>\n",
              "      <td>8</td>\n",
              "      <td>2004</td>\n",
              "      <td>15290</td>\n",
              "      <td>3</td>\n",
              "      <td>1</td>\n",
              "      <td>0</td>\n",
              "      <td>96</td>\n",
              "    </tr>\n",
              "    <tr>\n",
              "      <th>8</th>\n",
              "      <td>AL</td>\n",
              "      <td>9</td>\n",
              "      <td>2004</td>\n",
              "      <td>19310</td>\n",
              "      <td>4</td>\n",
              "      <td>1</td>\n",
              "      <td>1</td>\n",
              "      <td>94</td>\n",
              "    </tr>\n",
              "    <tr>\n",
              "      <th>9</th>\n",
              "      <td>AL</td>\n",
              "      <td>10</td>\n",
              "      <td>2004</td>\n",
              "      <td>28724</td>\n",
              "      <td>6</td>\n",
              "      <td>0</td>\n",
              "      <td>2</td>\n",
              "      <td>92</td>\n",
              "    </tr>\n",
              "    <tr>\n",
              "      <th>10</th>\n",
              "      <td>AL</td>\n",
              "      <td>11</td>\n",
              "      <td>2004</td>\n",
              "      <td>14047</td>\n",
              "      <td>6</td>\n",
              "      <td>1</td>\n",
              "      <td>3</td>\n",
              "      <td>90</td>\n",
              "    </tr>\n",
              "    <tr>\n",
              "      <th>11</th>\n",
              "      <td>AL</td>\n",
              "      <td>12</td>\n",
              "      <td>2004</td>\n",
              "      <td>21586</td>\n",
              "      <td>5</td>\n",
              "      <td>1</td>\n",
              "      <td>0</td>\n",
              "      <td>94</td>\n",
              "    </tr>\n",
              "    <tr>\n",
              "      <th>12</th>\n",
              "      <td>AL</td>\n",
              "      <td>1</td>\n",
              "      <td>2005</td>\n",
              "      <td>41682</td>\n",
              "      <td>6</td>\n",
              "      <td>0</td>\n",
              "      <td>1</td>\n",
              "      <td>93</td>\n",
              "    </tr>\n",
              "    <tr>\n",
              "      <th>13</th>\n",
              "      <td>AL</td>\n",
              "      <td>2</td>\n",
              "      <td>2005</td>\n",
              "      <td>14940</td>\n",
              "      <td>4</td>\n",
              "      <td>0</td>\n",
              "      <td>2</td>\n",
              "      <td>94</td>\n",
              "    </tr>\n",
              "    <tr>\n",
              "      <th>14</th>\n",
              "      <td>AL</td>\n",
              "      <td>3</td>\n",
              "      <td>2005</td>\n",
              "      <td>14349</td>\n",
              "      <td>3</td>\n",
              "      <td>0</td>\n",
              "      <td>1</td>\n",
              "      <td>96</td>\n",
              "    </tr>\n",
              "    <tr>\n",
              "      <th>15</th>\n",
              "      <td>AL</td>\n",
              "      <td>4</td>\n",
              "      <td>2005</td>\n",
              "      <td>20673</td>\n",
              "      <td>5</td>\n",
              "      <td>1</td>\n",
              "      <td>3</td>\n",
              "      <td>91</td>\n",
              "    </tr>\n",
              "    <tr>\n",
              "      <th>16</th>\n",
              "      <td>AL</td>\n",
              "      <td>5</td>\n",
              "      <td>2005</td>\n",
              "      <td>17407</td>\n",
              "      <td>5</td>\n",
              "      <td>0</td>\n",
              "      <td>0</td>\n",
              "      <td>95</td>\n",
              "    </tr>\n",
              "    <tr>\n",
              "      <th>17</th>\n",
              "      <td>AL</td>\n",
              "      <td>6</td>\n",
              "      <td>2005</td>\n",
              "      <td>17685</td>\n",
              "      <td>2</td>\n",
              "      <td>0</td>\n",
              "      <td>0</td>\n",
              "      <td>98</td>\n",
              "    </tr>\n",
              "    <tr>\n",
              "      <th>18</th>\n",
              "      <td>AL</td>\n",
              "      <td>7</td>\n",
              "      <td>2005</td>\n",
              "      <td>30490</td>\n",
              "      <td>4</td>\n",
              "      <td>1</td>\n",
              "      <td>1</td>\n",
              "      <td>94</td>\n",
              "    </tr>\n",
              "    <tr>\n",
              "      <th>19</th>\n",
              "      <td>AL</td>\n",
              "      <td>8</td>\n",
              "      <td>2005</td>\n",
              "      <td>14268</td>\n",
              "      <td>5</td>\n",
              "      <td>1</td>\n",
              "      <td>0</td>\n",
              "      <td>94</td>\n",
              "    </tr>\n",
              "    <tr>\n",
              "      <th>20</th>\n",
              "      <td>AL</td>\n",
              "      <td>9</td>\n",
              "      <td>2005</td>\n",
              "      <td>24548</td>\n",
              "      <td>7</td>\n",
              "      <td>0</td>\n",
              "      <td>1</td>\n",
              "      <td>92</td>\n",
              "    </tr>\n",
              "    <tr>\n",
              "      <th>21</th>\n",
              "      <td>AL</td>\n",
              "      <td>10</td>\n",
              "      <td>2005</td>\n",
              "      <td>18893</td>\n",
              "      <td>5</td>\n",
              "      <td>0</td>\n",
              "      <td>0</td>\n",
              "      <td>95</td>\n",
              "    </tr>\n",
              "    <tr>\n",
              "      <th>22</th>\n",
              "      <td>AL</td>\n",
              "      <td>11</td>\n",
              "      <td>2005</td>\n",
              "      <td>13856</td>\n",
              "      <td>8</td>\n",
              "      <td>1</td>\n",
              "      <td>2</td>\n",
              "      <td>89</td>\n",
              "    </tr>\n",
              "    <tr>\n",
              "      <th>23</th>\n",
              "      <td>AL</td>\n",
              "      <td>12</td>\n",
              "      <td>2005</td>\n",
              "      <td>24458</td>\n",
              "      <td>7</td>\n",
              "      <td>1</td>\n",
              "      <td>0</td>\n",
              "      <td>92</td>\n",
              "    </tr>\n",
              "    <tr>\n",
              "      <th>24</th>\n",
              "      <td>AL</td>\n",
              "      <td>1</td>\n",
              "      <td>2006</td>\n",
              "      <td>31450</td>\n",
              "      <td>6</td>\n",
              "      <td>0</td>\n",
              "      <td>0</td>\n",
              "      <td>94</td>\n",
              "    </tr>\n",
              "    <tr>\n",
              "      <th>25</th>\n",
              "      <td>AL</td>\n",
              "      <td>2</td>\n",
              "      <td>2006</td>\n",
              "      <td>13268</td>\n",
              "      <td>5</td>\n",
              "      <td>1</td>\n",
              "      <td>1</td>\n",
              "      <td>93</td>\n",
              "    </tr>\n",
              "    <tr>\n",
              "      <th>26</th>\n",
              "      <td>AL</td>\n",
              "      <td>3</td>\n",
              "      <td>2006</td>\n",
              "      <td>14910</td>\n",
              "      <td>5</td>\n",
              "      <td>0</td>\n",
              "      <td>2</td>\n",
              "      <td>93</td>\n",
              "    </tr>\n",
              "    <tr>\n",
              "      <th>27</th>\n",
              "      <td>AL</td>\n",
              "      <td>4</td>\n",
              "      <td>2006</td>\n",
              "      <td>21145</td>\n",
              "      <td>4</td>\n",
              "      <td>1</td>\n",
              "      <td>1</td>\n",
              "      <td>94</td>\n",
              "    </tr>\n",
              "    <tr>\n",
              "      <th>28</th>\n",
              "      <td>AL</td>\n",
              "      <td>5</td>\n",
              "      <td>2006</td>\n",
              "      <td>16342</td>\n",
              "      <td>4</td>\n",
              "      <td>0</td>\n",
              "      <td>1</td>\n",
              "      <td>95</td>\n",
              "    </tr>\n",
              "    <tr>\n",
              "      <th>29</th>\n",
              "      <td>AL</td>\n",
              "      <td>6</td>\n",
              "      <td>2006</td>\n",
              "      <td>17419</td>\n",
              "      <td>5</td>\n",
              "      <td>0</td>\n",
              "      <td>0</td>\n",
              "      <td>95</td>\n",
              "    </tr>\n",
              "    <tr>\n",
              "      <th>...</th>\n",
              "      <td>...</td>\n",
              "      <td>...</td>\n",
              "      <td>...</td>\n",
              "      <td>...</td>\n",
              "      <td>...</td>\n",
              "      <td>...</td>\n",
              "      <td>...</td>\n",
              "      <td>...</td>\n",
              "    </tr>\n",
              "    <tr>\n",
              "      <th>8844</th>\n",
              "      <td>WY</td>\n",
              "      <td>1</td>\n",
              "      <td>2016</td>\n",
              "      <td>4406</td>\n",
              "      <td>9</td>\n",
              "      <td>0</td>\n",
              "      <td>1</td>\n",
              "      <td>90</td>\n",
              "    </tr>\n",
              "    <tr>\n",
              "      <th>8845</th>\n",
              "      <td>WY</td>\n",
              "      <td>2</td>\n",
              "      <td>2016</td>\n",
              "      <td>3008</td>\n",
              "      <td>9</td>\n",
              "      <td>0</td>\n",
              "      <td>1</td>\n",
              "      <td>90</td>\n",
              "    </tr>\n",
              "    <tr>\n",
              "      <th>8846</th>\n",
              "      <td>WY</td>\n",
              "      <td>3</td>\n",
              "      <td>2016</td>\n",
              "      <td>2810</td>\n",
              "      <td>9</td>\n",
              "      <td>0</td>\n",
              "      <td>1</td>\n",
              "      <td>90</td>\n",
              "    </tr>\n",
              "    <tr>\n",
              "      <th>8847</th>\n",
              "      <td>WY</td>\n",
              "      <td>4</td>\n",
              "      <td>2016</td>\n",
              "      <td>4116</td>\n",
              "      <td>7</td>\n",
              "      <td>0</td>\n",
              "      <td>1</td>\n",
              "      <td>92</td>\n",
              "    </tr>\n",
              "    <tr>\n",
              "      <th>8848</th>\n",
              "      <td>WY</td>\n",
              "      <td>5</td>\n",
              "      <td>2016</td>\n",
              "      <td>2243</td>\n",
              "      <td>8</td>\n",
              "      <td>0</td>\n",
              "      <td>0</td>\n",
              "      <td>92</td>\n",
              "    </tr>\n",
              "    <tr>\n",
              "      <th>8849</th>\n",
              "      <td>WY</td>\n",
              "      <td>6</td>\n",
              "      <td>2016</td>\n",
              "      <td>1952</td>\n",
              "      <td>7</td>\n",
              "      <td>0</td>\n",
              "      <td>0</td>\n",
              "      <td>93</td>\n",
              "    </tr>\n",
              "    <tr>\n",
              "      <th>8850</th>\n",
              "      <td>WY</td>\n",
              "      <td>7</td>\n",
              "      <td>2016</td>\n",
              "      <td>1949</td>\n",
              "      <td>8</td>\n",
              "      <td>0</td>\n",
              "      <td>0</td>\n",
              "      <td>92</td>\n",
              "    </tr>\n",
              "    <tr>\n",
              "      <th>8851</th>\n",
              "      <td>WY</td>\n",
              "      <td>8</td>\n",
              "      <td>2016</td>\n",
              "      <td>1571</td>\n",
              "      <td>6</td>\n",
              "      <td>0</td>\n",
              "      <td>0</td>\n",
              "      <td>94</td>\n",
              "    </tr>\n",
              "    <tr>\n",
              "      <th>8852</th>\n",
              "      <td>WY</td>\n",
              "      <td>9</td>\n",
              "      <td>2016</td>\n",
              "      <td>1538</td>\n",
              "      <td>6</td>\n",
              "      <td>0</td>\n",
              "      <td>1</td>\n",
              "      <td>93</td>\n",
              "    </tr>\n",
              "    <tr>\n",
              "      <th>8853</th>\n",
              "      <td>WY</td>\n",
              "      <td>10</td>\n",
              "      <td>2016</td>\n",
              "      <td>2551</td>\n",
              "      <td>7</td>\n",
              "      <td>0</td>\n",
              "      <td>1</td>\n",
              "      <td>92</td>\n",
              "    </tr>\n",
              "    <tr>\n",
              "      <th>8854</th>\n",
              "      <td>WY</td>\n",
              "      <td>11</td>\n",
              "      <td>2016</td>\n",
              "      <td>2497</td>\n",
              "      <td>8</td>\n",
              "      <td>0</td>\n",
              "      <td>1</td>\n",
              "      <td>91</td>\n",
              "    </tr>\n",
              "    <tr>\n",
              "      <th>8855</th>\n",
              "      <td>WY</td>\n",
              "      <td>12</td>\n",
              "      <td>2016</td>\n",
              "      <td>3729</td>\n",
              "      <td>11</td>\n",
              "      <td>0</td>\n",
              "      <td>1</td>\n",
              "      <td>88</td>\n",
              "    </tr>\n",
              "    <tr>\n",
              "      <th>8856</th>\n",
              "      <td>WY</td>\n",
              "      <td>1</td>\n",
              "      <td>2017</td>\n",
              "      <td>2714</td>\n",
              "      <td>7</td>\n",
              "      <td>0</td>\n",
              "      <td>1</td>\n",
              "      <td>92</td>\n",
              "    </tr>\n",
              "    <tr>\n",
              "      <th>8857</th>\n",
              "      <td>WY</td>\n",
              "      <td>2</td>\n",
              "      <td>2017</td>\n",
              "      <td>1842</td>\n",
              "      <td>7</td>\n",
              "      <td>0</td>\n",
              "      <td>1</td>\n",
              "      <td>92</td>\n",
              "    </tr>\n",
              "    <tr>\n",
              "      <th>8858</th>\n",
              "      <td>WY</td>\n",
              "      <td>3</td>\n",
              "      <td>2017</td>\n",
              "      <td>1630</td>\n",
              "      <td>6</td>\n",
              "      <td>0</td>\n",
              "      <td>1</td>\n",
              "      <td>93</td>\n",
              "    </tr>\n",
              "    <tr>\n",
              "      <th>8859</th>\n",
              "      <td>WY</td>\n",
              "      <td>4</td>\n",
              "      <td>2017</td>\n",
              "      <td>2176</td>\n",
              "      <td>6</td>\n",
              "      <td>0</td>\n",
              "      <td>1</td>\n",
              "      <td>93</td>\n",
              "    </tr>\n",
              "    <tr>\n",
              "      <th>8860</th>\n",
              "      <td>WY</td>\n",
              "      <td>5</td>\n",
              "      <td>2017</td>\n",
              "      <td>1345</td>\n",
              "      <td>5</td>\n",
              "      <td>0</td>\n",
              "      <td>1</td>\n",
              "      <td>94</td>\n",
              "    </tr>\n",
              "    <tr>\n",
              "      <th>8861</th>\n",
              "      <td>WY</td>\n",
              "      <td>6</td>\n",
              "      <td>2017</td>\n",
              "      <td>1179</td>\n",
              "      <td>3</td>\n",
              "      <td>0</td>\n",
              "      <td>1</td>\n",
              "      <td>96</td>\n",
              "    </tr>\n",
              "    <tr>\n",
              "      <th>8862</th>\n",
              "      <td>WY</td>\n",
              "      <td>7</td>\n",
              "      <td>2017</td>\n",
              "      <td>1261</td>\n",
              "      <td>4</td>\n",
              "      <td>0</td>\n",
              "      <td>0</td>\n",
              "      <td>96</td>\n",
              "    </tr>\n",
              "    <tr>\n",
              "      <th>8863</th>\n",
              "      <td>WY</td>\n",
              "      <td>8</td>\n",
              "      <td>2017</td>\n",
              "      <td>873</td>\n",
              "      <td>3</td>\n",
              "      <td>0</td>\n",
              "      <td>0</td>\n",
              "      <td>97</td>\n",
              "    </tr>\n",
              "    <tr>\n",
              "      <th>8864</th>\n",
              "      <td>WY</td>\n",
              "      <td>9</td>\n",
              "      <td>2017</td>\n",
              "      <td>1295</td>\n",
              "      <td>3</td>\n",
              "      <td>0</td>\n",
              "      <td>1</td>\n",
              "      <td>96</td>\n",
              "    </tr>\n",
              "    <tr>\n",
              "      <th>8865</th>\n",
              "      <td>WY</td>\n",
              "      <td>10</td>\n",
              "      <td>2017</td>\n",
              "      <td>1608</td>\n",
              "      <td>5</td>\n",
              "      <td>0</td>\n",
              "      <td>1</td>\n",
              "      <td>94</td>\n",
              "    </tr>\n",
              "    <tr>\n",
              "      <th>8866</th>\n",
              "      <td>WY</td>\n",
              "      <td>11</td>\n",
              "      <td>2017</td>\n",
              "      <td>1999</td>\n",
              "      <td>5</td>\n",
              "      <td>0</td>\n",
              "      <td>0</td>\n",
              "      <td>95</td>\n",
              "    </tr>\n",
              "    <tr>\n",
              "      <th>8867</th>\n",
              "      <td>WY</td>\n",
              "      <td>12</td>\n",
              "      <td>2017</td>\n",
              "      <td>2940</td>\n",
              "      <td>7</td>\n",
              "      <td>0</td>\n",
              "      <td>1</td>\n",
              "      <td>92</td>\n",
              "    </tr>\n",
              "    <tr>\n",
              "      <th>8868</th>\n",
              "      <td>WY</td>\n",
              "      <td>1</td>\n",
              "      <td>2018</td>\n",
              "      <td>2225</td>\n",
              "      <td>6</td>\n",
              "      <td>0</td>\n",
              "      <td>1</td>\n",
              "      <td>93</td>\n",
              "    </tr>\n",
              "    <tr>\n",
              "      <th>8869</th>\n",
              "      <td>WY</td>\n",
              "      <td>2</td>\n",
              "      <td>2018</td>\n",
              "      <td>1547</td>\n",
              "      <td>5</td>\n",
              "      <td>0</td>\n",
              "      <td>1</td>\n",
              "      <td>94</td>\n",
              "    </tr>\n",
              "    <tr>\n",
              "      <th>8870</th>\n",
              "      <td>WY</td>\n",
              "      <td>3</td>\n",
              "      <td>2018</td>\n",
              "      <td>1761</td>\n",
              "      <td>4</td>\n",
              "      <td>0</td>\n",
              "      <td>0</td>\n",
              "      <td>96</td>\n",
              "    </tr>\n",
              "    <tr>\n",
              "      <th>8871</th>\n",
              "      <td>WY</td>\n",
              "      <td>4</td>\n",
              "      <td>2018</td>\n",
              "      <td>1563</td>\n",
              "      <td>4</td>\n",
              "      <td>0</td>\n",
              "      <td>1</td>\n",
              "      <td>95</td>\n",
              "    </tr>\n",
              "    <tr>\n",
              "      <th>8872</th>\n",
              "      <td>WY</td>\n",
              "      <td>5</td>\n",
              "      <td>2018</td>\n",
              "      <td>1058</td>\n",
              "      <td>5</td>\n",
              "      <td>0</td>\n",
              "      <td>0</td>\n",
              "      <td>95</td>\n",
              "    </tr>\n",
              "    <tr>\n",
              "      <th>8873</th>\n",
              "      <td>WY</td>\n",
              "      <td>6</td>\n",
              "      <td>2018</td>\n",
              "      <td>1401</td>\n",
              "      <td>5</td>\n",
              "      <td>0</td>\n",
              "      <td>0</td>\n",
              "      <td>95</td>\n",
              "    </tr>\n",
              "  </tbody>\n",
              "</table>\n",
              "<p>8874 rows × 8 columns</p>\n",
              "</div>"
            ],
            "text/plain": [
              "     State  Month  Year  UIClaims  Employment  Productivity  GDP  Jobs\n",
              "0       AL      1  2004     47732           5             2    1    92\n",
              "1       AL      2  2004     18684           5             1    4    90\n",
              "2       AL      3  2004     17610           5             2    0    93\n",
              "3       AL      4  2004     17641           7             1    1    91\n",
              "4       AL      5  2004     23537           5             0    2    93\n",
              "5       AL      6  2004     17522           4             1    0    95\n",
              "6       AL      7  2004     30988           2             0    0    98\n",
              "7       AL      8  2004     15290           3             1    0    96\n",
              "8       AL      9  2004     19310           4             1    1    94\n",
              "9       AL     10  2004     28724           6             0    2    92\n",
              "10      AL     11  2004     14047           6             1    3    90\n",
              "11      AL     12  2004     21586           5             1    0    94\n",
              "12      AL      1  2005     41682           6             0    1    93\n",
              "13      AL      2  2005     14940           4             0    2    94\n",
              "14      AL      3  2005     14349           3             0    1    96\n",
              "15      AL      4  2005     20673           5             1    3    91\n",
              "16      AL      5  2005     17407           5             0    0    95\n",
              "17      AL      6  2005     17685           2             0    0    98\n",
              "18      AL      7  2005     30490           4             1    1    94\n",
              "19      AL      8  2005     14268           5             1    0    94\n",
              "20      AL      9  2005     24548           7             0    1    92\n",
              "21      AL     10  2005     18893           5             0    0    95\n",
              "22      AL     11  2005     13856           8             1    2    89\n",
              "23      AL     12  2005     24458           7             1    0    92\n",
              "24      AL      1  2006     31450           6             0    0    94\n",
              "25      AL      2  2006     13268           5             1    1    93\n",
              "26      AL      3  2006     14910           5             0    2    93\n",
              "27      AL      4  2006     21145           4             1    1    94\n",
              "28      AL      5  2006     16342           4             0    1    95\n",
              "29      AL      6  2006     17419           5             0    0    95\n",
              "...    ...    ...   ...       ...         ...           ...  ...   ...\n",
              "8844    WY      1  2016      4406           9             0    1    90\n",
              "8845    WY      2  2016      3008           9             0    1    90\n",
              "8846    WY      3  2016      2810           9             0    1    90\n",
              "8847    WY      4  2016      4116           7             0    1    92\n",
              "8848    WY      5  2016      2243           8             0    0    92\n",
              "8849    WY      6  2016      1952           7             0    0    93\n",
              "8850    WY      7  2016      1949           8             0    0    92\n",
              "8851    WY      8  2016      1571           6             0    0    94\n",
              "8852    WY      9  2016      1538           6             0    1    93\n",
              "8853    WY     10  2016      2551           7             0    1    92\n",
              "8854    WY     11  2016      2497           8             0    1    91\n",
              "8855    WY     12  2016      3729          11             0    1    88\n",
              "8856    WY      1  2017      2714           7             0    1    92\n",
              "8857    WY      2  2017      1842           7             0    1    92\n",
              "8858    WY      3  2017      1630           6             0    1    93\n",
              "8859    WY      4  2017      2176           6             0    1    93\n",
              "8860    WY      5  2017      1345           5             0    1    94\n",
              "8861    WY      6  2017      1179           3             0    1    96\n",
              "8862    WY      7  2017      1261           4             0    0    96\n",
              "8863    WY      8  2017       873           3             0    0    97\n",
              "8864    WY      9  2017      1295           3             0    1    96\n",
              "8865    WY     10  2017      1608           5             0    1    94\n",
              "8866    WY     11  2017      1999           5             0    0    95\n",
              "8867    WY     12  2017      2940           7             0    1    92\n",
              "8868    WY      1  2018      2225           6             0    1    93\n",
              "8869    WY      2  2018      1547           5             0    1    94\n",
              "8870    WY      3  2018      1761           4             0    0    96\n",
              "8871    WY      4  2018      1563           4             0    1    95\n",
              "8872    WY      5  2018      1058           5             0    0    95\n",
              "8873    WY      6  2018      1401           5             0    0    95\n",
              "\n",
              "[8874 rows x 8 columns]"
            ]
          },
          "metadata": {
            "tags": []
          },
          "execution_count": 20
        }
      ]
    },
    {
      "cell_type": "code",
      "metadata": {
        "id": "0uOHeUVYHeDC",
        "colab_type": "code",
        "colab": {}
      },
      "source": [
        "st1 = datafie.iloc[0:174]"
      ],
      "execution_count": 0,
      "outputs": []
    },
    {
      "cell_type": "code",
      "metadata": {
        "id": "iNCWJHeIo3e6",
        "colab_type": "code",
        "colab": {}
      },
      "source": [
        "st2 = datafie.iloc[175:175+173]\n",
        "st3 = datafie.iloc[175+174:175+174+173]\n",
        "st4 = datafie.iloc[523:523+173]"
      ],
      "execution_count": 0,
      "outputs": []
    },
    {
      "cell_type": "code",
      "metadata": {
        "id": "6er1sOgflm5i",
        "colab_type": "code",
        "outputId": "dc070858-c4a4-4baf-b4b9-4badf8ba822a",
        "colab": {
          "base_uri": "https://localhost:8080/",
          "height": 364
        }
      },
      "source": [
        "plt.plot(st1['UIClaims'],datafile)"
      ],
      "execution_count": 0,
      "outputs": [
        {
          "output_type": "execute_result",
          "data": {
            "text/plain": [
              "[<matplotlib.lines.Line2D at 0x7ff9812fa438>]"
            ]
          },
          "metadata": {
            "tags": []
          },
          "execution_count": 17
        },
        {
          "output_type": "display_data",
          "data": {
            "image/png": "[encoded data removed]",
            "text/plain": [
              "<matplotlib.figure.Figure at 0x7ff9813a9208>"
            ]
          },
          "metadata": {
            "tags": []
          }
        }
      ]
    },
    {
      "cell_type": "code",
      "metadata": {
        "id": "RM3ejs7VsdUc",
        "colab_type": "code",
        "outputId": "10fe3e2e-a740-4fc2-bca1-4122022e541c",
        "colab": {
          "base_uri": "https://localhost:8080/",
          "height": 364
        }
      },
      "source": [
        "plt.plot(st1.index,st1['UIClaims'])"
      ],
      "execution_count": 0,
      "outputs": [
        {
          "output_type": "execute_result",
          "data": {
            "text/plain": [
              "[<matplotlib.lines.Line2D at 0x7ff98151c358>]"
            ]
          },
          "metadata": {
            "tags": []
          },
          "execution_count": 12
        },
        {
          "output_type": "display_data",
          "data": {
            "image/png": "[encoded data removed]",
            "text/plain": [
              "<matplotlib.figure.Figure at 0x7ff983df6ef0>"
            ]
          },
          "metadata": {
            "tags": []
          }
        }
      ]
    },
    {
      "cell_type": "code",
      "metadata": {
        "id": "9R4uACChsqBA",
        "colab_type": "code",
        "outputId": "cb1b181b-d9f8-40cb-c749-6eabfacbb899",
        "colab": {
          "base_uri": "https://localhost:8080/",
          "height": 364
        }
      },
      "source": [
        "plt.plot(st2.index,st2['UIClaims'])"
      ],
      "execution_count": 0,
      "outputs": [
        {
          "output_type": "execute_result",
          "data": {
            "text/plain": [
              "[<matplotlib.lines.Line2D at 0x7f4836306eb8>]"
            ]
          },
          "metadata": {
            "tags": []
          },
          "execution_count": 41
        },
        {
          "output_type": "display_data",
          "data": {
            "image/png": "[encoded data removed]",
            "text/plain": [
              "<matplotlib.figure.Figure at 0x7f483633eba8>"
            ]
          },
          "metadata": {
            "tags": []
          }
        }
      ]
    },
    {
      "cell_type": "code",
      "metadata": {
        "id": "IcQzPgeqs2It",
        "colab_type": "code",
        "outputId": "80555f52-8b04-41d3-849e-7ed4bf90bb7a",
        "colab": {
          "base_uri": "https://localhost:8080/",
          "height": 364
        }
      },
      "source": [
        "plt.plot(st3.index,st3['UIClaims'])"
      ],
      "execution_count": 0,
      "outputs": [
        {
          "output_type": "execute_result",
          "data": {
            "text/plain": [
              "[<matplotlib.lines.Line2D at 0x7f4837e795f8>]"
            ]
          },
          "metadata": {
            "tags": []
          },
          "execution_count": 43
        },
        {
          "output_type": "display_data",
          "data": {
            "image/png": "[encoded data removed]",
            "text/plain": [
              "<matplotlib.figure.Figure at 0x7f48362cf5f8>"
            ]
          },
          "metadata": {
            "tags": []
          }
        }
      ]
    },
    {
      "cell_type": "code",
      "metadata": {
        "id": "XVu8caD-vGv4",
        "colab_type": "code",
        "outputId": "d1fcb218-2ae0-4f72-a761-b96655d752ec",
        "colab": {
          "base_uri": "https://localhost:8080/",
          "height": 367
        }
      },
      "source": [
        "plt.plot(st4.index,st4['UIClaims'])"
      ],
      "execution_count": 0,
      "outputs": [
        {
          "output_type": "execute_result",
          "data": {
            "text/plain": [
              "[<matplotlib.lines.Line2D at 0x7f4837e20da0>]"
            ]
          },
          "metadata": {
            "tags": []
          },
          "execution_count": 44
        },
        {
          "output_type": "display_data",
          "data": {
            "image/png": "[encoded data removed]",
            "text/plain": [
              "<matplotlib.figure.Figure at 0x7f4837f9ce80>"
            ]
          },
          "metadata": {
            "tags": []
          }
        }
      ]
    },
    {
      "cell_type": "code",
      "metadata": {
        "id": "XgAgMXyupS3S",
        "colab_type": "code",
        "outputId": "9d88baf5-f7a3-4c09-cd77-cd382c20cad0",
        "colab": {
          "base_uri": "https://localhost:8080/",
          "height": 364
        }
      },
      "source": [
        "plt.scatter(x = st1.index, y = st1['UIClaims'])"
      ],
      "execution_count": 0,
      "outputs": [
        {
          "output_type": "execute_result",
          "data": {
            "text/plain": [
              "<matplotlib.collections.PathCollection at 0x7f48365096a0>"
            ]
          },
          "metadata": {
            "tags": []
          },
          "execution_count": 34
        },
        {
          "output_type": "display_data",
          "data": {
            "image/png": "[encoded data removed]",
            "text/plain": [
              "<matplotlib.figure.Figure at 0x7f48365dc898>"
            ]
          },
          "metadata": {
            "tags": []
          }
        }
      ]
    },
    {
      "cell_type": "code",
      "metadata": {
        "id": "Imqg0niasuC0",
        "colab_type": "code",
        "outputId": "66fa30c6-fd08-4e24-fee9-410cf7b67b83",
        "colab": {
          "base_uri": "https://localhost:8080/",
          "height": 364
        }
      },
      "source": [
        "plt.scatter(x = st2.index, y = st2['UIClaims'])"
      ],
      "execution_count": 0,
      "outputs": [
        {
          "output_type": "execute_result",
          "data": {
            "text/plain": [
              "<matplotlib.collections.PathCollection at 0x7f4836270828>"
            ]
          },
          "metadata": {
            "tags": []
          },
          "execution_count": 42
        },
        {
          "output_type": "display_data",
          "data": {
            "image/png": "[encoded data removed]",
            "text/plain": [
              "<matplotlib.figure.Figure at 0x7f483638c748>"
            ]
          },
          "metadata": {
            "tags": []
          }
        }
      ]
    },
    {
      "cell_type": "code",
      "metadata": {
        "id": "ancsc9MYqKkE",
        "colab_type": "code",
        "outputId": "6ab4c7e2-6569-4c50-94b5-7f07d3be8e80",
        "colab": {
          "base_uri": "https://localhost:8080/",
          "height": 364
        }
      },
      "source": [
        "plt.scatter(x = st3.index, y = st3['UIClaims'])"
      ],
      "execution_count": 0,
      "outputs": [
        {
          "output_type": "execute_result",
          "data": {
            "text/plain": [
              "<matplotlib.collections.PathCollection at 0x7f4836456470>"
            ]
          },
          "metadata": {
            "tags": []
          },
          "execution_count": 37
        },
        {
          "output_type": "display_data",
          "data": {
            "image/png": "[encoded data removed]",
            "text/plain": [
              "<matplotlib.figure.Figure at 0x7f48365dc6a0>"
            ]
          },
          "metadata": {
            "tags": []
          }
        }
      ]
    },
    {
      "cell_type": "code",
      "metadata": {
        "id": "OJdE7cfhrhUr",
        "colab_type": "code",
        "outputId": "fb55f79c-abd6-4014-d0ff-df92f71ad097",
        "colab": {
          "base_uri": "https://localhost:8080/",
          "height": 367
        }
      },
      "source": [
        "plt.scatter(x = st4.index, y = st4['UIClaims'])"
      ],
      "execution_count": 0,
      "outputs": [
        {
          "output_type": "execute_result",
          "data": {
            "text/plain": [
              "<matplotlib.collections.PathCollection at 0x7f48363c1080>"
            ]
          },
          "metadata": {
            "tags": []
          },
          "execution_count": 39
        },
        {
          "output_type": "display_data",
          "data": {
            "image/png": "[encoded data removed]",
            "text/plain": [
              "<matplotlib.figure.Figure at 0x7f483641ee10>"
            ]
          },
          "metadata": {
            "tags": []
          }
        }
      ]
    },
    {
      "cell_type": "code",
      "metadata": {
        "id": "7HgAikR-Ce8W",
        "colab_type": "code",
        "colab": {}
      },
      "source": [
        "datafie[\"UIClaims\"]=((datafie[\"UIClaims\"]-datafie[\"UIClaims\"].min())/(datafie[\"UIClaims\"].max()-datafie[\"UIClaims\"].min()))*100"
      ],
      "execution_count": 0,
      "outputs": []
    },
    {
      "cell_type": "code",
      "metadata": {
        "id": "PRe9iYfpbU2J",
        "colab_type": "code",
        "outputId": "15de6422-1a1a-47db-b042-6bf5da67bc48",
        "colab": {
          "base_uri": "https://localhost:8080/",
          "height": 221
        }
      },
      "source": [
        "# # Data size - 51(states) x 697 observations        697 = 174*4+1()\n",
        "# datafie = pd.read_csv('trends_state_4.csv')\n",
        "# datafie.shape\n",
        "# states = datafie.iloc[:,0]\n",
        "# datafie.drop(datafie.columns[0],inplace = True, axis=1)\n",
        "# print(datafie.shape)\n",
        "# datafie.head()\n",
        "\n",
        "datafie = pd.read_csv('googletrends_bls_state.csv')\n",
        "# datafie.shape\n",
        "# states = datafie.iloc[:,0]\n",
        "datafie.drop(datafie.columns[0],inplace = True, axis=1)\n",
        "datafie.drop(datafie.columns[0],inplace = True, axis=1)\n",
        "datafie.drop(datafie.columns[0],inplace = True, axis=1)\n",
        "print(datafie.shape)\n",
        "datafie.head()\n",
        "\n"
      ],
      "execution_count": 0,
      "outputs": [
        {
          "output_type": "stream",
          "text": [
            "(8874, 5)\n"
          ],
          "name": "stdout"
        },
        {
          "output_type": "execute_result",
          "data": {
            "text/html": [
              "<div>\n",
              "<style scoped>\n",
              "    .dataframe tbody tr th:only-of-type {\n",
              "        vertical-align: middle;\n",
              "    }\n",
              "\n",
              "    .dataframe tbody tr th {\n",
              "        vertical-align: top;\n",
              "    }\n",
              "\n",
              "    .dataframe thead th {\n",
              "        text-align: right;\n",
              "    }\n",
              "</style>\n",
              "<table border=\"1\" class=\"dataframe\">\n",
              "  <thead>\n",
              "    <tr style=\"text-align: right;\">\n",
              "      <th></th>\n",
              "      <th>UIClaims</th>\n",
              "      <th>Employment</th>\n",
              "      <th>Productivity</th>\n",
              "      <th>GDP</th>\n",
              "      <th>Jobs</th>\n",
              "    </tr>\n",
              "  </thead>\n",
              "  <tbody>\n",
              "    <tr>\n",
              "      <th>0</th>\n",
              "      <td>47732</td>\n",
              "      <td>5</td>\n",
              "      <td>2</td>\n",
              "      <td>1</td>\n",
              "      <td>92</td>\n",
              "    </tr>\n",
              "    <tr>\n",
              "      <th>1</th>\n",
              "      <td>18684</td>\n",
              "      <td>5</td>\n",
              "      <td>1</td>\n",
              "      <td>4</td>\n",
              "      <td>90</td>\n",
              "    </tr>\n",
              "    <tr>\n",
              "      <th>2</th>\n",
              "      <td>17610</td>\n",
              "      <td>5</td>\n",
              "      <td>2</td>\n",
              "      <td>0</td>\n",
              "      <td>93</td>\n",
              "    </tr>\n",
              "    <tr>\n",
              "      <th>3</th>\n",
              "      <td>17641</td>\n",
              "      <td>7</td>\n",
              "      <td>1</td>\n",
              "      <td>1</td>\n",
              "      <td>91</td>\n",
              "    </tr>\n",
              "    <tr>\n",
              "      <th>4</th>\n",
              "      <td>23537</td>\n",
              "      <td>5</td>\n",
              "      <td>0</td>\n",
              "      <td>2</td>\n",
              "      <td>93</td>\n",
              "    </tr>\n",
              "  </tbody>\n",
              "</table>\n",
              "</div>"
            ],
            "text/plain": [
              "   UIClaims  Employment  Productivity  GDP  Jobs\n",
              "0     47732           5             2    1    92\n",
              "1     18684           5             1    4    90\n",
              "2     17610           5             2    0    93\n",
              "3     17641           7             1    1    91\n",
              "4     23537           5             0    2    93"
            ]
          },
          "metadata": {
            "tags": []
          },
          "execution_count": 32
        }
      ]
    },
    {
      "cell_type": "code",
      "metadata": {
        "id": "0WL-jmBS815S",
        "colab_type": "code",
        "outputId": "12dd16aa-056e-4f8f-e3c6-99666d4a6416",
        "colab": {
          "base_uri": "https://localhost:8080/",
          "height": 51
        }
      },
      "source": [
        "matrix = datafie.as_matrix()\n",
        "matrix.shape\n",
        "matrix = matrix[:697,:]\n",
        "matrix[0]=((matrix[0]-matrix[0].min())/(matrix[0].max()-matrix[0].min()))*100\n",
        "# matrix = np.reshape(matrix,(51*174,5))\n",
        "# print(np.reshape(matrix,(51*174,5)))\n",
        "print(matrix.shape)\n",
        "Y_test = matrix[:,:1]\n",
        "X_test = matrix[:,1:]\n",
        "print(X_test.shape,Y_test.shape)"
      ],
      "execution_count": 0,
      "outputs": [
        {
          "output_type": "stream",
          "text": [
            "(697, 5)\n",
            "(697, 4) (697, 1)\n"
          ],
          "name": "stdout"
        }
      ]
    },
    {
      "cell_type": "code",
      "metadata": {
        "id": "WDRa3nFiEKDd",
        "colab_type": "code",
        "outputId": "ba194172-9762-4e45-d565-a497e7e2757a",
        "colab": {
          "base_uri": "https://localhost:8080/",
          "height": 136
        }
      },
      "source": [
        "# X_test = datafie[['Employment','Productivity','GDP','Jobs']]\n",
        "# Y_test = datafie[['UIClaims']]\n",
        "# # mat = pd.DataFrame(matrix, columns = ['Employment','Productivity','GDP','Jobs'])\n",
        "# # Y_test = pd.DataFrame(matrix,columns = ['UIClaims'])\n",
        "# Y_test = pd.DataFrame(Y_test)\n",
        "# X_test = pd.DataFrame(X_test)\n",
        "# print(X_test.head())\n",
        "# # Y_test.head()\n",
        "# print(X_test.shape,Y_test.shape)"
      ],
      "execution_count": 0,
      "outputs": [
        {
          "output_type": "stream",
          "text": [
            "   Employment  Productivity  GDP  Jobs\n",
            "0           5             2    1    92\n",
            "1           5             1    4    90\n",
            "2           5             2    0    93\n",
            "3           7             1    1    91\n",
            "4           5             0    2    93\n",
            "(8874, 4) (8874, 1)\n"
          ],
          "name": "stdout"
        }
      ]
    },
    {
      "cell_type": "code",
      "metadata": {
        "id": "s-D0jlPMKEY4",
        "colab_type": "code",
        "outputId": "6f73deac-d488-4bcd-df5a-3e945cd45594",
        "colab": {
          "base_uri": "https://localhost:8080/",
          "height": 164
        }
      },
      "source": [
        "X_test.type"
      ],
      "execution_count": 0,
      "outputs": [
        {
          "output_type": "error",
          "ename": "AttributeError",
          "evalue": "ignored",
          "traceback": [
            "\u001b[0;31m---------------------------------------------------------------------------\u001b[0m",
            "\u001b[0;31mAttributeError\u001b[0m                            Traceback (most recent call last)",
            "\u001b[0;32m<ipython-input-52-98a1b4abfb39>\u001b[0m in \u001b[0;36m<module>\u001b[0;34m()\u001b[0m\n\u001b[0;32m----> 1\u001b[0;31m \u001b[0mX_test\u001b[0m\u001b[0;34m.\u001b[0m\u001b[0mtype\u001b[0m\u001b[0;34m\u001b[0m\u001b[0;34m\u001b[0m\u001b[0m\n\u001b[0m",
            "\u001b[0;31mAttributeError\u001b[0m: 'numpy.ndarray' object has no attribute 'type'"
          ]
        }
      ]
    },
    {
      "cell_type": "code",
      "metadata": {
        "id": "NT6kYv1z_mxQ",
        "colab_type": "code",
        "colab": {}
      },
      "source": [
        "test_y = np.reshape(Y,(1,:))"
      ],
      "execution_count": 0,
      "outputs": []
    },
    {
      "cell_type": "markdown",
      "metadata": {
        "id": "1G_pliyiL5Mn",
        "colab_type": "text"
      },
      "source": [
        "# Clean UIClaims_State_data \n",
        "- stored in googletrends_bls_state"
      ]
    },
    {
      "cell_type": "code",
      "metadata": {
        "id": "l61UEYcAMTt1",
        "colab_type": "code",
        "outputId": "6558c778-8696-4ced-bdc3-0dd763902cbd",
        "colab": {
          "base_uri": "https://localhost:8080/",
          "height": 34
        }
      },
      "source": [
        "!pip3 install xlrd"
      ],
      "execution_count": 0,
      "outputs": [
        {
          "output_type": "stream",
          "text": [
            "Requirement already satisfied: xlrd in /usr/local/lib/python3.6/dist-packages (1.1.0)\n"
          ],
          "name": "stdout"
        }
      ]
    },
    {
      "cell_type": "code",
      "metadata": {
        "id": "0aOwwiIxMaOc",
        "colab_type": "code",
        "outputId": "783b66aa-7d99-4833-e858-22fe1a953b91",
        "colab": {
          "base_uri": "https://localhost:8080/",
          "height": 221
        }
      },
      "source": [
        "!ls"
      ],
      "execution_count": 0,
      "outputs": [
        {
          "output_type": "stream",
          "text": [
            " 2d_4_17.csv\t\t\t  googletrends_state.gsheet\n",
            " 2dout.csv\t\t\t  GoogleTrends_updated.csv\n",
            " 3d_4_17.csv\t\t\t  OES_2_00_17\n",
            " bls_state_uiclaims.xlsx\t  OES_3_00_17\n",
            " Codes\t\t\t\t  output.xlsx\n",
            " Extra_Data_NotForUse\t\t  outt.xlsx\n",
            " final_predicted.gsheet\t\t  predicted.csv\n",
            " final_predicted.xlsx\t\t  predicted.xlsx\n",
            "'Fintech Project Proposal.docx'  'Task Statements (1).txt'\n",
            " GoogleTrendsData.csv\t\t  trends_state_4.csv\n",
            " GoogleTrendsData.gsheet\t  trends_state_4.xlsx\n",
            " googletrends_state.csv\t\t  umichigan_allsentiment_clean.csv\n"
          ],
          "name": "stdout"
        }
      ]
    },
    {
      "cell_type": "code",
      "metadata": {
        "id": "5B4DHrD-L4k-",
        "colab_type": "code",
        "outputId": "329dc1b8-049e-45d6-e00c-62ed7699a974",
        "colab": {
          "base_uri": "https://localhost:8080/",
          "height": 119
        }
      },
      "source": [
        "import pandas as pd\n",
        "from pandas import ExcelWriter\n",
        "from pandas import ExcelFile\n",
        " \n",
        "df = pd.read_excel('bls_state_uiclaims.xlsx', sheetname='cleaned')\n",
        " \n",
        "print(\"Column headings:\")\n",
        "print(df.columns)"
      ],
      "execution_count": 0,
      "outputs": [
        {
          "output_type": "stream",
          "text": [
            "/usr/local/lib/python3.6/dist-packages/pandas/util/_decorators.py:118: FutureWarning: The `sheetname` keyword is deprecated, use `sheet_name` instead\n",
            "  return func(*args, **kwargs)\n"
          ],
          "name": "stderr"
        },
        {
          "output_type": "stream",
          "text": [
            "Column headings:\n",
            "Index(['state', 'month', 'year', 'claims', 'continuedunemp', 'covered',\n",
            "       'unemployment', 'st'],\n",
            "      dtype='object')\n"
          ],
          "name": "stdout"
        }
      ]
    },
    {
      "cell_type": "code",
      "metadata": {
        "id": "FpcfBSKrKmLS",
        "colab_type": "code",
        "outputId": "f2975716-7c74-409e-d8f1-3ca8b012ab04",
        "colab": {
          "base_uri": "https://localhost:8080/",
          "height": 204
        }
      },
      "source": [
        "df.head()"
      ],
      "execution_count": 0,
      "outputs": [
        {
          "output_type": "execute_result",
          "data": {
            "text/html": [
              "<div>\n",
              "<style scoped>\n",
              "    .dataframe tbody tr th:only-of-type {\n",
              "        vertical-align: middle;\n",
              "    }\n",
              "\n",
              "    .dataframe tbody tr th {\n",
              "        vertical-align: top;\n",
              "    }\n",
              "\n",
              "    .dataframe thead th {\n",
              "        text-align: right;\n",
              "    }\n",
              "</style>\n",
              "<table border=\"1\" class=\"dataframe\">\n",
              "  <thead>\n",
              "    <tr style=\"text-align: right;\">\n",
              "      <th></th>\n",
              "      <th>state</th>\n",
              "      <th>month</th>\n",
              "      <th>year</th>\n",
              "      <th>claims</th>\n",
              "      <th>continuedunemp</th>\n",
              "      <th>covered</th>\n",
              "      <th>unemployment</th>\n",
              "      <th>st</th>\n",
              "    </tr>\n",
              "  </thead>\n",
              "  <tbody>\n",
              "    <tr>\n",
              "      <th>0</th>\n",
              "      <td>AL</td>\n",
              "      <td>1</td>\n",
              "      <td>2004</td>\n",
              "      <td>47732</td>\n",
              "      <td>42605.6</td>\n",
              "      <td>1800000</td>\n",
              "      <td>2.3980</td>\n",
              "      <td>1</td>\n",
              "    </tr>\n",
              "    <tr>\n",
              "      <th>1</th>\n",
              "      <td>AL</td>\n",
              "      <td>2</td>\n",
              "      <td>2004</td>\n",
              "      <td>18684</td>\n",
              "      <td>35146.8</td>\n",
              "      <td>1800000</td>\n",
              "      <td>1.9775</td>\n",
              "      <td>1</td>\n",
              "    </tr>\n",
              "    <tr>\n",
              "      <th>2</th>\n",
              "      <td>AL</td>\n",
              "      <td>3</td>\n",
              "      <td>2004</td>\n",
              "      <td>17610</td>\n",
              "      <td>32399.5</td>\n",
              "      <td>1800000</td>\n",
              "      <td>1.8250</td>\n",
              "      <td>1</td>\n",
              "    </tr>\n",
              "    <tr>\n",
              "      <th>3</th>\n",
              "      <td>AL</td>\n",
              "      <td>4</td>\n",
              "      <td>2004</td>\n",
              "      <td>17641</td>\n",
              "      <td>30343.8</td>\n",
              "      <td>1800000</td>\n",
              "      <td>1.7100</td>\n",
              "      <td>1</td>\n",
              "    </tr>\n",
              "    <tr>\n",
              "      <th>4</th>\n",
              "      <td>AL</td>\n",
              "      <td>5</td>\n",
              "      <td>2004</td>\n",
              "      <td>23537</td>\n",
              "      <td>29670.6</td>\n",
              "      <td>1800000</td>\n",
              "      <td>1.6720</td>\n",
              "      <td>1</td>\n",
              "    </tr>\n",
              "  </tbody>\n",
              "</table>\n",
              "</div>"
            ],
            "text/plain": [
              "  state  month  year  claims  continuedunemp  covered  unemployment  st\n",
              "0    AL      1  2004   47732         42605.6  1800000        2.3980   1\n",
              "1    AL      2  2004   18684         35146.8  1800000        1.9775   1\n",
              "2    AL      3  2004   17610         32399.5  1800000        1.8250   1\n",
              "3    AL      4  2004   17641         30343.8  1800000        1.7100   1\n",
              "4    AL      5  2004   23537         29670.6  1800000        1.6720   1"
            ]
          },
          "metadata": {
            "tags": []
          },
          "execution_count": 79
        }
      ]
    },
    {
      "cell_type": "code",
      "metadata": {
        "id": "tyR0JpnWbvKw",
        "colab_type": "code",
        "colab": {}
      },
      "source": [
        "df.drop(['continuedunemp','covered','unemployment','st'], inplace=True, axis=1)"
      ],
      "execution_count": 0,
      "outputs": []
    },
    {
      "cell_type": "code",
      "metadata": {
        "id": "8pOs0Zpxl99W",
        "colab_type": "code",
        "outputId": "a4c364bb-80c3-4ffe-ead3-4dadc622c021",
        "colab": {
          "base_uri": "https://localhost:8080/",
          "height": 34
        }
      },
      "source": [
        "df.shape"
      ],
      "execution_count": 0,
      "outputs": [
        {
          "output_type": "execute_result",
          "data": {
            "text/plain": [
              "(9078, 4)"
            ]
          },
          "metadata": {
            "tags": []
          },
          "execution_count": 83
        }
      ]
    },
    {
      "cell_type": "code",
      "metadata": {
        "id": "uASaTuROccfN",
        "colab_type": "code",
        "outputId": "3470f349-23a8-4c07-b072-6f07fbfb808f",
        "colab": {
          "base_uri": "https://localhost:8080/",
          "height": 204
        }
      },
      "source": [
        "df.tail()"
      ],
      "execution_count": 0,
      "outputs": [
        {
          "output_type": "execute_result",
          "data": {
            "text/html": [
              "<div>\n",
              "<style scoped>\n",
              "    .dataframe tbody tr th:only-of-type {\n",
              "        vertical-align: middle;\n",
              "    }\n",
              "\n",
              "    .dataframe tbody tr th {\n",
              "        vertical-align: top;\n",
              "    }\n",
              "\n",
              "    .dataframe thead th {\n",
              "        text-align: right;\n",
              "    }\n",
              "</style>\n",
              "<table border=\"1\" class=\"dataframe\">\n",
              "  <thead>\n",
              "    <tr style=\"text-align: right;\">\n",
              "      <th></th>\n",
              "      <th>state</th>\n",
              "      <th>month</th>\n",
              "      <th>year</th>\n",
              "      <th>claims</th>\n",
              "    </tr>\n",
              "  </thead>\n",
              "  <tbody>\n",
              "    <tr>\n",
              "      <th>9073</th>\n",
              "      <td>WY</td>\n",
              "      <td>6</td>\n",
              "      <td>2018</td>\n",
              "      <td>1401</td>\n",
              "    </tr>\n",
              "    <tr>\n",
              "      <th>9074</th>\n",
              "      <td>WY</td>\n",
              "      <td>7</td>\n",
              "      <td>2018</td>\n",
              "      <td>942</td>\n",
              "    </tr>\n",
              "    <tr>\n",
              "      <th>9075</th>\n",
              "      <td>WY</td>\n",
              "      <td>8</td>\n",
              "      <td>2018</td>\n",
              "      <td>856</td>\n",
              "    </tr>\n",
              "    <tr>\n",
              "      <th>9076</th>\n",
              "      <td>WY</td>\n",
              "      <td>9</td>\n",
              "      <td>2018</td>\n",
              "      <td>1181</td>\n",
              "    </tr>\n",
              "    <tr>\n",
              "      <th>9077</th>\n",
              "      <td>WY</td>\n",
              "      <td>10</td>\n",
              "      <td>2018</td>\n",
              "      <td>290</td>\n",
              "    </tr>\n",
              "  </tbody>\n",
              "</table>\n",
              "</div>"
            ],
            "text/plain": [
              "     state  month  year  claims\n",
              "9073    WY      6  2018    1401\n",
              "9074    WY      7  2018     942\n",
              "9075    WY      8  2018     856\n",
              "9076    WY      9  2018    1181\n",
              "9077    WY     10  2018     290"
            ]
          },
          "metadata": {
            "tags": []
          },
          "execution_count": 81
        }
      ]
    },
    {
      "cell_type": "code",
      "metadata": {
        "id": "54yM3GrMfgkA",
        "colab_type": "code",
        "outputId": "5f4a4247-d136-48bf-a029-ff8f679b3769",
        "colab": {
          "base_uri": "https://localhost:8080/",
          "height": 34
        }
      },
      "source": [
        "df.iloc[9434,2] == 2018"
      ],
      "execution_count": 0,
      "outputs": [
        {
          "output_type": "execute_result",
          "data": {
            "text/plain": [
              "True"
            ]
          },
          "metadata": {
            "tags": []
          },
          "execution_count": 59
        }
      ]
    },
    {
      "cell_type": "code",
      "metadata": {
        "id": "fSaJr5bxcugI",
        "colab_type": "code",
        "colab": {}
      },
      "source": [
        "df.dropna(inplace=True)\n",
        "arr = [[0]*3 for i in range(8874)] # (12*14+6)*51 = 174*51\n",
        "arr = np.array(arr)\n",
        "# print(arr.shape)\n",
        "a = ['0' for i in range(8874)]\n",
        "c = 0\n",
        "for i in range(9078):\n",
        "  if(df.iloc[i,2] == 2018):\n",
        "    if(c>8840):\n",
        "      print(c,i)\n",
        "    if(df.iloc[i,1] < 7):\n",
        "#       arr[c][0] = df.iloc[i,0]\n",
        "      a[c] = df.iloc[i,0]\n",
        "      arr[c][0] = df.iloc[i,1]\n",
        "      arr[c][1] = df.iloc[i,2]\n",
        "      arr[c][2] = df.iloc[i,3]\n",
        "      c+=1\n",
        "      \n",
        "  else:\n",
        "#     print(df.iloc[i,0],i)\n",
        "#     arr[c][0] = df.iloc[i,0]\n",
        "    if(c>8840):\n",
        "      print(c,i)\n",
        "    a[c] = df.iloc[i,0]\n",
        "    \n",
        "    arr[c][0] = df.iloc[i,1]\n",
        "    arr[c][1] = df.iloc[i,2]\n",
        "    arr[c][2] = df.iloc[i,3]\n",
        "    c+=1"
      ],
      "execution_count": 0,
      "outputs": []
    },
    {
      "cell_type": "code",
      "metadata": {
        "id": "5YaUpSQWuq2g",
        "colab_type": "code",
        "outputId": "e399f7bf-4bee-402e-df02-ce9c76fb83a0",
        "colab": {
          "base_uri": "https://localhost:8080/",
          "height": 136
        }
      },
      "source": [
        "print(arr)"
      ],
      "execution_count": 0,
      "outputs": [
        {
          "output_type": "stream",
          "text": [
            "[[    1  2004 47732]\n",
            " [    2  2004 18684]\n",
            " [    3  2004 17610]\n",
            " ...\n",
            " [    4  2018  1563]\n",
            " [    5  2018  1058]\n",
            " [    6  2018  1401]]\n"
          ],
          "name": "stdout"
        }
      ]
    },
    {
      "cell_type": "code",
      "metadata": {
        "id": "o-ptJ6PBmflZ",
        "colab_type": "code",
        "outputId": "12296e3c-7285-428f-e92c-9ffcd48ad3bb",
        "colab": {
          "base_uri": "https://localhost:8080/",
          "height": 51
        }
      },
      "source": [
        "a = np.array(a)\n",
        "print(a.shape,arr.shape) # 1,8874\n",
        "a = a.reshape(-1,1)\n",
        "print(a.shape,arr.shape) # 1,8874"
      ],
      "execution_count": 0,
      "outputs": [
        {
          "output_type": "stream",
          "text": [
            "(8874, 1) (8874, 3)\n",
            "(8874, 1) (8874, 3)\n"
          ],
          "name": "stdout"
        }
      ]
    },
    {
      "cell_type": "code",
      "metadata": {
        "id": "ED_T2uiCmZJf",
        "colab_type": "code",
        "colab": {}
      },
      "source": [
        "import numpy as np\n",
        "ppop = np.hstack((a,arr))\n",
        "\n",
        "# newar = np.concatenate((arr, a.T), axis=1)"
      ],
      "execution_count": 0,
      "outputs": []
    },
    {
      "cell_type": "code",
      "metadata": {
        "id": "66VmpeIquiq6",
        "colab_type": "code",
        "outputId": "72aff642-ee5c-4cee-edc4-b9d7d8618051",
        "colab": {
          "base_uri": "https://localhost:8080/",
          "height": 136
        }
      },
      "source": [
        "print(ppop)"
      ],
      "execution_count": 0,
      "outputs": [
        {
          "output_type": "stream",
          "text": [
            "[['AL' '1' '2004' '47732']\n",
            " ['AL' '2' '2004' '18684']\n",
            " ['AL' '3' '2004' '17610']\n",
            " ...\n",
            " ['WY' '4' '2018' '1563']\n",
            " ['WY' '5' '2018' '1058']\n",
            " ['WY' '6' '2018' '1401']]\n"
          ],
          "name": "stdout"
        }
      ]
    },
    {
      "cell_type": "code",
      "metadata": {
        "id": "ncOcZpWsu3xi",
        "colab_type": "code",
        "colab": {}
      },
      "source": [
        "pp = np.hstack((ppop,matrix))\n"
      ],
      "execution_count": 0,
      "outputs": []
    },
    {
      "cell_type": "code",
      "metadata": {
        "id": "zlT6BfQMvBYE",
        "colab_type": "code",
        "outputId": "8da1da88-82bb-430f-c178-63fb597e9ac2",
        "colab": {
          "base_uri": "https://localhost:8080/",
          "height": 136
        }
      },
      "source": [
        "print(pp)"
      ],
      "execution_count": 0,
      "outputs": [
        {
          "output_type": "stream",
          "text": [
            "[['AL' '1' '2004' ... '2' '1' '92']\n",
            " ['AL' '2' '2004' ... '1' '4' '90']\n",
            " ['AL' '3' '2004' ... '2' '0' '93']\n",
            " ...\n",
            " ['WY' '4' '2018' ... '0' '1' '95']\n",
            " ['WY' '5' '2018' ... '0' '0' '95']\n",
            " ['WY' '6' '2018' ... '0' '0' '95']]\n"
          ],
          "name": "stdout"
        }
      ]
    },
    {
      "cell_type": "code",
      "metadata": {
        "id": "xInUVBIuvyfQ",
        "colab_type": "code",
        "outputId": "01b49ede-6d83-4ca5-8be2-439934f30115",
        "colab": {
          "base_uri": "https://localhost:8080/",
          "height": 272
        }
      },
      "source": [
        "!pip install openpyxl"
      ],
      "execution_count": 0,
      "outputs": [
        {
          "output_type": "stream",
          "text": [
            "Collecting openpyxl\n",
            "\u001b[?25l  Downloading https://files.pythonhosted.org/packages/08/8a/509eb6f58672288da9a5884e1cc7e90819bc8dbef501161c4b40a6a4e46b/openpyxl-2.5.12.tar.gz (173kB)\n",
            "\r\u001b[K    5% |█▉                              | 10kB 16.2MB/s eta 0:00:01\r\u001b[K    11% |███▊                            | 20kB 2.2MB/s eta 0:00:01\r\u001b[K    17% |█████▋                          | 30kB 3.2MB/s eta 0:00:01\r\u001b[K    23% |███████▌                        | 40kB 2.1MB/s eta 0:00:01\r\u001b[K    29% |█████████▍                      | 51kB 2.6MB/s eta 0:00:01\r\u001b[K    35% |███████████▎                    | 61kB 3.1MB/s eta 0:00:01\r\u001b[K    41% |█████████████▏                  | 71kB 3.5MB/s eta 0:00:01\r\u001b[K    47% |███████████████                 | 81kB 4.0MB/s eta 0:00:01\r\u001b[K    53% |█████████████████               | 92kB 4.5MB/s eta 0:00:01\r\u001b[K    58% |██████████████████▉             | 102kB 3.5MB/s eta 0:00:01\r\u001b[K    64% |████████████████████▊           | 112kB 3.5MB/s eta 0:00:01\r\u001b[K    70% |██████████████████████▋         | 122kB 4.8MB/s eta 0:00:01\r\u001b[K    76% |████████████████████████▌       | 133kB 4.8MB/s eta 0:00:01\r\u001b[K    82% |██████████████████████████▍     | 143kB 8.8MB/s eta 0:00:01\r\u001b[K    88% |████████████████████████████▎   | 153kB 8.9MB/s eta 0:00:01\r\u001b[K    94% |██████████████████████████████▏ | 163kB 8.9MB/s eta 0:00:01\r\u001b[K    100% |████████████████████████████████| 174kB 7.8MB/s \n",
            "\u001b[?25hCollecting jdcal (from openpyxl)\n",
            "  Downloading https://files.pythonhosted.org/packages/a0/38/dcf83532480f25284f3ef13f8ed63e03c58a65c9d3ba2a6a894ed9497207/jdcal-1.4-py2.py3-none-any.whl\n",
            "Collecting et_xmlfile (from openpyxl)\n",
            "  Downloading https://files.pythonhosted.org/packages/22/28/a99c42aea746e18382ad9fb36f64c1c1f04216f41797f2f0fa567da11388/et_xmlfile-1.0.1.tar.gz\n",
            "Building wheels for collected packages: openpyxl, et-xmlfile\n",
            "  Running setup.py bdist_wheel for openpyxl ... \u001b[?25l-\b \b\\\b \b|\b \bdone\n",
            "\u001b[?25h  Stored in directory: /root/.cache/pip/wheels/95/b0/38/e5d13093b588f87177df648c06d07d4b7221f2c17d544cde4c\n",
            "  Running setup.py bdist_wheel for et-xmlfile ... \u001b[?25l-\b \bdone\n",
            "\u001b[?25h  Stored in directory: /root/.cache/pip/wheels/2a/77/35/0da0965a057698121fc7d8c5a7a9955cdbfb3cc4e2423cad39\n",
            "Successfully built openpyxl et-xmlfile\n",
            "Installing collected packages: jdcal, et-xmlfile, openpyxl\n",
            "Successfully installed et-xmlfile-1.0.1 jdcal-1.4 openpyxl-2.5.12\n"
          ],
          "name": "stdout"
        }
      ]
    },
    {
      "cell_type": "code",
      "metadata": {
        "id": "raHQblHivImQ",
        "colab_type": "code",
        "colab": {}
      },
      "source": [
        "myar = pd.DataFrame(pp)\n",
        "filepath = 'googletrends_bls.xlsx'\n",
        "myar.to_excel(filepath, index=False)"
      ],
      "execution_count": 0,
      "outputs": []
    },
    {
      "cell_type": "markdown",
      "metadata": {
        "id": "-WRM-6chqHev",
        "colab_type": "text"
      },
      "source": [
        "----\n",
        "----\n",
        "\n",
        "# **Training Models**\n",
        "---"
      ]
    },
    {
      "cell_type": "markdown",
      "metadata": {
        "id": "REkvAn08RwTR",
        "colab_type": "text"
      },
      "source": [
        "## Training & Testing on National Level Data \n",
        "\n",
        "** 1. Training (X_train,Y_train) -> National Level Data = 100 x 4 , 100 x 1 **\n",
        "\n",
        "** 2. Testing (X_test,Y_test) -> National Level data  =  73 x 4 , 73 x 1 **\n"
      ]
    },
    {
      "cell_type": "code",
      "metadata": {
        "id": "mVSDRrOWzrXF",
        "colab_type": "code",
        "colab": {}
      },
      "source": [
        ""
      ],
      "execution_count": 0,
      "outputs": []
    },
    {
      "cell_type": "code",
      "metadata": {
        "id": "6Y49WqxiwlPL",
        "colab_type": "code",
        "outputId": "676e5582-bf42-4afd-c4a9-76559908f40f",
        "colab": {
          "base_uri": "https://localhost:8080/",
          "height": 119
        }
      },
      "source": [
        "#====================================================\n",
        "##          Long Short Term Memory Data Preparation\n",
        "#====================================================\n",
        "\n",
        "# source: https://machinelearningmastery.com/convert-time-series-supervised-learning-problem-python/\n",
        "\n",
        "from sklearn.preprocessing import MinMaxScaler\n",
        "\n",
        "\n",
        "def series_to_supervised(data, n_in=1, n_out=1, dropnan=True):\n",
        "\tn_vars = 1 if type(data) is list else data.shape[1]\n",
        "\tdf = pd.DataFrame(data)\n",
        "\tcols, names = list(), list()\n",
        "\t# input sequence (t-n, ... t-1)\n",
        "\tfor i in range(n_in, 0, -1):\n",
        "\t\tcols.append(df.shift(i))\n",
        "\t\tnames += [('var%d(t-%d)' % (j+1, i)) for j in range(n_vars)]\n",
        "\t# forecast sequence (t, t+1, ... t+n)\n",
        "\tfor i in range(0, n_out):\n",
        "\t\tcols.append(df.shift(-i))\n",
        "\t\tif i == 0:\n",
        "\t\t\tnames += [('var%d(t)' % (j+1)) for j in range(n_vars)]\n",
        "\t\telse:\n",
        "\t\t\tnames += [('var%d(t+%d)' % (j+1, i)) for j in range(n_vars)]\n",
        "\t# put it all together\n",
        "\tagg = concat(cols, axis=1)\n",
        "\tagg.columns = names\n",
        "\t# drop rows with NaN values\n",
        "\tif dropnan:\n",
        "\t\tagg.dropna(inplace=True)\n",
        "\treturn agg\n",
        "\n",
        "values = datafile.values\n",
        "# ensure all data is float\n",
        "values = values.astype('float32')\n",
        "# normalize features\n",
        "scaler = MinMaxScaler(feature_range=(0, 1))\n",
        "scaled = scaler.fit_transform(values)\n",
        "# frame as supervised learning\n",
        "\n",
        "reframed = series_to_supervised(scaled, 1)\n",
        "# drop columns we don't want to predict\n",
        "reframed.drop(reframed.columns[[6,7,8,9]], axis=1, inplace=True)\n",
        "print(reframed.head())"
      ],
      "execution_count": 0,
      "outputs": [
        {
          "output_type": "stream",
          "text": [
            "   var1(t-1)  var2(t-1)  var3(t-1)  var4(t-1)  var5(t-1)   var1(t)\n",
            "1   0.114754        1.0       0.50   0.311475   0.579341  0.098361\n",
            "2   0.098361        1.0       0.75   0.213115   0.219555  0.049180\n",
            "3   0.049180        1.0       0.75   0.229508   0.154390  0.049180\n",
            "4   0.049180        1.0       0.75   0.229508   0.171732  0.032787\n",
            "5   0.032787        1.0       0.50   0.278689   0.228310  0.049180\n"
          ],
          "name": "stdout"
        }
      ]
    },
    {
      "cell_type": "code",
      "metadata": {
        "id": "FXEfLxxxl8CR",
        "colab_type": "code",
        "outputId": "4cbc7c57-59c6-41cb-c747-d250e2ecd674",
        "colab": {
          "base_uri": "https://localhost:8080/",
          "height": 34
        }
      },
      "source": [
        "values = reframed.values\n",
        "train = values[:100,:]\n",
        "test = values[100:,:]\n",
        "train_x,train_y = train[:,:-1],train[:,-1]\n",
        "test_x,test_y = test[:,:-1],test[:,-1]\n",
        "\n",
        "train_x = train_x.reshape((train_x.shape[0],1,train_x.shape[1]))\n",
        "test_x = test_x.reshape((test_x.shape[0],1,test_x.shape[1]))\n",
        "\n",
        "print(test_x.shape, test_y.shape, train_x.shape, train_y.shape)"
      ],
      "execution_count": 0,
      "outputs": [
        {
          "output_type": "stream",
          "text": [
            "(73, 1, 5) (73,) (100, 1, 5) (100,)\n"
          ],
          "name": "stdout"
        }
      ]
    },
    {
      "cell_type": "code",
      "metadata": {
        "id": "1lqFmPCLqYnS",
        "colab_type": "code",
        "outputId": "a99a852b-3338-48dd-a375-9e5576b08872",
        "colab": {
          "base_uri": "https://localhost:8080/",
          "height": 7249
        }
      },
      "source": [
        "#====================================================\n",
        "##          Long Short Term Memory\n",
        "#====================================================\n",
        "\n",
        "from keras.models import Sequential\n",
        "from keras.layers import Dense\n",
        "from keras.layers import LSTM\n",
        "\n",
        "#--------------------------\n",
        "values = reframed.values\n",
        "train = values[:100,:]\n",
        "test = values[100:,:]\n",
        "train_x,train_y = train[:,:-1],train[:,-1]\n",
        "test_x,test_y = test[:,:-1],test[:,-1]\n",
        "\n",
        "train_x = train_x.reshape((train_x.shape[0],1,train_x.shape[1]))\n",
        "test_x = test_x.reshape((test_x.shape[0],1,test_x.shape[1]))\n",
        "\n",
        "print(test_x.shape, test_y.shape, train_x.shape, train_y.shape)\n",
        "#====================================================\n",
        "##          Long Short Term Memory MODEL       ----\n",
        "#====================================================\n",
        "\n",
        "model = Sequential()\n",
        "model.add(LSTM(200, input_shape=(train_x.shape[1],train_x.shape[2])))\n",
        "model.add(Dense(1))\n",
        "model.compile(loss='mae',optimizer='adam')\n",
        "# fit network\n",
        "history = model.fit(train_x,train_y,epochs=200,batch_size=16, validation_data=(test_x, test_y), verbose=2, shuffle=False)\n",
        "\n",
        "# plot\n",
        "pyplot.plot(history.history['loss'],label='train')\n",
        "pyplot.plot(history.history['val_loss'],label='test')\n",
        "pyplot.legend()\n",
        "pyplot.show()\n",
        "\n",
        "#====================================================\n",
        "##          Long Short Term Memory Prediction\n",
        "#====================================================\n",
        "from sklearn.metrics import mean_squared_error\n",
        "from numpy import concatenate\n",
        "from math import sqrt\n",
        "\n",
        "print(test_x.shape)\n",
        "\n",
        "yhat = model.predict(test_x)\n",
        "test_x = test_x.reshape((test_x.shape[0], test_x.shape[2]))\n",
        "# invert scaling for forecast\n",
        "inv_yhat = concatenate((yhat, test_x[:, 1:]), axis=1)\n",
        "inv_yhat = scaler.inverse_transform(inv_yhat)\n",
        "inv_yhat = inv_yhat[:,0]\n",
        "# invert scaling for actual\n",
        "test_y = test_y.reshape((len(test_y), 1))\n",
        "inv_y = concatenate((test_y, test_x[:, 1:]), axis=1)\n",
        "inv_y = scaler.inverse_transform(inv_y)\n",
        "inv_y = inv_y[:,0]\n",
        "# calculate RMSE\n",
        "rmse = sqrt(mean_squared_error(inv_y, inv_yhat))\n",
        "print('Test RMSE : %.3f' % rmse)\n",
        "print(\"\")\n",
        "#====================================================\n",
        "##          LSTM Model End\n",
        "#====================================================\n"
      ],
      "execution_count": 0,
      "outputs": [
        {
          "output_type": "stream",
          "text": [
            "Using TensorFlow backend.\n"
          ],
          "name": "stderr"
        },
        {
          "output_type": "stream",
          "text": [
            "(73, 1, 5) (73,) (100, 1, 5) (100,)\n",
            "Train on 100 samples, validate on 73 samples\n",
            "Epoch 1/200\n",
            " - 1s - loss: 0.2705 - val_loss: 0.1429\n",
            "Epoch 2/200\n",
            " - 0s - loss: 0.2345 - val_loss: 0.1182\n",
            "Epoch 3/200\n",
            " - 0s - loss: 0.2234 - val_loss: 0.1100\n",
            "Epoch 4/200\n",
            " - 0s - loss: 0.2100 - val_loss: 0.1085\n",
            "Epoch 5/200\n",
            " - 0s - loss: 0.1948 - val_loss: 0.1089\n",
            "Epoch 6/200\n",
            " - 0s - loss: 0.1795 - val_loss: 0.1106\n",
            "Epoch 7/200\n",
            " - 0s - loss: 0.1637 - val_loss: 0.1132\n",
            "Epoch 8/200\n",
            " - 0s - loss: 0.1470 - val_loss: 0.1172\n",
            "Epoch 9/200\n",
            " - 0s - loss: 0.1292 - val_loss: 0.1238\n",
            "Epoch 10/200\n",
            " - 0s - loss: 0.1115 - val_loss: 0.1344\n",
            "Epoch 11/200\n",
            " - 0s - loss: 0.0977 - val_loss: 0.1467\n",
            "Epoch 12/200\n",
            " - 0s - loss: 0.0962 - val_loss: 0.1429\n",
            "Epoch 13/200\n",
            " - 0s - loss: 0.0936 - val_loss: 0.1307\n",
            "Epoch 14/200\n",
            " - 0s - loss: 0.0927 - val_loss: 0.1230\n",
            "Epoch 15/200\n",
            " - 0s - loss: 0.0914 - val_loss: 0.1218\n",
            "Epoch 16/200\n",
            " - 0s - loss: 0.0887 - val_loss: 0.1201\n",
            "Epoch 17/200\n",
            " - 0s - loss: 0.0873 - val_loss: 0.1157\n",
            "Epoch 18/200\n",
            " - 0s - loss: 0.0865 - val_loss: 0.1127\n",
            "Epoch 19/200\n",
            " - 0s - loss: 0.0833 - val_loss: 0.1150\n",
            "Epoch 20/200\n",
            " - 0s - loss: 0.0828 - val_loss: 0.1100\n",
            "Epoch 21/200\n",
            " - 0s - loss: 0.0814 - val_loss: 0.1033\n",
            "Epoch 22/200\n",
            " - 0s - loss: 0.0800 - val_loss: 0.1005\n",
            "Epoch 23/200\n",
            " - 0s - loss: 0.0773 - val_loss: 0.1020\n",
            "Epoch 24/200\n",
            " - 0s - loss: 0.0766 - val_loss: 0.0959\n",
            "Epoch 25/200\n",
            " - 0s - loss: 0.0753 - val_loss: 0.0906\n",
            "Epoch 26/200\n",
            " - 0s - loss: 0.0726 - val_loss: 0.0911\n",
            "Epoch 27/200\n",
            " - 0s - loss: 0.0716 - val_loss: 0.0874\n",
            "Epoch 28/200\n",
            " - 0s - loss: 0.0698 - val_loss: 0.0843\n",
            "Epoch 29/200\n",
            " - 0s - loss: 0.0680 - val_loss: 0.0814\n",
            "Epoch 30/200\n",
            " - 0s - loss: 0.0661 - val_loss: 0.0788\n",
            "Epoch 31/200\n",
            " - 0s - loss: 0.0645 - val_loss: 0.0757\n",
            "Epoch 32/200\n",
            " - 0s - loss: 0.0630 - val_loss: 0.0733\n",
            "Epoch 33/200\n",
            " - 0s - loss: 0.0617 - val_loss: 0.0716\n",
            "Epoch 34/200\n",
            " - 0s - loss: 0.0605 - val_loss: 0.0696\n",
            "Epoch 35/200\n",
            " - 0s - loss: 0.0594 - val_loss: 0.0668\n",
            "Epoch 36/200\n",
            " - 0s - loss: 0.0587 - val_loss: 0.0626\n",
            "Epoch 37/200\n",
            " - 0s - loss: 0.0572 - val_loss: 0.0616\n",
            "Epoch 38/200\n",
            " - 0s - loss: 0.0559 - val_loss: 0.0605\n",
            "Epoch 39/200\n",
            " - 0s - loss: 0.0558 - val_loss: 0.0566\n",
            "Epoch 40/200\n",
            " - 0s - loss: 0.0543 - val_loss: 0.0562\n",
            "Epoch 41/200\n",
            " - 0s - loss: 0.0539 - val_loss: 0.0544\n",
            "Epoch 42/200\n",
            " - 0s - loss: 0.0534 - val_loss: 0.0533\n",
            "Epoch 43/200\n",
            " - 0s - loss: 0.0531 - val_loss: 0.0522\n",
            "Epoch 44/200\n",
            " - 0s - loss: 0.0527 - val_loss: 0.0518\n",
            "Epoch 45/200\n",
            " - 0s - loss: 0.0526 - val_loss: 0.0507\n",
            "Epoch 46/200\n",
            " - 0s - loss: 0.0526 - val_loss: 0.0498\n",
            "Epoch 47/200\n",
            " - 0s - loss: 0.0524 - val_loss: 0.0493\n",
            "Epoch 48/200\n",
            " - 0s - loss: 0.0524 - val_loss: 0.0489\n",
            "Epoch 49/200\n",
            " - 0s - loss: 0.0517 - val_loss: 0.0497\n",
            "Epoch 50/200\n",
            " - 0s - loss: 0.0520 - val_loss: 0.0481\n",
            "Epoch 51/200\n",
            " - 0s - loss: 0.0522 - val_loss: 0.0473\n",
            "Epoch 52/200\n",
            " - 0s - loss: 0.0513 - val_loss: 0.0485\n",
            "Epoch 53/200\n",
            " - 0s - loss: 0.0517 - val_loss: 0.0469\n",
            "Epoch 54/200\n",
            " - 0s - loss: 0.0517 - val_loss: 0.0464\n",
            "Epoch 55/200\n",
            " - 0s - loss: 0.0508 - val_loss: 0.0478\n",
            "Epoch 56/200\n",
            " - 0s - loss: 0.0513 - val_loss: 0.0458\n",
            "Epoch 57/200\n",
            " - 0s - loss: 0.0515 - val_loss: 0.0448\n",
            "Epoch 58/200\n",
            " - 0s - loss: 0.0506 - val_loss: 0.0458\n",
            "Epoch 59/200\n",
            " - 0s - loss: 0.0509 - val_loss: 0.0441\n",
            "Epoch 60/200\n",
            " - 0s - loss: 0.0508 - val_loss: 0.0439\n",
            "Epoch 61/200\n",
            " - 0s - loss: 0.0504 - val_loss: 0.0443\n",
            "Epoch 62/200\n",
            " - 0s - loss: 0.0507 - val_loss: 0.0433\n",
            "Epoch 63/200\n",
            " - 0s - loss: 0.0500 - val_loss: 0.0436\n",
            "Epoch 64/200\n",
            " - 0s - loss: 0.0501 - val_loss: 0.0428\n",
            "Epoch 65/200\n",
            " - 0s - loss: 0.0502 - val_loss: 0.0426\n",
            "Epoch 66/200\n",
            " - 0s - loss: 0.0499 - val_loss: 0.0424\n",
            "Epoch 67/200\n",
            " - 0s - loss: 0.0500 - val_loss: 0.0422\n",
            "Epoch 68/200\n",
            " - 0s - loss: 0.0495 - val_loss: 0.0424\n",
            "Epoch 69/200\n",
            " - 0s - loss: 0.0499 - val_loss: 0.0419\n",
            "Epoch 70/200\n",
            " - 0s - loss: 0.0494 - val_loss: 0.0420\n",
            "Epoch 71/200\n",
            " - 0s - loss: 0.0496 - val_loss: 0.0418\n",
            "Epoch 72/200\n",
            " - 0s - loss: 0.0500 - val_loss: 0.0416\n",
            "Epoch 73/200\n",
            " - 0s - loss: 0.0493 - val_loss: 0.0415\n",
            "Epoch 74/200\n",
            " - 0s - loss: 0.0494 - val_loss: 0.0415\n",
            "Epoch 75/200\n",
            " - 0s - loss: 0.0495 - val_loss: 0.0414\n",
            "Epoch 76/200\n",
            " - 0s - loss: 0.0491 - val_loss: 0.0413\n",
            "Epoch 77/200\n",
            " - 0s - loss: 0.0492 - val_loss: 0.0412\n",
            "Epoch 78/200\n",
            " - 0s - loss: 0.0494 - val_loss: 0.0414\n",
            "Epoch 79/200\n",
            " - 0s - loss: 0.0490 - val_loss: 0.0411\n",
            "Epoch 80/200\n",
            " - 0s - loss: 0.0487 - val_loss: 0.0410\n",
            "Epoch 81/200\n",
            " - 0s - loss: 0.0489 - val_loss: 0.0413\n",
            "Epoch 82/200\n",
            " - 0s - loss: 0.0493 - val_loss: 0.0408\n",
            "Epoch 83/200\n",
            " - 0s - loss: 0.0485 - val_loss: 0.0406\n",
            "Epoch 84/200\n",
            " - 0s - loss: 0.0488 - val_loss: 0.0418\n",
            "Epoch 85/200\n",
            " - 0s - loss: 0.0490 - val_loss: 0.0405\n",
            "Epoch 86/200\n",
            " - 0s - loss: 0.0489 - val_loss: 0.0413\n",
            "Epoch 87/200\n",
            " - 0s - loss: 0.0489 - val_loss: 0.0405\n",
            "Epoch 88/200\n",
            " - 0s - loss: 0.0484 - val_loss: 0.0402\n",
            "Epoch 89/200\n",
            " - 0s - loss: 0.0488 - val_loss: 0.0415\n",
            "Epoch 90/200\n",
            " - 0s - loss: 0.0490 - val_loss: 0.0405\n",
            "Epoch 91/200\n",
            " - 0s - loss: 0.0493 - val_loss: 0.0413\n",
            "Epoch 92/200\n",
            " - 0s - loss: 0.0484 - val_loss: 0.0403\n",
            "Epoch 93/200\n",
            " - 0s - loss: 0.0482 - val_loss: 0.0400\n",
            "Epoch 94/200\n",
            " - 0s - loss: 0.0486 - val_loss: 0.0414\n",
            "Epoch 95/200\n",
            " - 0s - loss: 0.0486 - val_loss: 0.0404\n",
            "Epoch 96/200\n",
            " - 0s - loss: 0.0490 - val_loss: 0.0417\n",
            "Epoch 97/200\n",
            " - 0s - loss: 0.0487 - val_loss: 0.0406\n",
            "Epoch 98/200\n",
            " - 0s - loss: 0.0481 - val_loss: 0.0403\n",
            "Epoch 99/200\n",
            " - 0s - loss: 0.0484 - val_loss: 0.0414\n",
            "Epoch 100/200\n",
            " - 0s - loss: 0.0483 - val_loss: 0.0403\n",
            "Epoch 101/200\n",
            " - 0s - loss: 0.0489 - val_loss: 0.0417\n",
            "Epoch 102/200\n",
            " - 0s - loss: 0.0488 - val_loss: 0.0412\n",
            "Epoch 103/200\n",
            " - 0s - loss: 0.0481 - val_loss: 0.0407\n",
            "Epoch 104/200\n",
            " - 0s - loss: 0.0485 - val_loss: 0.0412\n",
            "Epoch 105/200\n",
            " - 0s - loss: 0.0481 - val_loss: 0.0407\n",
            "Epoch 106/200\n",
            " - 0s - loss: 0.0483 - val_loss: 0.0412\n",
            "Epoch 107/200\n",
            " - 0s - loss: 0.0480 - val_loss: 0.0410\n",
            "Epoch 108/200\n",
            " - 0s - loss: 0.0479 - val_loss: 0.0404\n",
            "Epoch 109/200\n",
            " - 0s - loss: 0.0483 - val_loss: 0.0420\n",
            "Epoch 110/200\n",
            " - 0s - loss: 0.0482 - val_loss: 0.0404\n",
            "Epoch 111/200\n",
            " - 0s - loss: 0.0486 - val_loss: 0.0409\n",
            "Epoch 112/200\n",
            " - 0s - loss: 0.0480 - val_loss: 0.0410\n",
            "Epoch 113/200\n",
            " - 0s - loss: 0.0479 - val_loss: 0.0403\n",
            "Epoch 114/200\n",
            " - 0s - loss: 0.0480 - val_loss: 0.0410\n",
            "Epoch 115/200\n",
            " - 0s - loss: 0.0480 - val_loss: 0.0403\n",
            "Epoch 116/200\n",
            " - 0s - loss: 0.0478 - val_loss: 0.0407\n",
            "Epoch 117/200\n",
            " - 0s - loss: 0.0480 - val_loss: 0.0412\n",
            "Epoch 118/200\n",
            " - 0s - loss: 0.0477 - val_loss: 0.0410\n",
            "Epoch 119/200\n",
            " - 0s - loss: 0.0482 - val_loss: 0.0405\n",
            "Epoch 120/200\n",
            " - 0s - loss: 0.0476 - val_loss: 0.0404\n",
            "Epoch 121/200\n",
            " - 0s - loss: 0.0479 - val_loss: 0.0415\n",
            "Epoch 122/200\n",
            " - 0s - loss: 0.0477 - val_loss: 0.0403\n",
            "Epoch 123/200\n",
            " - 0s - loss: 0.0484 - val_loss: 0.0417\n",
            "Epoch 124/200\n",
            " - 0s - loss: 0.0478 - val_loss: 0.0405\n",
            "Epoch 125/200\n",
            " - 0s - loss: 0.0478 - val_loss: 0.0413\n",
            "Epoch 126/200\n",
            " - 0s - loss: 0.0477 - val_loss: 0.0398\n",
            "Epoch 127/200\n",
            " - 0s - loss: 0.0480 - val_loss: 0.0408\n",
            "Epoch 128/200\n",
            " - 0s - loss: 0.0479 - val_loss: 0.0404\n",
            "Epoch 129/200\n",
            " - 0s - loss: 0.0476 - val_loss: 0.0406\n",
            "Epoch 130/200\n",
            " - 0s - loss: 0.0477 - val_loss: 0.0402\n",
            "Epoch 131/200\n",
            " - 0s - loss: 0.0474 - val_loss: 0.0404\n",
            "Epoch 132/200\n",
            " - 0s - loss: 0.0477 - val_loss: 0.0407\n",
            "Epoch 133/200\n",
            " - 0s - loss: 0.0475 - val_loss: 0.0412\n",
            "Epoch 134/200\n",
            " - 0s - loss: 0.0475 - val_loss: 0.0401\n",
            "Epoch 135/200\n",
            " - 0s - loss: 0.0474 - val_loss: 0.0404\n",
            "Epoch 136/200\n",
            " - 0s - loss: 0.0477 - val_loss: 0.0408\n",
            "Epoch 137/200\n",
            " - 0s - loss: 0.0474 - val_loss: 0.0408\n",
            "Epoch 138/200\n",
            " - 0s - loss: 0.0475 - val_loss: 0.0408\n",
            "Epoch 139/200\n",
            " - 0s - loss: 0.0472 - val_loss: 0.0404\n",
            "Epoch 140/200\n",
            " - 0s - loss: 0.0474 - val_loss: 0.0412\n",
            "Epoch 141/200\n",
            " - 0s - loss: 0.0473 - val_loss: 0.0397\n",
            "Epoch 142/200\n",
            " - 0s - loss: 0.0480 - val_loss: 0.0407\n",
            "Epoch 143/200\n",
            " - 0s - loss: 0.0475 - val_loss: 0.0400\n",
            "Epoch 144/200\n",
            " - 0s - loss: 0.0470 - val_loss: 0.0398\n",
            "Epoch 145/200\n",
            " - 0s - loss: 0.0476 - val_loss: 0.0413\n",
            "Epoch 146/200\n",
            " - 0s - loss: 0.0471 - val_loss: 0.0398\n",
            "Epoch 147/200\n",
            " - 0s - loss: 0.0479 - val_loss: 0.0412\n",
            "Epoch 148/200\n",
            " - 0s - loss: 0.0472 - val_loss: 0.0400\n",
            "Epoch 149/200\n",
            " - 0s - loss: 0.0479 - val_loss: 0.0410\n",
            "Epoch 150/200\n",
            " - 0s - loss: 0.0474 - val_loss: 0.0403\n",
            "Epoch 151/200\n",
            " - 0s - loss: 0.0470 - val_loss: 0.0402\n",
            "Epoch 152/200\n",
            " - 0s - loss: 0.0478 - val_loss: 0.0404\n",
            "Epoch 153/200\n",
            " - 0s - loss: 0.0469 - val_loss: 0.0401\n",
            "Epoch 154/200\n",
            " - 0s - loss: 0.0472 - val_loss: 0.0413\n",
            "Epoch 155/200\n",
            " - 0s - loss: 0.0471 - val_loss: 0.0397\n",
            "Epoch 156/200\n",
            " - 0s - loss: 0.0479 - val_loss: 0.0405\n",
            "Epoch 157/200\n",
            " - 0s - loss: 0.0471 - val_loss: 0.0402\n",
            "Epoch 158/200\n",
            " - 0s - loss: 0.0467 - val_loss: 0.0402\n",
            "Epoch 159/200\n",
            " - 0s - loss: 0.0473 - val_loss: 0.0410\n",
            "Epoch 160/200\n",
            " - 0s - loss: 0.0467 - val_loss: 0.0401\n",
            "Epoch 161/200\n",
            " - 0s - loss: 0.0471 - val_loss: 0.0409\n",
            "Epoch 162/200\n",
            " - 0s - loss: 0.0469 - val_loss: 0.0405\n",
            "Epoch 163/200\n",
            " - 0s - loss: 0.0468 - val_loss: 0.0398\n",
            "Epoch 164/200\n",
            " - 0s - loss: 0.0473 - val_loss: 0.0414\n",
            "Epoch 165/200\n",
            " - 0s - loss: 0.0476 - val_loss: 0.0399\n",
            "Epoch 166/200\n",
            " - 0s - loss: 0.0468 - val_loss: 0.0403\n",
            "Epoch 167/200\n",
            " - 0s - loss: 0.0470 - val_loss: 0.0399\n",
            "Epoch 168/200\n",
            " - 0s - loss: 0.0466 - val_loss: 0.0402\n",
            "Epoch 169/200\n",
            " - 0s - loss: 0.0468 - val_loss: 0.0405\n",
            "Epoch 170/200\n",
            " - 0s - loss: 0.0468 - val_loss: 0.0399\n",
            "Epoch 171/200\n",
            " - 0s - loss: 0.0467 - val_loss: 0.0408\n",
            "Epoch 172/200\n",
            " - 0s - loss: 0.0471 - val_loss: 0.0402\n",
            "Epoch 173/200\n",
            " - 0s - loss: 0.0468 - val_loss: 0.0407\n",
            "Epoch 174/200\n",
            " - 0s - loss: 0.0475 - val_loss: 0.0404\n",
            "Epoch 175/200\n",
            " - 0s - loss: 0.0463 - val_loss: 0.0399\n",
            "Epoch 176/200\n",
            " - 0s - loss: 0.0466 - val_loss: 0.0411\n",
            "Epoch 177/200\n",
            " - 0s - loss: 0.0466 - val_loss: 0.0398\n",
            "Epoch 178/200\n",
            " - 0s - loss: 0.0474 - val_loss: 0.0408\n",
            "Epoch 179/200\n",
            " - 0s - loss: 0.0464 - val_loss: 0.0400\n",
            "Epoch 180/200\n",
            " - 0s - loss: 0.0464 - val_loss: 0.0402\n",
            "Epoch 181/200\n",
            " - 0s - loss: 0.0464 - val_loss: 0.0399\n",
            "Epoch 182/200\n",
            " - 0s - loss: 0.0466 - val_loss: 0.0408\n",
            "Epoch 183/200\n",
            " - 0s - loss: 0.0462 - val_loss: 0.0399\n",
            "Epoch 184/200\n",
            " - 0s - loss: 0.0470 - val_loss: 0.0407\n",
            "Epoch 185/200\n",
            " - 0s - loss: 0.0463 - val_loss: 0.0406\n",
            "Epoch 186/200\n",
            " - 0s - loss: 0.0462 - val_loss: 0.0403\n",
            "Epoch 187/200\n",
            " - 0s - loss: 0.0465 - val_loss: 0.0401\n",
            "Epoch 188/200\n",
            " - 0s - loss: 0.0461 - val_loss: 0.0395\n",
            "Epoch 189/200\n",
            " - 0s - loss: 0.0464 - val_loss: 0.0411\n",
            "Epoch 190/200\n",
            " - 0s - loss: 0.0460 - val_loss: 0.0392\n",
            "Epoch 191/200\n",
            " - 0s - loss: 0.0478 - val_loss: 0.0413\n",
            "Epoch 192/200\n",
            " - 0s - loss: 0.0461 - val_loss: 0.0392\n",
            "Epoch 193/200\n",
            " - 0s - loss: 0.0474 - val_loss: 0.0405\n",
            "Epoch 194/200\n",
            " - 0s - loss: 0.0461 - val_loss: 0.0395\n",
            "Epoch 195/200\n",
            " - 0s - loss: 0.0462 - val_loss: 0.0408\n",
            "Epoch 196/200\n",
            " - 0s - loss: 0.0465 - val_loss: 0.0397\n",
            "Epoch 197/200\n",
            " - 0s - loss: 0.0468 - val_loss: 0.0406\n",
            "Epoch 198/200\n",
            " - 0s - loss: 0.0459 - val_loss: 0.0396\n",
            "Epoch 199/200\n",
            " - 0s - loss: 0.0462 - val_loss: 0.0411\n",
            "Epoch 200/200\n",
            " - 0s - loss: 0.0464 - val_loss: 0.0395\n"
          ],
          "name": "stdout"
        },
        {
          "output_type": "display_data",
          "data": {
            "image/png": "[encoded data removed]",
            "text/plain": [
              "<matplotlib.figure.Figure at 0x7fd7297f4e48>"
            ]
          },
          "metadata": {
            "tags": []
          }
        },
        {
          "output_type": "stream",
          "text": [
            "(73, 1, 5)\n",
            "Test RMSE : 3.361\n",
            "\n"
          ],
          "name": "stdout"
        }
      ]
    },
    {
      "cell_type": "markdown",
      "metadata": {
        "id": "JLU5Pw3wUMaH",
        "colab_type": "text"
      },
      "source": [
        "## Training on National Level and testing on state level\n",
        "** 1. Training (X,Y) -> National Level Data = 173 x 4 , 173 x 1 **\n",
        "\n",
        "** 2. Testing (mat) -> State Level data  =  8874 x 4 **\n",
        "\n"
      ]
    },
    {
      "cell_type": "code",
      "metadata": {
        "id": "XapqL58_08Fn",
        "colab_type": "code",
        "outputId": "0a7b1e67-b49a-4955-bf9c-fb03d0bfa3db",
        "colab": {
          "base_uri": "https://localhost:8080/",
          "height": 272
        }
      },
      "source": [
        "#====================================================\n",
        "##          Long Short Term Memory Data Preparation\n",
        "#====================================================\n",
        "\n",
        "# source: https://machinelearningmastery.com/convert-time-series-supervised-learning-problem-python/\n",
        "\n",
        "from sklearn.preprocessing import MinMaxScaler\n",
        "\n",
        "\n",
        "def series_to_supervised(data, n_in=1, n_out=1, dropnan=True):\n",
        "\tn_vars = 1 if type(data) is list else data.shape[1]\n",
        "\tdf = pd.DataFrame(data)\n",
        "\tcols, names = list(), list()\n",
        "\t# input sequence (t-n, ... t-1)\n",
        "\tfor i in range(n_in, 0, -1):\n",
        "\t\tcols.append(df.shift(i))\n",
        "\t\tnames += [('var%d(t-%d)' % (j+1, i)) for j in range(n_vars)]\n",
        "\t# forecast sequence (t, t+1, ... t+n)\n",
        "\tfor i in range(0, n_out):\n",
        "\t\tcols.append(df.shift(-i))\n",
        "\t\tif i == 0:\n",
        "\t\t\tnames += [('var%d(t)' % (j+1)) for j in range(n_vars)]\n",
        "\t\telse:\n",
        "\t\t\tnames += [('var%d(t+%d)' % (j+1, i)) for j in range(n_vars)]\n",
        "\t# put it all together\n",
        "\tagg = concat(cols, axis=1)\n",
        "\tagg.columns = names\n",
        "\t# drop rows with NaN values\n",
        "\tif dropnan:\n",
        "\t\tagg.dropna(inplace=True)\n",
        "\treturn agg\n",
        " \n",
        "# changed datafile to X\n",
        "values = X.values\n",
        "# val = X_test.values\n",
        "val = X_test\n",
        "# ensure all data is float\n",
        "values = values.astype('float32')\n",
        "val = val.astype('float32')\n",
        "# normalize features\n",
        "scaler = MinMaxScaler(feature_range=(0, 1))\n",
        "scaled = scaler.fit_transform(values)\n",
        "scald = scaler.fit_transform(val)\n",
        "print(\"-- \",val.shape,values.shape,scald.shape,scaled.shape)\n",
        "# frame as supervised learning\n",
        "# print(scaled)\n",
        "reframed = series_to_supervised(scaled, 1)\n",
        "reframd = series_to_supervised(scald, 1)\n",
        "print(reframed.shape,reframd.shape)\n",
        "\n",
        "# drop columns we don't want to predict\n",
        "reframed.drop(reframed.columns[[5,6,7]], axis=1, inplace=True)\n",
        "reframd.drop(reframd.columns[[5,6,7]],axis=1,inplace=True)\n",
        "\n",
        "# reframed.drop(reframed.columns[[8,9,10,11,12,13]], axis=1, inplace=True)\n",
        "print(reframed.head())\n",
        "print(reframd.head())\n",
        "\n",
        "print(reframed.shape,reframd.shape,X.shape,Y.shape,Y_test.shape)\n"
      ],
      "execution_count": 0,
      "outputs": [
        {
          "output_type": "stream",
          "text": [
            "--  (697, 4) (174, 4) (697, 4) (174, 4)\n",
            "(173, 8) (696, 8)\n",
            "   var1(t-1)  var2(t-1)  var3(t-1)  var4(t-1)   var1(t)\n",
            "1   0.114754        1.0       0.50   0.311475  0.098361\n",
            "2   0.098361        1.0       0.75   0.213115  0.049180\n",
            "3   0.049180        1.0       0.75   0.229508  0.049180\n",
            "4   0.049180        1.0       0.75   0.229508  0.032787\n",
            "5   0.032787        1.0       0.50   0.278689  0.049180\n",
            "   var1(t-1)  var2(t-1)  var3(t-1)  var4(t-1)   var1(t)\n",
            "1   0.000000       0.00       0.00   0.000000  0.227273\n",
            "2   0.227273       0.25       1.00   0.918367  0.227273\n",
            "3   0.227273       0.50       0.00   0.948980  0.318182\n",
            "4   0.318182       0.25       0.25   0.928571  0.227273\n",
            "5   0.227273       0.00       0.50   0.948980  0.181818\n",
            "(173, 5) (696, 5) (174, 4) (174,) (697, 1)\n"
          ],
          "name": "stdout"
        }
      ]
    },
    {
      "cell_type": "code",
      "metadata": {
        "id": "EIDyUSP9_OPW",
        "colab_type": "code",
        "outputId": "9d3b1be4-9535-48e7-8729-0a7f76891a6f",
        "colab": {
          "base_uri": "https://localhost:8080/",
          "height": 272
        }
      },
      "source": [
        "!pip install openpyxl\n"
      ],
      "execution_count": 0,
      "outputs": [
        {
          "output_type": "stream",
          "text": [
            "Collecting openpyxl\n",
            "\u001b[?25l  Downloading https://files.pythonhosted.org/packages/08/8a/509eb6f58672288da9a5884e1cc7e90819bc8dbef501161c4b40a6a4e46b/openpyxl-2.5.12.tar.gz (173kB)\n",
            "\u001b[K    100% |████████████████████████████████| 174kB 7.2MB/s \n",
            "\u001b[?25hCollecting jdcal (from openpyxl)\n",
            "  Downloading https://files.pythonhosted.org/packages/a0/38/dcf83532480f25284f3ef13f8ed63e03c58a65c9d3ba2a6a894ed9497207/jdcal-1.4-py2.py3-none-any.whl\n",
            "Collecting et_xmlfile (from openpyxl)\n",
            "  Downloading https://files.pythonhosted.org/packages/22/28/a99c42aea746e18382ad9fb36f64c1c1f04216f41797f2f0fa567da11388/et_xmlfile-1.0.1.tar.gz\n",
            "Building wheels for collected packages: openpyxl, et-xmlfile\n",
            "  Running setup.py bdist_wheel for openpyxl ... \u001b[?25l-\b \b\\\b \b|\b \bdone\n",
            "\u001b[?25h  Stored in directory: /root/.cache/pip/wheels/95/b0/38/e5d13093b588f87177df648c06d07d4b7221f2c17d544cde4c\n",
            "  Running setup.py bdist_wheel for et-xmlfile ... \u001b[?25l-\b \bdone\n",
            "\u001b[?25h  Stored in directory: /root/.cache/pip/wheels/2a/77/35/0da0965a057698121fc7d8c5a7a9955cdbfb3cc4e2423cad39\n",
            "Successfully built openpyxl et-xmlfile\n",
            "Installing collected packages: jdcal, et-xmlfile, openpyxl\n",
            "Successfully installed et-xmlfile-1.0.1 jdcal-1.4 openpyxl-2.5.12\n"
          ],
          "name": "stdout"
        }
      ]
    },
    {
      "cell_type": "code",
      "metadata": {
        "id": "_BDT084rRhX6",
        "colab_type": "code",
        "outputId": "ab33c55e-66f3-405c-a40b-06ce93f3cd7a",
        "colab": {
          "base_uri": "https://localhost:8080/",
          "height": 85
        }
      },
      "source": [
        "values = reframed.values\n",
        "val = reframd.values\n",
        "# values = reframed\n",
        "# val = reframd\n",
        "# (174, 4) (174,)\n",
        "# train = values\n",
        "# test = val\n",
        "train = values[:,:]\n",
        "test = val[:,:]\n",
        "train_x,train_y = train,Y[1:]\n",
        "test_x = test\n",
        "test_y = Y_test[1:]\n",
        "train_x = train_x.reshape((train_x.shape[0],1,train_x.shape[1]))\n",
        "test_x = test_x.reshape((test_x.shape[0],1,test_x.shape[1]))\n",
        "# Y_test = Y_test.values\n",
        "\n",
        "test_y = test_y.reshape((test_y.shape[0],1))\n",
        "# np.asarray(test_y)\n",
        "\n",
        "print(\"Test_x = \",test_x.shape,\" \\nTrain_x = \", train_x.shape,\"\\nTrain_y = \", train_y.shape,\"\\nTest_y \",test_y.shape)\n",
        "\n",
        "# (73, 1, 5) (73,) (100, 1, 5) (100,)"
      ],
      "execution_count": 0,
      "outputs": [
        {
          "output_type": "stream",
          "text": [
            "Test_x =  (696, 1, 5)  \n",
            "Train_x =  (173, 1, 5) \n",
            "Train_y =  (173,) \n",
            "Test_y  (696, 1)\n"
          ],
          "name": "stdout"
        }
      ]
    },
    {
      "cell_type": "code",
      "metadata": {
        "id": "vb3rMJPpeOwg",
        "colab_type": "code",
        "colab": {}
      },
      "source": [
        "# test_y.type"
      ],
      "execution_count": 0,
      "outputs": []
    },
    {
      "cell_type": "code",
      "metadata": {
        "id": "4AXy6667UaeS",
        "colab_type": "code",
        "outputId": "20f6bc92-7768-4bc8-f47a-0f8affdbeb58",
        "colab": {
          "base_uri": "https://localhost:8080/",
          "height": 7300
        }
      },
      "source": [
        "#====================================================\n",
        "##          Long Short Term Memory\n",
        "#====================================================\n",
        "from sklearn.preprocessing import MinMaxScaler\n",
        "\n",
        "from keras.models import Sequential\n",
        "from keras.layers import Dense, Dropout\n",
        "from keras.layers import Embedding\n",
        "from keras.layers import LSTM\n",
        "\n",
        "#====================================================\n",
        "##          Long Short Term Memory MODEL       ----\n",
        "#====================================================\n",
        "\n",
        "model = Sequential()\n",
        "model.add(LSTM(100, input_shape=(train_x.shape[1],train_x.shape[2])))\n",
        "model.add(Dropout(0.5))\n",
        "model.add(Dense(1, activation='sigmoid'))\n",
        "# model.add(Dense(1))\n",
        "# model.add(Activation('relu'))\n",
        "# model.compile(loss='mse',optimizer='adam')\n",
        "model.compile(loss='binary_crossentropy',optimizer='rmsprop', metrics=['accuracy'])\n",
        "\n",
        "# fit network\n",
        "history = model.fit(train_x,train_y,epochs=200,batch_size=8, verbose=1, shuffle=False)\n",
        "\n",
        "score = model.evaluate(test_x, test_y, batch_size=8)\n",
        "print(\"=> Accuracy Score: \",score)\n",
        "# plot\n",
        "pyplot.plot(history.history['loss'],label='train')\n",
        "# pyplot.plot(history.history['val_loss'],label='test')\n",
        "pyplot.legend()\n",
        "pyplot.show()\n",
        "\n",
        "#====================================================\n",
        "##          Long Short Term Memory Prediction\n",
        "#====================================================\n",
        "from sklearn.metrics import mean_squared_error\n",
        "from numpy import concatenate\n",
        "from math import sqrt\n",
        "\n",
        "print( \"test_x = \", test_x.shape)\n",
        "\n",
        "yhat = model.predict(test_x)\n",
        "print(\"Predicted_y shape = \",yhat.shape)\n",
        "test_x = test_x.reshape((test_x.shape[0], test_x.shape[2]))\n",
        "# invert scaling for forecast\n",
        "print(\"Predicted_y shape = \",yhat.shape,test_x.shape)\n",
        "inv_yhat = concatenate((yhat, test_x[:, 1:]), axis=1)\n",
        "print(\"Predicted shape1 = \",inv_yhat.shape)\n",
        "scaler = MinMaxScaler(feature_range=(0, 1)).fit(inv_yhat)\n",
        "inv_yhat = scaler.inverse_transform(inv_yhat)\n",
        "print(\"Predicted shape2 = \",inv_yhat.shape)\n",
        "inv_yhat = inv_yhat[:,0]\n",
        "print(\"Predicted shape3 = \",inv_yhat.shape)\n",
        "yhat = pd.DataFrame(yhat)\n",
        "writer = pd.ExcelWriter('dec18_State_predicted.xlsx')\n",
        "yhat.to_excel(writer,'sheet1',index=True)\n",
        "writer.save()  \n",
        "\n",
        "# invert scaling for actual\n",
        "\n",
        "test_y = test_y.reshape((len(test_y), 1))\n",
        "inv_y = concatenate((test_y, test_x[:, 1:]), axis=1)\n",
        "inv_y = scaler.inverse_transform(inv_y)\n",
        "inv_y = inv_y[:,0]\n",
        "\n",
        "# calculate RMSE\n",
        "\n",
        "rmse = sqrt(mean_squared_error(inv_y, inv_yhat))\n",
        "print('-------------------- Test RMSE : %.3f' % rmse)\n",
        "\n",
        "#====================================================\n",
        "##          LSTM Model End\n",
        "#====================================================\n"
      ],
      "execution_count": 0,
      "outputs": [
        {
          "output_type": "stream",
          "text": [
            "Epoch 1/200\n",
            "173/173 [==============================] - 1s 8ms/step - loss: -2.3927 - acc: 0.0000e+00\n",
            "Epoch 2/200\n",
            "173/173 [==============================] - 0s 503us/step - loss: -7.9581 - acc: 0.0000e+00\n",
            "Epoch 3/200\n",
            "173/173 [==============================] - 0s 519us/step - loss: -13.9877 - acc: 0.0000e+00\n",
            "Epoch 4/200\n",
            "173/173 [==============================] - 0s 495us/step - loss: -21.0539 - acc: 0.0000e+00\n",
            "Epoch 5/200\n",
            "173/173 [==============================] - 0s 489us/step - loss: -29.6141 - acc: 0.0000e+00\n",
            "Epoch 6/200\n",
            "173/173 [==============================] - 0s 489us/step - loss: -39.6469 - acc: 0.0000e+00\n",
            "Epoch 7/200\n",
            "173/173 [==============================] - 0s 501us/step - loss: -49.9998 - acc: 0.0000e+00\n",
            "Epoch 8/200\n",
            "173/173 [==============================] - 0s 551us/step - loss: -60.7860 - acc: 0.0000e+00\n",
            "Epoch 9/200\n",
            "173/173 [==============================] - 0s 507us/step - loss: -73.8390 - acc: 0.0000e+00\n",
            "Epoch 10/200\n",
            "173/173 [==============================] - 0s 507us/step - loss: -89.6363 - acc: 0.0000e+00\n",
            "Epoch 11/200\n",
            "173/173 [==============================] - 0s 505us/step - loss: -103.7956 - acc: 0.0000e+00\n",
            "Epoch 12/200\n",
            "173/173 [==============================] - 0s 535us/step - loss: -118.7654 - acc: 0.0000e+00\n",
            "Epoch 13/200\n",
            "173/173 [==============================] - 0s 505us/step - loss: -141.7446 - acc: 0.0000e+00\n",
            "Epoch 14/200\n",
            "173/173 [==============================] - 0s 496us/step - loss: -154.5345 - acc: 0.0000e+00\n",
            "Epoch 15/200\n",
            "173/173 [==============================] - 0s 482us/step - loss: -172.7898 - acc: 0.0000e+00\n",
            "Epoch 16/200\n",
            "173/173 [==============================] - 0s 485us/step - loss: -194.1536 - acc: 0.0000e+00\n",
            "Epoch 17/200\n",
            "173/173 [==============================] - 0s 520us/step - loss: -222.5842 - acc: 0.0000e+00\n",
            "Epoch 18/200\n",
            "173/173 [==============================] - 0s 520us/step - loss: -245.3040 - acc: 0.0000e+00\n",
            "Epoch 19/200\n",
            "173/173 [==============================] - 0s 513us/step - loss: -261.5870 - acc: 0.0000e+00\n",
            "Epoch 20/200\n",
            "173/173 [==============================] - 0s 451us/step - loss: -289.7683 - acc: 0.0000e+00\n",
            "Epoch 21/200\n",
            "173/173 [==============================] - 0s 461us/step - loss: -306.4424 - acc: 0.0000e+00\n",
            "Epoch 22/200\n",
            "173/173 [==============================] - 0s 502us/step - loss: -325.2624 - acc: 0.0000e+00\n",
            "Epoch 23/200\n",
            "173/173 [==============================] - 0s 455us/step - loss: -339.2495 - acc: 0.0000e+00\n",
            "Epoch 24/200\n",
            "173/173 [==============================] - 0s 464us/step - loss: -348.4403 - acc: 0.0000e+00\n",
            "Epoch 25/200\n",
            "173/173 [==============================] - 0s 486us/step - loss: -355.8901 - acc: 0.0000e+00\n",
            "Epoch 26/200\n",
            "173/173 [==============================] - 0s 519us/step - loss: -360.4856 - acc: 0.0000e+00\n",
            "Epoch 27/200\n",
            "173/173 [==============================] - 0s 491us/step - loss: -363.8159 - acc: 0.0000e+00\n",
            "Epoch 28/200\n",
            "173/173 [==============================] - 0s 504us/step - loss: -364.3853 - acc: 0.0000e+00\n",
            "Epoch 29/200\n",
            "173/173 [==============================] - 0s 506us/step - loss: -366.7807 - acc: 0.0000e+00\n",
            "Epoch 30/200\n",
            "173/173 [==============================] - 0s 480us/step - loss: -366.4327 - acc: 0.0000e+00\n",
            "Epoch 31/200\n",
            "173/173 [==============================] - 0s 468us/step - loss: -367.4986 - acc: 0.0000e+00\n",
            "Epoch 32/200\n",
            "173/173 [==============================] - 0s 467us/step - loss: -368.1112 - acc: 0.0000e+00\n",
            "Epoch 33/200\n",
            "173/173 [==============================] - 0s 461us/step - loss: -369.9346 - acc: 0.0000e+00\n",
            "Epoch 34/200\n",
            "173/173 [==============================] - 0s 452us/step - loss: -370.6623 - acc: 0.0000e+00\n",
            "Epoch 35/200\n",
            "173/173 [==============================] - 0s 451us/step - loss: -370.8972 - acc: 0.0000e+00\n",
            "Epoch 36/200\n",
            "173/173 [==============================] - 0s 476us/step - loss: -370.2401 - acc: 0.0000e+00\n",
            "Epoch 37/200\n",
            "173/173 [==============================] - 0s 483us/step - loss: -371.6937 - acc: 0.0000e+00\n",
            "Epoch 38/200\n",
            "173/173 [==============================] - 0s 494us/step - loss: -371.4132 - acc: 0.0000e+00\n",
            "Epoch 39/200\n",
            "173/173 [==============================] - 0s 492us/step - loss: -371.4513 - acc: 0.0000e+00\n",
            "Epoch 40/200\n",
            "173/173 [==============================] - 0s 536us/step - loss: -371.6561 - acc: 0.0000e+00\n",
            "Epoch 41/200\n",
            "173/173 [==============================] - 0s 507us/step - loss: -371.6928 - acc: 0.0000e+00\n",
            "Epoch 42/200\n",
            "173/173 [==============================] - 0s 511us/step - loss: -371.4714 - acc: 0.0000e+00\n",
            "Epoch 43/200\n",
            "173/173 [==============================] - 0s 495us/step - loss: -372.2038 - acc: 0.0000e+00\n",
            "Epoch 44/200\n",
            "173/173 [==============================] - 0s 514us/step - loss: -372.1317 - acc: 0.0000e+00\n",
            "Epoch 45/200\n",
            "173/173 [==============================] - 0s 516us/step - loss: -372.1586 - acc: 0.0000e+00\n",
            "Epoch 46/200\n",
            "173/173 [==============================] - 0s 504us/step - loss: -371.4030 - acc: 0.0000e+00\n",
            "Epoch 47/200\n",
            "173/173 [==============================] - 0s 476us/step - loss: -372.0425 - acc: 0.0000e+00\n",
            "Epoch 48/200\n",
            "173/173 [==============================] - 0s 497us/step - loss: -372.2038 - acc: 0.0000e+00\n",
            "Epoch 49/200\n",
            "173/173 [==============================] - 0s 533us/step - loss: -372.1135 - acc: 0.0000e+00\n",
            "Epoch 50/200\n",
            "173/173 [==============================] - 0s 453us/step - loss: -372.0454 - acc: 0.0000e+00\n",
            "Epoch 51/200\n",
            "173/173 [==============================] - 0s 462us/step - loss: -372.1425 - acc: 0.0000e+00\n",
            "Epoch 52/200\n",
            "173/173 [==============================] - 0s 464us/step - loss: -372.2038 - acc: 0.0000e+00\n",
            "Epoch 53/200\n",
            "173/173 [==============================] - 0s 503us/step - loss: -372.2038 - acc: 0.0000e+00\n",
            "Epoch 54/200\n",
            "173/173 [==============================] - 0s 517us/step - loss: -372.2038 - acc: 0.0000e+00\n",
            "Epoch 55/200\n",
            "173/173 [==============================] - 0s 478us/step - loss: -372.2038 - acc: 0.0000e+00\n",
            "Epoch 56/200\n",
            "173/173 [==============================] - 0s 462us/step - loss: -372.2038 - acc: 0.0000e+00\n",
            "Epoch 57/200\n",
            "173/173 [==============================] - 0s 531us/step - loss: -372.2038 - acc: 0.0000e+00\n",
            "Epoch 58/200\n",
            "173/173 [==============================] - 0s 468us/step - loss: -371.9807 - acc: 0.0000e+00\n",
            "Epoch 59/200\n",
            "173/173 [==============================] - 0s 473us/step - loss: -372.2038 - acc: 0.0000e+00\n",
            "Epoch 60/200\n",
            "173/173 [==============================] - 0s 508us/step - loss: -372.2038 - acc: 0.0000e+00\n",
            "Epoch 61/200\n",
            "173/173 [==============================] - 0s 505us/step - loss: -371.8686 - acc: 0.0000e+00\n",
            "Epoch 62/200\n",
            "173/173 [==============================] - 0s 477us/step - loss: -371.9448 - acc: 0.0000e+00\n",
            "Epoch 63/200\n",
            "173/173 [==============================] - 0s 479us/step - loss: -371.9161 - acc: 0.0000e+00\n",
            "Epoch 64/200\n",
            "173/173 [==============================] - 0s 515us/step - loss: -372.2038 - acc: 0.0000e+00\n",
            "Epoch 65/200\n",
            "173/173 [==============================] - 0s 513us/step - loss: -372.2038 - acc: 0.0000e+00\n",
            "Epoch 66/200\n",
            "173/173 [==============================] - 0s 505us/step - loss: -372.2038 - acc: 0.0000e+00\n",
            "Epoch 67/200\n",
            "173/173 [==============================] - 0s 502us/step - loss: -372.2038 - acc: 0.0000e+00\n",
            "Epoch 68/200\n",
            "173/173 [==============================] - 0s 501us/step - loss: -372.2038 - acc: 0.0000e+00\n",
            "Epoch 69/200\n",
            "173/173 [==============================] - 0s 496us/step - loss: -372.2038 - acc: 0.0000e+00\n",
            "Epoch 70/200\n",
            "173/173 [==============================] - 0s 506us/step - loss: -372.2038 - acc: 0.0000e+00\n",
            "Epoch 71/200\n",
            "173/173 [==============================] - 0s 523us/step - loss: -372.2038 - acc: 0.0000e+00\n",
            "Epoch 72/200\n",
            "173/173 [==============================] - 0s 535us/step - loss: -372.2038 - acc: 0.0000e+00\n",
            "Epoch 73/200\n",
            "173/173 [==============================] - 0s 481us/step - loss: -372.1468 - acc: 0.0000e+00\n",
            "Epoch 74/200\n",
            "173/173 [==============================] - 0s 465us/step - loss: -372.2038 - acc: 0.0000e+00\n",
            "Epoch 75/200\n",
            "173/173 [==============================] - 0s 476us/step - loss: -372.2038 - acc: 0.0000e+00\n",
            "Epoch 76/200\n",
            "173/173 [==============================] - 0s 515us/step - loss: -372.2038 - acc: 0.0000e+00\n",
            "Epoch 77/200\n",
            "173/173 [==============================] - 0s 474us/step - loss: -372.2038 - acc: 0.0000e+00\n",
            "Epoch 78/200\n",
            "173/173 [==============================] - 0s 483us/step - loss: -372.2038 - acc: 0.0000e+00\n",
            "Epoch 79/200\n",
            "173/173 [==============================] - 0s 452us/step - loss: -372.2038 - acc: 0.0000e+00\n",
            "Epoch 80/200\n",
            "173/173 [==============================] - 0s 471us/step - loss: -372.2038 - acc: 0.0000e+00\n",
            "Epoch 81/200\n",
            "173/173 [==============================] - 0s 487us/step - loss: -372.2038 - acc: 0.0000e+00\n",
            "Epoch 82/200\n",
            "173/173 [==============================] - 0s 499us/step - loss: -372.2038 - acc: 0.0000e+00\n",
            "Epoch 83/200\n",
            "173/173 [==============================] - 0s 530us/step - loss: -372.2038 - acc: 0.0000e+00\n",
            "Epoch 84/200\n",
            "173/173 [==============================] - 0s 524us/step - loss: -372.2038 - acc: 0.0000e+00\n",
            "Epoch 85/200\n",
            "173/173 [==============================] - 0s 542us/step - loss: -372.2038 - acc: 0.0000e+00\n",
            "Epoch 86/200\n",
            "173/173 [==============================] - 0s 505us/step - loss: -372.1067 - acc: 0.0000e+00\n",
            "Epoch 87/200\n",
            "173/173 [==============================] - 0s 481us/step - loss: -372.2038 - acc: 0.0000e+00\n",
            "Epoch 88/200\n",
            "173/173 [==============================] - 0s 468us/step - loss: -372.2038 - acc: 0.0000e+00\n",
            "Epoch 89/200\n",
            "173/173 [==============================] - 0s 511us/step - loss: -372.2038 - acc: 0.0000e+00\n",
            "Epoch 90/200\n",
            "173/173 [==============================] - 0s 533us/step - loss: -372.2038 - acc: 0.0000e+00\n",
            "Epoch 91/200\n",
            "173/173 [==============================] - 0s 498us/step - loss: -372.2038 - acc: 0.0000e+00\n",
            "Epoch 92/200\n",
            "173/173 [==============================] - 0s 482us/step - loss: -372.2038 - acc: 0.0000e+00\n",
            "Epoch 93/200\n",
            "173/173 [==============================] - 0s 478us/step - loss: -372.2038 - acc: 0.0000e+00\n",
            "Epoch 94/200\n",
            "173/173 [==============================] - 0s 526us/step - loss: -372.2038 - acc: 0.0000e+00\n",
            "Epoch 95/200\n",
            "173/173 [==============================] - 0s 537us/step - loss: -372.2038 - acc: 0.0000e+00\n",
            "Epoch 96/200\n",
            "173/173 [==============================] - 0s 522us/step - loss: -372.2038 - acc: 0.0000e+00\n",
            "Epoch 97/200\n",
            "173/173 [==============================] - 0s 497us/step - loss: -372.1425 - acc: 0.0000e+00\n",
            "Epoch 98/200\n",
            "173/173 [==============================] - 0s 508us/step - loss: -372.2038 - acc: 0.0000e+00\n",
            "Epoch 99/200\n",
            "173/173 [==============================] - 0s 554us/step - loss: -372.1425 - acc: 0.0000e+00\n",
            "Epoch 100/200\n",
            "173/173 [==============================] - 0s 507us/step - loss: -372.2038 - acc: 0.0000e+00\n",
            "Epoch 101/200\n",
            "173/173 [==============================] - 0s 497us/step - loss: -372.2038 - acc: 0.0000e+00\n",
            "Epoch 102/200\n",
            "173/173 [==============================] - 0s 495us/step - loss: -372.2038 - acc: 0.0000e+00\n",
            "Epoch 103/200\n",
            "173/173 [==============================] - 0s 496us/step - loss: -372.2038 - acc: 0.0000e+00\n",
            "Epoch 104/200\n",
            "173/173 [==============================] - 0s 486us/step - loss: -372.2038 - acc: 0.0000e+00\n",
            "Epoch 105/200\n",
            "173/173 [==============================] - 0s 468us/step - loss: -372.2038 - acc: 0.0000e+00\n",
            "Epoch 106/200\n",
            "173/173 [==============================] - 0s 551us/step - loss: -372.2038 - acc: 0.0000e+00\n",
            "Epoch 107/200\n",
            "173/173 [==============================] - 0s 472us/step - loss: -372.2038 - acc: 0.0000e+00\n",
            "Epoch 108/200\n",
            "173/173 [==============================] - 0s 495us/step - loss: -372.2038 - acc: 0.0000e+00\n",
            "Epoch 109/200\n",
            "173/173 [==============================] - 0s 500us/step - loss: -372.2038 - acc: 0.0000e+00\n",
            "Epoch 110/200\n",
            "173/173 [==============================] - 0s 507us/step - loss: -372.2038 - acc: 0.0000e+00\n",
            "Epoch 111/200\n",
            "173/173 [==============================] - 0s 488us/step - loss: -372.2038 - acc: 0.0000e+00\n",
            "Epoch 112/200\n",
            "173/173 [==============================] - 0s 449us/step - loss: -372.2038 - acc: 0.0000e+00\n",
            "Epoch 113/200\n",
            "173/173 [==============================] - 0s 504us/step - loss: -372.2038 - acc: 0.0000e+00\n",
            "Epoch 114/200\n",
            "173/173 [==============================] - 0s 512us/step - loss: -372.2038 - acc: 0.0000e+00\n",
            "Epoch 115/200\n",
            "173/173 [==============================] - 0s 525us/step - loss: -372.2038 - acc: 0.0000e+00\n",
            "Epoch 116/200\n",
            "173/173 [==============================] - 0s 524us/step - loss: -372.2038 - acc: 0.0000e+00\n",
            "Epoch 117/200\n",
            "173/173 [==============================] - 0s 528us/step - loss: -372.2038 - acc: 0.0000e+00\n",
            "Epoch 118/200\n",
            "173/173 [==============================] - 0s 480us/step - loss: -372.2038 - acc: 0.0000e+00\n",
            "Epoch 119/200\n",
            "173/173 [==============================] - 0s 502us/step - loss: -372.2038 - acc: 0.0000e+00\n",
            "Epoch 120/200\n",
            "173/173 [==============================] - 0s 523us/step - loss: -372.2038 - acc: 0.0000e+00\n",
            "Epoch 121/200\n",
            "173/173 [==============================] - 0s 510us/step - loss: -372.2038 - acc: 0.0000e+00\n",
            "Epoch 122/200\n",
            "173/173 [==============================] - 0s 510us/step - loss: -372.2038 - acc: 0.0000e+00\n",
            "Epoch 123/200\n",
            "173/173 [==============================] - 0s 495us/step - loss: -372.2038 - acc: 0.0000e+00\n",
            "Epoch 124/200\n",
            "173/173 [==============================] - 0s 516us/step - loss: -372.2038 - acc: 0.0000e+00\n",
            "Epoch 125/200\n",
            "173/173 [==============================] - 0s 523us/step - loss: -372.2038 - acc: 0.0000e+00\n",
            "Epoch 126/200\n",
            "173/173 [==============================] - 0s 512us/step - loss: -372.2038 - acc: 0.0000e+00\n",
            "Epoch 127/200\n",
            "173/173 [==============================] - 0s 483us/step - loss: -372.2038 - acc: 0.0000e+00\n",
            "Epoch 128/200\n",
            "173/173 [==============================] - 0s 521us/step - loss: -372.2038 - acc: 0.0000e+00\n",
            "Epoch 129/200\n",
            "173/173 [==============================] - 0s 488us/step - loss: -372.2038 - acc: 0.0000e+00\n",
            "Epoch 130/200\n",
            "173/173 [==============================] - 0s 501us/step - loss: -372.2038 - acc: 0.0000e+00\n",
            "Epoch 131/200\n",
            "173/173 [==============================] - 0s 507us/step - loss: -372.2038 - acc: 0.0000e+00\n",
            "Epoch 132/200\n",
            "173/173 [==============================] - 0s 466us/step - loss: -372.2038 - acc: 0.0000e+00\n",
            "Epoch 133/200\n",
            "173/173 [==============================] - 0s 461us/step - loss: -372.2038 - acc: 0.0000e+00\n",
            "Epoch 134/200\n",
            "173/173 [==============================] - 0s 452us/step - loss: -372.2038 - acc: 0.0000e+00\n",
            "Epoch 135/200\n",
            "173/173 [==============================] - 0s 476us/step - loss: -372.2038 - acc: 0.0000e+00\n",
            "Epoch 136/200\n",
            "173/173 [==============================] - 0s 434us/step - loss: -372.2038 - acc: 0.0000e+00\n",
            "Epoch 137/200\n",
            "173/173 [==============================] - 0s 437us/step - loss: -372.2038 - acc: 0.0000e+00\n",
            "Epoch 138/200\n",
            "173/173 [==============================] - 0s 429us/step - loss: -372.2038 - acc: 0.0000e+00\n",
            "Epoch 139/200\n",
            "173/173 [==============================] - 0s 436us/step - loss: -372.2038 - acc: 0.0000e+00\n",
            "Epoch 140/200\n",
            "173/173 [==============================] - 0s 508us/step - loss: -372.2038 - acc: 0.0000e+00\n",
            "Epoch 141/200\n",
            "173/173 [==============================] - 0s 470us/step - loss: -372.2038 - acc: 0.0000e+00\n",
            "Epoch 142/200\n",
            "173/173 [==============================] - 0s 509us/step - loss: -372.2038 - acc: 0.0000e+00\n",
            "Epoch 143/200\n",
            "173/173 [==============================] - 0s 516us/step - loss: -372.2038 - acc: 0.0000e+00\n",
            "Epoch 144/200\n",
            "173/173 [==============================] - 0s 503us/step - loss: -372.2038 - acc: 0.0000e+00\n",
            "Epoch 145/200\n",
            "173/173 [==============================] - 0s 513us/step - loss: -372.2038 - acc: 0.0000e+00\n",
            "Epoch 146/200\n",
            "173/173 [==============================] - 0s 486us/step - loss: -372.2038 - acc: 0.0000e+00\n",
            "Epoch 147/200\n",
            "173/173 [==============================] - 0s 467us/step - loss: -372.2038 - acc: 0.0000e+00\n",
            "Epoch 148/200\n",
            "173/173 [==============================] - 0s 487us/step - loss: -372.2038 - acc: 0.0000e+00\n",
            "Epoch 149/200\n",
            "173/173 [==============================] - 0s 471us/step - loss: -372.2038 - acc: 0.0000e+00\n",
            "Epoch 150/200\n",
            "173/173 [==============================] - 0s 477us/step - loss: -372.2038 - acc: 0.0000e+00\n",
            "Epoch 151/200\n",
            "173/173 [==============================] - 0s 513us/step - loss: -372.2038 - acc: 0.0000e+00\n",
            "Epoch 152/200\n",
            "173/173 [==============================] - 0s 506us/step - loss: -372.2038 - acc: 0.0000e+00\n",
            "Epoch 153/200\n",
            "173/173 [==============================] - 0s 496us/step - loss: -372.2038 - acc: 0.0000e+00\n",
            "Epoch 154/200\n",
            "173/173 [==============================] - 0s 512us/step - loss: -372.2038 - acc: 0.0000e+00\n",
            "Epoch 155/200\n",
            "173/173 [==============================] - 0s 504us/step - loss: -372.2038 - acc: 0.0000e+00\n",
            "Epoch 156/200\n",
            "173/173 [==============================] - 0s 551us/step - loss: -372.2038 - acc: 0.0000e+00\n",
            "Epoch 157/200\n",
            "173/173 [==============================] - 0s 523us/step - loss: -372.2038 - acc: 0.0000e+00\n",
            "Epoch 158/200\n",
            "173/173 [==============================] - 0s 528us/step - loss: -372.2038 - acc: 0.0000e+00\n",
            "Epoch 159/200\n",
            "173/173 [==============================] - 0s 485us/step - loss: -372.2038 - acc: 0.0000e+00\n",
            "Epoch 160/200\n",
            "173/173 [==============================] - 0s 514us/step - loss: -372.2038 - acc: 0.0000e+00\n",
            "Epoch 161/200\n",
            "173/173 [==============================] - 0s 505us/step - loss: -372.2038 - acc: 0.0000e+00\n",
            "Epoch 162/200\n",
            "173/173 [==============================] - 0s 480us/step - loss: -372.2038 - acc: 0.0000e+00\n",
            "Epoch 163/200\n",
            "173/173 [==============================] - 0s 592us/step - loss: -372.2038 - acc: 0.0000e+00\n",
            "Epoch 164/200\n",
            "173/173 [==============================] - 0s 473us/step - loss: -372.2038 - acc: 0.0000e+00\n",
            "Epoch 165/200\n",
            "173/173 [==============================] - 0s 473us/step - loss: -372.2038 - acc: 0.0000e+00\n",
            "Epoch 166/200\n",
            "173/173 [==============================] - 0s 495us/step - loss: -372.2038 - acc: 0.0000e+00\n",
            "Epoch 167/200\n",
            "173/173 [==============================] - 0s 470us/step - loss: -372.2038 - acc: 0.0000e+00\n",
            "Epoch 168/200\n",
            "173/173 [==============================] - 0s 480us/step - loss: -372.2038 - acc: 0.0000e+00\n",
            "Epoch 169/200\n",
            "173/173 [==============================] - 0s 474us/step - loss: -372.2038 - acc: 0.0000e+00\n",
            "Epoch 170/200\n",
            "173/173 [==============================] - 0s 488us/step - loss: -372.2038 - acc: 0.0000e+00\n",
            "Epoch 171/200\n",
            "173/173 [==============================] - 0s 471us/step - loss: -372.2038 - acc: 0.0000e+00\n",
            "Epoch 172/200\n",
            "173/173 [==============================] - 0s 467us/step - loss: -372.0922 - acc: 0.0000e+00\n",
            "Epoch 173/200\n",
            "173/173 [==============================] - 0s 473us/step - loss: -372.2038 - acc: 0.0000e+00\n",
            "Epoch 174/200\n",
            "173/173 [==============================] - 0s 490us/step - loss: -372.2038 - acc: 0.0000e+00\n",
            "Epoch 175/200\n",
            "173/173 [==============================] - 0s 528us/step - loss: -372.2038 - acc: 0.0000e+00\n",
            "Epoch 176/200\n",
            "173/173 [==============================] - 0s 492us/step - loss: -372.2038 - acc: 0.0000e+00\n",
            "Epoch 177/200\n",
            "173/173 [==============================] - 0s 499us/step - loss: -372.2038 - acc: 0.0000e+00\n",
            "Epoch 178/200\n",
            "173/173 [==============================] - 0s 464us/step - loss: -372.2038 - acc: 0.0000e+00\n",
            "Epoch 179/200\n",
            "173/173 [==============================] - 0s 478us/step - loss: -372.2038 - acc: 0.0000e+00\n",
            "Epoch 180/200\n",
            "173/173 [==============================] - 0s 460us/step - loss: -372.1468 - acc: 0.0000e+00\n",
            "Epoch 181/200\n",
            "173/173 [==============================] - 0s 511us/step - loss: -372.2038 - acc: 0.0000e+00\n",
            "Epoch 182/200\n",
            "173/173 [==============================] - 0s 481us/step - loss: -372.2038 - acc: 0.0000e+00\n",
            "Epoch 183/200\n",
            "173/173 [==============================] - 0s 505us/step - loss: -372.2038 - acc: 0.0000e+00\n",
            "Epoch 184/200\n",
            "173/173 [==============================] - 0s 538us/step - loss: -372.2038 - acc: 0.0000e+00\n",
            "Epoch 185/200\n",
            "173/173 [==============================] - 0s 531us/step - loss: -372.2038 - acc: 0.0000e+00\n",
            "Epoch 186/200\n",
            "173/173 [==============================] - 0s 542us/step - loss: -372.2038 - acc: 0.0000e+00\n",
            "Epoch 187/200\n",
            "173/173 [==============================] - 0s 513us/step - loss: -372.2038 - acc: 0.0000e+00\n",
            "Epoch 188/200\n",
            "173/173 [==============================] - 0s 519us/step - loss: -372.2038 - acc: 0.0000e+00\n",
            "Epoch 189/200\n",
            "173/173 [==============================] - 0s 500us/step - loss: -372.2038 - acc: 0.0000e+00\n",
            "Epoch 190/200\n",
            "173/173 [==============================] - 0s 457us/step - loss: -372.2038 - acc: 0.0000e+00\n",
            "Epoch 191/200\n",
            "173/173 [==============================] - 0s 473us/step - loss: -372.2038 - acc: 0.0000e+00\n",
            "Epoch 192/200\n",
            "173/173 [==============================] - 0s 458us/step - loss: -372.2038 - acc: 0.0000e+00\n",
            "Epoch 193/200\n",
            "173/173 [==============================] - 0s 468us/step - loss: -372.2038 - acc: 0.0000e+00\n",
            "Epoch 194/200\n",
            "173/173 [==============================] - 0s 471us/step - loss: -372.2038 - acc: 0.0000e+00\n",
            "Epoch 195/200\n",
            "173/173 [==============================] - 0s 453us/step - loss: -372.2038 - acc: 0.0000e+00\n",
            "Epoch 196/200\n",
            "173/173 [==============================] - 0s 493us/step - loss: -372.2038 - acc: 0.0000e+00\n",
            "Epoch 197/200\n",
            "173/173 [==============================] - 0s 490us/step - loss: -372.2038 - acc: 0.0000e+00\n",
            "Epoch 198/200\n",
            "173/173 [==============================] - 0s 496us/step - loss: -372.2038 - acc: 0.0000e+00\n",
            "Epoch 199/200\n",
            "173/173 [==============================] - 0s 501us/step - loss: -372.2038 - acc: 0.0000e+00\n",
            "Epoch 200/200\n",
            "173/173 [==============================] - 0s 500us/step - loss: -372.2038 - acc: 0.0000e+00\n",
            "696/696 [==============================] - 0s 685us/step\n",
            "=> Accuracy Score:  [-272296.2768498563, 0.0]\n"
          ],
          "name": "stdout"
        },
        {
          "output_type": "display_data",
          "data": {
            "image/png": "[encoded data removed]",
            "text/plain": [
              "<matplotlib.figure.Figure at 0x7f042ff78f60>"
            ]
          },
          "metadata": {
            "tags": []
          }
        },
        {
          "output_type": "stream",
          "text": [
            "test_x =  (696, 1, 5)\n",
            "Predicted_y shape =  (696, 1)\n",
            "Predicted_y shape =  (696, 1) (696, 5)\n",
            "Predicted shape1 =  (696, 5)\n",
            "Predicted shape2 =  (696, 5)\n",
            "Predicted shape3 =  (696,)\n",
            "-------------------- Test RMSE : 21493.361\n"
          ],
          "name": "stdout"
        }
      ]
    },
    {
      "cell_type": "code",
      "metadata": {
        "id": "c3yIDq5DW7D8",
        "colab_type": "code",
        "colab": {}
      },
      "source": [
        "# inv_yhat = scaler.inverse_transform(inv_yhat)\n",
        "# print(\"Predicted shape2 = \",inv_yhat.shape)\n",
        "# inv_yhat = inv_yhat[:,0]\n",
        "# print(\"Predicted shape3 = \",inv_yhat.shape)\n",
        "# yhat = pd.DataFrame(yhat)\n",
        "# writer = pd.ExcelWriter('dec18_State_predicted.xlsx')\n",
        "# yhat.to_excel(writer,'sheet1',index=True)\n",
        "# writer.save()  \n",
        "\n",
        "# invert scaling for actual\n",
        "\n",
        "# test_y = test_y.reshape((len(test_y), 1))\n",
        "# inv_y = concatenate((test_y, test_x[:, 1:]), axis=1)\n",
        "# inv_y = scaler.inverse_transform(inv_y)\n",
        "# inv_y = inv_y[:,0]\n",
        "# print(inv_y.shape)\n",
        "# calculate RMSE\n",
        "\n",
        "# rmse = sqrt(mean_squared_error(inv_y, inv_yhat))\n",
        "# print('-------------------- Test RMSE : %.3f' % rmse)\n"
      ],
      "execution_count": 0,
      "outputs": []
    },
    {
      "cell_type": "code",
      "metadata": {
        "id": "zNO350n030zW",
        "colab_type": "code",
        "colab": {}
      },
      "source": [
        "from google.colab import files\n",
        "files.download('predicted_dec18.xlsx') \n",
        "\n"
      ],
      "execution_count": 0,
      "outputs": []
    },
    {
      "cell_type": "markdown",
      "metadata": {
        "id": "DVmVOnC3dbQB",
        "colab_type": "text"
      },
      "source": [
        "# Create Xlsx output file "
      ]
    },
    {
      "cell_type": "code",
      "metadata": {
        "id": "QnCOvCK8dmZu",
        "colab_type": "code",
        "colab": {}
      },
      "source": [
        "## ---------- SEPERATE CODE ----------\n",
        "\n",
        "t = pd.read_csv('GoogleTrendsData.csv')\n",
        "t = t.iloc[:,0]\n",
        "t.drop(t.tail(2).index,inplace=True)\n",
        "print(t)"
      ],
      "execution_count": 0,
      "outputs": []
    },
    {
      "cell_type": "code",
      "metadata": {
        "id": "DRHvP9qHgwZI",
        "colab_type": "code",
        "outputId": "e4db27c0-850e-4eae-bb8f-331e41109b75",
        "colab": {
          "base_uri": "https://localhost:8080/",
          "height": 901
        }
      },
      "source": [
        "print(states)"
      ],
      "execution_count": 0,
      "outputs": [
        {
          "output_type": "stream",
          "text": [
            "0                  Alabama\n",
            "1                   Alaska\n",
            "2                  Arizona\n",
            "3                 Arkansas\n",
            "4               California\n",
            "5                 Colorado\n",
            "6              Connecticut\n",
            "7                 Delaware\n",
            "8     District of Columbia\n",
            "9                  Florida\n",
            "10                 Georgia\n",
            "11                  Hawaii\n",
            "12                   Idaho\n",
            "13                Illinois\n",
            "14                 Indiana\n",
            "15                    Iowa\n",
            "16                  Kansas\n",
            "17                Kentucky\n",
            "18               Louisiana\n",
            "19                   Maine\n",
            "20                Maryland\n",
            "21           Massachusetts\n",
            "22                Michigan\n",
            "23               Minnesota\n",
            "24             Mississippi\n",
            "25                Missouri\n",
            "26                 Montana\n",
            "27                Nebraska\n",
            "28                  Nevada\n",
            "29           New Hampshire\n",
            "30              New Jersey\n",
            "31              New Mexico\n",
            "32                New York\n",
            "33          North Carolina\n",
            "34            North Dakota\n",
            "35                    Ohio\n",
            "36                Oklahoma\n",
            "37                  Oregon\n",
            "38            Pennsylvania\n",
            "39            Rhode Island\n",
            "40          South Carolina\n",
            "41            South Dakota\n",
            "42               Tennessee\n",
            "43                   Texas\n",
            "44                    Utah\n",
            "45                 Vermont\n",
            "46                Virginia\n",
            "47              Washington\n",
            "48           West Virginia\n",
            "49               Wisconsin\n",
            "50                 Wyoming\n",
            "Name: geoName, dtype: object\n"
          ],
          "name": "stdout"
        }
      ]
    },
    {
      "cell_type": "code",
      "metadata": {
        "id": "bLzPkbDgOmxH",
        "colab_type": "code",
        "outputId": "ba4d50b4-e4a6-4427-8f83-5bd700a02dbc",
        "colab": {
          "base_uri": "https://localhost:8080/",
          "height": 68
        }
      },
      "source": [
        "## ----- To be run at last !! --------\n",
        "print(t.shape,states.shape)\n",
        "final = pd.DataFrame(columns=['State','Mon-Year']) \n",
        "print(final.shape)\n",
        "for ind,st in states.iteritems():\n",
        "  for index,times in t.iteritems():\n",
        "    final = final.append({'State': st,'Mon-Year': times},ignore_index=True)\n",
        "#     final.append({'Mon-Yr': t.iloc[times], 'State': state.iloc[st]},ignore_index=True) \n",
        "#     final.iloc[st+times][0] = 1 #state.iloc[st]\n",
        "#     final.iloc[st+times][1] = t.iloc[times]\n",
        "print(final.shape)\n",
        "## ------------------------------------    "
      ],
      "execution_count": 0,
      "outputs": [
        {
          "output_type": "stream",
          "text": [
            "(174,) (51,)\n",
            "(0, 2)\n",
            "(8874, 2)\n"
          ],
          "name": "stdout"
        }
      ]
    },
    {
      "cell_type": "code",
      "metadata": {
        "id": "ZqQXA04ftVqI",
        "colab_type": "code",
        "outputId": "945320e9-fdbc-4ece-ff01-5ba250345d4b",
        "colab": {
          "base_uri": "https://localhost:8080/",
          "height": 204
        }
      },
      "source": [
        "final.head()"
      ],
      "execution_count": 0,
      "outputs": [
        {
          "output_type": "execute_result",
          "data": {
            "text/html": [
              "<div>\n",
              "<style scoped>\n",
              "    .dataframe tbody tr th:only-of-type {\n",
              "        vertical-align: middle;\n",
              "    }\n",
              "\n",
              "    .dataframe tbody tr th {\n",
              "        vertical-align: top;\n",
              "    }\n",
              "\n",
              "    .dataframe thead th {\n",
              "        text-align: right;\n",
              "    }\n",
              "</style>\n",
              "<table border=\"1\" class=\"dataframe\">\n",
              "  <thead>\n",
              "    <tr style=\"text-align: right;\">\n",
              "      <th></th>\n",
              "      <th>State</th>\n",
              "      <th>Mon-Year</th>\n",
              "    </tr>\n",
              "  </thead>\n",
              "  <tbody>\n",
              "    <tr>\n",
              "      <th>0</th>\n",
              "      <td>Alabama</td>\n",
              "      <td>2004-01</td>\n",
              "    </tr>\n",
              "    <tr>\n",
              "      <th>1</th>\n",
              "      <td>Alabama</td>\n",
              "      <td>2004-02</td>\n",
              "    </tr>\n",
              "    <tr>\n",
              "      <th>2</th>\n",
              "      <td>Alabama</td>\n",
              "      <td>2004-03</td>\n",
              "    </tr>\n",
              "    <tr>\n",
              "      <th>3</th>\n",
              "      <td>Alabama</td>\n",
              "      <td>2004-04</td>\n",
              "    </tr>\n",
              "    <tr>\n",
              "      <th>4</th>\n",
              "      <td>Alabama</td>\n",
              "      <td>2004-05</td>\n",
              "    </tr>\n",
              "  </tbody>\n",
              "</table>\n",
              "</div>"
            ],
            "text/plain": [
              "     State Mon-Year\n",
              "0  Alabama  2004-01\n",
              "1  Alabama  2004-02\n",
              "2  Alabama  2004-03\n",
              "3  Alabama  2004-04\n",
              "4  Alabama  2004-05"
            ]
          },
          "metadata": {
            "tags": []
          },
          "execution_count": 71
        }
      ]
    },
    {
      "cell_type": "code",
      "metadata": {
        "id": "5uyCFvLFvG94",
        "colab_type": "code",
        "outputId": "b81b2dde-a1a3-46d5-9f8b-a0713c3e62cd",
        "colab": {
          "base_uri": "https://localhost:8080/",
          "height": 2003
        }
      },
      "source": [
        "pre = pd.read_csv('predicted.csv')\n",
        "outp = pd.concat([final,pre], axis=1)\n",
        "\n",
        "print(outp.shape)\n",
        "\n",
        "outp.drop(outp.columns[2],inplace = True, axis=1)\n",
        "outp.head()\n",
        "print(outp.columns)\n",
        "outp.rename(columns={'0':'Predicted Value'})"
      ],
      "execution_count": 0,
      "outputs": [
        {
          "output_type": "stream",
          "text": [
            "(8874, 4)\n",
            "Index(['State', 'Mon-Year', '0'], dtype='object')\n"
          ],
          "name": "stdout"
        },
        {
          "output_type": "execute_result",
          "data": {
            "text/html": [
              "<div>\n",
              "<style scoped>\n",
              "    .dataframe tbody tr th:only-of-type {\n",
              "        vertical-align: middle;\n",
              "    }\n",
              "\n",
              "    .dataframe tbody tr th {\n",
              "        vertical-align: top;\n",
              "    }\n",
              "\n",
              "    .dataframe thead th {\n",
              "        text-align: right;\n",
              "    }\n",
              "</style>\n",
              "<table border=\"1\" class=\"dataframe\">\n",
              "  <thead>\n",
              "    <tr style=\"text-align: right;\">\n",
              "      <th></th>\n",
              "      <th>State</th>\n",
              "      <th>Mon-Year</th>\n",
              "      <th>Predicted Value</th>\n",
              "    </tr>\n",
              "  </thead>\n",
              "  <tbody>\n",
              "    <tr>\n",
              "      <th>0</th>\n",
              "      <td>Alabama</td>\n",
              "      <td>2004-01</td>\n",
              "      <td>123.107330</td>\n",
              "    </tr>\n",
              "    <tr>\n",
              "      <th>1</th>\n",
              "      <td>Alabama</td>\n",
              "      <td>2004-02</td>\n",
              "      <td>122.711288</td>\n",
              "    </tr>\n",
              "    <tr>\n",
              "      <th>2</th>\n",
              "      <td>Alabama</td>\n",
              "      <td>2004-03</td>\n",
              "      <td>120.902618</td>\n",
              "    </tr>\n",
              "    <tr>\n",
              "      <th>3</th>\n",
              "      <td>Alabama</td>\n",
              "      <td>2004-04</td>\n",
              "      <td>120.615295</td>\n",
              "    </tr>\n",
              "    <tr>\n",
              "      <th>4</th>\n",
              "      <td>Alabama</td>\n",
              "      <td>2004-05</td>\n",
              "      <td>126.685089</td>\n",
              "    </tr>\n",
              "    <tr>\n",
              "      <th>5</th>\n",
              "      <td>Alabama</td>\n",
              "      <td>2004-06</td>\n",
              "      <td>131.262955</td>\n",
              "    </tr>\n",
              "    <tr>\n",
              "      <th>6</th>\n",
              "      <td>Alabama</td>\n",
              "      <td>2004-07</td>\n",
              "      <td>135.224121</td>\n",
              "    </tr>\n",
              "    <tr>\n",
              "      <th>7</th>\n",
              "      <td>Alabama</td>\n",
              "      <td>2004-08</td>\n",
              "      <td>130.389679</td>\n",
              "    </tr>\n",
              "    <tr>\n",
              "      <th>8</th>\n",
              "      <td>Alabama</td>\n",
              "      <td>2004-09</td>\n",
              "      <td>125.020035</td>\n",
              "    </tr>\n",
              "    <tr>\n",
              "      <th>9</th>\n",
              "      <td>Alabama</td>\n",
              "      <td>2004-10</td>\n",
              "      <td>121.931549</td>\n",
              "    </tr>\n",
              "    <tr>\n",
              "      <th>10</th>\n",
              "      <td>Alabama</td>\n",
              "      <td>2004-11</td>\n",
              "      <td>121.380432</td>\n",
              "    </tr>\n",
              "    <tr>\n",
              "      <th>11</th>\n",
              "      <td>Alabama</td>\n",
              "      <td>2004-12</td>\n",
              "      <td>123.660507</td>\n",
              "    </tr>\n",
              "    <tr>\n",
              "      <th>12</th>\n",
              "      <td>Alabama</td>\n",
              "      <td>2005-01</td>\n",
              "      <td>125.320068</td>\n",
              "    </tr>\n",
              "    <tr>\n",
              "      <th>13</th>\n",
              "      <td>Alabama</td>\n",
              "      <td>2005-02</td>\n",
              "      <td>130.070206</td>\n",
              "    </tr>\n",
              "    <tr>\n",
              "      <th>14</th>\n",
              "      <td>Alabama</td>\n",
              "      <td>2005-03</td>\n",
              "      <td>129.776611</td>\n",
              "    </tr>\n",
              "    <tr>\n",
              "      <th>15</th>\n",
              "      <td>Alabama</td>\n",
              "      <td>2005-04</td>\n",
              "      <td>123.308350</td>\n",
              "    </tr>\n",
              "    <tr>\n",
              "      <th>16</th>\n",
              "      <td>Alabama</td>\n",
              "      <td>2005-05</td>\n",
              "      <td>130.697052</td>\n",
              "    </tr>\n",
              "    <tr>\n",
              "      <th>17</th>\n",
              "      <td>Alabama</td>\n",
              "      <td>2005-06</td>\n",
              "      <td>133.781097</td>\n",
              "    </tr>\n",
              "    <tr>\n",
              "      <th>18</th>\n",
              "      <td>Alabama</td>\n",
              "      <td>2005-07</td>\n",
              "      <td>126.428253</td>\n",
              "    </tr>\n",
              "    <tr>\n",
              "      <th>19</th>\n",
              "      <td>Alabama</td>\n",
              "      <td>2005-08</td>\n",
              "      <td>122.267174</td>\n",
              "    </tr>\n",
              "    <tr>\n",
              "      <th>20</th>\n",
              "      <td>Alabama</td>\n",
              "      <td>2005-09</td>\n",
              "      <td>121.978531</td>\n",
              "    </tr>\n",
              "    <tr>\n",
              "      <th>21</th>\n",
              "      <td>Alabama</td>\n",
              "      <td>2005-10</td>\n",
              "      <td>122.239426</td>\n",
              "    </tr>\n",
              "    <tr>\n",
              "      <th>22</th>\n",
              "      <td>Alabama</td>\n",
              "      <td>2005-11</td>\n",
              "      <td>115.387650</td>\n",
              "    </tr>\n",
              "    <tr>\n",
              "      <th>23</th>\n",
              "      <td>Alabama</td>\n",
              "      <td>2005-12</td>\n",
              "      <td>119.801826</td>\n",
              "    </tr>\n",
              "    <tr>\n",
              "      <th>24</th>\n",
              "      <td>Alabama</td>\n",
              "      <td>2006-01</td>\n",
              "      <td>124.494377</td>\n",
              "    </tr>\n",
              "    <tr>\n",
              "      <th>25</th>\n",
              "      <td>Alabama</td>\n",
              "      <td>2006-02</td>\n",
              "      <td>124.482468</td>\n",
              "    </tr>\n",
              "    <tr>\n",
              "      <th>26</th>\n",
              "      <td>Alabama</td>\n",
              "      <td>2006-03</td>\n",
              "      <td>126.685089</td>\n",
              "    </tr>\n",
              "    <tr>\n",
              "      <th>27</th>\n",
              "      <td>Alabama</td>\n",
              "      <td>2006-04</td>\n",
              "      <td>127.841659</td>\n",
              "    </tr>\n",
              "    <tr>\n",
              "      <th>28</th>\n",
              "      <td>Alabama</td>\n",
              "      <td>2006-05</td>\n",
              "      <td>127.815285</td>\n",
              "    </tr>\n",
              "    <tr>\n",
              "      <th>29</th>\n",
              "      <td>Alabama</td>\n",
              "      <td>2006-06</td>\n",
              "      <td>126.444931</td>\n",
              "    </tr>\n",
              "    <tr>\n",
              "      <th>...</th>\n",
              "      <td>...</td>\n",
              "      <td>...</td>\n",
              "      <td>...</td>\n",
              "    </tr>\n",
              "    <tr>\n",
              "      <th>8844</th>\n",
              "      <td>Wyoming</td>\n",
              "      <td>2016-01</td>\n",
              "      <td>112.680756</td>\n",
              "    </tr>\n",
              "    <tr>\n",
              "      <th>8845</th>\n",
              "      <td>Wyoming</td>\n",
              "      <td>2016-02</td>\n",
              "      <td>112.680756</td>\n",
              "    </tr>\n",
              "    <tr>\n",
              "      <th>8846</th>\n",
              "      <td>Wyoming</td>\n",
              "      <td>2016-03</td>\n",
              "      <td>115.393295</td>\n",
              "    </tr>\n",
              "    <tr>\n",
              "      <th>8847</th>\n",
              "      <td>Wyoming</td>\n",
              "      <td>2016-04</td>\n",
              "      <td>117.826630</td>\n",
              "    </tr>\n",
              "    <tr>\n",
              "      <th>8848</th>\n",
              "      <td>Wyoming</td>\n",
              "      <td>2016-05</td>\n",
              "      <td>117.864090</td>\n",
              "    </tr>\n",
              "    <tr>\n",
              "      <th>8849</th>\n",
              "      <td>Wyoming</td>\n",
              "      <td>2016-06</td>\n",
              "      <td>118.401489</td>\n",
              "    </tr>\n",
              "    <tr>\n",
              "      <th>8850</th>\n",
              "      <td>Wyoming</td>\n",
              "      <td>2016-07</td>\n",
              "      <td>119.238190</td>\n",
              "    </tr>\n",
              "    <tr>\n",
              "      <th>8851</th>\n",
              "      <td>Wyoming</td>\n",
              "      <td>2016-08</td>\n",
              "      <td>123.096252</td>\n",
              "    </tr>\n",
              "    <tr>\n",
              "      <th>8852</th>\n",
              "      <td>Wyoming</td>\n",
              "      <td>2016-09</td>\n",
              "      <td>121.124062</td>\n",
              "    </tr>\n",
              "    <tr>\n",
              "      <th>8853</th>\n",
              "      <td>Wyoming</td>\n",
              "      <td>2016-10</td>\n",
              "      <td>117.826630</td>\n",
              "    </tr>\n",
              "    <tr>\n",
              "      <th>8854</th>\n",
              "      <td>Wyoming</td>\n",
              "      <td>2016-11</td>\n",
              "      <td>111.854126</td>\n",
              "    </tr>\n",
              "    <tr>\n",
              "      <th>8855</th>\n",
              "      <td>Wyoming</td>\n",
              "      <td>2016-12</td>\n",
              "      <td>111.618301</td>\n",
              "    </tr>\n",
              "    <tr>\n",
              "      <th>8856</th>\n",
              "      <td>Wyoming</td>\n",
              "      <td>2017-01</td>\n",
              "      <td>119.205025</td>\n",
              "    </tr>\n",
              "    <tr>\n",
              "      <th>8857</th>\n",
              "      <td>Wyoming</td>\n",
              "      <td>2017-02</td>\n",
              "      <td>120.589027</td>\n",
              "    </tr>\n",
              "    <tr>\n",
              "      <th>8858</th>\n",
              "      <td>Wyoming</td>\n",
              "      <td>2017-03</td>\n",
              "      <td>122.517334</td>\n",
              "    </tr>\n",
              "    <tr>\n",
              "      <th>8859</th>\n",
              "      <td>Wyoming</td>\n",
              "      <td>2017-04</td>\n",
              "      <td>123.916016</td>\n",
              "    </tr>\n",
              "    <tr>\n",
              "      <th>8860</th>\n",
              "      <td>Wyoming</td>\n",
              "      <td>2017-05</td>\n",
              "      <td>128.692810</td>\n",
              "    </tr>\n",
              "    <tr>\n",
              "      <th>8861</th>\n",
              "      <td>Wyoming</td>\n",
              "      <td>2017-06</td>\n",
              "      <td>131.207031</td>\n",
              "    </tr>\n",
              "    <tr>\n",
              "      <th>8862</th>\n",
              "      <td>Wyoming</td>\n",
              "      <td>2017-07</td>\n",
              "      <td>131.250534</td>\n",
              "    </tr>\n",
              "    <tr>\n",
              "      <th>8863</th>\n",
              "      <td>Wyoming</td>\n",
              "      <td>2017-08</td>\n",
              "      <td>133.233749</td>\n",
              "    </tr>\n",
              "    <tr>\n",
              "      <th>8864</th>\n",
              "      <td>Wyoming</td>\n",
              "      <td>2017-09</td>\n",
              "      <td>129.776611</td>\n",
              "    </tr>\n",
              "    <tr>\n",
              "      <th>8865</th>\n",
              "      <td>Wyoming</td>\n",
              "      <td>2017-10</td>\n",
              "      <td>125.861687</td>\n",
              "    </tr>\n",
              "    <tr>\n",
              "      <th>8866</th>\n",
              "      <td>Wyoming</td>\n",
              "      <td>2017-11</td>\n",
              "      <td>123.635948</td>\n",
              "    </tr>\n",
              "    <tr>\n",
              "      <th>8867</th>\n",
              "      <td>Wyoming</td>\n",
              "      <td>2017-12</td>\n",
              "      <td>120.589027</td>\n",
              "    </tr>\n",
              "    <tr>\n",
              "      <th>8868</th>\n",
              "      <td>Wyoming</td>\n",
              "      <td>2018-01</td>\n",
              "      <td>123.916016</td>\n",
              "    </tr>\n",
              "    <tr>\n",
              "      <th>8869</th>\n",
              "      <td>Wyoming</td>\n",
              "      <td>2018-02</td>\n",
              "      <td>127.274666</td>\n",
              "    </tr>\n",
              "    <tr>\n",
              "      <th>8870</th>\n",
              "      <td>Wyoming</td>\n",
              "      <td>2018-03</td>\n",
              "      <td>129.824432</td>\n",
              "    </tr>\n",
              "    <tr>\n",
              "      <th>8871</th>\n",
              "      <td>Wyoming</td>\n",
              "      <td>2018-04</td>\n",
              "      <td>127.815285</td>\n",
              "    </tr>\n",
              "    <tr>\n",
              "      <th>8872</th>\n",
              "      <td>Wyoming</td>\n",
              "      <td>2018-05</td>\n",
              "      <td>126.444931</td>\n",
              "    </tr>\n",
              "    <tr>\n",
              "      <th>8873</th>\n",
              "      <td>Wyoming</td>\n",
              "      <td>2018-06</td>\n",
              "      <td>NaN</td>\n",
              "    </tr>\n",
              "  </tbody>\n",
              "</table>\n",
              "<p>8874 rows × 3 columns</p>\n",
              "</div>"
            ],
            "text/plain": [
              "        State Mon-Year  Predicted Value\n",
              "0     Alabama  2004-01       123.107330\n",
              "1     Alabama  2004-02       122.711288\n",
              "2     Alabama  2004-03       120.902618\n",
              "3     Alabama  2004-04       120.615295\n",
              "4     Alabama  2004-05       126.685089\n",
              "5     Alabama  2004-06       131.262955\n",
              "6     Alabama  2004-07       135.224121\n",
              "7     Alabama  2004-08       130.389679\n",
              "8     Alabama  2004-09       125.020035\n",
              "9     Alabama  2004-10       121.931549\n",
              "10    Alabama  2004-11       121.380432\n",
              "11    Alabama  2004-12       123.660507\n",
              "12    Alabama  2005-01       125.320068\n",
              "13    Alabama  2005-02       130.070206\n",
              "14    Alabama  2005-03       129.776611\n",
              "15    Alabama  2005-04       123.308350\n",
              "16    Alabama  2005-05       130.697052\n",
              "17    Alabama  2005-06       133.781097\n",
              "18    Alabama  2005-07       126.428253\n",
              "19    Alabama  2005-08       122.267174\n",
              "20    Alabama  2005-09       121.978531\n",
              "21    Alabama  2005-10       122.239426\n",
              "22    Alabama  2005-11       115.387650\n",
              "23    Alabama  2005-12       119.801826\n",
              "24    Alabama  2006-01       124.494377\n",
              "25    Alabama  2006-02       124.482468\n",
              "26    Alabama  2006-03       126.685089\n",
              "27    Alabama  2006-04       127.841659\n",
              "28    Alabama  2006-05       127.815285\n",
              "29    Alabama  2006-06       126.444931\n",
              "...       ...      ...              ...\n",
              "8844  Wyoming  2016-01       112.680756\n",
              "8845  Wyoming  2016-02       112.680756\n",
              "8846  Wyoming  2016-03       115.393295\n",
              "8847  Wyoming  2016-04       117.826630\n",
              "8848  Wyoming  2016-05       117.864090\n",
              "8849  Wyoming  2016-06       118.401489\n",
              "8850  Wyoming  2016-07       119.238190\n",
              "8851  Wyoming  2016-08       123.096252\n",
              "8852  Wyoming  2016-09       121.124062\n",
              "8853  Wyoming  2016-10       117.826630\n",
              "8854  Wyoming  2016-11       111.854126\n",
              "8855  Wyoming  2016-12       111.618301\n",
              "8856  Wyoming  2017-01       119.205025\n",
              "8857  Wyoming  2017-02       120.589027\n",
              "8858  Wyoming  2017-03       122.517334\n",
              "8859  Wyoming  2017-04       123.916016\n",
              "8860  Wyoming  2017-05       128.692810\n",
              "8861  Wyoming  2017-06       131.207031\n",
              "8862  Wyoming  2017-07       131.250534\n",
              "8863  Wyoming  2017-08       133.233749\n",
              "8864  Wyoming  2017-09       129.776611\n",
              "8865  Wyoming  2017-10       125.861687\n",
              "8866  Wyoming  2017-11       123.635948\n",
              "8867  Wyoming  2017-12       120.589027\n",
              "8868  Wyoming  2018-01       123.916016\n",
              "8869  Wyoming  2018-02       127.274666\n",
              "8870  Wyoming  2018-03       129.824432\n",
              "8871  Wyoming  2018-04       127.815285\n",
              "8872  Wyoming  2018-05       126.444931\n",
              "8873  Wyoming  2018-06              NaN\n",
              "\n",
              "[8874 rows x 3 columns]"
            ]
          },
          "metadata": {
            "tags": []
          },
          "execution_count": 80
        }
      ]
    },
    {
      "cell_type": "code",
      "metadata": {
        "id": "f7DZj4MDyna4",
        "colab_type": "code",
        "colab": {}
      },
      "source": [
        "writr = pd.ExcelWriter('final_predicted.xlsx')\n",
        "outp.to_excel(writr,'sheet1',index=True)\n",
        "writr.save()\n",
        "\n",
        "from google.colab import files\n",
        "files.download('final_predicted.xlsx') \n"
      ],
      "execution_count": 0,
      "outputs": []
    },
    {
      "cell_type": "markdown",
      "metadata": {
        "id": "_zZa2HIc-arK",
        "colab_type": "text"
      },
      "source": [
        "# TODO\n",
        "Try building a sequential model \n",
        "- https://machinelearningmastery.com/convert-time-series-supervised-learning-problem-python/"
      ]
    },
    {
      "cell_type": "markdown",
      "metadata": {
        "id": "daX4VcybzYLp",
        "colab_type": "text"
      },
      "source": [
        "# Previous Models ---------------------------------------------------------------\n",
        "\n",
        "DONT Run This Code\n"
      ]
    },
    {
      "cell_type": "code",
      "metadata": {
        "id": "E73hhtakJ9_v",
        "colab_type": "code",
        "outputId": "ed94045b-88cb-4657-a795-a67c0af222ec",
        "colab": {
          "base_uri": "https://localhost:8080/",
          "height": 34
        }
      },
      "source": [
        "values = reframed.values\n",
        "train = values[:100,:]\n",
        "test = values[100:,:]\n",
        "train_x,train_y = train[:,:-1],train[:,-1]\n",
        "test_x,test_y = test[:,:-1],test[:,-1]\n",
        "\n",
        "train_x = train_x.reshape((train_x.shape[0],train_x.shape[1]))\n",
        "test_x = test_x.reshape((test_x.shape[0],test_x.shape[1]))\n",
        "\n",
        "print(test_x.shape, test_y.shape, train_x.shape, train_y.shape)"
      ],
      "execution_count": 0,
      "outputs": [
        {
          "output_type": "stream",
          "text": [
            "(73, 7) (73,) (100, 7) (100,)\n"
          ],
          "name": "stdout"
        }
      ]
    },
    {
      "cell_type": "code",
      "metadata": {
        "id": "50W_xhDAmdt_",
        "colab_type": "code",
        "outputId": "86c7104f-ebdd-41d8-8d3d-6095522e8254",
        "colab": {
          "base_uri": "https://localhost:8080/",
          "height": 1605
        }
      },
      "source": [
        "#====================================================\n",
        "##          Regression Models\n",
        "#====================================================\n",
        "\n",
        "rng = np.random.RandomState(1)\n",
        "\n",
        "# reg = SVR(kernel= 'rbf', C= 1e3, gamma= 0.1)\n",
        "# regr_2 = AdaBoostRegressor(SVR(kernel= 'rbf', C= 1e3, gamma= 0.1),\n",
        "#                           n_estimators=300, random_state=rng)\n",
        "reg = DecisionTreeRegressor(max_depth=3)\n",
        "regr_2 = AdaBoostRegressor(DecisionTreeRegressor(max_depth=3),\n",
        "                          n_estimators=300, random_state=rng)\n",
        "\n",
        "# reg = LinearRegression()\n",
        "# reg = SVR(kernel='rbf',)\n",
        "reg.fit(train_x,train_y)\n",
        "regr_2.fit(train_x,train_y)\n",
        "\n",
        "arr = reg.predict(test_x)\n",
        "arr2 = regr_2.predict(test_x)\n",
        "\n",
        "\n",
        "# print(reg.coef_)\n",
        "# print(reg.intercept_)\n",
        "\n",
        "\n",
        "# tsne = TSNE(n_components=2).fit_transform(X)\n",
        "# print(\"tsne shape - \",tsne.shape)\n",
        "# plt.scatter(tsne[:,0],tsne[:,1],color = 'black')\n",
        "# plt.title('Testing Data')\n",
        "# plt.xticks(())\n",
        "# plt.yticks(())\n",
        "# plt.plot(test,reg.predict(test_x),color = 'red',linewidth=3)\n",
        "# plt.show()\n",
        "\n",
        "\n",
        "test = np.asarray(test_y) # to print\n",
        "\n",
        "\n",
        "print(\"test_Data\",\" - predicted\",\" - improved\")\n",
        "\n",
        "for i in range(0,len(test_y)):\n",
        "  print(test[i],\" ->  %.2f\"%arr[i],\"  - %.2f\"%arr2[i])\n",
        "\n",
        "plt.scatter(test,arr,color='blue')\n",
        "plt.scatter(test,arr2,color='red')\n",
        "plt.show()"
      ],
      "execution_count": 0,
      "outputs": [
        {
          "output_type": "stream",
          "text": [
            "test_Data  - predicted  - improved\n",
            "0.35000002  ->  0.36   - 0.41\n",
            "0.32500005  ->  0.36   - 0.41\n",
            "0.35000002  ->  0.36   - 0.41\n",
            "0.27499998  ->  0.36   - 0.42\n",
            "0.27499998  ->  0.36   - 0.23\n",
            "0.125  ->  0.36   - 0.23\n",
            "0.07500005  ->  0.46   - 0.23\n",
            "0.375  ->  0.46   - 0.46\n",
            "0.27499998  ->  0.36   - 0.41\n",
            "0.22500002  ->  0.36   - 0.22\n",
            "0.32500005  ->  0.36   - 0.20\n",
            "0.27499998  ->  0.36   - 0.33\n",
            "0.27499998  ->  0.36   - 0.42\n",
            "0.30000007  ->  0.36   - 0.40\n",
            "0.27499998  ->  0.36   - 0.46\n",
            "0.27499998  ->  0.36   - 0.40\n",
            "0.375  ->  0.36   - 0.38\n",
            "0.17500007  ->  0.36   - 0.29\n",
            "0.024999976  ->  0.46   - 0.43\n",
            "0.39999998  ->  0.46   - 0.44\n",
            "0.25  ->  0.36   - 0.39\n",
            "0.30000007  ->  0.36   - 0.21\n",
            "0.35000002  ->  0.36   - 0.30\n",
            "0.27499998  ->  0.36   - 0.32\n",
            "0.32500005  ->  0.36   - 0.25\n",
            "0.42500007  ->  0.36   - 0.47\n",
            "0.32500005  ->  0.36   - 0.41\n",
            "0.375  ->  0.36   - 0.42\n",
            "0.39999998  ->  0.36   - 0.33\n",
            "0.14999998  ->  0.36   - 0.37\n",
            "0.100000024  ->  0.46   - 0.23\n",
            "0.375  ->  0.46   - 0.23\n",
            "0.32500005  ->  0.36   - 0.34\n",
            "0.32500005  ->  0.36   - 0.40\n",
            "0.42500007  ->  0.36   - 0.34\n",
            "0.25  ->  0.36   - 0.38\n",
            "0.39999998  ->  0.36   - 0.25\n",
            "0.42500007  ->  0.36   - 0.41\n",
            "0.39999998  ->  0.36   - 0.46\n",
            "0.35000002  ->  0.36   - 0.45\n",
            "0.25  ->  0.36   - 0.33\n",
            "0.17500007  ->  0.36   - 0.22\n",
            "0.07500005  ->  0.46   - 0.23\n",
            "0.30000007  ->  0.46   - 0.23\n",
            "0.30000007  ->  0.36   - 0.33\n",
            "0.27499998  ->  0.36   - 0.33\n",
            "0.30000007  ->  0.36   - 0.22\n",
            "0.27499998  ->  0.36   - 0.31\n",
            "0.27499998  ->  0.36   - 0.23\n",
            "0.17500007  ->  0.36   - 0.44\n",
            "0.22500002  ->  0.00   - 0.38\n",
            "0.17500007  ->  0.36   - 0.40\n",
            "0.20000005  ->  0.00   - 0.20\n",
            "0.14999998  ->  0.00   - 0.22\n",
            "0.07500005  ->  0.46   - 0.24\n",
            "0.375  ->  0.46   - 0.23\n",
            "0.32500005  ->  0.36   - 0.34\n",
            "0.32500005  ->  0.36   - 0.37\n",
            "0.30000007  ->  0.36   - 0.34\n",
            "0.25  ->  0.36   - 0.34\n",
            "0.25  ->  0.36   - 0.23\n",
            "0.22500002  ->  0.36   - 0.45\n",
            "0.27499998  ->  0.36   - 0.44\n",
            "0.20000005  ->  0.36   - 0.49\n",
            "0.27499998  ->  0.00   - 0.22\n",
            "0.17500007  ->  0.36   - 0.23\n",
            "0.100000024  ->  0.00   - 0.22\n",
            "0.39999998  ->  0.46   - 0.25\n",
            "0.30000007  ->  0.36   - 0.38\n",
            "0.27499998  ->  0.36   - 0.38\n",
            "0.35000002  ->  0.36   - 0.23\n",
            "0.27499998  ->  0.36   - 0.40\n",
            "0.27499998  ->  0.36   - 0.22\n"
          ],
          "name": "stdout"
        },
        {
          "output_type": "display_data",
          "data": {
            "image/png": "[encoded data removed]",
            "text/plain": [
              "<matplotlib.figure.Figure at 0x7ff2e7263668>"
            ]
          },
          "metadata": {
            "tags": []
          }
        }
      ]
    },
    {
      "cell_type": "code",
      "metadata": {
        "id": "G8uXKN1cUFnf",
        "colab_type": "code",
        "outputId": "c554322b-efb5-4d74-d05d-cc0016efdd3e",
        "colab": {
          "base_uri": "https://localhost:8080/",
          "height": 1605
        }
      },
      "source": [
        "#====================================================\n",
        "##          Regression Models\n",
        "#====================================================\n",
        "\n",
        "rng = np.random.RandomState(1)\n",
        "\n",
        "reg = SVR(kernel= 'rbf', C= 1e3, gamma= 0.1)\n",
        "regr_2 = AdaBoostRegressor(SVR(kernel= 'rbf', C= 1e3, gamma= 0.1),\n",
        "                          n_estimators=300, random_state=rng)\n",
        "\n",
        "# reg = LinearRegression()\n",
        "# reg = SVR(kernel='rbf',)\n",
        "reg.fit(train_x,train_y)\n",
        "regr_2.fit(train_x,train_y)\n",
        "\n",
        "arr = reg.predict(test_x)\n",
        "arr2 = regr_2.predict(test_x)\n",
        "\n",
        "\n",
        "# print(reg.coef_)\n",
        "# print(reg.intercept_)\n",
        "\n",
        "\n",
        "# tsne = TSNE(n_components=2).fit_transform(X)\n",
        "# print(\"tsne shape - \",tsne.shape)\n",
        "# plt.scatter(tsne[:,0],tsne[:,1],color = 'black')\n",
        "# plt.title('Testing Data')\n",
        "# plt.xticks(())\n",
        "# plt.yticks(())\n",
        "# plt.plot(test,reg.predict(test_x),color = 'red',linewidth=3)\n",
        "# plt.show()\n",
        "\n",
        "\n",
        "test = np.asarray(test_y) # to print\n",
        "\n",
        "\n",
        "print(\"test_Data\",\"- predicted\",\"- improved\")\n",
        "\n",
        "for i in range(0,len(test_y)):\n",
        "  \n",
        "  #       Test data   ->   Predicted  ->  Improved\n",
        "  \n",
        "  print(test[i],\" ->  %.2f\"%arr[i],\"  - %.2f\"%arr2[i])\n",
        "\n",
        "plt.scatter(test,arr,color='blue')\n",
        "plt.scatter(test,arr2,color='red')\n",
        "plt.show()"
      ],
      "execution_count": 0,
      "outputs": [
        {
          "output_type": "stream",
          "text": [
            "test_Data - predicted - improved\n",
            "0.35000002  ->  0.35   - 0.27\n",
            "0.32500005  ->  0.39   - 0.37\n",
            "0.35000002  ->  0.43   - 0.43\n",
            "0.27499998  ->  0.43   - 0.42\n",
            "0.27499998  ->  0.27   - 0.25\n",
            "0.125  ->  0.24   - 0.19\n",
            "0.07500005  ->  0.01   - -0.08\n",
            "0.375  ->  0.41   - 0.49\n",
            "0.27499998  ->  0.35   - 0.33\n",
            "0.22500002  ->  0.22   - 0.12\n",
            "0.32500005  ->  0.20   - 0.05\n",
            "0.27499998  ->  0.35   - 0.26\n",
            "0.27499998  ->  0.40   - 0.21\n",
            "0.30000007  ->  0.40   - 0.17\n",
            "0.27499998  ->  0.39   - 0.18\n",
            "0.27499998  ->  0.41   - 0.21\n",
            "0.375  ->  0.34   - 0.19\n",
            "0.17500007  ->  0.30   - 0.20\n",
            "0.024999976  ->  0.33   - 0.18\n",
            "0.39999998  ->  0.31   - 0.23\n",
            "0.25  ->  0.30   - 0.22\n",
            "0.30000007  ->  0.16   - 0.05\n",
            "0.35000002  ->  0.24   - 0.17\n",
            "0.27499998  ->  0.34   - 0.27\n",
            "0.32500005  ->  0.37   - 0.24\n",
            "0.42500007  ->  0.51   - 0.33\n",
            "0.32500005  ->  0.54   - 0.46\n",
            "0.375  ->  0.52   - 0.30\n",
            "0.39999998  ->  0.60   - 0.47\n",
            "0.14999998  ->  0.59   - 0.45\n",
            "0.100000024  ->  0.25   - -0.02\n",
            "0.375  ->  0.11   - -0.17\n",
            "0.32500005  ->  0.58   - 0.45\n",
            "0.32500005  ->  0.47   - 0.31\n",
            "0.42500007  ->  0.52   - 0.36\n",
            "0.25  ->  0.69   - 0.58\n",
            "0.39999998  ->  0.52   - 0.28\n",
            "0.42500007  ->  0.67   - 0.49\n",
            "0.39999998  ->  0.55   - 0.40\n",
            "0.35000002  ->  0.42   - 0.36\n",
            "0.25  ->  0.47   - 0.32\n",
            "0.17500007  ->  0.34   - 0.09\n",
            "0.07500005  ->  0.24   - -0.01\n",
            "0.30000007  ->  0.11   - -0.17\n",
            "0.30000007  ->  0.22   - 0.05\n",
            "0.27499998  ->  0.24   - 0.03\n",
            "0.30000007  ->  0.39   - 0.19\n",
            "0.27499998  ->  0.43   - 0.20\n",
            "0.27499998  ->  0.51   - 0.30\n",
            "0.17500007  ->  0.42   - 0.19\n",
            "0.22500002  ->  0.45   - 0.14\n",
            "0.17500007  ->  0.52   - 0.22\n",
            "0.20000005  ->  0.39   - 0.08\n",
            "0.14999998  ->  0.19   - -0.12\n",
            "0.07500005  ->  -0.06   - -0.24\n",
            "0.375  ->  0.14   - -0.15\n",
            "0.32500005  ->  0.53   - 0.40\n",
            "0.32500005  ->  0.45   - 0.25\n",
            "0.30000007  ->  0.55   - 0.36\n",
            "0.25  ->  0.55   - 0.32\n",
            "0.25  ->  0.56   - 0.32\n",
            "0.22500002  ->  0.58   - 0.28\n",
            "0.27499998  ->  0.55   - 0.22\n",
            "0.20000005  ->  0.61   - 0.34\n",
            "0.27499998  ->  0.52   - 0.22\n",
            "0.17500007  ->  0.54   - 0.29\n",
            "0.100000024  ->  0.36   - 0.05\n",
            "0.39999998  ->  0.14   - -0.18\n",
            "0.30000007  ->  0.57   - 0.45\n",
            "0.27499998  ->  0.14   - 0.08\n",
            "0.35000002  ->  0.38   - 0.19\n",
            "0.27499998  ->  0.56   - 0.42\n",
            "0.27499998  ->  0.62   - 0.40\n"
          ],
          "name": "stdout"
        },
        {
          "output_type": "display_data",
          "data": {
            "image/png": "[encoded data removed]",
            "text/plain": [
              "<matplotlib.figure.Figure at 0x7ff2e8704dd8>"
            ]
          },
          "metadata": {
            "tags": []
          }
        }
      ]
    },
    {
      "cell_type": "code",
      "metadata": {
        "id": "r7R8u_2yw2p4",
        "colab_type": "code",
        "outputId": "bbaf8dce-0795-4fec-b5fa-e34bba536f67",
        "colab": {
          "base_uri": "https://localhost:8080/",
          "height": 1984
        }
      },
      "source": [
        "#====================================================\n",
        "##          Bayesian Ridge Model\n",
        "#====================================================\n",
        "\n",
        "regr = linear_model.BayesianRidge()\n",
        "regr.fit(train_x,train_y)\n",
        "print(regr.coef_)\n",
        "print(regr.intercept_)\n",
        "\n",
        "tsne = TSNE(n_components=2).fit_transform(X)\n",
        "print(\"tsne shape - \",tsne.shape)\n",
        "\n",
        "plt.scatter(tsne[:,0],tsne[:,1],color = 'black')\n",
        "plt.title('Testing Data')\n",
        "plt.xticks(())\n",
        "plt.yticks(())\n",
        "# plt.plot(Y_test,reg.predict(X_test),color = 'red',linewidth=3)\n",
        "plt.show()\n",
        "\n",
        "test = np.asarray(test_y)\n",
        "arr = regr.predict(test_x)\n",
        "for i in range(0,len(test_y)):\n",
        "  print(test[i],\" -> %.2f\"%arr[i])\n",
        "  \n",
        "plt.scatter(test,arr,color='blue')\n",
        "plt.show()"
      ],
      "execution_count": 0,
      "outputs": [
        {
          "output_type": "stream",
          "text": [
            "[ 0.59332981  0.17312168  0.11321871 -0.07587026 -0.09662714 -0.28033725\n",
            " -0.15072859]\n",
            "0.3476646481679973\n",
            "tsne shape -  (174, 2)\n"
          ],
          "name": "stdout"
        },
        {
          "output_type": "display_data",
          "data": {
            "image/png": "[encoded data removed]",
            "text/plain": [
              "<matplotlib.figure.Figure at 0x7ff2e72634e0>"
            ]
          },
          "metadata": {
            "tags": []
          }
        },
        {
          "output_type": "stream",
          "text": [
            "0.35000002  -> 0.34\n",
            "0.32500005  -> 0.37\n",
            "0.35000002  -> 0.40\n",
            "0.27499998  -> 0.38\n",
            "0.27499998  -> 0.32\n",
            "0.125  -> 0.33\n",
            "0.07500005  -> 0.25\n",
            "0.375  -> 0.30\n",
            "0.27499998  -> 0.40\n",
            "0.22500002  -> 0.32\n",
            "0.32500005  -> 0.27\n",
            "0.27499998  -> 0.32\n",
            "0.27499998  -> 0.28\n",
            "0.30000007  -> 0.30\n",
            "0.27499998  -> 0.31\n",
            "0.27499998  -> 0.28\n",
            "0.375  -> 0.29\n",
            "0.17500007  -> 0.36\n",
            "0.024999976  -> 0.28\n",
            "0.39999998  -> 0.23\n",
            "0.25  -> 0.39\n",
            "0.30000007  -> 0.30\n",
            "0.35000002  -> 0.33\n",
            "0.27499998  -> 0.33\n",
            "0.32500005  -> 0.26\n",
            "0.42500007  -> 0.29\n",
            "0.32500005  -> 0.35\n",
            "0.375  -> 0.31\n",
            "0.39999998  -> 0.30\n",
            "0.14999998  -> 0.28\n",
            "0.100000024  -> 0.20\n",
            "0.375  -> 0.17\n",
            "0.32500005  -> 0.28\n",
            "0.32500005  -> 0.26\n",
            "0.42500007  -> 0.27\n",
            "0.25  -> 0.31\n",
            "0.39999998  -> 0.22\n",
            "0.42500007  -> 0.29\n",
            "0.39999998  -> 0.31\n",
            "0.35000002  -> 0.26\n",
            "0.25  -> 0.26\n",
            "0.17500007  -> 0.21\n",
            "0.07500005  -> 0.22\n",
            "0.30000007  -> 0.18\n",
            "0.30000007  -> 0.24\n",
            "0.27499998  -> 0.24\n",
            "0.30000007  -> 0.24\n",
            "0.27499998  -> 0.24\n",
            "0.27499998  -> 0.23\n",
            "0.17500007  -> 0.23\n",
            "0.22500002  -> 0.21\n",
            "0.17500007  -> 0.23\n",
            "0.20000005  -> 0.18\n",
            "0.14999998  -> 0.17\n",
            "0.07500005  -> 0.17\n",
            "0.375  -> 0.17\n",
            "0.32500005  -> 0.29\n",
            "0.32500005  -> 0.25\n",
            "0.30000007  -> 0.23\n",
            "0.25  -> 0.22\n",
            "0.25  -> 0.20\n",
            "0.22500002  -> 0.21\n",
            "0.27499998  -> 0.21\n",
            "0.20000005  -> 0.20\n",
            "0.27499998  -> 0.17\n",
            "0.17500007  -> 0.20\n",
            "0.100000024  -> 0.17\n",
            "0.39999998  -> 0.15\n",
            "0.30000007  -> 0.27\n",
            "0.27499998  -> 0.15\n",
            "0.35000002  -> 0.19\n",
            "0.27499998  -> 0.23\n",
            "0.27499998  -> 0.19\n"
          ],
          "name": "stdout"
        },
        {
          "output_type": "display_data",
          "data": {
            "image/png": "[encoded data removed]",
            "text/plain": [
              "<matplotlib.figure.Figure at 0x7ff2e7230f60>"
            ]
          },
          "metadata": {
            "tags": []
          }
        }
      ]
    },
    {
      "cell_type": "code",
      "metadata": {
        "id": "IR8q4IF_5mFs",
        "colab_type": "code",
        "outputId": "bec57892-71c7-4f3b-9f91-9e4f1c3f385a",
        "colab": {
          "base_uri": "https://localhost:8080/",
          "height": 379
        }
      },
      "source": [
        "#====================================================\n",
        "##          Component Reduction\n",
        "#====================================================\n",
        "\n",
        "# X.head()\n",
        "print(X.shape)\n",
        "\n",
        "tsne = TSNE(n_components=2).fit_transform(X)\n",
        "print(\"tsne shape - \",tsne.shape)\n",
        "\n",
        "plt.scatter(tsne[:,0],tsne[:,1],color = 'black')\n",
        "plt.title('Testing Data')\n",
        "plt.xticks(())\n",
        "plt.yticks(())\n",
        "plt.show()\n"
      ],
      "execution_count": 0,
      "outputs": [
        {
          "output_type": "stream",
          "text": [
            "(174, 6)\n",
            "tsne shape -  (174, 2)\n"
          ],
          "name": "stdout"
        },
        {
          "output_type": "display_data",
          "data": {
            "image/png": "[encoded data removed]",
            "text/plain": [
              "<matplotlib.figure.Figure at 0x7ff2e71c14e0>"
            ]
          },
          "metadata": {
            "tags": []
          }
        }
      ]
    },
    {
      "cell_type": "code",
      "metadata": {
        "id": "O4RFx6z_Z9t5",
        "colab_type": "code",
        "colab": {}
      },
      "source": [
        "# TO-DO\n",
        "\n",
        "# - LSTM\n",
        "# - GRU\n"
      ],
      "execution_count": 0,
      "outputs": []
    },
    {
      "cell_type": "markdown",
      "metadata": {
        "id": "gA1smGutazq7",
        "colab_type": "text"
      },
      "source": [
        "## Add other datasets"
      ]
    },
    {
      "cell_type": "code",
      "metadata": {
        "id": "f86SeFf-a5dX",
        "colab_type": "code",
        "colab": {}
      },
      "source": [
        "#====================================================\n",
        "##          Regression Models\n",
        "#====================================================\n",
        "\n",
        "rng = np.random.RandomState(1)\n",
        "\n",
        "reg = SVR(kernel= 'rbf', C= 1e3, gamma= 0.1)\n",
        "regr_2 = AdaBoostRegressor(SVR(kernel= 'rbf', C= 1e3, gamma= 0.1),\n",
        "                          n_estimators=300, random_state=rng)\n",
        "\n",
        "# reg = LinearRegression()\n",
        "# reg = SVR(kernel='rbf',)\n",
        "reg.fit(train_x,train_y)\n",
        "regr_2.fit(train_x,train_y)\n",
        "\n",
        "arr = reg.predict(test_x)\n",
        "arr2 = regr_2.predict(test_x)\n",
        "\n",
        "\n",
        "# print(reg.coef_)\n",
        "# print(reg.intercept_)\n",
        "# tsne = TSNE(n_components=2).fit_transform(X)\n",
        "# print(\"tsne shape - \",tsne.shape)\n",
        "# plt.scatter(tsne[:,0],tsne[:,1],color = 'black')\n",
        "# plt.title('Testing Data')\n",
        "# plt.xticks(())\n",
        "# plt.yticks(())\n",
        "# plt.plot(test,reg.predict(test_x),color = 'red',linewidth=3)\n",
        "# plt.show()\n",
        "\n",
        "\n",
        "test = np.asarray(test_y) # to print\n",
        "\n",
        "print(\"test_Data\",\"- predicted\",\"- improved\")\n",
        "\n",
        "for i in range(0,len(test_y)):\n",
        "  \n",
        "  #       Test data   ->   Predicted  ->  Improved\n",
        "  \n",
        "  print(test[i],\" ->  %.2f\"%arr[i],\"  - %.2f\"%arr2[i])\n",
        "\n",
        "plt.scatter(test,arr,color='blue')\n",
        "plt.scatter(test,arr2,color='red')\n",
        "plt.show()"
      ],
      "execution_count": 0,
      "outputs": []
    }
  ]
}