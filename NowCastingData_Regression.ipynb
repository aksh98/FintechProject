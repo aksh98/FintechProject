{
  "nbformat": 4,
  "nbformat_minor": 0,
  "metadata": {
    "colab": {
      "name": "NowCastingData_Regression.ipynb",
      "version": "0.3.2",
      "provenance": [],
      "include_colab_link": true
    },
    "kernelspec": {
      "name": "python3",
      "display_name": "Python 3"
    }
  },
  "cells": [
    {
      "cell_type": "markdown",
      "metadata": {
        "id": "view-in-github",
        "colab_type": "text"
      },
      "source": [
        "[View in Colaboratory](https://colab.research.google.com/github/aksh98/FintechProject/blob/master/NowCastingData_Regression.ipynb)"
      ]
    },
    {
      "metadata": {
        "id": "o4P-IAyaLTCW",
        "colab_type": "code",
        "colab": {}
      },
      "cell_type": "code",
      "source": [
        "import pandas as pd\n",
        "import numpy as np\n",
        "import sklearn\n",
        "import matplotlib.pyplot as plt\n",
        "from sklearn.model_selection import train_test_split\n",
        "from sklearn.model_selection import GridSearchCV\n",
        "from sklearn.svm import SVC\n",
        "from sklearn.svm import SVR\n",
        "from sklearn.neural_network import MLPClassifier\n",
        "from sklearn.metrics import accuracy_score\n",
        "from sklearn.manifold import TSNE\n",
        "from sklearn import linear_model\n",
        "from sklearn.linear_model import LinearRegression\n",
        "from sklearn.decomposition import PCA\n",
        "from sklearn.discriminant_analysis import LinearDiscriminantAnalysis\n",
        "from sklearn.ensemble import AdaBoostRegressor\n",
        "from sklearn.tree import DecisionTreeRegressor"
      ],
      "execution_count": 0,
      "outputs": []
    },
    {
      "metadata": {
        "id": "ns677CGCZCq2",
        "colab_type": "code",
        "colab": {}
      },
      "cell_type": "code",
      "source": [
        "!pip install -U -q PyDrive\n"
      ],
      "execution_count": 0,
      "outputs": []
    },
    {
      "metadata": {
        "id": "f6AnjUvVZ2Q7",
        "colab_type": "code",
        "colab": {}
      },
      "cell_type": "code",
      "source": [
        "from google.colab import files\n",
        "from pydrive.auth import GoogleAuth\n",
        "from pydrive.drive import GoogleDrive\n",
        "from google.colab import auth\n",
        "from oauth2client.client import GoogleCredentials"
      ],
      "execution_count": 0,
      "outputs": []
    },
    {
      "metadata": {
        "id": "9dPiRHcHZ6CG",
        "colab_type": "code",
        "colab": {}
      },
      "cell_type": "code",
      "source": [
        "auth.authenticate_user()\n",
        "gauth = GoogleAuth()\n",
        "creds = GoogleCredentials.get_application_default()\n",
        "drive = GoogleDrive(gauth)\n",
        "\n",
        "\n"
      ],
      "execution_count": 0,
      "outputs": []
    },
    {
      "metadata": {
        "id": "4OlBQT0YZ8Lc",
        "colab_type": "code",
        "colab": {
          "resources": {
            "http://localhost:8080/nbextensions/google.colab/files.js": {
              "data": "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",
              "ok": true,
              "headers": [
                [
                  "content-type",
                  "application/javascript"
                ]
              ],
              "status": 200,
              "status_text": ""
            }
          },
          "base_uri": "https://localhost:8080/",
          "height": 86
        },
        "outputId": "d0f80c8f-b84c-43f9-e177-3c4992010519"
      },
      "cell_type": "code",
      "source": [
        "from google.colab import files\n",
        "\n",
        "uploaded = files.upload()\n",
        "\n",
        "for fn in uploaded.keys():\n",
        "  print('User uploaded file \"{name}\" with length {length} bytes'.format(\n",
        "      name=fn, length=len(uploaded[fn])))\n"
      ],
      "execution_count": 5,
      "outputs": [
        {
          "output_type": "display_data",
          "data": {
            "text/html": [
              "\n",
              "     <input type=\"file\" id=\"files-4fadc290-47de-420e-8f34-bbe6264866b6\" name=\"files[]\" multiple disabled />\n",
              "     <output id=\"result-4fadc290-47de-420e-8f34-bbe6264866b6\">\n",
              "      Upload widget is only available when the cell has been executed in the\n",
              "      current browser session. Please rerun this cell to enable.\n",
              "      </output>\n",
              "      <script src=\"/nbextensions/google.colab/files.js\"></script> "
            ],
            "text/plain": [
              "<IPython.core.display.HTML object>"
            ]
          },
          "metadata": {
            "tags": []
          }
        },
        {
          "output_type": "stream",
          "text": [
            "Saving GoogleTrendsData.csv to GoogleTrendsData.csv\n",
            "User uploaded file \"GoogleTrendsData.csv\" with length 4934 bytes\n"
          ],
          "name": "stdout"
        }
      ]
    },
    {
      "metadata": {
        "id": "jo8N3lw1aG90",
        "colab_type": "code",
        "colab": {}
      },
      "cell_type": "code",
      "source": [
        "# !ls\n",
        "!cd datalab\n"
      ],
      "execution_count": 0,
      "outputs": []
    },
    {
      "metadata": {
        "id": "uuTrCRYwneoY",
        "colab_type": "code",
        "colab": {
          "base_uri": "https://localhost:8080/",
          "height": 34
        },
        "outputId": "4c6f08dd-6cf8-48f0-e1d3-6f175fd32041"
      },
      "cell_type": "code",
      "source": [
        "# %cd ..\n",
        "!ls"
      ],
      "execution_count": 11,
      "outputs": [
        {
          "output_type": "stream",
          "text": [
            "adc.json  datalab  sample_data\r\n"
          ],
          "name": "stdout"
        }
      ]
    },
    {
      "metadata": {
        "id": "rIObbNXJaMLA",
        "colab_type": "code",
        "colab": {
          "base_uri": "https://localhost:8080/",
          "height": 34
        },
        "outputId": "b97cefec-df42-46a5-d0cd-fe04306c96f2"
      },
      "cell_type": "code",
      "source": [
        "datafile = pd.read_csv('GoogleTrendsData.csv')\n",
        "datafile.shape"
      ],
      "execution_count": 6,
      "outputs": [
        {
          "output_type": "execute_result",
          "data": {
            "text/plain": [
              "(176, 8)"
            ]
          },
          "metadata": {
            "tags": []
          },
          "execution_count": 6
        }
      ]
    },
    {
      "metadata": {
        "id": "3WHQJPT_aqxb",
        "colab_type": "code",
        "colab": {
          "base_uri": "https://localhost:8080/",
          "height": 326
        },
        "outputId": "87d42908-befb-4f67-8d8c-7e20f288bfa5"
      },
      "cell_type": "code",
      "source": [
        "# datafile.shape[0]\n",
        "datafile.tail()"
      ],
      "execution_count": 7,
      "outputs": [
        {
          "output_type": "execute_result",
          "data": {
            "text/html": [
              "<div>\n",
              "<style scoped>\n",
              "    .dataframe tbody tr th:only-of-type {\n",
              "        vertical-align: middle;\n",
              "    }\n",
              "\n",
              "    .dataframe tbody tr th {\n",
              "        vertical-align: top;\n",
              "    }\n",
              "\n",
              "    .dataframe thead th {\n",
              "        text-align: right;\n",
              "    }\n",
              "</style>\n",
              "<table border=\"1\" class=\"dataframe\">\n",
              "  <thead>\n",
              "    <tr style=\"text-align: right;\">\n",
              "      <th></th>\n",
              "      <th>Month</th>\n",
              "      <th>Employment</th>\n",
              "      <th>Unemployment</th>\n",
              "      <th>Productivity</th>\n",
              "      <th>GDP</th>\n",
              "      <th>Stock market</th>\n",
              "      <th>jobs</th>\n",
              "      <th>UMEX</th>\n",
              "    </tr>\n",
              "  </thead>\n",
              "  <tbody>\n",
              "    <tr>\n",
              "      <th>171</th>\n",
              "      <td>2018-04</td>\n",
              "      <td>74</td>\n",
              "      <td>18</td>\n",
              "      <td>1</td>\n",
              "      <td>4</td>\n",
              "      <td>13</td>\n",
              "      <td>68</td>\n",
              "      <td>127.0</td>\n",
              "    </tr>\n",
              "    <tr>\n",
              "      <th>172</th>\n",
              "      <td>2018-05</td>\n",
              "      <td>71</td>\n",
              "      <td>16</td>\n",
              "      <td>1</td>\n",
              "      <td>4</td>\n",
              "      <td>9</td>\n",
              "      <td>68</td>\n",
              "      <td>134.0</td>\n",
              "    </tr>\n",
              "    <tr>\n",
              "      <th>173</th>\n",
              "      <td>2018-06</td>\n",
              "      <td>71</td>\n",
              "      <td>17</td>\n",
              "      <td>1</td>\n",
              "      <td>3</td>\n",
              "      <td>9</td>\n",
              "      <td>71</td>\n",
              "      <td>132.0</td>\n",
              "    </tr>\n",
              "    <tr>\n",
              "      <th>174</th>\n",
              "      <td>2018-07</td>\n",
              "      <td>71</td>\n",
              "      <td>18</td>\n",
              "      <td>1</td>\n",
              "      <td>5</td>\n",
              "      <td>9</td>\n",
              "      <td>71</td>\n",
              "      <td>NaN</td>\n",
              "    </tr>\n",
              "    <tr>\n",
              "      <th>175</th>\n",
              "      <td>2018-08</td>\n",
              "      <td>85</td>\n",
              "      <td>16</td>\n",
              "      <td>1</td>\n",
              "      <td>5</td>\n",
              "      <td>11</td>\n",
              "      <td>81</td>\n",
              "      <td>NaN</td>\n",
              "    </tr>\n",
              "  </tbody>\n",
              "</table>\n",
              "</div>"
            ],
            "text/plain": [
              "       Month  Employment  Unemployment  Productivity  GDP  Stock market  jobs  \\\n",
              "171  2018-04          74            18             1    4            13    68   \n",
              "172  2018-05          71            16             1    4             9    68   \n",
              "173  2018-06          71            17             1    3             9    71   \n",
              "174  2018-07          71            18             1    5             9    71   \n",
              "175  2018-08          85            16             1    5            11    81   \n",
              "\n",
              "      UMEX  \n",
              "171  127.0  \n",
              "172  134.0  \n",
              "173  132.0  \n",
              "174    NaN  \n",
              "175    NaN  "
            ]
          },
          "metadata": {
            "tags": []
          },
          "execution_count": 7
        }
      ]
    },
    {
      "metadata": {
        "id": "U7czX-zhblvb",
        "colab_type": "code",
        "colab": {}
      },
      "cell_type": "code",
      "source": [
        "# print(datafile['UMEX'].max())\n",
        "# print(datafile['UMEX'].min())\n",
        "\n",
        "datafile.drop(datafile.tail(2).index,inplace=True)"
      ],
      "execution_count": 0,
      "outputs": []
    },
    {
      "metadata": {
        "id": "PZN8E6WHrvvv",
        "colab_type": "code",
        "colab": {
          "base_uri": "https://localhost:8080/",
          "height": 326
        },
        "outputId": "977474af-7a19-467f-c2ed-2cb70877dcb4"
      },
      "cell_type": "code",
      "source": [
        "datafile.tail()"
      ],
      "execution_count": 9,
      "outputs": [
        {
          "output_type": "execute_result",
          "data": {
            "text/html": [
              "<div>\n",
              "<style scoped>\n",
              "    .dataframe tbody tr th:only-of-type {\n",
              "        vertical-align: middle;\n",
              "    }\n",
              "\n",
              "    .dataframe tbody tr th {\n",
              "        vertical-align: top;\n",
              "    }\n",
              "\n",
              "    .dataframe thead th {\n",
              "        text-align: right;\n",
              "    }\n",
              "</style>\n",
              "<table border=\"1\" class=\"dataframe\">\n",
              "  <thead>\n",
              "    <tr style=\"text-align: right;\">\n",
              "      <th></th>\n",
              "      <th>Month</th>\n",
              "      <th>Employment</th>\n",
              "      <th>Unemployment</th>\n",
              "      <th>Productivity</th>\n",
              "      <th>GDP</th>\n",
              "      <th>Stock market</th>\n",
              "      <th>jobs</th>\n",
              "      <th>UMEX</th>\n",
              "    </tr>\n",
              "  </thead>\n",
              "  <tbody>\n",
              "    <tr>\n",
              "      <th>169</th>\n",
              "      <td>2018-02</td>\n",
              "      <td>72</td>\n",
              "      <td>20</td>\n",
              "      <td>1</td>\n",
              "      <td>5</td>\n",
              "      <td>27</td>\n",
              "      <td>63</td>\n",
              "      <td>136.0</td>\n",
              "    </tr>\n",
              "    <tr>\n",
              "      <th>170</th>\n",
              "      <td>2018-03</td>\n",
              "      <td>71</td>\n",
              "      <td>17</td>\n",
              "      <td>1</td>\n",
              "      <td>4</td>\n",
              "      <td>15</td>\n",
              "      <td>64</td>\n",
              "      <td>134.0</td>\n",
              "    </tr>\n",
              "    <tr>\n",
              "      <th>171</th>\n",
              "      <td>2018-04</td>\n",
              "      <td>74</td>\n",
              "      <td>18</td>\n",
              "      <td>1</td>\n",
              "      <td>4</td>\n",
              "      <td>13</td>\n",
              "      <td>68</td>\n",
              "      <td>127.0</td>\n",
              "    </tr>\n",
              "    <tr>\n",
              "      <th>172</th>\n",
              "      <td>2018-05</td>\n",
              "      <td>71</td>\n",
              "      <td>16</td>\n",
              "      <td>1</td>\n",
              "      <td>4</td>\n",
              "      <td>9</td>\n",
              "      <td>68</td>\n",
              "      <td>134.0</td>\n",
              "    </tr>\n",
              "    <tr>\n",
              "      <th>173</th>\n",
              "      <td>2018-06</td>\n",
              "      <td>71</td>\n",
              "      <td>17</td>\n",
              "      <td>1</td>\n",
              "      <td>3</td>\n",
              "      <td>9</td>\n",
              "      <td>71</td>\n",
              "      <td>132.0</td>\n",
              "    </tr>\n",
              "  </tbody>\n",
              "</table>\n",
              "</div>"
            ],
            "text/plain": [
              "       Month  Employment  Unemployment  Productivity  GDP  Stock market  jobs  \\\n",
              "169  2018-02          72            20             1    5            27    63   \n",
              "170  2018-03          71            17             1    4            15    64   \n",
              "171  2018-04          74            18             1    4            13    68   \n",
              "172  2018-05          71            16             1    4             9    68   \n",
              "173  2018-06          71            17             1    3             9    71   \n",
              "\n",
              "      UMEX  \n",
              "169  136.0  \n",
              "170  134.0  \n",
              "171  127.0  \n",
              "172  134.0  \n",
              "173  132.0  "
            ]
          },
          "metadata": {
            "tags": []
          },
          "execution_count": 9
        }
      ]
    },
    {
      "metadata": {
        "id": "X7uTRSePwUAT",
        "colab_type": "code",
        "colab": {
          "base_uri": "https://localhost:8080/",
          "height": 311
        },
        "outputId": "4d521d47-deea-43a3-c28f-2f90aa181515"
      },
      "cell_type": "code",
      "source": [
        "from matplotlib import pyplot\n",
        "from pandas import concat\n",
        "\n",
        "\n",
        "pyplot.figure()\n",
        "\n",
        "for i in range(1,8):\n",
        "  pyplot.subplot(8,1,i+1)\n",
        "  pyplot.plot(datafile.values[:,i])\n",
        "  pyplot.title(datafile.columns[i],y=0.5,loc='right')\n",
        "\n",
        "# pyplot.subplot(7,1,7)\n",
        "# pyplot.plot(datafile.values[:,0])\n",
        "# pyplot.title(datafile.columns[0],y=0.5,loc='right')\n",
        "\n",
        "pyplot.show()  "
      ],
      "execution_count": 39,
      "outputs": [
        {
          "output_type": "display_data",
          "data": {
            "image/png": "[encoded data removed]",
            "text/plain": [
              "<matplotlib.figure.Figure at 0x7ff2f8d49080>"
            ]
          },
          "metadata": {
            "tags": []
          }
        }
      ]
    },
    {
      "metadata": {
        "id": "3qYpZfNYehii",
        "colab_type": "code",
        "colab": {}
      },
      "cell_type": "code",
      "source": [
        "Y = datafile['UMEX']\n",
        "X = datafile[['Employment','Unemployment','Productivity','GDP','Stock market','jobs']]\n",
        "X.head()\n",
        "print(X.shape, Y.shape)\n",
        "# print(Y.values)"
      ],
      "execution_count": 0,
      "outputs": []
    },
    {
      "metadata": {
        "id": "z6JKby_4_aDZ",
        "colab_type": "code",
        "colab": {
          "base_uri": "https://localhost:8080/",
          "height": 221
        },
        "outputId": "80cdebdc-567b-4ba6-9486-febb2211b19c"
      },
      "cell_type": "code",
      "source": [
        "# remove month & year column\n",
        "\n",
        "datafile = datafile[['Employment','Unemployment','Productivity','GDP','Stock market','jobs','UMEX']]\n",
        "datafile.head()"
      ],
      "execution_count": 45,
      "outputs": [
        {
          "output_type": "execute_result",
          "data": {
            "text/html": [
              "<div>\n",
              "<style scoped>\n",
              "    .dataframe tbody tr th:only-of-type {\n",
              "        vertical-align: middle;\n",
              "    }\n",
              "\n",
              "    .dataframe tbody tr th {\n",
              "        vertical-align: top;\n",
              "    }\n",
              "\n",
              "    .dataframe thead th {\n",
              "        text-align: right;\n",
              "    }\n",
              "</style>\n",
              "<table border=\"1\" class=\"dataframe\">\n",
              "  <thead>\n",
              "    <tr style=\"text-align: right;\">\n",
              "      <th></th>\n",
              "      <th>Employment</th>\n",
              "      <th>Unemployment</th>\n",
              "      <th>Productivity</th>\n",
              "      <th>GDP</th>\n",
              "      <th>Stock market</th>\n",
              "      <th>jobs</th>\n",
              "      <th>UMEX</th>\n",
              "    </tr>\n",
              "  </thead>\n",
              "  <tbody>\n",
              "    <tr>\n",
              "      <th>0</th>\n",
              "      <td>99</td>\n",
              "      <td>21</td>\n",
              "      <td>2</td>\n",
              "      <td>4</td>\n",
              "      <td>9</td>\n",
              "      <td>58</td>\n",
              "      <td>128.0</td>\n",
              "    </tr>\n",
              "    <tr>\n",
              "      <th>1</th>\n",
              "      <td>92</td>\n",
              "      <td>20</td>\n",
              "      <td>2</td>\n",
              "      <td>5</td>\n",
              "      <td>9</td>\n",
              "      <td>52</td>\n",
              "      <td>111.0</td>\n",
              "    </tr>\n",
              "    <tr>\n",
              "      <th>2</th>\n",
              "      <td>92</td>\n",
              "      <td>17</td>\n",
              "      <td>2</td>\n",
              "      <td>5</td>\n",
              "      <td>7</td>\n",
              "      <td>53</td>\n",
              "      <td>100.0</td>\n",
              "    </tr>\n",
              "    <tr>\n",
              "      <th>3</th>\n",
              "      <td>94</td>\n",
              "      <td>17</td>\n",
              "      <td>2</td>\n",
              "      <td>5</td>\n",
              "      <td>8</td>\n",
              "      <td>53</td>\n",
              "      <td>107.0</td>\n",
              "    </tr>\n",
              "    <tr>\n",
              "      <th>4</th>\n",
              "      <td>92</td>\n",
              "      <td>16</td>\n",
              "      <td>2</td>\n",
              "      <td>4</td>\n",
              "      <td>8</td>\n",
              "      <td>56</td>\n",
              "      <td>110.0</td>\n",
              "    </tr>\n",
              "  </tbody>\n",
              "</table>\n",
              "</div>"
            ],
            "text/plain": [
              "   Employment  Unemployment  Productivity  GDP  Stock market  jobs   UMEX\n",
              "0          99            21             2    4             9    58  128.0\n",
              "1          92            20             2    5             9    52  111.0\n",
              "2          92            17             2    5             7    53  100.0\n",
              "3          94            17             2    5             8    53  107.0\n",
              "4          92            16             2    4             8    56  110.0"
            ]
          },
          "metadata": {
            "tags": []
          },
          "execution_count": 45
        }
      ]
    },
    {
      "metadata": {
        "id": "-WRM-6chqHev",
        "colab_type": "text"
      },
      "cell_type": "markdown",
      "source": [
        "---\n",
        "# **Training Models**\n",
        "---"
      ]
    },
    {
      "metadata": {
        "id": "XapqL58_08Fn",
        "colab_type": "code",
        "colab": {
          "base_uri": "https://localhost:8080/",
          "height": 258
        },
        "outputId": "97b5a4a8-abf6-4249-f09a-de2ecad07147"
      },
      "cell_type": "code",
      "source": [
        "#====================================================\n",
        "##          Long Short Term Memory Data Preparation\n",
        "#====================================================\n",
        "\n",
        "# source: https://machinelearningmastery.com/convert-time-series-supervised-learning-problem-python/\n",
        "\n",
        "from sklearn.preprocessing import MinMaxScaler\n",
        "\n",
        "\n",
        "def series_to_supervised(data, n_in=1, n_out=1, dropnan=True):\n",
        "\tn_vars = 1 if type(data) is list else data.shape[1]\n",
        "\tdf = pd.DataFrame(data)\n",
        "\tcols, names = list(), list()\n",
        "\t# input sequence (t-n, ... t-1)\n",
        "\tfor i in range(n_in, 0, -1):\n",
        "\t\tcols.append(df.shift(i))\n",
        "\t\tnames += [('var%d(t-%d)' % (j+1, i)) for j in range(n_vars)]\n",
        "\t# forecast sequence (t, t+1, ... t+n)\n",
        "\tfor i in range(0, n_out):\n",
        "\t\tcols.append(df.shift(-i))\n",
        "\t\tif i == 0:\n",
        "\t\t\tnames += [('var%d(t)' % (j+1)) for j in range(n_vars)]\n",
        "\t\telse:\n",
        "\t\t\tnames += [('var%d(t+%d)' % (j+1, i)) for j in range(n_vars)]\n",
        "\t# put it all together\n",
        "\tagg = concat(cols, axis=1)\n",
        "\tagg.columns = names\n",
        "\t# drop rows with NaN values\n",
        "\tif dropnan:\n",
        "\t\tagg.dropna(inplace=True)\n",
        "\treturn agg\n",
        " \n",
        "values = datafile.values\n",
        "# ensure all data is float\n",
        "values = values.astype('float32')\n",
        "# normalize features\n",
        "scaler = MinMaxScaler(feature_range=(0, 1))\n",
        "scaled = scaler.fit_transform(values)\n",
        "# frame as supervised learning\n",
        "# print(scaled)\n",
        "reframed = series_to_supervised(scaled, 1)\n",
        "# drop columns we don't want to predict\n",
        "reframed.drop(reframed.columns[[8,9,10,11,12,13]], axis=1, inplace=True)\n",
        "print(reframed.head())\n",
        "\n",
        "\n"
      ],
      "execution_count": 49,
      "outputs": [
        {
          "output_type": "stream",
          "text": [
            "   var1(t-1)  var2(t-1)  var3(t-1)  var4(t-1)  var5(t-1)  var6(t-1)  \\\n",
            "1      0.975   0.114754        1.0       0.50   0.178571   0.311475   \n",
            "2      0.800   0.098361        1.0       0.75   0.178571   0.213115   \n",
            "3      0.800   0.049180        1.0       0.75   0.107143   0.229508   \n",
            "4      0.850   0.049180        1.0       0.75   0.142857   0.229508   \n",
            "5      0.800   0.032787        1.0       0.50   0.142857   0.278689   \n",
            "\n",
            "   var7(t-1)  var1(t)  \n",
            "1   0.884058     0.80  \n",
            "2   0.760870     0.80  \n",
            "3   0.681159     0.85  \n",
            "4   0.731884     0.80  \n",
            "5   0.753623     1.00  \n"
          ],
          "name": "stdout"
        }
      ]
    },
    {
      "metadata": {
        "id": "FXEfLxxxl8CR",
        "colab_type": "code",
        "colab": {
          "base_uri": "https://localhost:8080/",
          "height": 34
        },
        "outputId": "f25befa0-60e3-4ab9-f874-3051a3610e20"
      },
      "cell_type": "code",
      "source": [
        "values = reframed.values\n",
        "train = values[:100,:]\n",
        "test = values[100:,:]\n",
        "train_x,train_y = train[:,:-1],train[:,-1]\n",
        "test_x,test_y = test[:,:-1],test[:,-1]\n",
        "\n",
        "train_x = train_x.reshape((train_x.shape[0],1,train_x.shape[1]))\n",
        "test_x = test_x.reshape((test_x.shape[0],1,test_x.shape[1]))\n",
        "\n",
        "print(test_x.shape, test_y.shape, train_x.shape, train_y.shape)"
      ],
      "execution_count": 51,
      "outputs": [
        {
          "output_type": "stream",
          "text": [
            "(73, 1, 7) (73,) (100, 1, 7) (100,)\n"
          ],
          "name": "stdout"
        }
      ]
    },
    {
      "metadata": {
        "id": "1lqFmPCLqYnS",
        "colab_type": "code",
        "colab": {
          "base_uri": "https://localhost:8080/",
          "height": 2115
        },
        "outputId": "a6575944-9b7c-430f-bca1-2377723dabb2"
      },
      "cell_type": "code",
      "source": [
        "#====================================================\n",
        "##          Long Short Term Memory\n",
        "#====================================================\n",
        "\n",
        "from keras.models import Sequential\n",
        "from keras.layers import Dense\n",
        "from keras.layers import LSTM\n",
        "\n",
        "#--------------------------\n",
        "values = reframed.values\n",
        "train = values[:100,:]\n",
        "test = values[100:,:]\n",
        "train_x,train_y = train[:,:-1],train[:,-1]\n",
        "test_x,test_y = test[:,:-1],test[:,-1]\n",
        "\n",
        "train_x = train_x.reshape((train_x.shape[0],1,train_x.shape[1]))\n",
        "test_x = test_x.reshape((test_x.shape[0],1,test_x.shape[1]))\n",
        "\n",
        "print(test_x.shape, test_y.shape, train_x.shape, train_y.shape)\n",
        "#====================================================\n",
        "##          Long Short Term Memory MODEL       ----\n",
        "#====================================================\n",
        "\n",
        "model = Sequential()\n",
        "model.add(LSTM(50, input_shape=(train_x.shape[1],train_x.shape[2])))\n",
        "model.add(Dense(1))\n",
        "model.compile(loss='mae',optimizer='adam')\n",
        "# fit network\n",
        "history = model.fit(train_x,train_y,epochs=50,batch_size=16, validation_data=(test_x, test_y), verbose=2, shuffle=False)\n",
        "\n",
        "# plot\n",
        "pyplot.plot(history.history['loss'],label='train')\n",
        "pyplot.plot(history.history['val_loss'],label='test')\n",
        "pyplot.legend()\n",
        "pyplot.show()\n",
        "\n",
        "#====================================================\n",
        "##          Long Short Term Memory Prediction\n",
        "#====================================================\n",
        "from sklearn.metrics import mean_squared_error\n",
        "from numpy import concatenate\n",
        "from math import sqrt\n",
        "\n",
        "print(test_x.shape)\n",
        "\n",
        "yhat = model.predict(test_x)\n",
        "test_x = test_x.reshape((test_x.shape[0], test_x.shape[2]))\n",
        "# invert scaling for forecast\n",
        "inv_yhat = concatenate((yhat, test_x[:, 1:]), axis=1)\n",
        "inv_yhat = scaler.inverse_transform(inv_yhat)\n",
        "inv_yhat = inv_yhat[:,0]\n",
        "# invert scaling for actual\n",
        "test_y = test_y.reshape((len(test_y), 1))\n",
        "inv_y = concatenate((test_y, test_x[:, 1:]), axis=1)\n",
        "inv_y = scaler.inverse_transform(inv_y)\n",
        "inv_y = inv_y[:,0]\n",
        "# calculate RMSE\n",
        "rmse = sqrt(mean_squared_error(inv_y, inv_yhat))\n",
        "print('Test RMSE by LSTM : %.3f' % rmse)\n",
        "\n",
        "#====================================================\n",
        "##          LSTM Model End\n",
        "#====================================================\n"
      ],
      "execution_count": 66,
      "outputs": [
        {
          "output_type": "stream",
          "text": [
            "(73, 1, 7) (73,) (100, 1, 7) (100,)\n",
            "Train on 100 samples, validate on 73 samples\n",
            "Epoch 1/50\n",
            " - 1s - loss: 0.4654 - val_loss: 0.1729\n",
            "Epoch 2/50\n",
            " - 0s - loss: 0.4105 - val_loss: 0.1293\n",
            "Epoch 3/50\n",
            " - 0s - loss: 0.3564 - val_loss: 0.0913\n",
            "Epoch 4/50\n",
            " - 0s - loss: 0.3008 - val_loss: 0.0748\n",
            "Epoch 5/50\n",
            " - 0s - loss: 0.2492 - val_loss: 0.0968\n",
            "Epoch 6/50\n",
            " - 0s - loss: 0.2096 - val_loss: 0.1323\n",
            "Epoch 7/50\n",
            " - 0s - loss: 0.1800 - val_loss: 0.1698\n",
            "Epoch 8/50\n",
            " - 0s - loss: 0.1621 - val_loss: 0.1997\n",
            "Epoch 9/50\n",
            " - 0s - loss: 0.1521 - val_loss: 0.2192\n",
            "Epoch 10/50\n",
            " - 0s - loss: 0.1472 - val_loss: 0.2283\n",
            "Epoch 11/50\n",
            " - 0s - loss: 0.1452 - val_loss: 0.2303\n",
            "Epoch 12/50\n",
            " - 0s - loss: 0.1440 - val_loss: 0.2287\n",
            "Epoch 13/50\n",
            " - 0s - loss: 0.1432 - val_loss: 0.2255\n",
            "Epoch 14/50\n",
            " - 0s - loss: 0.1426 - val_loss: 0.2214\n",
            "Epoch 15/50\n",
            " - 0s - loss: 0.1420 - val_loss: 0.2170\n",
            "Epoch 16/50\n",
            " - 0s - loss: 0.1415 - val_loss: 0.2125\n",
            "Epoch 17/50\n",
            " - 0s - loss: 0.1410 - val_loss: 0.2080\n",
            "Epoch 18/50\n",
            " - 0s - loss: 0.1405 - val_loss: 0.2036\n",
            "Epoch 19/50\n",
            " - 0s - loss: 0.1400 - val_loss: 0.1993\n",
            "Epoch 20/50\n",
            " - 0s - loss: 0.1395 - val_loss: 0.1950\n",
            "Epoch 21/50\n",
            " - 0s - loss: 0.1389 - val_loss: 0.1907\n",
            "Epoch 22/50\n",
            " - 0s - loss: 0.1384 - val_loss: 0.1865\n",
            "Epoch 23/50\n",
            " - 0s - loss: 0.1378 - val_loss: 0.1827\n",
            "Epoch 24/50\n",
            " - 0s - loss: 0.1374 - val_loss: 0.1802\n",
            "Epoch 25/50\n",
            " - 0s - loss: 0.1367 - val_loss: 0.1784\n",
            "Epoch 26/50\n",
            " - 0s - loss: 0.1360 - val_loss: 0.1751\n",
            "Epoch 27/50\n",
            " - 0s - loss: 0.1355 - val_loss: 0.1713\n",
            "Epoch 28/50\n",
            " - 0s - loss: 0.1351 - val_loss: 0.1694\n",
            "Epoch 29/50\n",
            " - 0s - loss: 0.1344 - val_loss: 0.1680\n",
            "Epoch 30/50\n",
            " - 0s - loss: 0.1336 - val_loss: 0.1650\n",
            "Epoch 31/50\n",
            " - 0s - loss: 0.1331 - val_loss: 0.1614\n",
            "Epoch 32/50\n",
            " - 0s - loss: 0.1325 - val_loss: 0.1589\n",
            "Epoch 33/50\n",
            " - 0s - loss: 0.1319 - val_loss: 0.1571\n",
            "Epoch 34/50\n",
            " - 0s - loss: 0.1311 - val_loss: 0.1541\n",
            "Epoch 35/50\n",
            " - 0s - loss: 0.1305 - val_loss: 0.1506\n",
            "Epoch 36/50\n",
            " - 0s - loss: 0.1299 - val_loss: 0.1482\n",
            "Epoch 37/50\n",
            " - 0s - loss: 0.1291 - val_loss: 0.1464\n",
            "Epoch 38/50\n",
            " - 0s - loss: 0.1283 - val_loss: 0.1434\n",
            "Epoch 39/50\n",
            " - 0s - loss: 0.1276 - val_loss: 0.1398\n",
            "Epoch 40/50\n",
            " - 0s - loss: 0.1270 - val_loss: 0.1365\n",
            "Epoch 41/50\n",
            " - 0s - loss: 0.1263 - val_loss: 0.1347\n",
            "Epoch 42/50\n",
            " - 0s - loss: 0.1254 - val_loss: 0.1332\n",
            "Epoch 43/50\n",
            " - 0s - loss: 0.1246 - val_loss: 0.1295\n",
            "Epoch 44/50\n",
            " - 0s - loss: 0.1240 - val_loss: 0.1272\n",
            "Epoch 45/50\n",
            " - 0s - loss: 0.1233 - val_loss: 0.1245\n",
            "Epoch 46/50\n",
            " - 0s - loss: 0.1227 - val_loss: 0.1228\n",
            "Epoch 47/50\n",
            " - 0s - loss: 0.1219 - val_loss: 0.1203\n",
            "Epoch 48/50\n",
            " - 0s - loss: 0.1212 - val_loss: 0.1174\n",
            "Epoch 49/50\n",
            " - 0s - loss: 0.1206 - val_loss: 0.1155\n",
            "Epoch 50/50\n",
            " - 0s - loss: 0.1198 - val_loss: 0.1129\n"
          ],
          "name": "stdout"
        },
        {
          "output_type": "display_data",
          "data": {
            "image/png": "[encoded data removed]",
            "text/plain": [
              "<matplotlib.figure.Figure at 0x7ff2e85fc828>"
            ]
          },
          "metadata": {
            "tags": []
          }
        },
        {
          "output_type": "stream",
          "text": [
            "(73, 1, 7)\n",
            "Test RMSE by LSTM : 5.314\n"
          ],
          "name": "stdout"
        }
      ]
    },
    {
      "metadata": {
        "id": "E73hhtakJ9_v",
        "colab_type": "code",
        "colab": {
          "base_uri": "https://localhost:8080/",
          "height": 34
        },
        "outputId": "e6ac1372-0e10-4826-d8e3-f10f72dacbfc"
      },
      "cell_type": "code",
      "source": [
        "values = reframed.values\n",
        "train = values[:100,:]\n",
        "test = values[100:,:]\n",
        "train_x,train_y = train[:,:-1],train[:,-1]\n",
        "test_x,test_y = test[:,:-1],test[:,-1]\n",
        "\n",
        "train_x = train_x.reshape((train_x.shape[0],1,train_x.shape[1]))\n",
        "test_x = test_x.reshape((test_x.shape[0],1,test_x.shape[1]))\n",
        "\n",
        "print(test_x.shape, test_y.shape, train_x.shape, train_y.shape)"
      ],
      "execution_count": 63,
      "outputs": [
        {
          "output_type": "stream",
          "text": [
            "(73, 1, 7) (73,) (100, 1, 7) (100,)\n"
          ],
          "name": "stdout"
        }
      ]
    },
    {
      "metadata": {
        "id": "50W_xhDAmdt_",
        "colab_type": "code",
        "colab": {
          "base_uri": "https://localhost:8080/",
          "height": 959
        },
        "outputId": "7c3eedfa-fc24-4079-8897-5c75832f2aea"
      },
      "cell_type": "code",
      "source": [
        "#====================================================\n",
        "##          Regression Models\n",
        "#====================================================\n",
        "\n",
        "rng = np.random.RandomState(1)\n",
        "\n",
        "# reg = SVR(kernel= 'rbf', C= 1e3, gamma= 0.1)\n",
        "# regr_2 = AdaBoostRegressor(SVR(kernel= 'rbf', C= 1e3, gamma= 0.1),\n",
        "#                           n_estimators=300, random_state=rng)\n",
        "reg = DecisionTreeRegressor(max_depth=3)\n",
        "regr_2 = AdaBoostRegressor(DecisionTreeRegressor(max_depth=3),\n",
        "                          n_estimators=300, random_state=rng)\n",
        "\n",
        "# reg = LinearRegression()\n",
        "# reg = SVR(kernel='rbf',)\n",
        "reg.fit(X_train,Y_train)\n",
        "regr_2.fit(X_train,Y_train)\n",
        "\n",
        "arr = reg.predict(X_test)\n",
        "arr2 = regr_2.predict(X_test)\n",
        "\n",
        "\n",
        "# print(reg.coef_)\n",
        "# print(reg.intercept_)\n",
        "\n",
        "\n",
        "# tsne = TSNE(n_components=2).fit_transform(X)\n",
        "# print(\"tsne shape - \",tsne.shape)\n",
        "# plt.scatter(tsne[:,0],tsne[:,1],color = 'black')\n",
        "# plt.title('Testing Data')\n",
        "# plt.xticks(())\n",
        "# plt.yticks(())\n",
        "# plt.plot(test,reg.predict(X_test),color = 'red',linewidth=3)\n",
        "# plt.show()\n",
        "\n",
        "\n",
        "test = np.asarray(Y_test) # to print\n",
        "\n",
        "\n",
        "print(\"test_Data\",\" - predicted\",\" - improved\")\n",
        "\n",
        "for i in range(0,len(Y_test)):\n",
        "  print(test[i],\" ->  %.2f\"%arr[i],\"  - %.2f\"%arr2[i])\n",
        "\n",
        "plt.scatter(test,arr,color='blue')\n",
        "plt.scatter(test,arr2,color='red')\n",
        "plt.show()"
      ],
      "execution_count": 179,
      "outputs": [
        {
          "output_type": "stream",
          "text": [
            "test_Data  - predicted  - improved\n",
            "108.0  ->  100.71   - 95.80\n",
            "112.0  ->  119.02   - 100.41\n",
            "19.0  ->  42.69   - 64.60\n",
            "111.0  ->  119.02   - 123.57\n",
            "112.0  ->  119.02   - 122.00\n",
            "63.0  ->  90.69   - 88.31\n",
            "123.0  ->  119.02   - 103.53\n",
            "121.0  ->  100.71   - 105.79\n",
            "18.0  ->  73.47   - 31.45\n",
            "124.0  ->  119.02   - 116.33\n",
            "11.0  ->  73.47   - 64.36\n",
            "127.0  ->  119.02   - 120.43\n",
            "86.0  ->  73.47   - 64.36\n",
            "26.0  ->  79.46   - 97.35\n",
            "134.0  ->  119.02   - 124.06\n",
            "92.0  ->  90.69   - 87.39\n",
            "95.0  ->  79.46   - 78.15\n",
            "97.0  ->  79.46   - 86.55\n",
            "101.0  ->  90.69   - 88.31\n",
            "101.0  ->  90.69   - 89.96\n",
            "118.0  ->  100.71   - 94.71\n",
            "71.0  ->  73.47   - 71.34\n",
            "112.0  ->  119.02   - 120.43\n",
            "23.0  ->  100.71   - 75.92\n",
            "134.0  ->  73.47   - 107.16\n",
            "112.0  ->  119.02   - 115.50\n",
            "98.0  ->  119.02   - 97.29\n",
            "140.0  ->  119.02   - 116.33\n",
            "112.0  ->  42.69   - 84.09\n",
            "7.0  ->  73.47   - 71.51\n",
            "107.0  ->  86.25   - 85.71\n",
            "8.0  ->  90.69   - 86.73\n",
            "111.0  ->  90.69   - 87.06\n",
            "104.0  ->  79.46   - 88.86\n",
            "107.0  ->  100.71   - 105.14\n"
          ],
          "name": "stdout"
        },
        {
          "output_type": "display_data",
          "data": {
            "image/png": "[encoded data removed]",
            "text/plain": [
              "<matplotlib.figure.Figure at 0x7f858fd4ff98>"
            ]
          },
          "metadata": {
            "tags": []
          }
        }
      ]
    },
    {
      "metadata": {
        "id": "G8uXKN1cUFnf",
        "colab_type": "code",
        "colab": {
          "base_uri": "https://localhost:8080/",
          "height": 959
        },
        "outputId": "25e1beea-d570-43eb-ee27-99d3b37ae73f"
      },
      "cell_type": "code",
      "source": [
        "#====================================================\n",
        "##          Regression Models\n",
        "#====================================================\n",
        "\n",
        "rng = np.random.RandomState(1)\n",
        "\n",
        "reg = SVR(kernel= 'rbf', C= 1e3, gamma= 0.1)\n",
        "regr_2 = AdaBoostRegressor(SVR(kernel= 'rbf', C= 1e3, gamma= 0.1),\n",
        "                          n_estimators=300, random_state=rng)\n",
        "\n",
        "# reg = LinearRegression()\n",
        "# reg = SVR(kernel='rbf',)\n",
        "reg.fit(X_train,Y_train)\n",
        "regr_2.fit(X_train,Y_train)\n",
        "\n",
        "arr = reg.predict(X_test)\n",
        "arr2 = regr_2.predict(X_test)\n",
        "\n",
        "\n",
        "# print(reg.coef_)\n",
        "# print(reg.intercept_)\n",
        "\n",
        "\n",
        "# tsne = TSNE(n_components=2).fit_transform(X)\n",
        "# print(\"tsne shape - \",tsne.shape)\n",
        "# plt.scatter(tsne[:,0],tsne[:,1],color = 'black')\n",
        "# plt.title('Testing Data')\n",
        "# plt.xticks(())\n",
        "# plt.yticks(())\n",
        "# plt.plot(test,reg.predict(X_test),color = 'red',linewidth=3)\n",
        "# plt.show()\n",
        "\n",
        "\n",
        "test = np.asarray(Y_test) # to print\n",
        "\n",
        "\n",
        "print(\"test_Data\",\"- predicted\",\"- improved\")\n",
        "\n",
        "for i in range(0,len(Y_test)):\n",
        "  print(test[i],\" ->  %.2f\"%arr[i],\"  - %.2f\"%arr2[i])\n",
        "\n",
        "plt.scatter(test,arr,color='blue')\n",
        "plt.scatter(test,arr2,color='red')\n",
        "plt.show()"
      ],
      "execution_count": 180,
      "outputs": [
        {
          "output_type": "stream",
          "text": [
            "test_Data - predicted - improved\n",
            "108.0  ->  95.88   - 90.84\n",
            "112.0  ->  103.77   - 103.34\n",
            "19.0  ->  88.74   - 87.18\n",
            "111.0  ->  97.08   - 93.07\n",
            "112.0  ->  91.19   - 89.34\n",
            "63.0  ->  94.32   - 90.64\n",
            "123.0  ->  108.30   - 103.21\n",
            "121.0  ->  105.20   - 99.14\n",
            "18.0  ->  91.16   - 89.30\n",
            "124.0  ->  111.59   - 107.46\n",
            "11.0  ->  90.92   - 89.15\n",
            "127.0  ->  103.88   - 97.16\n",
            "86.0  ->  90.70   - 88.97\n",
            "26.0  ->  86.05   - 86.54\n",
            "134.0  ->  116.53   - 109.59\n",
            "92.0  ->  105.41   - 94.22\n",
            "95.0  ->  50.00   - 60.43\n",
            "97.0  ->  74.58   - 81.14\n",
            "101.0  ->  93.87   - 91.88\n",
            "101.0  ->  93.73   - 90.73\n",
            "118.0  ->  96.62   - 88.85\n",
            "71.0  ->  91.16   - 89.30\n",
            "112.0  ->  99.78   - 96.24\n",
            "23.0  ->  75.58   - 74.87\n",
            "134.0  ->  104.50   - 101.35\n",
            "112.0  ->  108.06   - 107.55\n",
            "98.0  ->  93.32   - 96.06\n",
            "140.0  ->  97.58   - 94.63\n",
            "112.0  ->  94.97   - 92.65\n",
            "7.0  ->  88.09   - 86.67\n",
            "107.0  ->  108.16   - 103.88\n",
            "8.0  ->  90.25   - 89.13\n",
            "111.0  ->  98.47   - 96.95\n",
            "104.0  ->  65.81   - 70.40\n",
            "107.0  ->  100.70   - 96.66\n"
          ],
          "name": "stdout"
        },
        {
          "output_type": "display_data",
          "data": {
            "image/png": "[encoded data removed]",
            "text/plain": [
              "<matplotlib.figure.Figure at 0x7f858fd23358>"
            ]
          },
          "metadata": {
            "tags": []
          }
        }
      ]
    },
    {
      "metadata": {
        "id": "r7R8u_2yw2p4",
        "colab_type": "code",
        "colab": {
          "base_uri": "https://localhost:8080/",
          "height": 1325
        },
        "outputId": "babd2031-62c3-456d-967d-49186116748c"
      },
      "cell_type": "code",
      "source": [
        "#====================================================\n",
        "##          Bayesian Ridge Model\n",
        "#====================================================\n",
        "\n",
        "regr = linear_model.BayesianRidge()\n",
        "regr.fit(X_train,Y_train)\n",
        "print(regr.coef_)\n",
        "print(regr.intercept_)\n",
        "\n",
        "tsne = TSNE(n_components=2).fit_transform(X)\n",
        "print(\"tsne shape - \",tsne.shape)\n",
        "\n",
        "plt.scatter(tsne[:,0],tsne[:,1],color = 'black')\n",
        "plt.title('Testing Data')\n",
        "plt.xticks(())\n",
        "plt.yticks(())\n",
        "# plt.plot(Y_test,reg.predict(X_test),color = 'red',linewidth=3)\n",
        "plt.show()\n",
        "\n",
        "test = np.asarray(Y_test)\n",
        "arr = regr.predict(X_test)\n",
        "for i in range(0,len(Y_test)):\n",
        "  print(test[i],\" -> %.2f\"%arr[i])\n",
        "  \n",
        "plt.scatter(test,arr,color='blue')\n",
        "plt.show()"
      ],
      "execution_count": 155,
      "outputs": [
        {
          "output_type": "stream",
          "text": [
            "[-1.50861042 -0.94813394  0.69087487 -1.6366327   0.99295168  0.71399944]\n",
            "204.0330738506069\n",
            "tsne shape -  (174, 2)\n"
          ],
          "name": "stdout"
        },
        {
          "output_type": "display_data",
          "data": {
            "image/png": "[encoded data removed]",
            "text/plain": [
              "<matplotlib.figure.Figure at 0x7f858fdfeb70>"
            ]
          },
          "metadata": {
            "tags": []
          }
        },
        {
          "output_type": "stream",
          "text": [
            "123.0  -> 121.43\n",
            "115.0  -> 125.03\n",
            "79.0  -> 82.40\n",
            "70.0  -> 100.73\n",
            "111.0  -> 94.62\n",
            "7.0  -> 51.41\n",
            "92.0  -> 91.40\n",
            "73.0  -> 84.78\n",
            "60.0  -> 62.47\n",
            "121.0  -> 78.00\n",
            "90.0  -> 97.58\n",
            "63.0  -> 99.53\n",
            "45.0  -> 59.94\n",
            "133.0  -> 110.29\n",
            "95.0  -> 45.77\n",
            "96.0  -> 88.57\n",
            "21.0  -> 68.98\n",
            "83.0  -> 97.60\n",
            "94.0  -> 92.97\n",
            "117.0  -> 76.66\n",
            "11.0  -> 102.25\n",
            "129.0  -> 125.89\n",
            "108.0  -> 96.11\n",
            "114.0  -> 106.53\n",
            "114.0  -> 112.18\n",
            "53.0  -> 108.68\n",
            "126.0  -> 106.70\n",
            "101.0  -> 88.96\n",
            "97.0  -> 81.30\n",
            "104.0  -> 96.39\n",
            "116.0  -> 116.32\n",
            "109.0  -> 123.13\n",
            "97.0  -> 99.27\n",
            "133.0  -> 99.04\n",
            "84.0  -> 103.26\n"
          ],
          "name": "stdout"
        },
        {
          "output_type": "display_data",
          "data": {
            "image/png": "[encoded data removed]",
            "text/plain": [
              "<matplotlib.figure.Figure at 0x7f858df1b5f8>"
            ]
          },
          "metadata": {
            "tags": []
          }
        }
      ]
    },
    {
      "metadata": {
        "id": "IR8q4IF_5mFs",
        "colab_type": "code",
        "colab": {
          "base_uri": "https://localhost:8080/",
          "height": 379
        },
        "outputId": "f8b3c296-0318-4e0d-f265-3b1854f92605"
      },
      "cell_type": "code",
      "source": [
        "#====================================================\n",
        "##          Component Reduction\n",
        "#====================================================\n",
        "\n",
        "# X.head()\n",
        "print(X.shape)\n",
        "\n",
        "tsne = TSNE(n_components=2).fit_transform(X)\n",
        "print(\"tsne shape - \",tsne.shape)\n",
        "\n",
        "plt.scatter(tsne[:,0],tsne[:,1],color = 'black')\n",
        "plt.title('Testing Data')\n",
        "plt.xticks(())\n",
        "plt.yticks(())\n",
        "plt.show()\n"
      ],
      "execution_count": 26,
      "outputs": [
        {
          "output_type": "stream",
          "text": [
            "(174, 6)\n",
            "tsne shape -  (174, 2)\n"
          ],
          "name": "stdout"
        },
        {
          "output_type": "display_data",
          "data": {
            "image/png": "[encoded data removed]",
            "text/plain": [
              "<matplotlib.figure.Figure at 0x7f6d7579ad30>"
            ]
          },
          "metadata": {
            "tags": []
          }
        }
      ]
    },
    {
      "metadata": {
        "id": "O4RFx6z_Z9t5",
        "colab_type": "code",
        "colab": {}
      },
      "cell_type": "code",
      "source": [
        ""
      ],
      "execution_count": 0,
      "outputs": []
    }
  ]
}